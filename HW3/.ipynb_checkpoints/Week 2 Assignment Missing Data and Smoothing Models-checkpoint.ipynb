{
 "cells": [
  {
   "cell_type": "markdown",
   "id": "e742d547",
   "metadata": {},
   "source": [
    "# Week 2 Missing Data and Smoothing Models\n",
    "## Time Series Analysis\n",
    "### Earnest Salgado\n",
    "### ID 12285784"
   ]
  },
  {
   "cell_type": "code",
   "execution_count": 1,
   "id": "48f34bf2",
   "metadata": {},
   "outputs": [],
   "source": [
    "import math\n",
    "import scipy as sp\n",
    "from scipy import stats\n",
    "import numpy as np\n",
    "import matplotlib.pyplot as plt\n",
    "import statsmodels.api as sm\n",
    "import pandas as pd\n",
    "import seaborn as sns\n",
    "sns.set()\n",
    "\n",
    "from sklearn.preprocessing import StandardScaler\n",
    "\n",
    "from statsmodels.graphics.tsaplots import plot_acf\n",
    "from statsmodels.graphics.tsaplots import plot_pacf\n",
    "from statsmodels.tsa.stattools import kpss\n",
    "\n",
    "import warnings\n",
    "warnings.filterwarnings('ignore')"
   ]
  },
  {
   "cell_type": "markdown",
   "id": "88f9abab",
   "metadata": {},
   "source": [
    "## 1. 20 pts - Exploratory Data Analysis\n",
    "\n",
    "### 1.1 - 5 pts Plot the data"
   ]
  },
  {
   "cell_type": "code",
   "execution_count": 2,
   "id": "fa5925d4",
   "metadata": {},
   "outputs": [],
   "source": [
    "df = pd.read_csv('hw2_data.csv')"
   ]
  },
  {
   "cell_type": "code",
   "execution_count": 3,
   "id": "e7341f51",
   "metadata": {},
   "outputs": [
    {
     "data": {
      "text/html": [
       "<div>\n",
       "<style scoped>\n",
       "    .dataframe tbody tr th:only-of-type {\n",
       "        vertical-align: middle;\n",
       "    }\n",
       "\n",
       "    .dataframe tbody tr th {\n",
       "        vertical-align: top;\n",
       "    }\n",
       "\n",
       "    .dataframe thead th {\n",
       "        text-align: right;\n",
       "    }\n",
       "</style>\n",
       "<table border=\"1\" class=\"dataframe\">\n",
       "  <thead>\n",
       "    <tr style=\"text-align: right;\">\n",
       "      <th></th>\n",
       "      <th>Date</th>\n",
       "      <th>IWM</th>\n",
       "      <th>QQQ</th>\n",
       "      <th>SPY</th>\n",
       "    </tr>\n",
       "  </thead>\n",
       "  <tbody>\n",
       "    <tr>\n",
       "      <th>0</th>\n",
       "      <td>2000-05-26</td>\n",
       "      <td>34.800865</td>\n",
       "      <td>67.670738</td>\n",
       "      <td>93.363678</td>\n",
       "    </tr>\n",
       "    <tr>\n",
       "      <th>1</th>\n",
       "      <td>2000-05-30</td>\n",
       "      <td>NaN</td>\n",
       "      <td>NaN</td>\n",
       "      <td>NaN</td>\n",
       "    </tr>\n",
       "    <tr>\n",
       "      <th>2</th>\n",
       "      <td>2000-05-31</td>\n",
       "      <td>NaN</td>\n",
       "      <td>NaN</td>\n",
       "      <td>NaN</td>\n",
       "    </tr>\n",
       "    <tr>\n",
       "      <th>3</th>\n",
       "      <td>2000-06-01</td>\n",
       "      <td>37.036850</td>\n",
       "      <td>76.048004</td>\n",
       "      <td>98.310966</td>\n",
       "    </tr>\n",
       "    <tr>\n",
       "      <th>4</th>\n",
       "      <td>2000-06-02</td>\n",
       "      <td>38.963646</td>\n",
       "      <td>81.487755</td>\n",
       "      <td>100.023491</td>\n",
       "    </tr>\n",
       "    <tr>\n",
       "      <th>...</th>\n",
       "      <td>...</td>\n",
       "      <td>...</td>\n",
       "      <td>...</td>\n",
       "      <td>...</td>\n",
       "    </tr>\n",
       "    <tr>\n",
       "      <th>4967</th>\n",
       "      <td>2020-02-26</td>\n",
       "      <td>152.328430</td>\n",
       "      <td>215.254486</td>\n",
       "      <td>305.789459</td>\n",
       "    </tr>\n",
       "    <tr>\n",
       "      <th>4968</th>\n",
       "      <td>2020-02-27</td>\n",
       "      <td>146.964890</td>\n",
       "      <td>204.475845</td>\n",
       "      <td>292.055939</td>\n",
       "    </tr>\n",
       "    <tr>\n",
       "      <th>4969</th>\n",
       "      <td>2020-02-28</td>\n",
       "      <td>NaN</td>\n",
       "      <td>NaN</td>\n",
       "      <td>NaN</td>\n",
       "    </tr>\n",
       "    <tr>\n",
       "      <th>4970</th>\n",
       "      <td>2020-03-02</td>\n",
       "      <td>NaN</td>\n",
       "      <td>NaN</td>\n",
       "      <td>NaN</td>\n",
       "    </tr>\n",
       "    <tr>\n",
       "      <th>4971</th>\n",
       "      <td>2020-03-03</td>\n",
       "      <td>NaN</td>\n",
       "      <td>NaN</td>\n",
       "      <td>NaN</td>\n",
       "    </tr>\n",
       "  </tbody>\n",
       "</table>\n",
       "<p>4972 rows × 4 columns</p>\n",
       "</div>"
      ],
      "text/plain": [
       "            Date         IWM         QQQ         SPY\n",
       "0     2000-05-26   34.800865   67.670738   93.363678\n",
       "1     2000-05-30         NaN         NaN         NaN\n",
       "2     2000-05-31         NaN         NaN         NaN\n",
       "3     2000-06-01   37.036850   76.048004   98.310966\n",
       "4     2000-06-02   38.963646   81.487755  100.023491\n",
       "...          ...         ...         ...         ...\n",
       "4967  2020-02-26  152.328430  215.254486  305.789459\n",
       "4968  2020-02-27  146.964890  204.475845  292.055939\n",
       "4969  2020-02-28         NaN         NaN         NaN\n",
       "4970  2020-03-02         NaN         NaN         NaN\n",
       "4971  2020-03-03         NaN         NaN         NaN\n",
       "\n",
       "[4972 rows x 4 columns]"
      ]
     },
     "execution_count": 3,
     "metadata": {},
     "output_type": "execute_result"
    }
   ],
   "source": [
    "df"
   ]
  },
  {
   "cell_type": "code",
   "execution_count": 4,
   "id": "2942fd99",
   "metadata": {},
   "outputs": [
    {
     "data": {
      "image/png": "[encoded data removed]",
      "text/plain": [
       "<Figure size 1080x720 with 1 Axes>"
      ]
     },
     "metadata": {},
     "output_type": "display_data"
    }
   ],
   "source": [
    "x = df['Date']\n",
    "x = pd.to_datetime(x)\n",
    "\n",
    "y = df['IWM']\n",
    "z = df['SPY']\n",
    "v = df['QQQ']\n",
    "\n",
    "plt.figure(figsize=(15,10))  \n",
    "plt.plot(x, y, color = 'k',label = \"IWM Price over time\", ls = '-', lw = 0.8)\n",
    "plt.plot(x, z, color = 'g',label = \"SPY Price over time\", ls = '-', lw = 0.8)\n",
    "plt.plot(x, v, color = 'r',label = \"QQQ Price over time\", ls = '-', lw = 0.8)\n",
    "\n",
    "plt.xticks(rotation = 45)\n",
    "plt.xlabel('Date')\n",
    "plt.ylabel('Market Prices')\n",
    "plt.title('Stock Market Price over time', fontsize = 20)\n",
    "plt.grid()\n",
    "plt.legend()\n",
    "plt.show()"
   ]
  },
  {
   "cell_type": "code",
   "execution_count": 5,
   "id": "e796521a",
   "metadata": {},
   "outputs": [
    {
     "data": {
      "image/png": "[encoded data removed]",
      "text/plain": [
       "<Figure size 432x288 with 1 Axes>"
      ]
     },
     "metadata": {},
     "output_type": "display_data"
    }
   ],
   "source": [
    "p = plot_acf(df['SPY'], lags=40, title='SPY Autocorrelation Plot')"
   ]
  },
  {
   "cell_type": "code",
   "execution_count": 6,
   "id": "85beed95",
   "metadata": {},
   "outputs": [
    {
     "data": {
      "image/png": "[encoded data removed]",
      "text/plain": [
       "<Figure size 432x288 with 1 Axes>"
      ]
     },
     "metadata": {},
     "output_type": "display_data"
    }
   ],
   "source": [
    "p = plot_acf(df['QQQ'], lags=40, title='QQQ Autocorrelation Plot')"
   ]
  },
  {
   "cell_type": "code",
   "execution_count": 7,
   "id": "1fcf3de6",
   "metadata": {},
   "outputs": [
    {
     "data": {
      "image/png": "[encoded data removed]",
      "text/plain": [
       "<Figure size 432x288 with 1 Axes>"
      ]
     },
     "metadata": {},
     "output_type": "display_data"
    }
   ],
   "source": [
    "p = plot_acf(df['IWM'], lags=40, title='IWM Autocorrelation Plot')"
   ]
  },
  {
   "cell_type": "markdown",
   "id": "637244e3",
   "metadata": {},
   "source": [
    "### 1.2 5 pts From looking at the plot, does there appear to be missing data? \n",
    "\n",
    "- When observing the plot in 1.1, while it is very faint there does seem to be gaps and discontinuations in the lines for each of the stocks. The easiest way to realize there is missing data is to look at the most recent data-- that is for stock prices around 2020.\n",
    "- This cumulative plot of the data over multiple years makes the missing data not as noticeable, but I would propose that if you redo the plot for individual years the missing data would be more obvious."
   ]
  },
  {
   "cell_type": "markdown",
   "id": "accf0261",
   "metadata": {},
   "source": [
    "### 1.3 5 pts How many NA values appear in each time series? What percentage of data is missing? Give one reason why we might be missing data in this pattern?\n",
    "\n",
    "- We run exploratory code to find missing values. We find 897 NA values appearing in each time series.\n",
    "- In similar fashion we run code and compute roughly 18% of the data is comprised of these missing values.\n",
    "- One reason why we might be missing data in this pattern is simple human errors. For example, these values may have been missed during manual data entry or manual compilation/binding of multiple datasets. This highlights the value of having quality checks during the data accumulation process."
   ]
  },
  {
   "cell_type": "code",
   "execution_count": 8,
   "id": "3d6df986",
   "metadata": {},
   "outputs": [
    {
     "data": {
      "text/plain": [
       "Date      0\n",
       "IWM     897\n",
       "QQQ     897\n",
       "SPY     897\n",
       "dtype: int64"
      ]
     },
     "execution_count": 8,
     "metadata": {},
     "output_type": "execute_result"
    }
   ],
   "source": [
    "df.isnull().sum()"
   ]
  },
  {
   "cell_type": "code",
   "execution_count": 9,
   "id": "92ad004c",
   "metadata": {},
   "outputs": [
    {
     "data": {
      "text/plain": [
       "Date     0.00000\n",
       "IWM     18.04103\n",
       "QQQ     18.04103\n",
       "SPY     18.04103\n",
       "dtype: float64"
      ]
     },
     "execution_count": 9,
     "metadata": {},
     "output_type": "execute_result"
    }
   ],
   "source": [
    "percent_missing = df.isnull().sum() * 100 / len(df)\n",
    "percent_missing"
   ]
  },
  {
   "cell_type": "code",
   "execution_count": 10,
   "id": "110b44b6",
   "metadata": {},
   "outputs": [
    {
     "data": {
      "text/plain": [
       "<AxesSubplot:>"
      ]
     },
     "execution_count": 10,
     "metadata": {},
     "output_type": "execute_result"
    },
    {
     "data": {
      "image/png": "[encoded data removed]",
      "text/plain": [
       "<Figure size 432x288 with 1 Axes>"
      ]
     },
     "metadata": {},
     "output_type": "display_data"
    }
   ],
   "source": [
    "# Visualizing the missing values\n",
    "sns.heatmap(df.isnull(),cbar=False,cmap='viridis')"
   ]
  },
  {
   "cell_type": "markdown",
   "id": "cc552a30",
   "metadata": {},
   "source": [
    "### 1.4 5 pts Describe one business case where you would not proceed with this much missing data. Describe one business case where you would proceed with this much missing data.\n",
    "\n",
    "- One business case where you would not proceed with 18% of your data missing is if there are specific reasons why it's missing. This is NMAR missing data, or data that is Not Missing at Random. For example, if you are dealing with survey data regarding favorite music genres by age groups, and responses from individuals ages 30 to 45 are missing, you will have largely skewed or biased results.\n",
    "\n",
    "- One business case where you would/could proceed with 18% of your data missing is if it is 'missing completely at random', or MCAR. The missing of these data is unrelated or independent of the remaining variables. It is not possible to predict these values with the rest of the variable data. One scenario where this could happen is if sample data is mishandled or incorrectly processed, thus unable to be used in the dataset. In this case, deciding to exclude this sample would not lead to biased estimates.\n",
    "\n",
    "- In general, missing data decreases the predictive power behind models you create. If you have missing data, your estimates of parameters are likely to have biased results. It is very difficult to make accurate or confident statements about your predictions without addressing the presence of missing data."
   ]
  },
  {
   "cell_type": "markdown",
   "id": "44527664",
   "metadata": {},
   "source": [
    "## 2. 20 pts - Missing Data"
   ]
  },
  {
   "cell_type": "markdown",
   "id": "d5b387e8",
   "metadata": {},
   "source": [
    "### 2.1 5 pts Create a forward fill\n",
    "- The value of the next row will be used to fill the missing value"
   ]
  },
  {
   "cell_type": "code",
   "execution_count": 11,
   "id": "d535984a",
   "metadata": {},
   "outputs": [
    {
     "data": {
      "text/html": [
       "<div>\n",
       "<style scoped>\n",
       "    .dataframe tbody tr th:only-of-type {\n",
       "        vertical-align: middle;\n",
       "    }\n",
       "\n",
       "    .dataframe tbody tr th {\n",
       "        vertical-align: top;\n",
       "    }\n",
       "\n",
       "    .dataframe thead th {\n",
       "        text-align: right;\n",
       "    }\n",
       "</style>\n",
       "<table border=\"1\" class=\"dataframe\">\n",
       "  <thead>\n",
       "    <tr style=\"text-align: right;\">\n",
       "      <th></th>\n",
       "      <th>Date</th>\n",
       "      <th>IWM</th>\n",
       "      <th>QQQ</th>\n",
       "      <th>SPY</th>\n",
       "    </tr>\n",
       "  </thead>\n",
       "  <tbody>\n",
       "    <tr>\n",
       "      <th>0</th>\n",
       "      <td>2000-05-26</td>\n",
       "      <td>34.800865</td>\n",
       "      <td>67.670738</td>\n",
       "      <td>93.363678</td>\n",
       "    </tr>\n",
       "    <tr>\n",
       "      <th>1</th>\n",
       "      <td>2000-05-30</td>\n",
       "      <td>34.800865</td>\n",
       "      <td>67.670738</td>\n",
       "      <td>93.363678</td>\n",
       "    </tr>\n",
       "    <tr>\n",
       "      <th>2</th>\n",
       "      <td>2000-05-31</td>\n",
       "      <td>34.800865</td>\n",
       "      <td>67.670738</td>\n",
       "      <td>93.363678</td>\n",
       "    </tr>\n",
       "    <tr>\n",
       "      <th>3</th>\n",
       "      <td>2000-06-01</td>\n",
       "      <td>37.036850</td>\n",
       "      <td>76.048004</td>\n",
       "      <td>98.310966</td>\n",
       "    </tr>\n",
       "    <tr>\n",
       "      <th>4</th>\n",
       "      <td>2000-06-02</td>\n",
       "      <td>38.963646</td>\n",
       "      <td>81.487755</td>\n",
       "      <td>100.023491</td>\n",
       "    </tr>\n",
       "    <tr>\n",
       "      <th>...</th>\n",
       "      <td>...</td>\n",
       "      <td>...</td>\n",
       "      <td>...</td>\n",
       "      <td>...</td>\n",
       "    </tr>\n",
       "    <tr>\n",
       "      <th>4967</th>\n",
       "      <td>2020-02-26</td>\n",
       "      <td>152.328430</td>\n",
       "      <td>215.254486</td>\n",
       "      <td>305.789459</td>\n",
       "    </tr>\n",
       "    <tr>\n",
       "      <th>4968</th>\n",
       "      <td>2020-02-27</td>\n",
       "      <td>146.964890</td>\n",
       "      <td>204.475845</td>\n",
       "      <td>292.055939</td>\n",
       "    </tr>\n",
       "    <tr>\n",
       "      <th>4969</th>\n",
       "      <td>2020-02-28</td>\n",
       "      <td>146.964890</td>\n",
       "      <td>204.475845</td>\n",
       "      <td>292.055939</td>\n",
       "    </tr>\n",
       "    <tr>\n",
       "      <th>4970</th>\n",
       "      <td>2020-03-02</td>\n",
       "      <td>146.964890</td>\n",
       "      <td>204.475845</td>\n",
       "      <td>292.055939</td>\n",
       "    </tr>\n",
       "    <tr>\n",
       "      <th>4971</th>\n",
       "      <td>2020-03-03</td>\n",
       "      <td>146.964890</td>\n",
       "      <td>204.475845</td>\n",
       "      <td>292.055939</td>\n",
       "    </tr>\n",
       "  </tbody>\n",
       "</table>\n",
       "<p>4972 rows × 4 columns</p>\n",
       "</div>"
      ],
      "text/plain": [
       "            Date         IWM         QQQ         SPY\n",
       "0     2000-05-26   34.800865   67.670738   93.363678\n",
       "1     2000-05-30   34.800865   67.670738   93.363678\n",
       "2     2000-05-31   34.800865   67.670738   93.363678\n",
       "3     2000-06-01   37.036850   76.048004   98.310966\n",
       "4     2000-06-02   38.963646   81.487755  100.023491\n",
       "...          ...         ...         ...         ...\n",
       "4967  2020-02-26  152.328430  215.254486  305.789459\n",
       "4968  2020-02-27  146.964890  204.475845  292.055939\n",
       "4969  2020-02-28  146.964890  204.475845  292.055939\n",
       "4970  2020-03-02  146.964890  204.475845  292.055939\n",
       "4971  2020-03-03  146.964890  204.475845  292.055939\n",
       "\n",
       "[4972 rows x 4 columns]"
      ]
     },
     "execution_count": 11,
     "metadata": {},
     "output_type": "execute_result"
    }
   ],
   "source": [
    "forward_filled = df.fillna(method='ffill')\n",
    "forward_filled"
   ]
  },
  {
   "cell_type": "code",
   "execution_count": 12,
   "id": "20536a41",
   "metadata": {},
   "outputs": [
    {
     "data": {
      "image/png": "[encoded data removed]",
      "text/plain": [
       "<Figure size 432x288 with 1 Axes>"
      ]
     },
     "metadata": {},
     "output_type": "display_data"
    }
   ],
   "source": [
    "forward_filled.plot()\n",
    "plt.show()"
   ]
  },
  {
   "cell_type": "markdown",
   "id": "a3d6f735",
   "metadata": {},
   "source": [
    "### 2.2 Create a backward fill\n",
    "-  the value of the previous row to fill the missing value"
   ]
  },
  {
   "cell_type": "code",
   "execution_count": 13,
   "id": "4a66cf95",
   "metadata": {},
   "outputs": [
    {
     "data": {
      "text/html": [
       "<div>\n",
       "<style scoped>\n",
       "    .dataframe tbody tr th:only-of-type {\n",
       "        vertical-align: middle;\n",
       "    }\n",
       "\n",
       "    .dataframe tbody tr th {\n",
       "        vertical-align: top;\n",
       "    }\n",
       "\n",
       "    .dataframe thead th {\n",
       "        text-align: right;\n",
       "    }\n",
       "</style>\n",
       "<table border=\"1\" class=\"dataframe\">\n",
       "  <thead>\n",
       "    <tr style=\"text-align: right;\">\n",
       "      <th></th>\n",
       "      <th>Date</th>\n",
       "      <th>IWM</th>\n",
       "      <th>QQQ</th>\n",
       "      <th>SPY</th>\n",
       "    </tr>\n",
       "  </thead>\n",
       "  <tbody>\n",
       "    <tr>\n",
       "      <th>0</th>\n",
       "      <td>2000-05-26</td>\n",
       "      <td>34.800865</td>\n",
       "      <td>67.670738</td>\n",
       "      <td>93.363678</td>\n",
       "    </tr>\n",
       "    <tr>\n",
       "      <th>1</th>\n",
       "      <td>2000-05-30</td>\n",
       "      <td>37.036850</td>\n",
       "      <td>76.048004</td>\n",
       "      <td>98.310966</td>\n",
       "    </tr>\n",
       "    <tr>\n",
       "      <th>2</th>\n",
       "      <td>2000-05-31</td>\n",
       "      <td>37.036850</td>\n",
       "      <td>76.048004</td>\n",
       "      <td>98.310966</td>\n",
       "    </tr>\n",
       "    <tr>\n",
       "      <th>3</th>\n",
       "      <td>2000-06-01</td>\n",
       "      <td>37.036850</td>\n",
       "      <td>76.048004</td>\n",
       "      <td>98.310966</td>\n",
       "    </tr>\n",
       "    <tr>\n",
       "      <th>4</th>\n",
       "      <td>2000-06-02</td>\n",
       "      <td>38.963646</td>\n",
       "      <td>81.487755</td>\n",
       "      <td>100.023491</td>\n",
       "    </tr>\n",
       "    <tr>\n",
       "      <th>...</th>\n",
       "      <td>...</td>\n",
       "      <td>...</td>\n",
       "      <td>...</td>\n",
       "      <td>...</td>\n",
       "    </tr>\n",
       "    <tr>\n",
       "      <th>4967</th>\n",
       "      <td>2020-02-26</td>\n",
       "      <td>152.328430</td>\n",
       "      <td>215.254486</td>\n",
       "      <td>305.789459</td>\n",
       "    </tr>\n",
       "    <tr>\n",
       "      <th>4968</th>\n",
       "      <td>2020-02-27</td>\n",
       "      <td>146.964890</td>\n",
       "      <td>204.475845</td>\n",
       "      <td>292.055939</td>\n",
       "    </tr>\n",
       "    <tr>\n",
       "      <th>4969</th>\n",
       "      <td>2020-02-28</td>\n",
       "      <td>NaN</td>\n",
       "      <td>NaN</td>\n",
       "      <td>NaN</td>\n",
       "    </tr>\n",
       "    <tr>\n",
       "      <th>4970</th>\n",
       "      <td>2020-03-02</td>\n",
       "      <td>NaN</td>\n",
       "      <td>NaN</td>\n",
       "      <td>NaN</td>\n",
       "    </tr>\n",
       "    <tr>\n",
       "      <th>4971</th>\n",
       "      <td>2020-03-03</td>\n",
       "      <td>NaN</td>\n",
       "      <td>NaN</td>\n",
       "      <td>NaN</td>\n",
       "    </tr>\n",
       "  </tbody>\n",
       "</table>\n",
       "<p>4972 rows × 4 columns</p>\n",
       "</div>"
      ],
      "text/plain": [
       "            Date         IWM         QQQ         SPY\n",
       "0     2000-05-26   34.800865   67.670738   93.363678\n",
       "1     2000-05-30   37.036850   76.048004   98.310966\n",
       "2     2000-05-31   37.036850   76.048004   98.310966\n",
       "3     2000-06-01   37.036850   76.048004   98.310966\n",
       "4     2000-06-02   38.963646   81.487755  100.023491\n",
       "...          ...         ...         ...         ...\n",
       "4967  2020-02-26  152.328430  215.254486  305.789459\n",
       "4968  2020-02-27  146.964890  204.475845  292.055939\n",
       "4969  2020-02-28         NaN         NaN         NaN\n",
       "4970  2020-03-02         NaN         NaN         NaN\n",
       "4971  2020-03-03         NaN         NaN         NaN\n",
       "\n",
       "[4972 rows x 4 columns]"
      ]
     },
     "execution_count": 13,
     "metadata": {},
     "output_type": "execute_result"
    }
   ],
   "source": [
    "backward_filled = df.fillna(method='bfill')\n",
    "backward_filled"
   ]
  },
  {
   "cell_type": "code",
   "execution_count": 14,
   "id": "f07a7170",
   "metadata": {},
   "outputs": [
    {
     "data": {
      "image/png": "[encoded data removed]",
      "text/plain": [
       "<Figure size 432x288 with 1 Axes>"
      ]
     },
     "metadata": {},
     "output_type": "display_data"
    }
   ],
   "source": [
    "backward_filled.plot()\n",
    "plt.show()"
   ]
  },
  {
   "cell_type": "markdown",
   "id": "3709fb3a",
   "metadata": {},
   "source": [
    "### 2.3 Create a moving average fill\n",
    "\n",
    "- We're also able to construct a moving average fill with the 'forward_filled' dataset as there are no missing values.\n",
    "- Alternatively, we could also find a moving average fill by first dropping NAs, and then using the 'df.rolling()' function that helps us to make calculations on a rolling window. On the rolling window, we will use .mean() function to calculate the mean of each window."
   ]
  },
  {
   "cell_type": "code",
   "execution_count": 15,
   "id": "b6d96440",
   "metadata": {},
   "outputs": [],
   "source": [
    "import numpy as np\n",
    "import pandas as pd\n",
    "\n",
    "def apply_mean_imputer(x, period):\n",
    "    \n",
    "    if not isinstance(x, pd.Series):\n",
    "        x = pd.Series(x)\n",
    "    \n",
    "    results = []\n",
    "    for i in range(1, len(x)+1):\n",
    "        slice_of_x = x.iloc[ max(0, i-period) :i]\n",
    "        mean_of_x = slice_of_x.mean()\n",
    "        results.append(mean_of_x)\n",
    "    \n",
    "    missing_results = pd.Series(results, index=x.index)\n",
    "    missing_results = np.where(x.isnull(), missing_results, x )\n",
    "    missing_results = pd.Series(missing_results, index=x.index)\n",
    "    return missing_results"
   ]
  },
  {
   "cell_type": "code",
   "execution_count": 16,
   "id": "e81b886d",
   "metadata": {},
   "outputs": [
    {
     "data": {
      "text/html": [
       "<div>\n",
       "<style scoped>\n",
       "    .dataframe tbody tr th:only-of-type {\n",
       "        vertical-align: middle;\n",
       "    }\n",
       "\n",
       "    .dataframe tbody tr th {\n",
       "        vertical-align: top;\n",
       "    }\n",
       "\n",
       "    .dataframe thead th {\n",
       "        text-align: right;\n",
       "    }\n",
       "</style>\n",
       "<table border=\"1\" class=\"dataframe\">\n",
       "  <thead>\n",
       "    <tr style=\"text-align: right;\">\n",
       "      <th></th>\n",
       "      <th>Date</th>\n",
       "      <th>IWM</th>\n",
       "      <th>QQQ</th>\n",
       "      <th>SPY</th>\n",
       "    </tr>\n",
       "  </thead>\n",
       "  <tbody>\n",
       "    <tr>\n",
       "      <th>0</th>\n",
       "      <td>2000-05-26</td>\n",
       "      <td>34.800865</td>\n",
       "      <td>67.670738</td>\n",
       "      <td>93.363678</td>\n",
       "    </tr>\n",
       "    <tr>\n",
       "      <th>1</th>\n",
       "      <td>2000-05-30</td>\n",
       "      <td>NaN</td>\n",
       "      <td>NaN</td>\n",
       "      <td>NaN</td>\n",
       "    </tr>\n",
       "    <tr>\n",
       "      <th>2</th>\n",
       "      <td>2000-05-31</td>\n",
       "      <td>NaN</td>\n",
       "      <td>NaN</td>\n",
       "      <td>NaN</td>\n",
       "    </tr>\n",
       "    <tr>\n",
       "      <th>3</th>\n",
       "      <td>2000-06-01</td>\n",
       "      <td>37.036850</td>\n",
       "      <td>76.048004</td>\n",
       "      <td>98.310966</td>\n",
       "    </tr>\n",
       "    <tr>\n",
       "      <th>4</th>\n",
       "      <td>2000-06-02</td>\n",
       "      <td>38.963646</td>\n",
       "      <td>81.487755</td>\n",
       "      <td>100.023491</td>\n",
       "    </tr>\n",
       "    <tr>\n",
       "      <th>...</th>\n",
       "      <td>...</td>\n",
       "      <td>...</td>\n",
       "      <td>...</td>\n",
       "      <td>...</td>\n",
       "    </tr>\n",
       "    <tr>\n",
       "      <th>4967</th>\n",
       "      <td>2020-02-26</td>\n",
       "      <td>152.328430</td>\n",
       "      <td>215.254486</td>\n",
       "      <td>305.789459</td>\n",
       "    </tr>\n",
       "    <tr>\n",
       "      <th>4968</th>\n",
       "      <td>2020-02-27</td>\n",
       "      <td>146.964890</td>\n",
       "      <td>204.475845</td>\n",
       "      <td>292.055939</td>\n",
       "    </tr>\n",
       "    <tr>\n",
       "      <th>4969</th>\n",
       "      <td>2020-02-28</td>\n",
       "      <td>NaN</td>\n",
       "      <td>NaN</td>\n",
       "      <td>NaN</td>\n",
       "    </tr>\n",
       "    <tr>\n",
       "      <th>4970</th>\n",
       "      <td>2020-03-02</td>\n",
       "      <td>NaN</td>\n",
       "      <td>NaN</td>\n",
       "      <td>NaN</td>\n",
       "    </tr>\n",
       "    <tr>\n",
       "      <th>4971</th>\n",
       "      <td>2020-03-03</td>\n",
       "      <td>NaN</td>\n",
       "      <td>NaN</td>\n",
       "      <td>NaN</td>\n",
       "    </tr>\n",
       "  </tbody>\n",
       "</table>\n",
       "<p>4972 rows × 4 columns</p>\n",
       "</div>"
      ],
      "text/plain": [
       "            Date         IWM         QQQ         SPY\n",
       "0     2000-05-26   34.800865   67.670738   93.363678\n",
       "1     2000-05-30         NaN         NaN         NaN\n",
       "2     2000-05-31         NaN         NaN         NaN\n",
       "3     2000-06-01   37.036850   76.048004   98.310966\n",
       "4     2000-06-02   38.963646   81.487755  100.023491\n",
       "...          ...         ...         ...         ...\n",
       "4967  2020-02-26  152.328430  215.254486  305.789459\n",
       "4968  2020-02-27  146.964890  204.475845  292.055939\n",
       "4969  2020-02-28         NaN         NaN         NaN\n",
       "4970  2020-03-02         NaN         NaN         NaN\n",
       "4971  2020-03-03         NaN         NaN         NaN\n",
       "\n",
       "[4972 rows x 4 columns]"
      ]
     },
     "execution_count": 16,
     "metadata": {},
     "output_type": "execute_result"
    }
   ],
   "source": [
    "df_moving_avg = df.copy()\n",
    "df_moving_avg"
   ]
  },
  {
   "cell_type": "code",
   "execution_count": 17,
   "id": "ecbcf5b9",
   "metadata": {},
   "outputs": [
    {
     "data": {
      "text/plain": [
       "0        67.670738\n",
       "1        67.670738\n",
       "2        67.670738\n",
       "3        76.048004\n",
       "4        81.487755\n",
       "           ...    \n",
       "4967    215.254486\n",
       "4968    204.475845\n",
       "4969    211.293696\n",
       "4970    211.293696\n",
       "4971    209.865166\n",
       "Length: 4972, dtype: float64"
      ]
     },
     "execution_count": 17,
     "metadata": {},
     "output_type": "execute_result"
    }
   ],
   "source": [
    "imputed_QQQ = apply_mean_imputer(df_moving_avg['QQQ'], 5)\n",
    "imputed_QQQ"
   ]
  },
  {
   "cell_type": "code",
   "execution_count": 18,
   "id": "d17cd6f0",
   "metadata": {},
   "outputs": [
    {
     "data": {
      "text/plain": [
       "0        34.800865\n",
       "1        34.800865\n",
       "2        34.800865\n",
       "3        37.036850\n",
       "4        38.963646\n",
       "           ...    \n",
       "4967    152.328430\n",
       "4968    146.964890\n",
       "4969    151.135437\n",
       "4970    151.135437\n",
       "4971    149.646660\n",
       "Length: 4972, dtype: float64"
      ]
     },
     "execution_count": 18,
     "metadata": {},
     "output_type": "execute_result"
    }
   ],
   "source": [
    "imputed_IWM = apply_mean_imputer(df['IWM'], 5)\n",
    "imputed_IWM"
   ]
  },
  {
   "cell_type": "code",
   "execution_count": 19,
   "id": "18c8bd63",
   "metadata": {},
   "outputs": [
    {
     "data": {
      "text/html": [
       "<div>\n",
       "<style scoped>\n",
       "    .dataframe tbody tr th:only-of-type {\n",
       "        vertical-align: middle;\n",
       "    }\n",
       "\n",
       "    .dataframe tbody tr th {\n",
       "        vertical-align: top;\n",
       "    }\n",
       "\n",
       "    .dataframe thead th {\n",
       "        text-align: right;\n",
       "    }\n",
       "</style>\n",
       "<table border=\"1\" class=\"dataframe\">\n",
       "  <thead>\n",
       "    <tr style=\"text-align: right;\">\n",
       "      <th></th>\n",
       "      <th>Date</th>\n",
       "      <th>IWM</th>\n",
       "      <th>QQQ</th>\n",
       "      <th>SPY</th>\n",
       "      <th>5_day_avg</th>\n",
       "    </tr>\n",
       "  </thead>\n",
       "  <tbody>\n",
       "    <tr>\n",
       "      <th>0</th>\n",
       "      <td>2000-05-26</td>\n",
       "      <td>34.800865</td>\n",
       "      <td>67.670738</td>\n",
       "      <td>93.363678</td>\n",
       "      <td>NaN</td>\n",
       "    </tr>\n",
       "    <tr>\n",
       "      <th>1</th>\n",
       "      <td>2000-05-30</td>\n",
       "      <td>34.800865</td>\n",
       "      <td>67.670738</td>\n",
       "      <td>93.363678</td>\n",
       "      <td>NaN</td>\n",
       "    </tr>\n",
       "    <tr>\n",
       "      <th>2</th>\n",
       "      <td>2000-05-31</td>\n",
       "      <td>34.800865</td>\n",
       "      <td>67.670738</td>\n",
       "      <td>93.363678</td>\n",
       "      <td>NaN</td>\n",
       "    </tr>\n",
       "    <tr>\n",
       "      <th>3</th>\n",
       "      <td>2000-06-01</td>\n",
       "      <td>37.036850</td>\n",
       "      <td>76.048004</td>\n",
       "      <td>98.310966</td>\n",
       "      <td>NaN</td>\n",
       "    </tr>\n",
       "    <tr>\n",
       "      <th>4</th>\n",
       "      <td>2000-06-02</td>\n",
       "      <td>38.963646</td>\n",
       "      <td>81.487755</td>\n",
       "      <td>100.023491</td>\n",
       "      <td>72.109595</td>\n",
       "    </tr>\n",
       "    <tr>\n",
       "      <th>...</th>\n",
       "      <td>...</td>\n",
       "      <td>...</td>\n",
       "      <td>...</td>\n",
       "      <td>...</td>\n",
       "      <td>...</td>\n",
       "    </tr>\n",
       "    <tr>\n",
       "      <th>4967</th>\n",
       "      <td>2020-02-26</td>\n",
       "      <td>152.328430</td>\n",
       "      <td>215.254486</td>\n",
       "      <td>305.789459</td>\n",
       "      <td>225.951569</td>\n",
       "    </tr>\n",
       "    <tr>\n",
       "      <th>4968</th>\n",
       "      <td>2020-02-27</td>\n",
       "      <td>146.964890</td>\n",
       "      <td>204.475845</td>\n",
       "      <td>292.055939</td>\n",
       "      <td>220.156564</td>\n",
       "    </tr>\n",
       "    <tr>\n",
       "      <th>4969</th>\n",
       "      <td>2020-02-28</td>\n",
       "      <td>146.964890</td>\n",
       "      <td>204.475845</td>\n",
       "      <td>292.055939</td>\n",
       "      <td>214.361560</td>\n",
       "    </tr>\n",
       "    <tr>\n",
       "      <th>4970</th>\n",
       "      <td>2020-03-02</td>\n",
       "      <td>146.964890</td>\n",
       "      <td>204.475845</td>\n",
       "      <td>292.055939</td>\n",
       "      <td>208.566556</td>\n",
       "    </tr>\n",
       "    <tr>\n",
       "      <th>4971</th>\n",
       "      <td>2020-03-03</td>\n",
       "      <td>146.964890</td>\n",
       "      <td>204.475845</td>\n",
       "      <td>292.055939</td>\n",
       "      <td>206.631573</td>\n",
       "    </tr>\n",
       "  </tbody>\n",
       "</table>\n",
       "<p>4972 rows × 5 columns</p>\n",
       "</div>"
      ],
      "text/plain": [
       "            Date         IWM         QQQ         SPY   5_day_avg\n",
       "0     2000-05-26   34.800865   67.670738   93.363678         NaN\n",
       "1     2000-05-30   34.800865   67.670738   93.363678         NaN\n",
       "2     2000-05-31   34.800865   67.670738   93.363678         NaN\n",
       "3     2000-06-01   37.036850   76.048004   98.310966         NaN\n",
       "4     2000-06-02   38.963646   81.487755  100.023491   72.109595\n",
       "...          ...         ...         ...         ...         ...\n",
       "4967  2020-02-26  152.328430  215.254486  305.789459  225.951569\n",
       "4968  2020-02-27  146.964890  204.475845  292.055939  220.156564\n",
       "4969  2020-02-28  146.964890  204.475845  292.055939  214.361560\n",
       "4970  2020-03-02  146.964890  204.475845  292.055939  208.566556\n",
       "4971  2020-03-03  146.964890  204.475845  292.055939  206.631573\n",
       "\n",
       "[4972 rows x 5 columns]"
      ]
     },
     "execution_count": 19,
     "metadata": {},
     "output_type": "execute_result"
    }
   ],
   "source": [
    "moving_avg_ff = forward_filled\n",
    "moving_avg_ff['5_day_avg'] = moving_avg_ff['QQQ'].rolling(5).mean()\n",
    "moving_avg_ff"
   ]
  },
  {
   "cell_type": "code",
   "execution_count": 20,
   "id": "ceee1ef9",
   "metadata": {},
   "outputs": [
    {
     "data": {
      "text/html": [
       "<div>\n",
       "<style scoped>\n",
       "    .dataframe tbody tr th:only-of-type {\n",
       "        vertical-align: middle;\n",
       "    }\n",
       "\n",
       "    .dataframe tbody tr th {\n",
       "        vertical-align: top;\n",
       "    }\n",
       "\n",
       "    .dataframe thead th {\n",
       "        text-align: right;\n",
       "    }\n",
       "</style>\n",
       "<table border=\"1\" class=\"dataframe\">\n",
       "  <thead>\n",
       "    <tr style=\"text-align: right;\">\n",
       "      <th></th>\n",
       "      <th>Date</th>\n",
       "      <th>IWM</th>\n",
       "      <th>QQQ</th>\n",
       "      <th>SPY</th>\n",
       "      <th>5_day_avg</th>\n",
       "    </tr>\n",
       "  </thead>\n",
       "  <tbody>\n",
       "    <tr>\n",
       "      <th>0</th>\n",
       "      <td>2000-05-26</td>\n",
       "      <td>34.800865</td>\n",
       "      <td>67.670738</td>\n",
       "      <td>93.363678</td>\n",
       "      <td>NaN</td>\n",
       "    </tr>\n",
       "    <tr>\n",
       "      <th>1</th>\n",
       "      <td>2000-05-30</td>\n",
       "      <td>34.800865</td>\n",
       "      <td>67.670738</td>\n",
       "      <td>93.363678</td>\n",
       "      <td>NaN</td>\n",
       "    </tr>\n",
       "    <tr>\n",
       "      <th>2</th>\n",
       "      <td>2000-05-31</td>\n",
       "      <td>34.800865</td>\n",
       "      <td>67.670738</td>\n",
       "      <td>93.363678</td>\n",
       "      <td>NaN</td>\n",
       "    </tr>\n",
       "    <tr>\n",
       "      <th>3</th>\n",
       "      <td>2000-06-01</td>\n",
       "      <td>37.036850</td>\n",
       "      <td>76.048004</td>\n",
       "      <td>98.310966</td>\n",
       "      <td>NaN</td>\n",
       "    </tr>\n",
       "    <tr>\n",
       "      <th>4</th>\n",
       "      <td>2000-06-02</td>\n",
       "      <td>38.963646</td>\n",
       "      <td>81.487755</td>\n",
       "      <td>100.023491</td>\n",
       "      <td>72.109595</td>\n",
       "    </tr>\n",
       "    <tr>\n",
       "      <th>...</th>\n",
       "      <td>...</td>\n",
       "      <td>...</td>\n",
       "      <td>...</td>\n",
       "      <td>...</td>\n",
       "      <td>...</td>\n",
       "    </tr>\n",
       "    <tr>\n",
       "      <th>4967</th>\n",
       "      <td>2020-02-26</td>\n",
       "      <td>152.328430</td>\n",
       "      <td>215.254486</td>\n",
       "      <td>305.789459</td>\n",
       "      <td>225.951569</td>\n",
       "    </tr>\n",
       "    <tr>\n",
       "      <th>4968</th>\n",
       "      <td>2020-02-27</td>\n",
       "      <td>146.964890</td>\n",
       "      <td>204.475845</td>\n",
       "      <td>292.055939</td>\n",
       "      <td>220.156564</td>\n",
       "    </tr>\n",
       "    <tr>\n",
       "      <th>4969</th>\n",
       "      <td>2020-02-28</td>\n",
       "      <td>146.964890</td>\n",
       "      <td>204.475845</td>\n",
       "      <td>292.055939</td>\n",
       "      <td>214.361560</td>\n",
       "    </tr>\n",
       "    <tr>\n",
       "      <th>4970</th>\n",
       "      <td>2020-03-02</td>\n",
       "      <td>146.964890</td>\n",
       "      <td>204.475845</td>\n",
       "      <td>292.055939</td>\n",
       "      <td>208.566556</td>\n",
       "    </tr>\n",
       "    <tr>\n",
       "      <th>4971</th>\n",
       "      <td>2020-03-03</td>\n",
       "      <td>146.964890</td>\n",
       "      <td>204.475845</td>\n",
       "      <td>292.055939</td>\n",
       "      <td>206.631573</td>\n",
       "    </tr>\n",
       "  </tbody>\n",
       "</table>\n",
       "<p>4972 rows × 5 columns</p>\n",
       "</div>"
      ],
      "text/plain": [
       "            Date         IWM         QQQ         SPY   5_day_avg\n",
       "0     2000-05-26   34.800865   67.670738   93.363678         NaN\n",
       "1     2000-05-30   34.800865   67.670738   93.363678         NaN\n",
       "2     2000-05-31   34.800865   67.670738   93.363678         NaN\n",
       "3     2000-06-01   37.036850   76.048004   98.310966         NaN\n",
       "4     2000-06-02   38.963646   81.487755  100.023491   72.109595\n",
       "...          ...         ...         ...         ...         ...\n",
       "4967  2020-02-26  152.328430  215.254486  305.789459  225.951569\n",
       "4968  2020-02-27  146.964890  204.475845  292.055939  220.156564\n",
       "4969  2020-02-28  146.964890  204.475845  292.055939  214.361560\n",
       "4970  2020-03-02  146.964890  204.475845  292.055939  208.566556\n",
       "4971  2020-03-03  146.964890  204.475845  292.055939  206.631573\n",
       "\n",
       "[4972 rows x 5 columns]"
      ]
     },
     "execution_count": 20,
     "metadata": {},
     "output_type": "execute_result"
    }
   ],
   "source": [
    "forward_filled['5_day_avg'] = forward_filled['QQQ'].rolling(5).mean()\n",
    "forward_filled"
   ]
  },
  {
   "cell_type": "code",
   "execution_count": 21,
   "id": "83b46a8a",
   "metadata": {},
   "outputs": [
    {
     "name": "stdout",
     "output_type": "stream",
     "text": [
      "Dataset before : 4972\n",
      "Dataset after : 4075\n",
      "missing values : 0\n"
     ]
    }
   ],
   "source": [
    "print('Dataset before :', len(df))\n",
    "df.dropna(subset = ['QQQ'],how='any',inplace=True)\n",
    "print('Dataset after :', len(df))\n",
    "print('missing values :',df['QQQ'].isnull().sum())"
   ]
  },
  {
   "cell_type": "code",
   "execution_count": 22,
   "id": "1bf8cded",
   "metadata": {},
   "outputs": [
    {
     "data": {
      "text/html": [
       "<div>\n",
       "<style scoped>\n",
       "    .dataframe tbody tr th:only-of-type {\n",
       "        vertical-align: middle;\n",
       "    }\n",
       "\n",
       "    .dataframe tbody tr th {\n",
       "        vertical-align: top;\n",
       "    }\n",
       "\n",
       "    .dataframe thead th {\n",
       "        text-align: right;\n",
       "    }\n",
       "</style>\n",
       "<table border=\"1\" class=\"dataframe\">\n",
       "  <thead>\n",
       "    <tr style=\"text-align: right;\">\n",
       "      <th></th>\n",
       "      <th>Date</th>\n",
       "      <th>IWM</th>\n",
       "      <th>QQQ</th>\n",
       "      <th>SPY</th>\n",
       "      <th>5_day_avg</th>\n",
       "    </tr>\n",
       "  </thead>\n",
       "  <tbody>\n",
       "    <tr>\n",
       "      <th>0</th>\n",
       "      <td>2000-05-26</td>\n",
       "      <td>34.800865</td>\n",
       "      <td>67.670738</td>\n",
       "      <td>93.363678</td>\n",
       "      <td>NaN</td>\n",
       "    </tr>\n",
       "    <tr>\n",
       "      <th>3</th>\n",
       "      <td>2000-06-01</td>\n",
       "      <td>37.036850</td>\n",
       "      <td>76.048004</td>\n",
       "      <td>98.310966</td>\n",
       "      <td>NaN</td>\n",
       "    </tr>\n",
       "    <tr>\n",
       "      <th>4</th>\n",
       "      <td>2000-06-02</td>\n",
       "      <td>38.963646</td>\n",
       "      <td>81.487755</td>\n",
       "      <td>100.023491</td>\n",
       "      <td>NaN</td>\n",
       "    </tr>\n",
       "    <tr>\n",
       "      <th>6</th>\n",
       "      <td>2000-06-06</td>\n",
       "      <td>39.201530</td>\n",
       "      <td>79.420624</td>\n",
       "      <td>99.093246</td>\n",
       "      <td>NaN</td>\n",
       "    </tr>\n",
       "    <tr>\n",
       "      <th>8</th>\n",
       "      <td>2000-06-08</td>\n",
       "      <td>39.153946</td>\n",
       "      <td>81.161362</td>\n",
       "      <td>99.389206</td>\n",
       "      <td>77.157697</td>\n",
       "    </tr>\n",
       "    <tr>\n",
       "      <th>...</th>\n",
       "      <td>...</td>\n",
       "      <td>...</td>\n",
       "      <td>...</td>\n",
       "      <td>...</td>\n",
       "      <td>...</td>\n",
       "    </tr>\n",
       "    <tr>\n",
       "      <th>4962</th>\n",
       "      <td>2020-02-19</td>\n",
       "      <td>166.033051</td>\n",
       "      <td>235.638428</td>\n",
       "      <td>332.137360</td>\n",
       "      <td>233.588098</td>\n",
       "    </tr>\n",
       "    <tr>\n",
       "      <th>4963</th>\n",
       "      <td>2020-02-20</td>\n",
       "      <td>166.437286</td>\n",
       "      <td>233.450867</td>\n",
       "      <td>330.772919</td>\n",
       "      <td>233.689517</td>\n",
       "    </tr>\n",
       "    <tr>\n",
       "      <th>4966</th>\n",
       "      <td>2020-02-25</td>\n",
       "      <td>154.112991</td>\n",
       "      <td>214.150757</td>\n",
       "      <td>306.918335</td>\n",
       "      <td>229.990576</td>\n",
       "    </tr>\n",
       "    <tr>\n",
       "      <th>4967</th>\n",
       "      <td>2020-02-26</td>\n",
       "      <td>152.328430</td>\n",
       "      <td>215.254486</td>\n",
       "      <td>305.789459</td>\n",
       "      <td>226.379138</td>\n",
       "    </tr>\n",
       "    <tr>\n",
       "      <th>4968</th>\n",
       "      <td>2020-02-27</td>\n",
       "      <td>146.964890</td>\n",
       "      <td>204.475845</td>\n",
       "      <td>292.055939</td>\n",
       "      <td>220.594077</td>\n",
       "    </tr>\n",
       "  </tbody>\n",
       "</table>\n",
       "<p>4075 rows × 5 columns</p>\n",
       "</div>"
      ],
      "text/plain": [
       "            Date         IWM         QQQ         SPY   5_day_avg\n",
       "0     2000-05-26   34.800865   67.670738   93.363678         NaN\n",
       "3     2000-06-01   37.036850   76.048004   98.310966         NaN\n",
       "4     2000-06-02   38.963646   81.487755  100.023491         NaN\n",
       "6     2000-06-06   39.201530   79.420624   99.093246         NaN\n",
       "8     2000-06-08   39.153946   81.161362   99.389206   77.157697\n",
       "...          ...         ...         ...         ...         ...\n",
       "4962  2020-02-19  166.033051  235.638428  332.137360  233.588098\n",
       "4963  2020-02-20  166.437286  233.450867  330.772919  233.689517\n",
       "4966  2020-02-25  154.112991  214.150757  306.918335  229.990576\n",
       "4967  2020-02-26  152.328430  215.254486  305.789459  226.379138\n",
       "4968  2020-02-27  146.964890  204.475845  292.055939  220.594077\n",
       "\n",
       "[4075 rows x 5 columns]"
      ]
     },
     "execution_count": 22,
     "metadata": {},
     "output_type": "execute_result"
    }
   ],
   "source": [
    "df['5_day_avg'] = df['QQQ'].rolling(5).mean()\n",
    "df"
   ]
  },
  {
   "cell_type": "markdown",
   "id": "9d895153",
   "metadata": {},
   "source": [
    "### 2.4 Create an interpolation"
   ]
  },
  {
   "cell_type": "code",
   "execution_count": 23,
   "id": "2b58f099",
   "metadata": {},
   "outputs": [
    {
     "data": {
      "text/html": [
       "<div>\n",
       "<style scoped>\n",
       "    .dataframe tbody tr th:only-of-type {\n",
       "        vertical-align: middle;\n",
       "    }\n",
       "\n",
       "    .dataframe tbody tr th {\n",
       "        vertical-align: top;\n",
       "    }\n",
       "\n",
       "    .dataframe thead th {\n",
       "        text-align: right;\n",
       "    }\n",
       "</style>\n",
       "<table border=\"1\" class=\"dataframe\">\n",
       "  <thead>\n",
       "    <tr style=\"text-align: right;\">\n",
       "      <th></th>\n",
       "      <th>Date</th>\n",
       "      <th>IWM</th>\n",
       "      <th>QQQ</th>\n",
       "      <th>SPY</th>\n",
       "      <th>5_day_avg</th>\n",
       "      <th>interpolation</th>\n",
       "    </tr>\n",
       "  </thead>\n",
       "  <tbody>\n",
       "    <tr>\n",
       "      <th>0</th>\n",
       "      <td>2000-05-26</td>\n",
       "      <td>34.800865</td>\n",
       "      <td>67.670738</td>\n",
       "      <td>93.363678</td>\n",
       "      <td>NaN</td>\n",
       "      <td>67.670738</td>\n",
       "    </tr>\n",
       "    <tr>\n",
       "      <th>3</th>\n",
       "      <td>2000-06-01</td>\n",
       "      <td>37.036850</td>\n",
       "      <td>76.048004</td>\n",
       "      <td>98.310966</td>\n",
       "      <td>NaN</td>\n",
       "      <td>76.048004</td>\n",
       "    </tr>\n",
       "    <tr>\n",
       "      <th>4</th>\n",
       "      <td>2000-06-02</td>\n",
       "      <td>38.963646</td>\n",
       "      <td>81.487755</td>\n",
       "      <td>100.023491</td>\n",
       "      <td>NaN</td>\n",
       "      <td>81.487755</td>\n",
       "    </tr>\n",
       "    <tr>\n",
       "      <th>6</th>\n",
       "      <td>2000-06-06</td>\n",
       "      <td>39.201530</td>\n",
       "      <td>79.420624</td>\n",
       "      <td>99.093246</td>\n",
       "      <td>NaN</td>\n",
       "      <td>79.420624</td>\n",
       "    </tr>\n",
       "    <tr>\n",
       "      <th>8</th>\n",
       "      <td>2000-06-08</td>\n",
       "      <td>39.153946</td>\n",
       "      <td>81.161362</td>\n",
       "      <td>99.389206</td>\n",
       "      <td>77.157697</td>\n",
       "      <td>81.161362</td>\n",
       "    </tr>\n",
       "    <tr>\n",
       "      <th>...</th>\n",
       "      <td>...</td>\n",
       "      <td>...</td>\n",
       "      <td>...</td>\n",
       "      <td>...</td>\n",
       "      <td>...</td>\n",
       "      <td>...</td>\n",
       "    </tr>\n",
       "    <tr>\n",
       "      <th>4962</th>\n",
       "      <td>2020-02-19</td>\n",
       "      <td>166.033051</td>\n",
       "      <td>235.638428</td>\n",
       "      <td>332.137360</td>\n",
       "      <td>233.588098</td>\n",
       "      <td>235.638428</td>\n",
       "    </tr>\n",
       "    <tr>\n",
       "      <th>4963</th>\n",
       "      <td>2020-02-20</td>\n",
       "      <td>166.437286</td>\n",
       "      <td>233.450867</td>\n",
       "      <td>330.772919</td>\n",
       "      <td>233.689517</td>\n",
       "      <td>233.450867</td>\n",
       "    </tr>\n",
       "    <tr>\n",
       "      <th>4966</th>\n",
       "      <td>2020-02-25</td>\n",
       "      <td>154.112991</td>\n",
       "      <td>214.150757</td>\n",
       "      <td>306.918335</td>\n",
       "      <td>229.990576</td>\n",
       "      <td>214.150757</td>\n",
       "    </tr>\n",
       "    <tr>\n",
       "      <th>4967</th>\n",
       "      <td>2020-02-26</td>\n",
       "      <td>152.328430</td>\n",
       "      <td>215.254486</td>\n",
       "      <td>305.789459</td>\n",
       "      <td>226.379138</td>\n",
       "      <td>215.254486</td>\n",
       "    </tr>\n",
       "    <tr>\n",
       "      <th>4968</th>\n",
       "      <td>2020-02-27</td>\n",
       "      <td>146.964890</td>\n",
       "      <td>204.475845</td>\n",
       "      <td>292.055939</td>\n",
       "      <td>220.594077</td>\n",
       "      <td>204.475845</td>\n",
       "    </tr>\n",
       "  </tbody>\n",
       "</table>\n",
       "<p>4075 rows × 6 columns</p>\n",
       "</div>"
      ],
      "text/plain": [
       "            Date         IWM         QQQ         SPY   5_day_avg  \\\n",
       "0     2000-05-26   34.800865   67.670738   93.363678         NaN   \n",
       "3     2000-06-01   37.036850   76.048004   98.310966         NaN   \n",
       "4     2000-06-02   38.963646   81.487755  100.023491         NaN   \n",
       "6     2000-06-06   39.201530   79.420624   99.093246         NaN   \n",
       "8     2000-06-08   39.153946   81.161362   99.389206   77.157697   \n",
       "...          ...         ...         ...         ...         ...   \n",
       "4962  2020-02-19  166.033051  235.638428  332.137360  233.588098   \n",
       "4963  2020-02-20  166.437286  233.450867  330.772919  233.689517   \n",
       "4966  2020-02-25  154.112991  214.150757  306.918335  229.990576   \n",
       "4967  2020-02-26  152.328430  215.254486  305.789459  226.379138   \n",
       "4968  2020-02-27  146.964890  204.475845  292.055939  220.594077   \n",
       "\n",
       "      interpolation  \n",
       "0         67.670738  \n",
       "3         76.048004  \n",
       "4         81.487755  \n",
       "6         79.420624  \n",
       "8         81.161362  \n",
       "...             ...  \n",
       "4962     235.638428  \n",
       "4963     233.450867  \n",
       "4966     214.150757  \n",
       "4967     215.254486  \n",
       "4968     204.475845  \n",
       "\n",
       "[4075 rows x 6 columns]"
      ]
     },
     "execution_count": 23,
     "metadata": {},
     "output_type": "execute_result"
    }
   ],
   "source": [
    "df_interpol = df\n",
    "df_interpol['interpolation'] = df_interpol['QQQ'].interpolate()\n",
    "df_interpol"
   ]
  },
  {
   "cell_type": "markdown",
   "id": "50d8321d",
   "metadata": {},
   "source": [
    "## 3. 60 pts - Smoothing Methods\n",
    "- Choose one filling method and apply to SPY time series. \n",
    "- Use pd.core.indexes.period.PeriodIndex to convert to period index\n",
    "    -index = pd.core.indexes.period.PeriodIndex(interpolated_df.index.tolist(), freq='b')\n",
    "- Split using temporal train and test.\n",
    "- Use ForecastingHorizon from sktime.forecasting.all\n",
    "    - forecasting_index = ForecastingHorizon(y_test.index, is_relative=False)\n",
    "\n",
    "For each of the following methods return\n",
    "- Labeled plot of y_test and y_pred overlayed on top of each other\n",
    "- sMAPE for the test set\n",
    "\n",
    "Use a for loop or create a function to avoid repetative code"
   ]
  },
  {
   "cell_type": "code",
   "execution_count": 24,
   "id": "e5179417",
   "metadata": {},
   "outputs": [],
   "source": [
    "df = pd.read_csv('hw2_data.csv')"
   ]
  },
  {
   "cell_type": "code",
   "execution_count": 25,
   "id": "108cb310",
   "metadata": {},
   "outputs": [],
   "source": [
    "df.set_index('Date', inplace = True)"
   ]
  },
  {
   "cell_type": "code",
   "execution_count": 26,
   "id": "39469269",
   "metadata": {},
   "outputs": [],
   "source": [
    "df_SPY = apply_mean_imputer(df['SPY'], 5)"
   ]
  },
  {
   "cell_type": "code",
   "execution_count": 27,
   "id": "59d66aa6",
   "metadata": {},
   "outputs": [
    {
     "data": {
      "text/plain": [
       "Date\n",
       "2000-05-26     93.363678\n",
       "2000-05-30     93.363678\n",
       "2000-05-31     93.363678\n",
       "2000-06-01     98.310966\n",
       "2000-06-02    100.023491\n",
       "                 ...    \n",
       "2020-02-26    305.789459\n",
       "2020-02-27    292.055939\n",
       "2020-02-28    301.587911\n",
       "2020-03-02    301.587911\n",
       "2020-03-03    298.922699\n",
       "Length: 4972, dtype: float64"
      ]
     },
     "execution_count": 27,
     "metadata": {},
     "output_type": "execute_result"
    }
   ],
   "source": [
    "df_SPY"
   ]
  },
  {
   "cell_type": "code",
   "execution_count": 28,
   "id": "a4bfb833",
   "metadata": {},
   "outputs": [
    {
     "data": {
      "text/plain": [
       "4972"
      ]
     },
     "execution_count": 28,
     "metadata": {},
     "output_type": "execute_result"
    }
   ],
   "source": [
    "len(df_SPY)"
   ]
  },
  {
   "cell_type": "code",
   "execution_count": 29,
   "id": "ca212ced",
   "metadata": {},
   "outputs": [
    {
     "data": {
      "text/plain": [
       "1"
      ]
     },
     "execution_count": 29,
     "metadata": {},
     "output_type": "execute_result"
    }
   ],
   "source": [
    "df_SPY.isnull().sum()"
   ]
  },
  {
   "cell_type": "code",
   "execution_count": 30,
   "id": "6dd852b2",
   "metadata": {},
   "outputs": [],
   "source": [
    "df_SPY.dropna(inplace = True) # this was necessary to run the series!"
   ]
  },
  {
   "cell_type": "code",
   "execution_count": 31,
   "id": "b3b1eaae",
   "metadata": {},
   "outputs": [
    {
     "data": {
      "text/plain": [
       "pandas.core.series.Series"
      ]
     },
     "execution_count": 31,
     "metadata": {},
     "output_type": "execute_result"
    }
   ],
   "source": [
    "type(df_SPY) # verify that we have a time series"
   ]
  },
  {
   "cell_type": "code",
   "execution_count": 32,
   "id": "d396fa77",
   "metadata": {},
   "outputs": [
    {
     "data": {
      "text/plain": [
       "PeriodIndex(['2000-05-26', '2000-05-30', '2000-05-31', '2000-06-01',\n",
       "             '2000-06-02', '2000-06-05', '2000-06-06', '2000-06-07',\n",
       "             '2000-06-08', '2000-06-09',\n",
       "             ...\n",
       "             '2020-02-19', '2020-02-20', '2020-02-21', '2020-02-24',\n",
       "             '2020-02-25', '2020-02-26', '2020-02-27', '2020-02-28',\n",
       "             '2020-03-02', '2020-03-03'],\n",
       "            dtype='period[B]', length=4971)"
      ]
     },
     "execution_count": 32,
     "metadata": {},
     "output_type": "execute_result"
    }
   ],
   "source": [
    "df_SPY.index = pd.core.indexes.period.PeriodIndex(df_SPY.index.tolist(), freq='b')\n",
    "df_SPY.index"
   ]
  },
  {
   "cell_type": "code",
   "execution_count": 33,
   "id": "fde9e836",
   "metadata": {},
   "outputs": [],
   "source": [
    "from sktime.forecasting.all import temporal_train_test_split\n",
    "y_train, y_test = temporal_train_test_split(df_SPY)"
   ]
  },
  {
   "cell_type": "code",
   "execution_count": 34,
   "id": "b6a1a88a",
   "metadata": {},
   "outputs": [
    {
     "name": "stdout",
     "output_type": "stream",
     "text": [
      "Length of train set is 3728\n",
      "Length of test set is 1243\n"
     ]
    }
   ],
   "source": [
    "print(\"Length of train set is \" + str(y_train.shape[0]))\n",
    "print(\"Length of test set is \" + str(y_test.shape[0]))"
   ]
  },
  {
   "cell_type": "code",
   "execution_count": 35,
   "id": "d71a8647",
   "metadata": {},
   "outputs": [],
   "source": [
    "from sktime.forecasting.all import ForecastingHorizon\n",
    "from sktime.forecasting.all import ExponentialSmoothing\n",
    "from sktime.performance_metrics.forecasting import MeanAbsolutePercentageError\n"
   ]
  },
  {
   "cell_type": "code",
   "execution_count": 36,
   "id": "7b054916",
   "metadata": {},
   "outputs": [
    {
     "data": {
      "text/plain": [
       "ForecastingHorizon(['2015-03-26', '2015-03-27', '2015-03-30', '2015-03-31',\n",
       "             '2015-04-01', '2015-04-02', '2015-04-06', '2015-04-07',\n",
       "             '2015-04-08', '2015-04-09',\n",
       "             ...\n",
       "             '2020-02-19', '2020-02-20', '2020-02-21', '2020-02-24',\n",
       "             '2020-02-25', '2020-02-26', '2020-02-27', '2020-02-28',\n",
       "             '2020-03-02', '2020-03-03'],\n",
       "            dtype='period[B]', length=1243, is_relative=False)"
      ]
     },
     "execution_count": 36,
     "metadata": {},
     "output_type": "execute_result"
    }
   ],
   "source": [
    "forecasting_index = ForecastingHorizon(y_test.index, is_relative=False)\n",
    "forecasting_index"
   ]
  },
  {
   "cell_type": "code",
   "execution_count": 37,
   "id": "bd8b1faa",
   "metadata": {},
   "outputs": [],
   "source": [
    "#for trend, seasonal in [(None, None), ('add', None), ('mul', None), ('add', 'add'), ('mul', 'mul')]:\n",
    "    \n",
    "#    model = ExponentialSmoothing(trend = trend, seasonal = seasonal)\n",
    "#    model.fit(y.train)\n",
    "#    y_pred = model.predict(fh = forecasting_index)\n",
    "#    smape = MeanAbsolutePercentageError ()\n",
    "#    smape_result = smape(y_test, y_pred)\n",
    "#    print(f'trend: {trend} seasonal: {seasonal} smape: {smape_result}')\n",
    "#    y_test.plot()\n",
    "#    y_pred.plot()"
   ]
  },
  {
   "cell_type": "markdown",
   "id": "f463e803",
   "metadata": {},
   "source": [
    "### 3.1 10pts Simple exponential smoothing"
   ]
  },
  {
   "cell_type": "code",
   "execution_count": 38,
   "id": "a261af29",
   "metadata": {},
   "outputs": [
    {
     "data": {
      "text/html": [
       "<style>.container { width:75% !important; }</style>"
      ],
      "text/plain": [
       "<IPython.core.display.HTML object>"
      ]
     },
     "metadata": {},
     "output_type": "display_data"
    }
   ],
   "source": [
    "from sktime.forecasting.all import ExponentialSmoothing\n",
    "from sktime.performance_metrics.forecasting import MeanAbsolutePercentageError\n",
    "from statsmodels.tsa.api import ExponentialSmoothing, SimpleExpSmoothing, Holt\n",
    "\n",
    "from IPython.core.display import display, HTML\n",
    "display(HTML(\"<style>.container { width:75% !important; }</style>\"))"
   ]
  },
  {
   "cell_type": "code",
   "execution_count": 40,
   "id": "b9ddc3da",
   "metadata": {},
   "outputs": [
    {
     "name": "stdout",
     "output_type": "stream",
     "text": [
      "smape: 0.22326392940637338\n"
     ]
    },
    {
     "data": {
      "image/png": "[encoded data removed]",
      "text/plain": [
       "<Figure size 432x288 with 1 Axes>"
      ]
     },
     "metadata": {},
     "output_type": "display_data"
    }
   ],
   "source": [
    "from statsmodels.tsa.api import SimpleExpSmoothing\n",
    "# Fit the model, with selected alpha value\n",
    "fit1 = SimpleExpSmoothing(y_train).fit(smoothing_level=0.2,optimized=False)\n",
    "# Forecast over testing period\n",
    "y_pred = fit1.forecast(1243)\n",
    "# Plot the values\n",
    "y_train.plot()\n",
    "y_pred.plot(color='red')\n",
    "y_test.plot(color='black')\n",
    "fit1.fittedvalues.plot(color='red')\n",
    "# Calculate smape of test set performance\n",
    "smape = MeanAbsolutePercentageError()\n",
    "smape_result = smape(y_test, y_pred )\n",
    "print(f'smape: {smape_result}')"
   ]
  },
  {
   "cell_type": "markdown",
   "id": "f79ba49f",
   "metadata": {},
   "source": [
    "### 3.2 10pts Holt additive trend"
   ]
  },
  {
   "cell_type": "code",
   "execution_count": 42,
   "id": "3824f500",
   "metadata": {},
   "outputs": [
    {
     "name": "stdout",
     "output_type": "stream",
     "text": [
      "smape: 0.0722804626211739\n"
     ]
    },
    {
     "data": {
      "image/png": "[encoded data removed]",
      "text/plain": [
       "<Figure size 432x288 with 1 Axes>"
      ]
     },
     "metadata": {},
     "output_type": "display_data"
    }
   ],
   "source": [
    "# Fit the model, with selected alpha value\n",
    "fit2 = ExponentialSmoothing(y_train, \n",
    "                            trend='add', \n",
    "                           ).fit()\n",
    "# Forecast over testing period\n",
    "y_pred2 = fit2.forecast(1243)\n",
    "# Plot the values\n",
    "y_train.plot()\n",
    "y_pred2.plot(color='red')\n",
    "y_test.plot(color='black')\n",
    "fit2.fittedvalues.plot(color='red')\n",
    "# Calculate smape of test set performance\n",
    "smape = MeanAbsolutePercentageError()\n",
    "smape_result = smape(y_test, y_pred2 )\n",
    "print(f'smape: {smape_result}')"
   ]
  },
  {
   "cell_type": "markdown",
   "id": "c6e3b44e",
   "metadata": {},
   "source": [
    "### 3.3 10pts Holt multiplicative trend"
   ]
  },
  {
   "cell_type": "code",
   "execution_count": 44,
   "id": "eba20abd",
   "metadata": {},
   "outputs": [
    {
     "name": "stdout",
     "output_type": "stream",
     "text": [
      "smape: 0.0720672837409781\n"
     ]
    },
    {
     "data": {
      "image/png": "[encoded data removed]",
      "text/plain": [
       "<Figure size 432x288 with 1 Axes>"
      ]
     },
     "metadata": {},
     "output_type": "display_data"
    }
   ],
   "source": [
    "# Fit the model, with selected alpha value\n",
    "fit3 = ExponentialSmoothing(y_train, \n",
    "                            trend='mul', \n",
    "                           ).fit()\n",
    "# Forecast over testing period\n",
    "y_pred3 = fit3.forecast(1243)\n",
    "# Plot the values\n",
    "y_train.plot()\n",
    "y_pred3.plot(color='red')\n",
    "y_test.plot(color='black')\n",
    "fit3.fittedvalues.plot(color='red')\n",
    "# Calculate smape of test set performance\n",
    "smape = MeanAbsolutePercentageError()\n",
    "smape_result = smape(y_test, y_pred3 )\n",
    "print(f'smape: {smape_result}')"
   ]
  },
  {
   "cell_type": "markdown",
   "id": "9f4c86d3",
   "metadata": {},
   "source": [
    "### 3.4 10pts Holt Winters additive trend and additive seasonality"
   ]
  },
  {
   "cell_type": "code",
   "execution_count": 46,
   "id": "8305e2fd",
   "metadata": {},
   "outputs": [
    {
     "name": "stdout",
     "output_type": "stream",
     "text": [
      "smape: 0.07215932616593175\n"
     ]
    },
    {
     "data": {
      "image/png": "[encoded data removed]",
      "text/plain": [
       "<Figure size 432x288 with 1 Axes>"
      ]
     },
     "metadata": {},
     "output_type": "display_data"
    }
   ],
   "source": [
    "# Fit the model, with selected alpha value\n",
    "fit7 = ExponentialSmoothing(y_train,\n",
    "                            trend='add',\n",
    "                            seasonal_periods=12, \n",
    "                            seasonal='add'\n",
    "                           ).fit()\n",
    "# Forecast over testing period\n",
    "y_pred7 = fit7.forecast(1243)\n",
    "# Plot the values\n",
    "y_train.plot()\n",
    "y_pred7.plot(color='red')\n",
    "y_test.plot(color='black')\n",
    "fit7.fittedvalues.plot(color='red')\n",
    "# Calculate smape of test set performance\n",
    "smape = MeanAbsolutePercentageError()\n",
    "smape_result = smape(y_test, y_pred7 )\n",
    "print(f'smape: {smape_result}')"
   ]
  },
  {
   "cell_type": "markdown",
   "id": "070428b6",
   "metadata": {},
   "source": [
    "### 3.5 10pts Holt Winters multiplicative trend and multiplicative seasonality"
   ]
  },
  {
   "cell_type": "code",
   "execution_count": 48,
   "id": "72fe4ee1",
   "metadata": {},
   "outputs": [
    {
     "name": "stdout",
     "output_type": "stream",
     "text": [
      "smape: 0.17995642473117293\n"
     ]
    },
    {
     "data": {
      "image/png": "[encoded data removed]",
      "text/plain": [
       "<Figure size 432x288 with 1 Axes>"
      ]
     },
     "metadata": {},
     "output_type": "display_data"
    }
   ],
   "source": [
    "# Fit the model, with selected alpha value\n",
    "fit7 = ExponentialSmoothing(y_train,\n",
    "                            trend='mul',\n",
    "                            seasonal_periods=12, \n",
    "                            seasonal='mul'\n",
    "                           ).fit()\n",
    "# Forecast over testing period\n",
    "y_pred7 = fit7.forecast(1243)\n",
    "# Plot the values\n",
    "y_train.plot()\n",
    "y_pred7.plot(color='red')\n",
    "y_test.plot(color='black')\n",
    "fit7.fittedvalues.plot(color='red')\n",
    "# Calculate smape of test set performance\n",
    "smape = MeanAbsolutePercentageError()\n",
    "smape_result = smape(y_test, y_pred7 )\n",
    "print(f'smape: {smape_result}')"
   ]
  },
  {
   "cell_type": "markdown",
   "id": "d9987f92",
   "metadata": {},
   "source": [
    "### 3.6 10pts Which is the best model, why is it working better? In does it make sense to model stock price data using this method?"
   ]
  },
  {
   "cell_type": "code",
   "execution_count": null,
   "id": "108bee23",
   "metadata": {},
   "outputs": [],
   "source": []
  }
 ],
 "metadata": {
  "kernelspec": {
   "display_name": "Python 3",
   "language": "python",
   "name": "python3"
  },
  "language_info": {
   "codemirror_mode": {
    "name": "ipython",
    "version": 3
   },
   "file_extension": ".py",
   "mimetype": "text/x-python",
   "name": "python",
   "nbconvert_exporter": "python",
   "pygments_lexer": "ipython3",
   "version": "3.8.8"
  }
 },
 "nbformat": 4,
 "nbformat_minor": 5
}
