{
 "cells": [
  {
   "cell_type": "markdown",
   "id": "9368d02a",
   "metadata": {},
   "source": [
    "# Week 5 ARIMA vs Prophet\n",
    "## Time Series Analysis\n",
    "### Earnest Salgado\n",
    "### ID 12285784"
   ]
  },
  {
   "cell_type": "code",
   "execution_count": 172,
   "id": "72c6e499",
   "metadata": {},
   "outputs": [],
   "source": [
    "from scipy import stats\n",
    "import numpy as np\n",
    "import matplotlib.pyplot as plt\n",
    "import statsmodels.api as sm\n",
    "import pandas as pd\n",
    "import seaborn as sns\n",
    "sns.set()\n",
    "\n",
    "from sklearn.preprocessing import StandardScaler\n",
    "\n",
    "from statsmodels.graphics.tsaplots import plot_acf\n",
    "from statsmodels.graphics.tsaplots import plot_pacf\n",
    "\n",
    "from sktime.forecasting.all import ForecastingHorizon\n",
    "from sktime.forecasting.all import ExponentialSmoothing\n",
    "from sktime.performance_metrics.forecasting import mean_absolute_percentage_error\n",
    "\n",
    "import warnings\n",
    "warnings.filterwarnings('ignore')"
   ]
  },
  {
   "cell_type": "markdown",
   "id": "09b8cb4e",
   "metadata": {},
   "source": [
    "## 1. 10 pts - Exploratory Data Analysis\n",
    "\n",
    "### 1.A 5 pts Merge the data sets together, should have 735 rows of data"
   ]
  },
  {
   "cell_type": "code",
   "execution_count": 183,
   "id": "45f1aaba",
   "metadata": {},
   "outputs": [],
   "source": [
    "df_co2 = pd.read_csv('hw5_data_co2.csv', parse_dates = ['ds'])\n",
    "df_temp = pd.read_csv('hw5_data_temp.csv', parse_dates = ['ds'])"
   ]
  },
  {
   "cell_type": "code",
   "execution_count": 175,
   "id": "102b5f0b",
   "metadata": {},
   "outputs": [
    {
     "name": "stdout",
     "output_type": "stream",
     "text": [
      "ds     0\n",
      "co2    0\n",
      "dtype: int64\n",
      "ds      0\n",
      "temp    0\n",
      "dtype: int64\n",
      "(735, 2)\n",
      "(1674, 2)\n"
     ]
    }
   ],
   "source": [
    "print(df_co2.isnull().sum())\n",
    "print(df_temp.isnull().sum())\n",
    "\n",
    "print(df_co2.shape)\n",
    "print(df_temp.shape)"
   ]
  },
  {
   "cell_type": "code",
   "execution_count": 184,
   "id": "f92f6ddb",
   "metadata": {},
   "outputs": [
    {
     "data": {
      "text/html": [
       "<div>\n",
       "<style scoped>\n",
       "    .dataframe tbody tr th:only-of-type {\n",
       "        vertical-align: middle;\n",
       "    }\n",
       "\n",
       "    .dataframe tbody tr th {\n",
       "        vertical-align: top;\n",
       "    }\n",
       "\n",
       "    .dataframe thead th {\n",
       "        text-align: right;\n",
       "    }\n",
       "</style>\n",
       "<table border=\"1\" class=\"dataframe\">\n",
       "  <thead>\n",
       "    <tr style=\"text-align: right;\">\n",
       "      <th></th>\n",
       "      <th>ds</th>\n",
       "      <th>temp</th>\n",
       "    </tr>\n",
       "  </thead>\n",
       "  <tbody>\n",
       "    <tr>\n",
       "      <th>0</th>\n",
       "      <td>1880-01-01</td>\n",
       "      <td>56.40</td>\n",
       "    </tr>\n",
       "    <tr>\n",
       "      <th>1</th>\n",
       "      <td>1880-02-01</td>\n",
       "      <td>56.82</td>\n",
       "    </tr>\n",
       "    <tr>\n",
       "      <th>2</th>\n",
       "      <td>1880-03-01</td>\n",
       "      <td>56.74</td>\n",
       "    </tr>\n",
       "    <tr>\n",
       "      <th>3</th>\n",
       "      <td>1880-04-01</td>\n",
       "      <td>56.55</td>\n",
       "    </tr>\n",
       "    <tr>\n",
       "      <th>4</th>\n",
       "      <td>1880-05-01</td>\n",
       "      <td>56.85</td>\n",
       "    </tr>\n",
       "    <tr>\n",
       "      <th>...</th>\n",
       "      <td>...</td>\n",
       "      <td>...</td>\n",
       "    </tr>\n",
       "    <tr>\n",
       "      <th>1669</th>\n",
       "      <td>2019-02-01</td>\n",
       "      <td>58.37</td>\n",
       "    </tr>\n",
       "    <tr>\n",
       "      <th>1670</th>\n",
       "      <td>2019-03-01</td>\n",
       "      <td>58.59</td>\n",
       "    </tr>\n",
       "    <tr>\n",
       "      <th>1671</th>\n",
       "      <td>2019-04-01</td>\n",
       "      <td>58.50</td>\n",
       "    </tr>\n",
       "    <tr>\n",
       "      <th>1672</th>\n",
       "      <td>2019-05-01</td>\n",
       "      <td>58.50</td>\n",
       "    </tr>\n",
       "    <tr>\n",
       "      <th>1673</th>\n",
       "      <td>2019-06-01</td>\n",
       "      <td>58.50</td>\n",
       "    </tr>\n",
       "  </tbody>\n",
       "</table>\n",
       "<p>1674 rows × 2 columns</p>\n",
       "</div>"
      ],
      "text/plain": [
       "             ds   temp\n",
       "0    1880-01-01  56.40\n",
       "1    1880-02-01  56.82\n",
       "2    1880-03-01  56.74\n",
       "3    1880-04-01  56.55\n",
       "4    1880-05-01  56.85\n",
       "...         ...    ...\n",
       "1669 2019-02-01  58.37\n",
       "1670 2019-03-01  58.59\n",
       "1671 2019-04-01  58.50\n",
       "1672 2019-05-01  58.50\n",
       "1673 2019-06-01  58.50\n",
       "\n",
       "[1674 rows x 2 columns]"
      ]
     },
     "execution_count": 184,
     "metadata": {},
     "output_type": "execute_result"
    }
   ],
   "source": [
    "df_temp"
   ]
  },
  {
   "cell_type": "code",
   "execution_count": 185,
   "id": "32543f3d",
   "metadata": {},
   "outputs": [
    {
     "data": {
      "text/html": [
       "<div>\n",
       "<style scoped>\n",
       "    .dataframe tbody tr th:only-of-type {\n",
       "        vertical-align: middle;\n",
       "    }\n",
       "\n",
       "    .dataframe tbody tr th {\n",
       "        vertical-align: top;\n",
       "    }\n",
       "\n",
       "    .dataframe thead th {\n",
       "        text-align: right;\n",
       "    }\n",
       "</style>\n",
       "<table border=\"1\" class=\"dataframe\">\n",
       "  <thead>\n",
       "    <tr style=\"text-align: right;\">\n",
       "      <th></th>\n",
       "      <th>ds</th>\n",
       "      <th>co2</th>\n",
       "    </tr>\n",
       "  </thead>\n",
       "  <tbody>\n",
       "    <tr>\n",
       "      <th>0</th>\n",
       "      <td>1958-03-15</td>\n",
       "      <td>315.700</td>\n",
       "    </tr>\n",
       "    <tr>\n",
       "      <th>1</th>\n",
       "      <td>1958-04-15</td>\n",
       "      <td>317.450</td>\n",
       "    </tr>\n",
       "    <tr>\n",
       "      <th>2</th>\n",
       "      <td>1958-05-15</td>\n",
       "      <td>317.510</td>\n",
       "    </tr>\n",
       "    <tr>\n",
       "      <th>3</th>\n",
       "      <td>1958-06-15</td>\n",
       "      <td>316.685</td>\n",
       "    </tr>\n",
       "    <tr>\n",
       "      <th>4</th>\n",
       "      <td>1958-07-15</td>\n",
       "      <td>315.860</td>\n",
       "    </tr>\n",
       "    <tr>\n",
       "      <th>...</th>\n",
       "      <td>...</td>\n",
       "      <td>...</td>\n",
       "    </tr>\n",
       "    <tr>\n",
       "      <th>730</th>\n",
       "      <td>2019-01-15</td>\n",
       "      <td>410.920</td>\n",
       "    </tr>\n",
       "    <tr>\n",
       "      <th>731</th>\n",
       "      <td>2019-02-15</td>\n",
       "      <td>411.660</td>\n",
       "    </tr>\n",
       "    <tr>\n",
       "      <th>732</th>\n",
       "      <td>2019-03-15</td>\n",
       "      <td>412.000</td>\n",
       "    </tr>\n",
       "    <tr>\n",
       "      <th>733</th>\n",
       "      <td>2019-04-15</td>\n",
       "      <td>413.510</td>\n",
       "    </tr>\n",
       "    <tr>\n",
       "      <th>734</th>\n",
       "      <td>2019-05-15</td>\n",
       "      <td>414.830</td>\n",
       "    </tr>\n",
       "  </tbody>\n",
       "</table>\n",
       "<p>735 rows × 2 columns</p>\n",
       "</div>"
      ],
      "text/plain": [
       "            ds      co2\n",
       "0   1958-03-15  315.700\n",
       "1   1958-04-15  317.450\n",
       "2   1958-05-15  317.510\n",
       "3   1958-06-15  316.685\n",
       "4   1958-07-15  315.860\n",
       "..         ...      ...\n",
       "730 2019-01-15  410.920\n",
       "731 2019-02-15  411.660\n",
       "732 2019-03-15  412.000\n",
       "733 2019-04-15  413.510\n",
       "734 2019-05-15  414.830\n",
       "\n",
       "[735 rows x 2 columns]"
      ]
     },
     "execution_count": 185,
     "metadata": {},
     "output_type": "execute_result"
    }
   ],
   "source": [
    "df_co2"
   ]
  },
  {
   "cell_type": "code",
   "execution_count": 186,
   "id": "9cb049f0",
   "metadata": {},
   "outputs": [],
   "source": [
    "from datetime import datetime, timedelta\n",
    "df_co2['ds'] = df_co2['ds'] - timedelta(days=14)"
   ]
  },
  {
   "cell_type": "code",
   "execution_count": null,
   "id": "68d20a10",
   "metadata": {},
   "outputs": [],
   "source": [
    "df = pd.merge(df_co2, df_temp, how = \"inner\", on =  "
   ]
  }
 ],
 "metadata": {
  "kernelspec": {
   "display_name": "Python 3",
   "language": "python",
   "name": "python3"
  },
  "language_info": {
   "codemirror_mode": {
    "name": "ipython",
    "version": 3
   },
   "file_extension": ".py",
   "mimetype": "text/x-python",
   "name": "python",
   "nbconvert_exporter": "python",
   "pygments_lexer": "ipython3",
   "version": "3.8.8"
  }
 },
 "nbformat": 4,
 "nbformat_minor": 5
}
