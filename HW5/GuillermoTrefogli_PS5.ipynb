{
 "cells": [
  {
   "cell_type": "markdown",
   "id": "9368d02a",
   "metadata": {
    "id": "9368d02a"
   },
   "source": [
    "# Problem Set - Week 5\n",
    "## Guillermo Trefogli"
   ]
  },
  {
   "cell_type": "code",
   "execution_count": 1,
   "id": "j7rNd7idkVTB",
   "metadata": {
    "colab": {
     "base_uri": "https://localhost:8080/"
    },
    "id": "j7rNd7idkVTB",
    "outputId": "771920d4-e132-4af3-aa32-04d3d74bc5dd"
   },
   "outputs": [
    {
     "name": "stdout",
     "output_type": "stream",
     "text": [
      "Requirement already satisfied: sktime in c:\\users\\guill\\anaconda3\\lib\\site-packages (0.11.2)\n",
      "Requirement already satisfied: pandas<1.5.0,>=1.1.0 in c:\\users\\guill\\anaconda3\\lib\\site-packages (from sktime) (1.4.2)\n",
      "Requirement already satisfied: deprecated>=1.2.13 in c:\\users\\guill\\anaconda3\\lib\\site-packages (from sktime) (1.2.13)\n",
      "Requirement already satisfied: statsmodels>=0.12.1 in c:\\users\\guill\\anaconda3\\lib\\site-packages (from sktime) (0.12.2)\n",
      "Requirement already satisfied: scipy<1.8.0 in c:\\users\\guill\\anaconda3\\lib\\site-packages (from sktime) (1.6.2)\n",
      "Requirement already satisfied: numba>=0.53 in c:\\users\\guill\\anaconda3\\lib\\site-packages (from sktime) (0.53.1)\n",
      "Requirement already satisfied: numpy<1.22,>=1.21.0 in c:\\users\\guill\\anaconda3\\lib\\site-packages (from sktime) (1.21.6)\n",
      "Requirement already satisfied: scikit-learn>=0.24.0 in c:\\users\\guill\\anaconda3\\lib\\site-packages (from sktime) (0.24.1)\n",
      "Requirement already satisfied: wrapt<2,>=1.10 in c:\\users\\guill\\anaconda3\\lib\\site-packages (from deprecated>=1.2.13->sktime) (1.12.1)\n",
      "Requirement already satisfied: setuptools in c:\\users\\guill\\anaconda3\\lib\\site-packages (from numba>=0.53->sktime) (52.0.0.post20210125)\n",
      "Requirement already satisfied: llvmlite<0.37,>=0.36.0rc1 in c:\\users\\guill\\anaconda3\\lib\\site-packages (from numba>=0.53->sktime) (0.36.0)\n",
      "Requirement already satisfied: python-dateutil>=2.8.1 in c:\\users\\guill\\anaconda3\\lib\\site-packages (from pandas<1.5.0,>=1.1.0->sktime) (2.8.1)\n",
      "Requirement already satisfied: pytz>=2020.1 in c:\\users\\guill\\anaconda3\\lib\\site-packages (from pandas<1.5.0,>=1.1.0->sktime) (2021.1)\n",
      "Requirement already satisfied: six>=1.5 in c:\\users\\guill\\anaconda3\\lib\\site-packages (from python-dateutil>=2.8.1->pandas<1.5.0,>=1.1.0->sktime) (1.15.0)\n",
      "Requirement already satisfied: threadpoolctl>=2.0.0 in c:\\users\\guill\\anaconda3\\lib\\site-packages (from scikit-learn>=0.24.0->sktime) (2.1.0)\n",
      "Requirement already satisfied: joblib>=0.11 in c:\\users\\guill\\anaconda3\\lib\\site-packages (from scikit-learn>=0.24.0->sktime) (1.0.1)\n",
      "Requirement already satisfied: patsy>=0.5 in c:\\users\\guill\\anaconda3\\lib\\site-packages (from statsmodels>=0.12.1->sktime) (0.5.1)\n"
     ]
    },
    {
     "name": "stderr",
     "output_type": "stream",
     "text": [
      "WARNING: Ignoring invalid distribution -atplotlib (c:\\users\\guill\\anaconda3\\lib\\site-packages)\n",
      "WARNING: Ignoring invalid distribution -atplotlib (c:\\users\\guill\\anaconda3\\lib\\site-packages)\n",
      "WARNING: Ignoring invalid distribution -atplotlib (c:\\users\\guill\\anaconda3\\lib\\site-packages)\n",
      "WARNING: Ignoring invalid distribution -atplotlib (c:\\users\\guill\\anaconda3\\lib\\site-packages)\n",
      "WARNING: Ignoring invalid distribution -atplotlib (c:\\users\\guill\\anaconda3\\lib\\site-packages)\n",
      "WARNING: Ignoring invalid distribution -atplotlib (c:\\users\\guill\\anaconda3\\lib\\site-packages)\n",
      "WARNING: You are using pip version 22.0.4; however, version 22.1 is available.\n",
      "You should consider upgrading via the 'C:\\Users\\guill\\anaconda3\\python.exe -m pip install --upgrade pip' command.\n"
     ]
    },
    {
     "name": "stdout",
     "output_type": "stream",
     "text": [
      "Requirement already satisfied: pmdarima in c:\\users\\guill\\anaconda3\\lib\\site-packages (1.8.5)\n",
      "Requirement already satisfied: statsmodels!=0.12.0,>=0.11 in c:\\users\\guill\\anaconda3\\lib\\site-packages (from pmdarima) (0.12.2)\n",
      "Requirement already satisfied: setuptools!=50.0.0,>=38.6.0 in c:\\users\\guill\\anaconda3\\lib\\site-packages (from pmdarima) (52.0.0.post20210125)\n",
      "Requirement already satisfied: pandas>=0.19 in c:\\users\\guill\\anaconda3\\lib\\site-packages (from pmdarima) (1.4.2)\n",
      "Requirement already satisfied: joblib>=0.11 in c:\\users\\guill\\anaconda3\\lib\\site-packages (from pmdarima) (1.0.1)\n",
      "Requirement already satisfied: numpy>=1.19.3 in c:\\users\\guill\\anaconda3\\lib\\site-packages (from pmdarima) (1.21.6)\n",
      "Requirement already satisfied: scipy>=1.3.2 in c:\\users\\guill\\anaconda3\\lib\\site-packages (from pmdarima) (1.6.2)\n",
      "Requirement already satisfied: urllib3 in c:\\users\\guill\\anaconda3\\lib\\site-packages (from pmdarima) (1.26.4)\n",
      "Requirement already satisfied: Cython!=0.29.18,>=0.29 in c:\\users\\guill\\anaconda3\\lib\\site-packages (from pmdarima) (0.29.23)\n",
      "Requirement already satisfied: scikit-learn>=0.22 in c:\\users\\guill\\anaconda3\\lib\\site-packages (from pmdarima) (0.24.1)\n",
      "Requirement already satisfied: pytz>=2020.1 in c:\\users\\guill\\anaconda3\\lib\\site-packages (from pandas>=0.19->pmdarima) (2021.1)\n",
      "Requirement already satisfied: python-dateutil>=2.8.1 in c:\\users\\guill\\anaconda3\\lib\\site-packages (from pandas>=0.19->pmdarima) (2.8.1)\n",
      "Requirement already satisfied: six>=1.5 in c:\\users\\guill\\anaconda3\\lib\\site-packages (from python-dateutil>=2.8.1->pandas>=0.19->pmdarima) (1.15.0)\n",
      "Requirement already satisfied: threadpoolctl>=2.0.0 in c:\\users\\guill\\anaconda3\\lib\\site-packages (from scikit-learn>=0.22->pmdarima) (2.1.0)\n",
      "Requirement already satisfied: patsy>=0.5 in c:\\users\\guill\\anaconda3\\lib\\site-packages (from statsmodels!=0.12.0,>=0.11->pmdarima) (0.5.1)\n"
     ]
    },
    {
     "name": "stderr",
     "output_type": "stream",
     "text": [
      "WARNING: Ignoring invalid distribution -atplotlib (c:\\users\\guill\\anaconda3\\lib\\site-packages)\n",
      "WARNING: Ignoring invalid distribution -atplotlib (c:\\users\\guill\\anaconda3\\lib\\site-packages)\n",
      "WARNING: Ignoring invalid distribution -atplotlib (c:\\users\\guill\\anaconda3\\lib\\site-packages)\n",
      "WARNING: Ignoring invalid distribution -atplotlib (c:\\users\\guill\\anaconda3\\lib\\site-packages)\n",
      "WARNING: Ignoring invalid distribution -atplotlib (c:\\users\\guill\\anaconda3\\lib\\site-packages)\n",
      "WARNING: Ignoring invalid distribution -atplotlib (c:\\users\\guill\\anaconda3\\lib\\site-packages)\n",
      "WARNING: You are using pip version 22.0.4; however, version 22.1 is available.\n",
      "You should consider upgrading via the 'C:\\Users\\guill\\anaconda3\\python.exe -m pip install --upgrade pip' command.\n"
     ]
    }
   ],
   "source": [
    "! pip install sktime\n",
    "! pip install pmdarima"
   ]
  },
  {
   "cell_type": "code",
   "execution_count": 2,
   "id": "72c6e499",
   "metadata": {
    "colab": {
     "base_uri": "https://localhost:8080/"
    },
    "id": "72c6e499",
    "outputId": "f8192983-d978-4c49-b4d0-eb7e891e2bf1"
   },
   "outputs": [
    {
     "name": "stderr",
     "output_type": "stream",
     "text": [
      "C:\\Users\\guill\\anaconda3\\lib\\site-packages\\statsmodels\\tsa\\base\\tsa_model.py:7: FutureWarning: pandas.Int64Index is deprecated and will be removed from pandas in a future version. Use pandas.Index with the appropriate dtype instead.\n",
      "  from pandas import (to_datetime, Int64Index, DatetimeIndex, Period,\n",
      "C:\\Users\\guill\\anaconda3\\lib\\site-packages\\statsmodels\\tsa\\base\\tsa_model.py:7: FutureWarning: pandas.Float64Index is deprecated and will be removed from pandas in a future version. Use pandas.Index with the appropriate dtype instead.\n",
      "  from pandas import (to_datetime, Int64Index, DatetimeIndex, Period,\n",
      "C:\\Users\\guill\\anaconda3\\lib\\site-packages\\sktime\\utils\\validation\\_dependencies.py:64: UserWarning: No module named 'prophet'. 'prophet' is a soft dependency and not included in the sktime installation. Please run: `pip install prophet` to install the prophet package. To install all soft dependencies, run: `pip install sktime[all_extras]`\n",
      "  warnings.warn(msg)\n"
     ]
    }
   ],
   "source": [
    "from scipy import stats\n",
    "import numpy as np\n",
    "import matplotlib.pyplot as plt\n",
    "import statsmodels.api as sm\n",
    "import pandas as pd\n",
    "import seaborn as sns\n",
    "sns.set()\n",
    "\n",
    "from sklearn.preprocessing import StandardScaler\n",
    "\n",
    "from statsmodels.graphics.tsaplots import plot_acf\n",
    "from statsmodels.graphics.tsaplots import plot_pacf\n",
    "\n",
    "from sktime.forecasting.all import ForecastingHorizon\n",
    "from sktime.forecasting.all import ExponentialSmoothing\n",
    "from sktime.performance_metrics.forecasting import mean_absolute_percentage_error\n",
    "\n",
    "import warnings\n",
    "warnings.filterwarnings('ignore')"
   ]
  },
  {
   "cell_type": "markdown",
   "id": "09b8cb4e",
   "metadata": {
    "id": "09b8cb4e"
   },
   "source": [
    "## 1. EDA\n",
    "\n",
    "### 1.A "
   ]
  },
  {
   "cell_type": "code",
   "execution_count": 3,
   "id": "45f1aaba",
   "metadata": {
    "id": "45f1aaba"
   },
   "outputs": [],
   "source": [
    "df_co2 = pd.read_csv('hw5_data_co2.csv', parse_dates = ['ds'])\n",
    "df_temp = pd.read_csv('hw5_data_temp.csv', parse_dates = ['ds'])"
   ]
  },
  {
   "cell_type": "code",
   "execution_count": 4,
   "id": "102b5f0b",
   "metadata": {
    "colab": {
     "base_uri": "https://localhost:8080/"
    },
    "id": "102b5f0b",
    "outputId": "216c4f04-fd89-4686-99a3-11ac5d8f7bea"
   },
   "outputs": [
    {
     "name": "stdout",
     "output_type": "stream",
     "text": [
      "ds     0\n",
      "co2    0\n",
      "dtype: int64\n",
      "ds      0\n",
      "temp    0\n",
      "dtype: int64\n",
      "(735, 2)\n",
      "(1674, 2)\n"
     ]
    }
   ],
   "source": [
    "print(df_co2.isnull().sum())\n",
    "print(df_temp.isnull().sum())\n",
    "\n",
    "print(df_co2.shape)\n",
    "print(df_temp.shape)"
   ]
  },
  {
   "cell_type": "code",
   "execution_count": 5,
   "id": "9cb049f0",
   "metadata": {
    "colab": {
     "base_uri": "https://localhost:8080/",
     "height": 419
    },
    "id": "9cb049f0",
    "outputId": "3e43eab7-3045-48b4-eaf2-bd4812bf2f02"
   },
   "outputs": [
    {
     "data": {
      "text/html": [
       "<div>\n",
       "<style scoped>\n",
       "    .dataframe tbody tr th:only-of-type {\n",
       "        vertical-align: middle;\n",
       "    }\n",
       "\n",
       "    .dataframe tbody tr th {\n",
       "        vertical-align: top;\n",
       "    }\n",
       "\n",
       "    .dataframe thead th {\n",
       "        text-align: right;\n",
       "    }\n",
       "</style>\n",
       "<table border=\"1\" class=\"dataframe\">\n",
       "  <thead>\n",
       "    <tr style=\"text-align: right;\">\n",
       "      <th></th>\n",
       "      <th>ds</th>\n",
       "      <th>co2</th>\n",
       "      <th>temp</th>\n",
       "    </tr>\n",
       "  </thead>\n",
       "  <tbody>\n",
       "    <tr>\n",
       "      <th>0</th>\n",
       "      <td>1958-03-01</td>\n",
       "      <td>315.700</td>\n",
       "      <td>57.38</td>\n",
       "    </tr>\n",
       "    <tr>\n",
       "      <th>1</th>\n",
       "      <td>1958-04-01</td>\n",
       "      <td>317.450</td>\n",
       "      <td>57.29</td>\n",
       "    </tr>\n",
       "    <tr>\n",
       "      <th>2</th>\n",
       "      <td>1958-05-01</td>\n",
       "      <td>317.510</td>\n",
       "      <td>57.32</td>\n",
       "    </tr>\n",
       "    <tr>\n",
       "      <th>3</th>\n",
       "      <td>1958-06-01</td>\n",
       "      <td>316.685</td>\n",
       "      <td>57.02</td>\n",
       "    </tr>\n",
       "    <tr>\n",
       "      <th>4</th>\n",
       "      <td>1958-07-01</td>\n",
       "      <td>315.860</td>\n",
       "      <td>57.27</td>\n",
       "    </tr>\n",
       "    <tr>\n",
       "      <th>...</th>\n",
       "      <td>...</td>\n",
       "      <td>...</td>\n",
       "      <td>...</td>\n",
       "    </tr>\n",
       "    <tr>\n",
       "      <th>730</th>\n",
       "      <td>2019-01-01</td>\n",
       "      <td>410.920</td>\n",
       "      <td>58.29</td>\n",
       "    </tr>\n",
       "    <tr>\n",
       "      <th>731</th>\n",
       "      <td>2019-02-01</td>\n",
       "      <td>411.660</td>\n",
       "      <td>58.37</td>\n",
       "    </tr>\n",
       "    <tr>\n",
       "      <th>732</th>\n",
       "      <td>2019-03-01</td>\n",
       "      <td>412.000</td>\n",
       "      <td>58.59</td>\n",
       "    </tr>\n",
       "    <tr>\n",
       "      <th>733</th>\n",
       "      <td>2019-04-01</td>\n",
       "      <td>413.510</td>\n",
       "      <td>58.50</td>\n",
       "    </tr>\n",
       "    <tr>\n",
       "      <th>734</th>\n",
       "      <td>2019-05-01</td>\n",
       "      <td>414.830</td>\n",
       "      <td>58.50</td>\n",
       "    </tr>\n",
       "  </tbody>\n",
       "</table>\n",
       "<p>735 rows × 3 columns</p>\n",
       "</div>"
      ],
      "text/plain": [
       "            ds      co2   temp\n",
       "0   1958-03-01  315.700  57.38\n",
       "1   1958-04-01  317.450  57.29\n",
       "2   1958-05-01  317.510  57.32\n",
       "3   1958-06-01  316.685  57.02\n",
       "4   1958-07-01  315.860  57.27\n",
       "..         ...      ...    ...\n",
       "730 2019-01-01  410.920  58.29\n",
       "731 2019-02-01  411.660  58.37\n",
       "732 2019-03-01  412.000  58.59\n",
       "733 2019-04-01  413.510  58.50\n",
       "734 2019-05-01  414.830  58.50\n",
       "\n",
       "[735 rows x 3 columns]"
      ]
     },
     "execution_count": 5,
     "metadata": {},
     "output_type": "execute_result"
    }
   ],
   "source": [
    "from datetime import datetime, timedelta\n",
    "df_co2['ds'] = df_co2['ds'] - timedelta(days=14)\n",
    "df = pd.merge(df_co2, df_temp, how = \"inner\", on = \"ds\")\n",
    "df"
   ]
  },
  {
   "cell_type": "markdown",
   "id": "f63450e4",
   "metadata": {
    "id": "f63450e4"
   },
   "source": [
    "### 1.B. \n",
    "- One dataset provides information for temperature, the other for CO2.\n",
    "- There are no missing values in the dataset.\n",
    "- Both variables are similar in terms of time series pattern: increasing trend over time.\n",
    "- ACF plot shows autocorrelation in time for temperature"
   ]
  },
  {
   "cell_type": "code",
   "execution_count": 6,
   "id": "3598d10e",
   "metadata": {
    "colab": {
     "base_uri": "https://localhost:8080/",
     "height": 450
    },
    "id": "3598d10e",
    "outputId": "bcca0b26-27b7-44f9-ca31-4acbd31e5434"
   },
   "outputs": [
    {
     "data": {
      "text/html": [
       "<div>\n",
       "<style scoped>\n",
       "    .dataframe tbody tr th:only-of-type {\n",
       "        vertical-align: middle;\n",
       "    }\n",
       "\n",
       "    .dataframe tbody tr th {\n",
       "        vertical-align: top;\n",
       "    }\n",
       "\n",
       "    .dataframe thead th {\n",
       "        text-align: right;\n",
       "    }\n",
       "</style>\n",
       "<table border=\"1\" class=\"dataframe\">\n",
       "  <thead>\n",
       "    <tr style=\"text-align: right;\">\n",
       "      <th></th>\n",
       "      <th>co2</th>\n",
       "      <th>temp</th>\n",
       "    </tr>\n",
       "    <tr>\n",
       "      <th>ds</th>\n",
       "      <th></th>\n",
       "      <th></th>\n",
       "    </tr>\n",
       "  </thead>\n",
       "  <tbody>\n",
       "    <tr>\n",
       "      <th>1958-03-01</th>\n",
       "      <td>315.700</td>\n",
       "      <td>57.38</td>\n",
       "    </tr>\n",
       "    <tr>\n",
       "      <th>1958-04-01</th>\n",
       "      <td>317.450</td>\n",
       "      <td>57.29</td>\n",
       "    </tr>\n",
       "    <tr>\n",
       "      <th>1958-05-01</th>\n",
       "      <td>317.510</td>\n",
       "      <td>57.32</td>\n",
       "    </tr>\n",
       "    <tr>\n",
       "      <th>1958-06-01</th>\n",
       "      <td>316.685</td>\n",
       "      <td>57.02</td>\n",
       "    </tr>\n",
       "    <tr>\n",
       "      <th>1958-07-01</th>\n",
       "      <td>315.860</td>\n",
       "      <td>57.27</td>\n",
       "    </tr>\n",
       "    <tr>\n",
       "      <th>...</th>\n",
       "      <td>...</td>\n",
       "      <td>...</td>\n",
       "    </tr>\n",
       "    <tr>\n",
       "      <th>2019-01-01</th>\n",
       "      <td>410.920</td>\n",
       "      <td>58.29</td>\n",
       "    </tr>\n",
       "    <tr>\n",
       "      <th>2019-02-01</th>\n",
       "      <td>411.660</td>\n",
       "      <td>58.37</td>\n",
       "    </tr>\n",
       "    <tr>\n",
       "      <th>2019-03-01</th>\n",
       "      <td>412.000</td>\n",
       "      <td>58.59</td>\n",
       "    </tr>\n",
       "    <tr>\n",
       "      <th>2019-04-01</th>\n",
       "      <td>413.510</td>\n",
       "      <td>58.50</td>\n",
       "    </tr>\n",
       "    <tr>\n",
       "      <th>2019-05-01</th>\n",
       "      <td>414.830</td>\n",
       "      <td>58.50</td>\n",
       "    </tr>\n",
       "  </tbody>\n",
       "</table>\n",
       "<p>735 rows × 2 columns</p>\n",
       "</div>"
      ],
      "text/plain": [
       "                co2   temp\n",
       "ds                        \n",
       "1958-03-01  315.700  57.38\n",
       "1958-04-01  317.450  57.29\n",
       "1958-05-01  317.510  57.32\n",
       "1958-06-01  316.685  57.02\n",
       "1958-07-01  315.860  57.27\n",
       "...             ...    ...\n",
       "2019-01-01  410.920  58.29\n",
       "2019-02-01  411.660  58.37\n",
       "2019-03-01  412.000  58.59\n",
       "2019-04-01  413.510  58.50\n",
       "2019-05-01  414.830  58.50\n",
       "\n",
       "[735 rows x 2 columns]"
      ]
     },
     "execution_count": 6,
     "metadata": {},
     "output_type": "execute_result"
    }
   ],
   "source": [
    "df.set_index('ds', inplace = True)\n",
    "df"
   ]
  },
  {
   "cell_type": "code",
   "execution_count": 7,
   "id": "13dc299c",
   "metadata": {
    "colab": {
     "base_uri": "https://localhost:8080/",
     "height": 111
    },
    "id": "13dc299c",
    "outputId": "d16d4a93-8fff-44c2-89b1-aed796a819d7"
   },
   "outputs": [
    {
     "data": {
      "text/html": [
       "<div>\n",
       "<style scoped>\n",
       "    .dataframe tbody tr th:only-of-type {\n",
       "        vertical-align: middle;\n",
       "    }\n",
       "\n",
       "    .dataframe tbody tr th {\n",
       "        vertical-align: top;\n",
       "    }\n",
       "\n",
       "    .dataframe thead th {\n",
       "        text-align: right;\n",
       "    }\n",
       "</style>\n",
       "<table border=\"1\" class=\"dataframe\">\n",
       "  <thead>\n",
       "    <tr style=\"text-align: right;\">\n",
       "      <th></th>\n",
       "      <th>count</th>\n",
       "      <th>mean</th>\n",
       "      <th>std</th>\n",
       "      <th>min</th>\n",
       "      <th>25%</th>\n",
       "      <th>50%</th>\n",
       "      <th>75%</th>\n",
       "      <th>max</th>\n",
       "    </tr>\n",
       "  </thead>\n",
       "  <tbody>\n",
       "    <tr>\n",
       "      <th>co2</th>\n",
       "      <td>735.0</td>\n",
       "      <td>354.210673</td>\n",
       "      <td>27.922811</td>\n",
       "      <td>313.20</td>\n",
       "      <td>328.785</td>\n",
       "      <td>351.34</td>\n",
       "      <td>376.515</td>\n",
       "      <td>414.83</td>\n",
       "    </tr>\n",
       "    <tr>\n",
       "      <th>temp</th>\n",
       "      <td>735.0</td>\n",
       "      <td>57.603293</td>\n",
       "      <td>0.397159</td>\n",
       "      <td>56.73</td>\n",
       "      <td>57.280</td>\n",
       "      <td>57.59</td>\n",
       "      <td>57.915</td>\n",
       "      <td>58.84</td>\n",
       "    </tr>\n",
       "  </tbody>\n",
       "</table>\n",
       "</div>"
      ],
      "text/plain": [
       "      count        mean        std     min      25%     50%      75%     max\n",
       "co2   735.0  354.210673  27.922811  313.20  328.785  351.34  376.515  414.83\n",
       "temp  735.0   57.603293   0.397159   56.73   57.280   57.59   57.915   58.84"
      ]
     },
     "execution_count": 7,
     "metadata": {},
     "output_type": "execute_result"
    }
   ],
   "source": [
    "df.describe().T"
   ]
  },
  {
   "cell_type": "code",
   "execution_count": 8,
   "id": "99c73cb6",
   "metadata": {
    "colab": {
     "base_uri": "https://localhost:8080/",
     "height": 587
    },
    "id": "99c73cb6",
    "outputId": "f4784051-c6d1-499e-f406-365ab0323d87"
   },
   "outputs": [
    {
     "name": "stdout",
     "output_type": "stream",
     "text": [
      "AxesSubplot(0.125,0.125;0.775x0.755)\n",
      "AxesSubplot(0.125,0.125;0.775x0.755)\n"
     ]
    },
    {
     "data": {
      "image/png": "[encoded data removed]",
      "text/plain": [
       "<Figure size 432x288 with 1 Axes>"
      ]
     },
     "metadata": {},
     "output_type": "display_data"
    },
    {
     "data": {
      "image/png": "[encoded data removed]",
      "text/plain": [
       "<Figure size 432x288 with 1 Axes>"
      ]
     },
     "metadata": {},
     "output_type": "display_data"
    }
   ],
   "source": [
    "print(df[['co2']].plot())\n",
    "print(df[['temp']].plot())"
   ]
  },
  {
   "cell_type": "code",
   "execution_count": 9,
   "id": "45cac0a8",
   "metadata": {
    "colab": {
     "base_uri": "https://localhost:8080/",
     "height": 111
    },
    "id": "45cac0a8",
    "outputId": "84a579af-241b-4227-c8c9-a204ccad658f"
   },
   "outputs": [
    {
     "data": {
      "text/html": [
       "<div>\n",
       "<style scoped>\n",
       "    .dataframe tbody tr th:only-of-type {\n",
       "        vertical-align: middle;\n",
       "    }\n",
       "\n",
       "    .dataframe tbody tr th {\n",
       "        vertical-align: top;\n",
       "    }\n",
       "\n",
       "    .dataframe thead th {\n",
       "        text-align: right;\n",
       "    }\n",
       "</style>\n",
       "<table border=\"1\" class=\"dataframe\">\n",
       "  <thead>\n",
       "    <tr style=\"text-align: right;\">\n",
       "      <th></th>\n",
       "      <th>co2</th>\n",
       "      <th>temp</th>\n",
       "    </tr>\n",
       "  </thead>\n",
       "  <tbody>\n",
       "    <tr>\n",
       "      <th>co2</th>\n",
       "      <td>1.000000</td>\n",
       "      <td>0.898635</td>\n",
       "    </tr>\n",
       "    <tr>\n",
       "      <th>temp</th>\n",
       "      <td>0.898635</td>\n",
       "      <td>1.000000</td>\n",
       "    </tr>\n",
       "  </tbody>\n",
       "</table>\n",
       "</div>"
      ],
      "text/plain": [
       "           co2      temp\n",
       "co2   1.000000  0.898635\n",
       "temp  0.898635  1.000000"
      ]
     },
     "execution_count": 9,
     "metadata": {},
     "output_type": "execute_result"
    }
   ],
   "source": [
    "df.corr()"
   ]
  },
  {
   "cell_type": "code",
   "execution_count": 10,
   "id": "ad499ed9",
   "metadata": {
    "colab": {
     "base_uri": "https://localhost:8080/",
     "height": 284
    },
    "id": "ad499ed9",
    "outputId": "aba7745b-e5ff-49b6-867e-f5298ae4b81f"
   },
   "outputs": [
    {
     "data": {
      "image/png": "[encoded data removed]",
      "text/plain": [
       "<Figure size 432x288 with 1 Axes>"
      ]
     },
     "metadata": {},
     "output_type": "display_data"
    }
   ],
   "source": [
    "p = plot_acf(df['temp'], lags=60, title='Temperature Autocorrelation Plot')"
   ]
  },
  {
   "cell_type": "markdown",
   "id": "b513189b",
   "metadata": {
    "id": "b513189b"
   },
   "source": [
    "## Part 2. ARIMA with external regressors\n",
    "\n",
    "### 2.A. \n",
    "- Our variable of interest CO2 initially shows no stationarity:\n",
    "\n",
    "    - **ADF test** is showing that **non-stationarity can be rejected**. The p-value in the test is lower than 0.05, which means that the null hypothesis of non-stationarity can be rejected.\n",
    "    - **KPSS test** is showing that **stationarity in the time series can be rejected**. The p-value is smaller than 0.05, which means that the null hypothesis of stationarity in the time series can be rejected.\n",
    "\n",
    "- Based on ACF and PACF, we can differentiate it to make the time series stational:\n",
    "\n",
    "    - **ADF test** is showing that **non-stationarity can be rejected**. The p-value in the test is lower than 0.05, which means that the null hypothesis of non-stationarity can be rejected.\n",
    "    - **KPSS test** is showing that **stationarity in the time series cannot be rejected**. The p-value is smaller than 0.05, which means that the null hypothesis of stationarity in the time series cannot be rejected.\n",
    "\n",
    "- See below plots and tests outputs."
   ]
  },
  {
   "cell_type": "code",
   "execution_count": 11,
   "id": "79dae6c6",
   "metadata": {
    "id": "79dae6c6"
   },
   "outputs": [],
   "source": [
    "from statsmodels.tsa.statespace import sarimax\n",
    "from statsmodels.tools.eval_measures import aicc\n",
    "from sktime.transformations.series import boxcox\n",
    "from sktime.forecasting.arima import ARIMA"
   ]
  },
  {
   "cell_type": "code",
   "execution_count": 12,
   "id": "152347f0",
   "metadata": {
    "colab": {
     "base_uri": "https://localhost:8080/",
     "height": 302
    },
    "id": "152347f0",
    "outputId": "98e46740-8286-400e-d856-27f013935e16"
   },
   "outputs": [
    {
     "data": {
      "text/plain": [
       "<AxesSubplot:xlabel='ds'>"
      ]
     },
     "execution_count": 12,
     "metadata": {},
     "output_type": "execute_result"
    },
    {
     "data": {
      "image/png": "[encoded data removed]",
      "text/plain": [
       "<Figure size 432x288 with 1 Axes>"
      ]
     },
     "metadata": {},
     "output_type": "display_data"
    }
   ],
   "source": [
    "ts_temp = df.groupby(pd.PeriodIndex(df.index, freq=\"M\"))['temp'].mean()\n",
    "ts_temp.plot()"
   ]
  },
  {
   "cell_type": "code",
   "execution_count": 13,
   "id": "dab2cf0c",
   "metadata": {
    "id": "dab2cf0c"
   },
   "outputs": [],
   "source": [
    "bctransformer = boxcox.BoxCoxTransformer()\n",
    "ts_transf = bctransformer.fit_transform(ts_temp)"
   ]
  },
  {
   "cell_type": "code",
   "execution_count": 14,
   "id": "e601bc7f",
   "metadata": {
    "id": "e601bc7f"
   },
   "outputs": [],
   "source": [
    "from sktime.forecasting.all import temporal_train_test_split\n",
    "y_train, y_test = temporal_train_test_split(ts_temp)"
   ]
  },
  {
   "cell_type": "code",
   "execution_count": 15,
   "id": "bd963b1f",
   "metadata": {
    "id": "bd963b1f"
   },
   "outputs": [],
   "source": [
    "from statsmodels.tsa.stattools import kpss, adfuller\n",
    "from statsmodels.graphics.tsaplots import plot_acf, plot_pacf\n",
    "from copy import deepcopy\n",
    "\n",
    "def adf_test(timeseries):\n",
    "    print ('Dickey-Fuller Test Result:')\n",
    "    dftest = adfuller(timeseries, autolag='AIC')\n",
    "    dfoutput = pd.Series(dftest[0:4], index=['Test Statistic','p-value','#Lags Used','Number of Observations Used'])\n",
    "    for key,value in dftest[4].items():\n",
    "       dfoutput['Critical Value (%s)'%key] = value\n",
    "    print (dfoutput)\n",
    "\n",
    "#define KPSS\n",
    "def kpss_test(timeseries, trend='c'):\n",
    "    print ('KPSS Test Result:')\n",
    "    kpsstest = kpss(timeseries, regression=trend)\n",
    "    kpss_output = pd.Series(kpsstest[0:3], index=['Test Statistic','p-value','Lags Used'])\n",
    "    for key,value in kpsstest[3].items():\n",
    "        kpss_output['Critical Value (%s)'%key] = value\n",
    "    print (kpss_output)"
   ]
  },
  {
   "cell_type": "code",
   "execution_count": 16,
   "id": "173ddbeb",
   "metadata": {
    "colab": {
     "base_uri": "https://localhost:8080/"
    },
    "id": "173ddbeb",
    "outputId": "2e4ce0cb-c78b-4461-a74a-5805242d91a0"
   },
   "outputs": [
    {
     "ename": "KeyError",
     "evalue": "'PCEPI'",
     "output_type": "error",
     "traceback": [
      "\u001b[1;31m---------------------------------------------------------------------------\u001b[0m",
      "\u001b[1;31mKeyError\u001b[0m                                  Traceback (most recent call last)",
      "\u001b[1;32m~\\anaconda3\\lib\\site-packages\\pandas\\core\\indexes\\base.py\u001b[0m in \u001b[0;36mget_loc\u001b[1;34m(self, key, method, tolerance)\u001b[0m\n\u001b[0;32m   3620\u001b[0m             \u001b[1;32mtry\u001b[0m\u001b[1;33m:\u001b[0m\u001b[1;33m\u001b[0m\u001b[1;33m\u001b[0m\u001b[0m\n\u001b[1;32m-> 3621\u001b[1;33m                 \u001b[1;32mreturn\u001b[0m \u001b[0mself\u001b[0m\u001b[1;33m.\u001b[0m\u001b[0m_engine\u001b[0m\u001b[1;33m.\u001b[0m\u001b[0mget_loc\u001b[0m\u001b[1;33m(\u001b[0m\u001b[0mcasted_key\u001b[0m\u001b[1;33m)\u001b[0m\u001b[1;33m\u001b[0m\u001b[1;33m\u001b[0m\u001b[0m\n\u001b[0m\u001b[0;32m   3622\u001b[0m             \u001b[1;32mexcept\u001b[0m \u001b[0mKeyError\u001b[0m \u001b[1;32mas\u001b[0m \u001b[0merr\u001b[0m\u001b[1;33m:\u001b[0m\u001b[1;33m\u001b[0m\u001b[1;33m\u001b[0m\u001b[0m\n",
      "\u001b[1;32m~\\anaconda3\\lib\\site-packages\\pandas\\_libs\\index.pyx\u001b[0m in \u001b[0;36mpandas._libs.index.IndexEngine.get_loc\u001b[1;34m()\u001b[0m\n",
      "\u001b[1;32m~\\anaconda3\\lib\\site-packages\\pandas\\_libs\\index.pyx\u001b[0m in \u001b[0;36mpandas._libs.index.IndexEngine.get_loc\u001b[1;34m()\u001b[0m\n",
      "\u001b[1;32mpandas\\_libs\\hashtable_class_helper.pxi\u001b[0m in \u001b[0;36mpandas._libs.hashtable.PyObjectHashTable.get_item\u001b[1;34m()\u001b[0m\n",
      "\u001b[1;32mpandas\\_libs\\hashtable_class_helper.pxi\u001b[0m in \u001b[0;36mpandas._libs.hashtable.PyObjectHashTable.get_item\u001b[1;34m()\u001b[0m\n",
      "\u001b[1;31mKeyError\u001b[0m: 'PCEPI'",
      "\nThe above exception was the direct cause of the following exception:\n",
      "\u001b[1;31mKeyError\u001b[0m                                  Traceback (most recent call last)",
      "\u001b[1;32m<ipython-input-16-11b98f9a14ab>\u001b[0m in \u001b[0;36m<module>\u001b[1;34m\u001b[0m\n\u001b[1;32m----> 1\u001b[1;33m \u001b[0madf_test\u001b[0m\u001b[1;33m(\u001b[0m\u001b[0mdf\u001b[0m\u001b[1;33m[\u001b[0m\u001b[1;34m'PCEPI'\u001b[0m\u001b[1;33m]\u001b[0m\u001b[1;33m)\u001b[0m\u001b[1;33m\u001b[0m\u001b[1;33m\u001b[0m\u001b[0m\n\u001b[0m",
      "\u001b[1;32m~\\anaconda3\\lib\\site-packages\\pandas\\core\\frame.py\u001b[0m in \u001b[0;36m__getitem__\u001b[1;34m(self, key)\u001b[0m\n\u001b[0;32m   3503\u001b[0m             \u001b[1;32mif\u001b[0m \u001b[0mself\u001b[0m\u001b[1;33m.\u001b[0m\u001b[0mcolumns\u001b[0m\u001b[1;33m.\u001b[0m\u001b[0mnlevels\u001b[0m \u001b[1;33m>\u001b[0m \u001b[1;36m1\u001b[0m\u001b[1;33m:\u001b[0m\u001b[1;33m\u001b[0m\u001b[1;33m\u001b[0m\u001b[0m\n\u001b[0;32m   3504\u001b[0m                 \u001b[1;32mreturn\u001b[0m \u001b[0mself\u001b[0m\u001b[1;33m.\u001b[0m\u001b[0m_getitem_multilevel\u001b[0m\u001b[1;33m(\u001b[0m\u001b[0mkey\u001b[0m\u001b[1;33m)\u001b[0m\u001b[1;33m\u001b[0m\u001b[1;33m\u001b[0m\u001b[0m\n\u001b[1;32m-> 3505\u001b[1;33m             \u001b[0mindexer\u001b[0m \u001b[1;33m=\u001b[0m \u001b[0mself\u001b[0m\u001b[1;33m.\u001b[0m\u001b[0mcolumns\u001b[0m\u001b[1;33m.\u001b[0m\u001b[0mget_loc\u001b[0m\u001b[1;33m(\u001b[0m\u001b[0mkey\u001b[0m\u001b[1;33m)\u001b[0m\u001b[1;33m\u001b[0m\u001b[1;33m\u001b[0m\u001b[0m\n\u001b[0m\u001b[0;32m   3506\u001b[0m             \u001b[1;32mif\u001b[0m \u001b[0mis_integer\u001b[0m\u001b[1;33m(\u001b[0m\u001b[0mindexer\u001b[0m\u001b[1;33m)\u001b[0m\u001b[1;33m:\u001b[0m\u001b[1;33m\u001b[0m\u001b[1;33m\u001b[0m\u001b[0m\n\u001b[0;32m   3507\u001b[0m                 \u001b[0mindexer\u001b[0m \u001b[1;33m=\u001b[0m \u001b[1;33m[\u001b[0m\u001b[0mindexer\u001b[0m\u001b[1;33m]\u001b[0m\u001b[1;33m\u001b[0m\u001b[1;33m\u001b[0m\u001b[0m\n",
      "\u001b[1;32m~\\anaconda3\\lib\\site-packages\\pandas\\core\\indexes\\base.py\u001b[0m in \u001b[0;36mget_loc\u001b[1;34m(self, key, method, tolerance)\u001b[0m\n\u001b[0;32m   3621\u001b[0m                 \u001b[1;32mreturn\u001b[0m \u001b[0mself\u001b[0m\u001b[1;33m.\u001b[0m\u001b[0m_engine\u001b[0m\u001b[1;33m.\u001b[0m\u001b[0mget_loc\u001b[0m\u001b[1;33m(\u001b[0m\u001b[0mcasted_key\u001b[0m\u001b[1;33m)\u001b[0m\u001b[1;33m\u001b[0m\u001b[1;33m\u001b[0m\u001b[0m\n\u001b[0;32m   3622\u001b[0m             \u001b[1;32mexcept\u001b[0m \u001b[0mKeyError\u001b[0m \u001b[1;32mas\u001b[0m \u001b[0merr\u001b[0m\u001b[1;33m:\u001b[0m\u001b[1;33m\u001b[0m\u001b[1;33m\u001b[0m\u001b[0m\n\u001b[1;32m-> 3623\u001b[1;33m                 \u001b[1;32mraise\u001b[0m \u001b[0mKeyError\u001b[0m\u001b[1;33m(\u001b[0m\u001b[0mkey\u001b[0m\u001b[1;33m)\u001b[0m \u001b[1;32mfrom\u001b[0m \u001b[0merr\u001b[0m\u001b[1;33m\u001b[0m\u001b[1;33m\u001b[0m\u001b[0m\n\u001b[0m\u001b[0;32m   3624\u001b[0m             \u001b[1;32mexcept\u001b[0m \u001b[0mTypeError\u001b[0m\u001b[1;33m:\u001b[0m\u001b[1;33m\u001b[0m\u001b[1;33m\u001b[0m\u001b[0m\n\u001b[0;32m   3625\u001b[0m                 \u001b[1;31m# If we have a listlike key, _check_indexing_error will raise\u001b[0m\u001b[1;33m\u001b[0m\u001b[1;33m\u001b[0m\u001b[1;33m\u001b[0m\u001b[0m\n",
      "\u001b[1;31mKeyError\u001b[0m: 'PCEPI'"
     ]
    }
   ],
   "source": [
    "adf_test(df['PCEPI'])"
   ]
  },
  {
   "cell_type": "code",
   "execution_count": null,
   "id": "6fa07840",
   "metadata": {
    "colab": {
     "base_uri": "https://localhost:8080/"
    },
    "id": "6fa07840",
    "outputId": "3cbca865-46dd-4e9c-d788-2ed3356711e2"
   },
   "outputs": [],
   "source": [
    "kpss_test(y_train)"
   ]
  },
  {
   "cell_type": "markdown",
   "id": "4f2a0d18",
   "metadata": {
    "id": "4f2a0d18"
   },
   "source": [
    "### Differenting"
   ]
  },
  {
   "cell_type": "code",
   "execution_count": null,
   "id": "7f662970",
   "metadata": {
    "colab": {
     "base_uri": "https://localhost:8080/"
    },
    "id": "7f662970",
    "outputId": "5fbcd731-8e22-40c5-def2-dc4352ffa6ea"
   },
   "outputs": [],
   "source": [
    "y_train_seasdiff = y_train.diff(12).dropna()"
   ]
  },
  {
   "cell_type": "code",
   "execution_count": null,
   "id": "c6aebcfb",
   "metadata": {
    "colab": {
     "base_uri": "https://localhost:8080/",
     "height": 285
    },
    "id": "c6aebcfb",
    "outputId": "2c61fd96-da99-4524-b2d4-7d72eaabee3d"
   },
   "outputs": [],
   "source": [
    "y_train_seasdiff.plot()\n",
    "plt.show()"
   ]
  },
  {
   "cell_type": "code",
   "execution_count": null,
   "id": "432e295d",
   "metadata": {
    "colab": {
     "base_uri": "https://localhost:8080/"
    },
    "id": "432e295d",
    "outputId": "325a25b5-3c28-40da-aacd-a8e6eed094e5"
   },
   "outputs": [],
   "source": [
    "adf_test(y_train_seasdiff)"
   ]
  },
  {
   "cell_type": "code",
   "execution_count": null,
   "id": "0f4a2e25",
   "metadata": {
    "colab": {
     "base_uri": "https://localhost:8080/"
    },
    "id": "0f4a2e25",
    "outputId": "548abae5-c810-4e40-c6fe-00a9ca944309"
   },
   "outputs": [],
   "source": [
    "kpss_test(y_train_seasdiff)"
   ]
  },
  {
   "cell_type": "code",
   "execution_count": null,
   "id": "4eb539b2",
   "metadata": {
    "colab": {
     "base_uri": "https://localhost:8080/",
     "height": 284
    },
    "id": "4eb539b2",
    "outputId": "c70edcc5-8f91-4516-a10b-c595cf05b770"
   },
   "outputs": [],
   "source": [
    "plot_acf(y_train_seasdiff)\n",
    "plt.show()"
   ]
  },
  {
   "cell_type": "code",
   "execution_count": null,
   "id": "ad9df9a7",
   "metadata": {
    "colab": {
     "base_uri": "https://localhost:8080/",
     "height": 284
    },
    "id": "ad9df9a7",
    "outputId": "8bdc2129-c397-40ed-9a36-68631964ee19"
   },
   "outputs": [],
   "source": [
    "plot_pacf(y_train_seasdiff)\n",
    "plt.show()"
   ]
  },
  {
   "cell_type": "code",
   "execution_count": null,
   "id": "457cd4dd",
   "metadata": {
    "id": "457cd4dd"
   },
   "outputs": [],
   "source": [
    "#y_train_nonseasdiff = np.diff(y_train_seasdiff)\n",
    "y_train_nonseasdiff = y_train_seasdiff.diff(12).dropna()"
   ]
  },
  {
   "cell_type": "code",
   "execution_count": null,
   "id": "f0a5fb9f",
   "metadata": {
    "colab": {
     "base_uri": "https://localhost:8080/",
     "height": 285
    },
    "id": "f0a5fb9f",
    "outputId": "d914d5e6-fbcd-4818-858c-0cbd94f7299a"
   },
   "outputs": [],
   "source": [
    "y_train_nonseasdiff.plot()\n",
    "plt.show()"
   ]
  },
  {
   "cell_type": "code",
   "execution_count": null,
   "id": "5e733554",
   "metadata": {
    "colab": {
     "base_uri": "https://localhost:8080/"
    },
    "id": "5e733554",
    "outputId": "57339880-369c-45f7-c7aa-10be6e24da99"
   },
   "outputs": [],
   "source": [
    "adf_test(y_train_nonseasdiff)"
   ]
  },
  {
   "cell_type": "code",
   "execution_count": null,
   "id": "241f46dd",
   "metadata": {
    "colab": {
     "base_uri": "https://localhost:8080/"
    },
    "id": "241f46dd",
    "outputId": "5882bd5c-63f7-47d8-901e-9f914fb13b78"
   },
   "outputs": [],
   "source": [
    "kpss_test(y_train_nonseasdiff)"
   ]
  },
  {
   "cell_type": "code",
   "execution_count": null,
   "id": "45556dfe",
   "metadata": {
    "colab": {
     "base_uri": "https://localhost:8080/",
     "height": 284
    },
    "id": "45556dfe",
    "outputId": "711ba450-3aaf-41bc-8354-42c1f4cec464"
   },
   "outputs": [],
   "source": [
    "plot_acf(y_train_nonseasdiff, lags = 40)\n",
    "plt.show()"
   ]
  },
  {
   "cell_type": "code",
   "execution_count": null,
   "id": "1031bff4",
   "metadata": {
    "colab": {
     "base_uri": "https://localhost:8080/",
     "height": 284
    },
    "id": "1031bff4",
    "outputId": "3565f078-b2f6-45a4-818f-59d7d74ffeb2"
   },
   "outputs": [],
   "source": [
    "plot_pacf(y_train_nonseasdiff, lags = 40)\n",
    "plt.show()"
   ]
  },
  {
   "cell_type": "markdown",
   "id": "f74f894c",
   "metadata": {
    "id": "f74f894c"
   },
   "source": [
    "### 2.B. "
   ]
  },
  {
   "cell_type": "markdown",
   "id": "8ad33e2c",
   "metadata": {},
   "source": [
    "### ARIMA model:"
   ]
  },
  {
   "cell_type": "code",
   "execution_count": null,
   "id": "4450d10f",
   "metadata": {
    "colab": {
     "base_uri": "https://localhost:8080/"
    },
    "id": "4450d10f",
    "outputId": "2a2d1204-d352-47a4-cdd6-4a0f78fce7e9"
   },
   "outputs": [],
   "source": [
    "sarima_model = sm.tsa.statespace.SARIMAX(endog=y_train,order=(3,1,1), seasonal_order=(0, 1, 0, 12))\n",
    "sarima_fit = sarima_model.fit()\n",
    "print(sarima_fit.summary())"
   ]
  },
  {
   "cell_type": "code",
   "execution_count": null,
   "id": "aa113832",
   "metadata": {
    "colab": {
     "base_uri": "https://localhost:8080/"
    },
    "id": "aa113832",
    "outputId": "3b0b853d-6578-4193-92ed-ca52cded6583"
   },
   "outputs": [],
   "source": [
    "print(\"AICc for order \" + str(sarima_model.order) + str(sarima_model.seasonal_order) +\": \" +str(sarima_fit.aicc))"
   ]
  },
  {
   "cell_type": "code",
   "execution_count": null,
   "id": "7ffa0fd0",
   "metadata": {
    "colab": {
     "base_uri": "https://localhost:8080/",
     "height": 689
    },
    "id": "7ffa0fd0",
    "outputId": "43374191-5500-4963-d512-ea05c2aac101"
   },
   "outputs": [],
   "source": [
    "residuals = sarima_fit.resid\n",
    "residuals.plot()\n",
    "plt.show()\n",
    "\n",
    "residuals.plot(kind='kde')\n",
    "plt.show()\n",
    "\n",
    "print(residuals.describe())"
   ]
  },
  {
   "cell_type": "code",
   "execution_count": null,
   "id": "9801cd19",
   "metadata": {
    "colab": {
     "base_uri": "https://localhost:8080/"
    },
    "id": "9801cd19",
    "outputId": "971e98c2-bff6-4b6a-f91f-fda4086d3e43"
   },
   "outputs": [],
   "source": [
    "residuals"
   ]
  },
  {
   "cell_type": "code",
   "execution_count": null,
   "id": "16a568f4",
   "metadata": {
    "colab": {
     "base_uri": "https://localhost:8080/"
    },
    "id": "16a568f4",
    "outputId": "3c8afdf1-02e9-43f5-8c21-53d081efcb6a"
   },
   "outputs": [],
   "source": [
    "resid = residuals[24:]\n",
    "resid"
   ]
  },
  {
   "cell_type": "code",
   "execution_count": null,
   "id": "80943b1f",
   "metadata": {
    "colab": {
     "base_uri": "https://localhost:8080/",
     "height": 302
    },
    "id": "80943b1f",
    "outputId": "eb7caeec-491b-4545-9ada-6bf7a75b9532"
   },
   "outputs": [],
   "source": [
    "resid.plot()"
   ]
  },
  {
   "cell_type": "code",
   "execution_count": null,
   "id": "f061216b",
   "metadata": {
    "colab": {
     "base_uri": "https://localhost:8080/",
     "height": 285
    },
    "id": "f061216b",
    "outputId": "25afd225-f494-43ca-aab1-1904550ba90f"
   },
   "outputs": [],
   "source": [
    "resid.hist()"
   ]
  },
  {
   "cell_type": "code",
   "execution_count": null,
   "id": "9301199d",
   "metadata": {
    "colab": {
     "base_uri": "https://localhost:8080/",
     "height": 284
    },
    "id": "9301199d",
    "outputId": "f9bacf44-1750-44d2-fbfc-88d81d7fcfee"
   },
   "outputs": [],
   "source": [
    "plot_acf(resid, lags = 40)\n",
    "plt.show()"
   ]
  },
  {
   "cell_type": "code",
   "execution_count": null,
   "id": "db28ff4c",
   "metadata": {
    "colab": {
     "base_uri": "https://localhost:8080/",
     "height": 80
    },
    "id": "db28ff4c",
    "outputId": "2c99be8d-1ecf-4043-fbae-239fd3813c67"
   },
   "outputs": [],
   "source": [
    "sm.stats.acorr_ljungbox(resid, lags=[10], return_df=True, boxpierce=True)"
   ]
  },
  {
   "cell_type": "markdown",
   "id": "a0d356ee",
   "metadata": {
    "id": "a0d356ee"
   },
   "source": [
    "### AUTOarima model:"
   ]
  },
  {
   "cell_type": "code",
   "execution_count": null,
   "id": "ab09568e",
   "metadata": {
    "id": "ab09568e"
   },
   "outputs": [],
   "source": [
    "from sktime.forecasting.arima import AutoARIMA\n",
    "from pmdarima.arima import auto_arima"
   ]
  },
  {
   "cell_type": "code",
   "execution_count": null,
   "id": "c7017faf",
   "metadata": {
    "id": "c7017faf"
   },
   "outputs": [],
   "source": [
    "y_train, y_test = temporal_train_test_split(ts_temp)"
   ]
  },
  {
   "cell_type": "code",
   "execution_count": null,
   "id": "5741c83d",
   "metadata": {
    "colab": {
     "base_uri": "https://localhost:8080/"
    },
    "id": "5741c83d",
    "outputId": "78947be3-f17a-4a48-e933-476a91a6b81d"
   },
   "outputs": [],
   "source": [
    "y_train.index.min(), y_train.index.max()"
   ]
  },
  {
   "cell_type": "code",
   "execution_count": null,
   "id": "ca5762e8",
   "metadata": {
    "colab": {
     "base_uri": "https://localhost:8080/"
    },
    "id": "ca5762e8",
    "outputId": "1ba6f45c-560e-47f1-e80b-9f6a6b1d032c"
   },
   "outputs": [],
   "source": [
    "y_test.index.min(), y_test.index.max()"
   ]
  },
  {
   "cell_type": "code",
   "execution_count": null,
   "id": "7d52a9ff",
   "metadata": {
    "colab": {
     "base_uri": "https://localhost:8080/"
    },
    "id": "7d52a9ff",
    "outputId": "328405a1-3561-41d1-9569-71dc833558f2",
    "scrolled": false
   },
   "outputs": [],
   "source": [
    "auto_arima = auto_arima(y_train, start_p=1, start_q=1,\n",
    "                           max_p=10, max_q=10, m=12,\n",
    "                           start_P=0, seasonal=True,\n",
    "                           d=1, D=1, trace=True,\n",
    "                           error_action='ignore',  \n",
    "                           suppress_warnings=True, \n",
    "                           stepwise=True)\n",
    "print(auto_arima.aic())"
   ]
  },
  {
   "cell_type": "code",
   "execution_count": null,
   "id": "b0766834",
   "metadata": {
    "colab": {
     "base_uri": "https://localhost:8080/"
    },
    "id": "b0766834",
    "outputId": "76f4f085-60c3-4285-eff6-7a053011c24e"
   },
   "outputs": [],
   "source": [
    "print(auto_arima.summary())"
   ]
  },
  {
   "cell_type": "code",
   "execution_count": null,
   "id": "c0bc1623",
   "metadata": {
    "colab": {
     "base_uri": "https://localhost:8080/",
     "height": 535
    },
    "id": "c0bc1623",
    "outputId": "7b9c58fc-bfa6-4506-b18f-c085c301ac4b",
    "scrolled": true
   },
   "outputs": [],
   "source": [
    "print(auto_arima.plot_diagnostics(figsize=(12,8)))"
   ]
  },
  {
   "cell_type": "code",
   "execution_count": null,
   "id": "e686f32c",
   "metadata": {
    "colab": {
     "base_uri": "https://localhost:8080/",
     "height": 672
    },
    "id": "e686f32c",
    "outputId": "0e4ca117-c687-47e6-f49d-b38d7db47cc2"
   },
   "outputs": [],
   "source": [
    "res = auto_arima.resid()\n",
    "residuals = pd.DataFrame(res,columns=[\"Residuals\"])\n",
    "residuals.plot()\n",
    "plt.show()\n",
    "residuals.plot(kind='kde')\n",
    "plt.show()\n",
    "print(residuals.describe())"
   ]
  },
  {
   "cell_type": "code",
   "execution_count": null,
   "id": "ba10790f",
   "metadata": {
    "colab": {
     "base_uri": "https://localhost:8080/",
     "height": 419
    },
    "id": "ba10790f",
    "outputId": "b6a8afac-85c6-4234-e6ec-c161c6cabdc1"
   },
   "outputs": [],
   "source": [
    "resid = residuals[24:]\n",
    "resid"
   ]
  },
  {
   "cell_type": "code",
   "execution_count": null,
   "id": "1e6a3cf0",
   "metadata": {
    "colab": {
     "base_uri": "https://localhost:8080/",
     "height": 285
    },
    "id": "1e6a3cf0",
    "outputId": "31801f93-8058-412b-8799-f2c56031406a"
   },
   "outputs": [],
   "source": [
    "resid.plot()"
   ]
  },
  {
   "cell_type": "code",
   "execution_count": null,
   "id": "27592f5a",
   "metadata": {
    "colab": {
     "base_uri": "https://localhost:8080/",
     "height": 318
    },
    "id": "27592f5a",
    "outputId": "70c49e75-716e-45df-d563-44909ccc8a56"
   },
   "outputs": [],
   "source": [
    "resid.hist()"
   ]
  },
  {
   "cell_type": "code",
   "execution_count": null,
   "id": "58228453",
   "metadata": {
    "colab": {
     "base_uri": "https://localhost:8080/",
     "height": 284
    },
    "id": "58228453",
    "outputId": "dda1511a-98b1-44f5-afee-13b984b0d501"
   },
   "outputs": [],
   "source": [
    "plot_acf(resid, lags = 80)\n",
    "plt.show()"
   ]
  },
  {
   "cell_type": "code",
   "execution_count": null,
   "id": "a87828ef",
   "metadata": {
    "colab": {
     "base_uri": "https://localhost:8080/",
     "height": 284
    },
    "id": "a87828ef",
    "outputId": "9c5ce040-ecd3-4b74-8d89-54c761795a15"
   },
   "outputs": [],
   "source": [
    "plot_pacf(resid, lags = 80)\n",
    "plt.show()"
   ]
  },
  {
   "cell_type": "code",
   "execution_count": null,
   "id": "30347b53",
   "metadata": {
    "colab": {
     "base_uri": "https://localhost:8080/",
     "height": 80
    },
    "id": "30347b53",
    "outputId": "187ab6fc-0ddb-4aa0-cce5-2fb9006399ed"
   },
   "outputs": [],
   "source": [
    "sm.stats.acorr_ljungbox(resid, lags=[10], return_df=True, boxpierce=True)"
   ]
  },
  {
   "cell_type": "markdown",
   "id": "63dc2bc8",
   "metadata": {
    "id": "63dc2bc8"
   },
   "source": [
    "### 2.C. "
   ]
  },
  {
   "cell_type": "code",
   "execution_count": null,
   "id": "2adad1e1",
   "metadata": {
    "colab": {
     "base_uri": "https://localhost:8080/",
     "height": 450
    },
    "id": "2adad1e1",
    "outputId": "981e16a5-99e6-4b4d-8052-ed426a2ce610"
   },
   "outputs": [],
   "source": [
    "y_pred = pd.DataFrame(auto_arima.predict(n_periods = len(y_test)), index = y_test.index)\n",
    "y_pred.columns = ['pred']\n",
    "y_pred"
   ]
  },
  {
   "cell_type": "code",
   "execution_count": null,
   "id": "b2aed4a2",
   "metadata": {
    "colab": {
     "base_uri": "https://localhost:8080/",
     "height": 302
    },
    "id": "b2aed4a2",
    "outputId": "3b07f351-e0ae-4c4c-8c2b-96c48b977d8a"
   },
   "outputs": [],
   "source": [
    "y_pred = y_pred.groupby(pd.PeriodIndex(y_pred.index, freq=\"M\"))['pred'].mean()\n",
    "y_pred.plot()"
   ]
  },
  {
   "cell_type": "code",
   "execution_count": null,
   "id": "06bb0a86",
   "metadata": {
    "id": "06bb0a86"
   },
   "outputs": [],
   "source": [
    "def plot_results(y_train, y_test, y_pred):\n",
    "    # plot the results\n",
    "    y_train.plot()\n",
    "    y_test.plot()\n",
    "\n",
    "    y_pred.plot()\n",
    "\n",
    "    plt.legend(['y_train','y_test','y_pred'])\n",
    "    plt.show()"
   ]
  },
  {
   "cell_type": "code",
   "execution_count": null,
   "id": "d014de0d",
   "metadata": {
    "colab": {
     "base_uri": "https://localhost:8080/",
     "height": 285
    },
    "id": "d014de0d",
    "outputId": "5f22c3ef-8c8a-481e-a896-51ca5055861a",
    "scrolled": true
   },
   "outputs": [],
   "source": [
    "plot_results(y_train, y_test, y_pred)"
   ]
  },
  {
   "cell_type": "code",
   "execution_count": null,
   "id": "c910690c",
   "metadata": {
    "colab": {
     "base_uri": "https://localhost:8080/"
    },
    "id": "c910690c",
    "outputId": "a892aa29-b404-4bf2-b890-3ad5215db7d1"
   },
   "outputs": [],
   "source": [
    "from sktime.performance_metrics.forecasting import MeanAbsolutePercentageError\n",
    "smape = MeanAbsolutePercentageError(symmetric=True)\n",
    "smape(y_test, y_pred)"
   ]
  },
  {
   "cell_type": "code",
   "execution_count": null,
   "id": "31add6c6",
   "metadata": {
    "colab": {
     "base_uri": "https://localhost:8080/"
    },
    "id": "31add6c6",
    "outputId": "2c0d3c0d-436c-4b27-de6f-672d8f083775"
   },
   "outputs": [],
   "source": [
    "from sktime.performance_metrics.forecasting import MeanAbsoluteScaledError\n",
    "mase = MeanAbsoluteScaledError()\n",
    "mase(y_test, y_pred, y_train=y_train)"
   ]
  },
  {
   "cell_type": "code",
   "execution_count": null,
   "id": "4ca172bc",
   "metadata": {
    "colab": {
     "base_uri": "https://localhost:8080/"
    },
    "id": "4ca172bc",
    "outputId": "58370477-ec12-43ed-ccfe-43353f1b2018"
   },
   "outputs": [],
   "source": [
    "from sktime.performance_metrics.forecasting import MeanAbsoluteError\n",
    "mae = MeanAbsoluteError()\n",
    "mae(y_test, y_pred)"
   ]
  },
  {
   "cell_type": "code",
   "execution_count": null,
   "id": "78ec53d2",
   "metadata": {
    "colab": {
     "base_uri": "https://localhost:8080/"
    },
    "id": "78ec53d2",
    "outputId": "3b01fa95-e90f-458d-9300-c74b28ac1492"
   },
   "outputs": [],
   "source": [
    "from sktime.performance_metrics.forecasting import MeanSquaredError\n",
    "mse = MeanSquaredError()\n",
    "mse(y_test, y_pred)"
   ]
  },
  {
   "cell_type": "code",
   "execution_count": null,
   "id": "c6c65fb5",
   "metadata": {
    "colab": {
     "base_uri": "https://localhost:8080/"
    },
    "id": "c6c65fb5",
    "outputId": "727e160d-c3cd-4a92-8a47-8921370e4ea8"
   },
   "outputs": [],
   "source": [
    "from sktime.performance_metrics.forecasting import MeanAbsolutePercentageError\n",
    "mape = MeanAbsolutePercentageError(symmetric=False)\n",
    "mape(y_test, y_pred)"
   ]
  },
  {
   "cell_type": "markdown",
   "id": "d1e56b62",
   "metadata": {
    "id": "d1e56b62"
   },
   "source": [
    "### 2.D. "
   ]
  },
  {
   "cell_type": "code",
   "execution_count": null,
   "id": "4a2f777c",
   "metadata": {
    "colab": {
     "base_uri": "https://localhost:8080/",
     "height": 71
    },
    "id": "4a2f777c",
    "outputId": "b684c997-635f-4edc-8329-a50ef69e271d"
   },
   "outputs": [],
   "source": [
    "ts = df.groupby(pd.PeriodIndex(df.index, freq=\"M\"))['temp', 'co2'].mean()\n",
    "ts.plot()"
   ]
  },
  {
   "cell_type": "code",
   "execution_count": null,
   "id": "79be89d9",
   "metadata": {
    "id": "79be89d9"
   },
   "outputs": [],
   "source": [
    "y_train, y_test = temporal_train_test_split(ts)"
   ]
  },
  {
   "cell_type": "code",
   "execution_count": null,
   "id": "5939e614",
   "metadata": {
    "colab": {
     "base_uri": "https://localhost:8080/"
    },
    "id": "5939e614",
    "outputId": "36c37cfc-3b0a-40f1-c8a0-76662179b76a"
   },
   "outputs": [],
   "source": [
    "from statsmodels.tsa.statespace.sarimax import SARIMAX\n",
    "\n",
    "sarimax_model = SARIMAX(endog=y_train['temp'],\n",
    "                        exog = y_train['co2'],\n",
    "                        order=(3,1,1),\n",
    "                        trend='c',\n",
    "                        seasonal_order=(2, 1, 0, 12))\n",
    "sarimax_fit = sarimax_model.fit()\n",
    "print(sarimax_fit.summary())"
   ]
  },
  {
   "cell_type": "code",
   "execution_count": null,
   "id": "e66918f4",
   "metadata": {
    "colab": {
     "base_uri": "https://localhost:8080/"
    },
    "id": "e66918f4",
    "outputId": "4d780c7a-dac0-4782-b433-dc10c705bad6"
   },
   "outputs": [],
   "source": [
    "print(\"AICc for order \" + str(sarimax_model.order) + str(sarimax_model.seasonal_order) +\": \" +str(sarimax_fit.aicc))"
   ]
  },
  {
   "cell_type": "code",
   "execution_count": null,
   "id": "5f5fcac9",
   "metadata": {
    "colab": {
     "base_uri": "https://localhost:8080/",
     "height": 224
    },
    "id": "5f5fcac9",
    "outputId": "a1f09570-eb4d-49cb-880a-a533714eca2c"
   },
   "outputs": [],
   "source": [
    "# residual checks\n",
    "# line plot of residuals\n",
    "residuals = sarimax_fit.resid\n",
    "residuals.plot()\n",
    "plt.show()\n",
    "# density plot of residuals\n",
    "residuals.plot(kind='kde')\n",
    "plt.show()\n",
    "# summary stats of residuals\n",
    "print(residuals.describe())"
   ]
  },
  {
   "cell_type": "code",
   "execution_count": null,
   "id": "f16fbf07",
   "metadata": {
    "colab": {
     "base_uri": "https://localhost:8080/"
    },
    "id": "f16fbf07",
    "outputId": "f95eaf2d-41da-48df-8a48-3925e8471fce"
   },
   "outputs": [],
   "source": [
    "residuals"
   ]
  },
  {
   "cell_type": "code",
   "execution_count": null,
   "id": "6a687ceb",
   "metadata": {
    "colab": {
     "base_uri": "https://localhost:8080/"
    },
    "id": "6a687ceb",
    "outputId": "cabd2fba-aa3b-422b-d02e-76521c498393"
   },
   "outputs": [],
   "source": [
    "resid = residuals[24:]\n",
    "resid"
   ]
  },
  {
   "cell_type": "code",
   "execution_count": null,
   "id": "8b7d80a7",
   "metadata": {
    "colab": {
     "base_uri": "https://localhost:8080/",
     "height": 71
    },
    "id": "8b7d80a7",
    "outputId": "74d2ade5-26b4-4116-f349-c4a7a79f38aa"
   },
   "outputs": [],
   "source": [
    "resid.plot()"
   ]
  },
  {
   "cell_type": "code",
   "execution_count": null,
   "id": "ccff4b99",
   "metadata": {
    "colab": {
     "base_uri": "https://localhost:8080/",
     "height": 71
    },
    "id": "ccff4b99",
    "outputId": "1050759a-cb0a-4451-89e7-85ffe0e48499"
   },
   "outputs": [],
   "source": [
    "resid.hist()"
   ]
  },
  {
   "cell_type": "code",
   "execution_count": null,
   "id": "6c6f8dea",
   "metadata": {
    "colab": {
     "base_uri": "https://localhost:8080/",
     "height": 54
    },
    "id": "6c6f8dea",
    "outputId": "8379a13e-95c2-4055-ffbb-7f99a9a61e15"
   },
   "outputs": [],
   "source": [
    "plot_acf(resid, lags = 40)\n",
    "plt.show()"
   ]
  },
  {
   "cell_type": "code",
   "execution_count": null,
   "id": "f223e01d",
   "metadata": {
    "colab": {
     "base_uri": "https://localhost:8080/",
     "height": 144
    },
    "id": "f223e01d",
    "outputId": "8a121454-7361-453b-997f-c2065c6ad425"
   },
   "outputs": [],
   "source": [
    "sm.stats.acorr_ljungbox(resid, lags=[10], return_df=True, boxpierce=True)"
   ]
  },
  {
   "cell_type": "markdown",
   "id": "e9765db3",
   "metadata": {
    "id": "e9765db3"
   },
   "source": [
    "### 2.E. "
   ]
  },
  {
   "cell_type": "code",
   "execution_count": null,
   "id": "a5b16b47",
   "metadata": {
    "id": "a5b16b47"
   },
   "outputs": [],
   "source": [
    "y_pred = sarimax_fit.forecast(steps = len(y_test['temp']),  exog=y_test['co2'])"
   ]
  },
  {
   "cell_type": "code",
   "execution_count": null,
   "id": "7f7189ff",
   "metadata": {
    "colab": {
     "base_uri": "https://localhost:8080/",
     "height": 450
    },
    "id": "7f7189ff",
    "outputId": "a5330f9a-ddc6-47c8-ea24-80e462ff0869"
   },
   "outputs": [],
   "source": [
    "y_train"
   ]
  },
  {
   "cell_type": "code",
   "execution_count": null,
   "id": "c821bb27",
   "metadata": {},
   "outputs": [],
   "source": [
    "from sktime.performance_metrics.forecasting import MeanAbsolutePercentageError\n",
    "smape = MeanAbsolutePercentageError(symmetric=True)\n",
    "smape(y_test['temp'], y_pred)"
   ]
  },
  {
   "cell_type": "code",
   "execution_count": null,
   "id": "6ae7181a",
   "metadata": {},
   "outputs": [],
   "source": [
    "from sktime.performance_metrics.forecasting import MeanAbsoluteError\n",
    "mae = MeanAbsoluteError()\n",
    "mae(y_test['temp'], y_pred)"
   ]
  },
  {
   "cell_type": "code",
   "execution_count": null,
   "id": "995ce9df",
   "metadata": {},
   "outputs": [],
   "source": [
    "from sktime.performance_metrics.forecasting import MeanSquaredError\n",
    "mse = MeanSquaredError()\n",
    "mse(y_test['temp'], y_pred)"
   ]
  },
  {
   "cell_type": "code",
   "execution_count": null,
   "id": "bb162789",
   "metadata": {},
   "outputs": [],
   "source": [
    "from sktime.performance_metrics.forecasting import MeanAbsolutePercentageError\n",
    "mape = MeanAbsolutePercentageError(symmetric=False)\n",
    "mape(y_test['temp'], y_pred)"
   ]
  },
  {
   "cell_type": "code",
   "execution_count": null,
   "id": "a4e8f191",
   "metadata": {
    "colab": {
     "base_uri": "https://localhost:8080/",
     "height": 549
    },
    "id": "a4e8f191",
    "outputId": "a90e7492-157f-4cd9-99a3-f09e2852b01e"
   },
   "outputs": [],
   "source": [
    "sarimax_fit.summary()"
   ]
  },
  {
   "cell_type": "markdown",
   "id": "cd632c45",
   "metadata": {
    "id": "cd632c45"
   },
   "source": [
    "## Part 3. Prophet with additional regressors\n",
    "\n",
    "### 3.A. "
   ]
  },
  {
   "cell_type": "code",
   "execution_count": null,
   "id": "8c1580d6",
   "metadata": {
    "colab": {
     "base_uri": "https://localhost:8080/"
    },
    "id": "8c1580d6",
    "outputId": "9a6cfae4-b438-4b01-d834-f9650f56ca9d"
   },
   "outputs": [],
   "source": [
    "! pip install pystan --user\n",
    "! pip install fbprophet --user"
   ]
  },
  {
   "cell_type": "code",
   "execution_count": null,
   "id": "NuIp7iAKhRgJ",
   "metadata": {
    "colab": {
     "base_uri": "https://localhost:8080/"
    },
    "id": "NuIp7iAKhRgJ",
    "outputId": "83ac4976-fae0-4d37-8a49-0d213c6c22b0"
   },
   "outputs": [],
   "source": [
    "! pip install wbdata"
   ]
  },
  {
   "cell_type": "code",
   "execution_count": null,
   "id": "9c53a079",
   "metadata": {
    "id": "9c53a079"
   },
   "outputs": [],
   "source": [
    "from util_prophet import *\n",
    "from fbprophet import Prophet\n",
    "from fbprophet.plot import plot_plotly"
   ]
  },
  {
   "cell_type": "code",
   "execution_count": null,
   "id": "kt_BdmKRnlQM",
   "metadata": {
    "id": "kt_BdmKRnlQM"
   },
   "outputs": [],
   "source": [
    "y_train_prophet = y_train\n",
    "y_train_prophet['ds'] = y_train_prophet.index\n",
    "y_train_prophet.rename(columns={'temp':'y'}, inplace=True)\n",
    "\n",
    "y_test_prophet = y_test\n",
    "y_test_prophet['ds'] = y_test_prophet.index\n",
    "y_test_prophet.rename(columns={'temp':'y'}, inplace=True)"
   ]
  },
  {
   "cell_type": "code",
   "execution_count": null,
   "id": "ME4BdxvmsKuJ",
   "metadata": {
    "colab": {
     "base_uri": "https://localhost:8080/",
     "height": 419
    },
    "id": "ME4BdxvmsKuJ",
    "outputId": "67460c59-7244-44fc-ec25-76fb4c90768e"
   },
   "outputs": [],
   "source": [
    "y_train_prophet"
   ]
  },
  {
   "cell_type": "code",
   "execution_count": null,
   "id": "c05zII_LsU0f",
   "metadata": {
    "colab": {
     "base_uri": "https://localhost:8080/"
    },
    "id": "c05zII_LsU0f",
    "outputId": "52b8d3f6-44a4-4efe-c286-c31e727e4863"
   },
   "outputs": [],
   "source": [
    "y_train_prophet['ds'] = y_train_prophet['ds'].dt.strftime('%Y-%m').add('-01 00:00:00.000')\n",
    "print(y_train_prophet)"
   ]
  },
  {
   "cell_type": "code",
   "execution_count": null,
   "id": "3jbNzC6Rn3EG",
   "metadata": {
    "colab": {
     "base_uri": "https://localhost:8080/"
    },
    "id": "3jbNzC6Rn3EG",
    "outputId": "66cb28d3-6755-41ad-f986-21cea77d54c4"
   },
   "outputs": [],
   "source": [
    "model = Prophet()\n",
    "model.fit(y_train_prophet)"
   ]
  },
  {
   "cell_type": "code",
   "execution_count": null,
   "id": "Rrv2yff0oAql",
   "metadata": {
    "id": "Rrv2yff0oAql"
   },
   "outputs": [],
   "source": [
    "future_data = model.make_future_dataframe(periods=len(y_test), freq='m')"
   ]
  },
  {
   "cell_type": "code",
   "execution_count": null,
   "id": "KDXUjRJfoBQE",
   "metadata": {
    "colab": {
     "base_uri": "https://localhost:8080/",
     "height": 545
    },
    "id": "KDXUjRJfoBQE",
    "outputId": "cfe75d52-d857-4ad3-a47f-df8a97acb08d"
   },
   "outputs": [],
   "source": [
    "forecast_data = model.predict(future_data)\n",
    "forecast_data.iloc[0:3].T"
   ]
  },
  {
   "cell_type": "code",
   "execution_count": null,
   "id": "APZAF4VcoGHP",
   "metadata": {
    "colab": {
     "base_uri": "https://localhost:8080/",
     "height": 437
    },
    "id": "APZAF4VcoGHP",
    "outputId": "c26bc07b-4ec1-4d7f-e009-76d25c603ada"
   },
   "outputs": [],
   "source": [
    "p = model.plot(forecast_data)"
   ]
  },
  {
   "cell_type": "code",
   "execution_count": null,
   "id": "233TDKFVu3eW",
   "metadata": {
    "colab": {
     "base_uri": "https://localhost:8080/",
     "height": 653
    },
    "id": "233TDKFVu3eW",
    "outputId": "c4361ae5-cfa6-4ee5-9eef-a5a7753f70bc"
   },
   "outputs": [],
   "source": [
    "forecast_data"
   ]
  },
  {
   "cell_type": "code",
   "execution_count": null,
   "id": "ru-4jDBNvI6S",
   "metadata": {
    "colab": {
     "base_uri": "https://localhost:8080/"
    },
    "id": "ru-4jDBNvI6S",
    "outputId": "b7b93d43-e17f-405a-df39-f7e52b58c755"
   },
   "outputs": [],
   "source": [
    "forecast_data['ds'] == y_test.index[0]"
   ]
  },
  {
   "cell_type": "code",
   "execution_count": null,
   "id": "QTS8nmY6oI3A",
   "metadata": {
    "colab": {
     "base_uri": "https://localhost:8080/",
     "height": 317
    },
    "id": "QTS8nmY6oI3A",
    "outputId": "5274cf7a-d38e-4192-e84d-0791fa453b5f"
   },
   "outputs": [],
   "source": [
    "ind = forecast_data[forecast_data['ds'] == y_test.index[0]].index[0]\n",
    "y_pred = forecast_data[ind:]['yhat']\n",
    "y_true = y_test['y']"
   ]
  },
  {
   "cell_type": "code",
   "execution_count": null,
   "id": "wo2CF_gHoJUd",
   "metadata": {
    "id": "wo2CF_gHoJUd"
   },
   "outputs": [],
   "source": [
    "mae =  mean_absolute_error(y_pred, y_true)\n",
    "mse = mean_squared_error(y_pred, y_true)\n",
    "mape = mean_absolute_percentage_error(y_pred, y_true)\n",
    "smape = smape(np.array(y_pred), np.array(y_true))\n",
    "mase = MeanAbsoluteScaledError(sp=12)\n",
    "mase_val = mase(y_pred, y_true, y_train=y_train['y'])\n",
    "\n",
    "print('Seasonal Arima errors')\n",
    "print(f'MAE: {mae}')\n",
    "print(f'MSE: {mse}')\n",
    "print(f'MAPE: {mape}')\n",
    "print(f'SMAPE: {smape}')\n",
    "print(f'MASE: {mase_val}')"
   ]
  },
  {
   "cell_type": "markdown",
   "id": "2118a0de",
   "metadata": {
    "id": "2118a0de"
   },
   "source": [
    "### 3.B. 10 pts Adjust seasonality, changepoint priors or other methods to see if you can create a better fit model. Examine the residuals. Using the predicted values and y train, calculate the following: MAE, MSE, MAPE, sMAPE, MASE. Can use prebuilt functions or calculate by hand."
   ]
  },
  {
   "cell_type": "code",
   "execution_count": null,
   "id": "xFlWTMCroO0R",
   "metadata": {
    "id": "xFlWTMCroO0R"
   },
   "outputs": [],
   "source": [
    "model_seasonal = Prophet(seasonality_prior_scale=10, changepoint_prior_scale=5)\n",
    "model_seasonal.fit(y_train_prophet)\n",
    "future_data_s = model_seasonal.make_future_dataframe(periods=len(y_test), freq='m')\n",
    "forecast_data_s = model_seasonal.predict(future_data_s)\n",
    "forecast_data_s.iloc[0:3].T"
   ]
  },
  {
   "cell_type": "code",
   "execution_count": null,
   "id": "QXUkleO5oPJk",
   "metadata": {
    "id": "QXUkleO5oPJk"
   },
   "outputs": [],
   "source": [
    "p_s = model_seasonal.plot(forecast_data_s)"
   ]
  },
  {
   "cell_type": "code",
   "execution_count": null,
   "id": "Pt2byR6xoPMN",
   "metadata": {
    "id": "Pt2byR6xoPMN"
   },
   "outputs": [],
   "source": [
    "ind_s = forecast_data_s[forecast_data_s['ds'] == y_test.index[0]].index[0]\n",
    "y_pred_s = forecast_data_s[ind:]['yhat']"
   ]
  },
  {
   "cell_type": "code",
   "execution_count": null,
   "id": "ZpHUa_sooVX_",
   "metadata": {
    "id": "ZpHUa_sooVX_"
   },
   "outputs": [],
   "source": [
    "mae =  mean_absolute_error(y_pred_s, y_true)\n",
    "mse = mean_squared_error(y_pred_s, y_true)\n",
    "mape = mean_absolute_percentage_error(y_pred_s, y_true)\n",
    "#smape = smape(np.array(y_pred_s), np.array(y_true))\n",
    "mase = MeanAbsoluteScaledError(sp=12)\n",
    "mase_val = mase(y_pred_s, y_true, y_train=y_train['y'])\n",
    "\n",
    "print('Seasonal Arima errors')\n",
    "print(f'MAE: {mae}')\n",
    "print(f'MSE: {mse}')\n",
    "print(f'MAPE: {mape}')\n",
    "#print(f'SMAPE: {smape}')\n",
    "print(f'MASE: {mase_val}')"
   ]
  },
  {
   "cell_type": "markdown",
   "id": "b5f33789",
   "metadata": {
    "id": "b5f33789"
   },
   "source": [
    "### 3.C. 10 pts Using your best prophet model, include co2 as an external regressor. Predict the test set. Include the following: MAE, MSE, MAPE, sMAPE, MASE. Can use prebuilt functions or calculate by hand."
   ]
  },
  {
   "cell_type": "code",
   "execution_count": null,
   "id": "3491846c",
   "metadata": {
    "id": "3491846c"
   },
   "outputs": [],
   "source": [
    "y_train_prophet"
   ]
  },
  {
   "cell_type": "code",
   "execution_count": null,
   "id": "se0tYr_oodIw",
   "metadata": {
    "id": "se0tYr_oodIw"
   },
   "outputs": [],
   "source": [
    "y_test_prophet"
   ]
  },
  {
   "cell_type": "code",
   "execution_count": null,
   "id": "B38jTqw_odhq",
   "metadata": {
    "id": "B38jTqw_odhq"
   },
   "outputs": [],
   "source": [
    "def co2(ds):\n",
    "    date = (pd.to_datetime(ds)).date()\n",
    "    \n",
    "    if y_train_prohet[date:].empty:\n",
    "        return y_test_prohet[date:]['co2'].values[0]\n",
    "    else:\n",
    "        return (y_train_prophet[date:]['co2']).values[0]\n",
    "    \n",
    "    return 0"
   ]
  },
  {
   "cell_type": "code",
   "execution_count": null,
   "id": "MUo83t03odlD",
   "metadata": {
    "id": "MUo83t03odlD"
   },
   "outputs": [],
   "source": [
    "mr = Prophet(seasonality_prior_scale=10, changepoint_prior_scale=5)\n",
    "mr.add_regressor('co2')\n",
    "mr.fit(y_train_prophet)\n",
    "future_r = mr.make_future_dataframe(periods=len(y_test_prophet), freq='m')\n",
    "future_r['co2'] = future_r['ds'].apply(co2)\n",
    "forecast_r = mr.predict(future_r)"
   ]
  },
  {
   "cell_type": "code",
   "execution_count": null,
   "id": "KTz4_B8godnV",
   "metadata": {
    "id": "KTz4_B8godnV"
   },
   "outputs": [],
   "source": [
    "forecast_r"
   ]
  },
  {
   "cell_type": "code",
   "execution_count": null,
   "id": "LyV6jYoiot6E",
   "metadata": {
    "id": "LyV6jYoiot6E"
   },
   "outputs": [],
   "source": [
    "ind_r = forecast_r[forecast_r['ds'] == y_test_prophet.index[0]].index[0]\n",
    "y_pred_r = forecast_r[ind:]['yhat']\n",
    "\n",
    "mae =  mean_absolute_error(y_pred_r, y_true)\n",
    "mse = mean_squared_error(y_pred_r, y_true)\n",
    "mape = mean_absolute_percentage_error(y_pred_r, y_true)\n",
    "#smape = smape(np.array(y_pred_s), np.array(y_true))\n",
    "mase = MeanAbsoluteScaledError(sp=12)\n",
    "mase_val = mase(y_pred_r, y_true, y_train=y_train['y'])\n",
    "\n",
    "print('Seasonal Arima errors')\n",
    "print(f'MAE: {mae}')\n",
    "print(f'MSE: {mse}')\n",
    "print(f'MAPE: {mape}')\n",
    "#print(f'SMAPE: {smape}')\n",
    "print(f'MASE: {mase_val}')"
   ]
  },
  {
   "cell_type": "markdown",
   "id": "8826c1b1",
   "metadata": {
    "id": "8826c1b1"
   },
   "source": [
    "### 3.D. 5 pts Give a summary of your modeling in prophet. What improved the model, what made the fit worse. Give your reasonings why this would happen given the patterns in the data."
   ]
  },
  {
   "cell_type": "code",
   "execution_count": null,
   "id": "03692ad0",
   "metadata": {
    "id": "03692ad0"
   },
   "outputs": [],
   "source": []
  },
  {
   "cell_type": "markdown",
   "id": "b842cbf2",
   "metadata": {
    "id": "b842cbf2"
   },
   "source": [
    "## Part 4. 10 pts – conclusion\n",
    "\n",
    "### 4.A. 5 pts Which was the best model according to your error metrics?"
   ]
  },
  {
   "cell_type": "markdown",
   "id": "ee06c636",
   "metadata": {
    "id": "c5d93511"
   },
   "source": [
    "According to performance metrics (MAE, MSE, MAPE, sMAPE, MASE), Prophet model is the one with a better predictive power."
   ]
  },
  {
   "cell_type": "markdown",
   "id": "890f0a9a",
   "metadata": {
    "id": "890f0a9a"
   },
   "source": [
    "### 4.B. 5 pts If you had this data for 100 locations (different pairs of time series), how would you approach modeling this data?"
   ]
  },
  {
   "cell_type": "code",
   "execution_count": null,
   "id": "975894c5",
   "metadata": {
    "id": "975894c5"
   },
   "outputs": [],
   "source": []
  },
  {
   "cell_type": "code",
   "execution_count": null,
   "id": "a4e410d1",
   "metadata": {
    "id": "a4e410d1"
   },
   "outputs": [],
   "source": []
  }
 ],
 "metadata": {
  "colab": {
   "name": "Week 5 Assignment ARIMA vs Prophet.ipynb",
   "provenance": []
  },
  "kernelspec": {
   "display_name": "Python 3",
   "language": "python",
   "name": "python3"
  },
  "language_info": {
   "codemirror_mode": {
    "name": "ipython",
    "version": 3
   },
   "file_extension": ".py",
   "mimetype": "text/x-python",
   "name": "python",
   "nbconvert_exporter": "python",
   "pygments_lexer": "ipython3",
   "version": "3.8.8"
  }
 },
 "nbformat": 4,
 "nbformat_minor": 5
}
