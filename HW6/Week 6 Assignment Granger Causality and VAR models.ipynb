{
 "cells": [
  {
   "cell_type": "markdown",
   "id": "9368d02a",
   "metadata": {},
   "source": [
    "# Week 6 Granger Causality and VAR models\n",
    "## Time Series Analysis\n",
    "### Earnest Salgado\n",
    "### ID 12285784"
   ]
  },
  {
   "cell_type": "code",
   "execution_count": 74,
   "id": "72c6e499",
   "metadata": {},
   "outputs": [],
   "source": [
    "from scipy import stats\n",
    "import numpy as np\n",
    "import matplotlib.pyplot as plt\n",
    "import statsmodels.api as sm\n",
    "import pandas as pd\n",
    "import seaborn as sns\n",
    "sns.set()\n",
    "\n",
    "from sklearn.preprocessing import StandardScaler\n",
    "\n",
    "from statsmodels.graphics.tsaplots import plot_acf\n",
    "from statsmodels.graphics.tsaplots import plot_pacf\n",
    "\n",
    "from sktime.forecasting.all import ForecastingHorizon\n",
    "from sktime.forecasting.all import ExponentialSmoothing\n",
    "from sktime.performance_metrics.forecasting import mean_absolute_percentage_error\n",
    "from sklearn.metrics import mean_squared_error\n",
    "\n",
    "import warnings\n",
    "warnings.filterwarnings('ignore')"
   ]
  },
  {
   "cell_type": "markdown",
   "id": "09b8cb4e",
   "metadata": {},
   "source": [
    "## 1. 20 pts - Exploratory Data Analysis\n",
    "\n",
    "### 1.A 10 pts Perform quantitative and qualitative EDA"
   ]
  },
  {
   "cell_type": "code",
   "execution_count": 2,
   "id": "45f1aaba",
   "metadata": {},
   "outputs": [],
   "source": [
    "df_hw6 = pd.read_csv('hw6_data_var.csv', parse_dates=[\"Unnamed: 0\"]).rename(columns={\"Unnamed: 0\":\"date\"})"
   ]
  },
  {
   "cell_type": "code",
   "execution_count": 3,
   "id": "102b5f0b",
   "metadata": {},
   "outputs": [
    {
     "name": "stdout",
     "output_type": "stream",
     "text": [
      "date     0\n",
      "PCE      0\n",
      "AHE      0\n",
      "PCEPI    0\n",
      "dtype: int64\n",
      "(166, 4)\n"
     ]
    }
   ],
   "source": [
    "print(df_hw6.isnull().sum())\n",
    "print(df_hw6.shape)"
   ]
  },
  {
   "cell_type": "code",
   "execution_count": 4,
   "id": "f92f6ddb",
   "metadata": {},
   "outputs": [
    {
     "data": {
      "text/html": [
       "<div>\n",
       "<style scoped>\n",
       "    .dataframe tbody tr th:only-of-type {\n",
       "        vertical-align: middle;\n",
       "    }\n",
       "\n",
       "    .dataframe tbody tr th {\n",
       "        vertical-align: top;\n",
       "    }\n",
       "\n",
       "    .dataframe thead th {\n",
       "        text-align: right;\n",
       "    }\n",
       "</style>\n",
       "<table border=\"1\" class=\"dataframe\">\n",
       "  <thead>\n",
       "    <tr style=\"text-align: right;\">\n",
       "      <th></th>\n",
       "      <th>date</th>\n",
       "      <th>PCE</th>\n",
       "      <th>AHE</th>\n",
       "      <th>PCEPI</th>\n",
       "    </tr>\n",
       "  </thead>\n",
       "  <tbody>\n",
       "    <tr>\n",
       "      <th>0</th>\n",
       "      <td>2006-03-01</td>\n",
       "      <td>9122.1</td>\n",
       "      <td>20.04</td>\n",
       "      <td>88.473</td>\n",
       "    </tr>\n",
       "    <tr>\n",
       "      <th>1</th>\n",
       "      <td>2006-04-01</td>\n",
       "      <td>9174.8</td>\n",
       "      <td>20.17</td>\n",
       "      <td>88.850</td>\n",
       "    </tr>\n",
       "    <tr>\n",
       "      <th>2</th>\n",
       "      <td>2006-05-01</td>\n",
       "      <td>9215.1</td>\n",
       "      <td>20.13</td>\n",
       "      <td>89.070</td>\n",
       "    </tr>\n",
       "    <tr>\n",
       "      <th>3</th>\n",
       "      <td>2006-06-01</td>\n",
       "      <td>9240.8</td>\n",
       "      <td>20.22</td>\n",
       "      <td>89.285</td>\n",
       "    </tr>\n",
       "    <tr>\n",
       "      <th>4</th>\n",
       "      <td>2006-07-01</td>\n",
       "      <td>9322.6</td>\n",
       "      <td>20.30</td>\n",
       "      <td>89.601</td>\n",
       "    </tr>\n",
       "    <tr>\n",
       "      <th>...</th>\n",
       "      <td>...</td>\n",
       "      <td>...</td>\n",
       "      <td>...</td>\n",
       "      <td>...</td>\n",
       "    </tr>\n",
       "    <tr>\n",
       "      <th>161</th>\n",
       "      <td>2019-08-01</td>\n",
       "      <td>14650.9</td>\n",
       "      <td>28.16</td>\n",
       "      <td>110.115</td>\n",
       "    </tr>\n",
       "    <tr>\n",
       "      <th>162</th>\n",
       "      <td>2019-09-01</td>\n",
       "      <td>14673.2</td>\n",
       "      <td>28.15</td>\n",
       "      <td>110.167</td>\n",
       "    </tr>\n",
       "    <tr>\n",
       "      <th>163</th>\n",
       "      <td>2019-10-01</td>\n",
       "      <td>14728.5</td>\n",
       "      <td>28.24</td>\n",
       "      <td>110.377</td>\n",
       "    </tr>\n",
       "    <tr>\n",
       "      <th>164</th>\n",
       "      <td>2019-11-01</td>\n",
       "      <td>14752.8</td>\n",
       "      <td>28.33</td>\n",
       "      <td>110.461</td>\n",
       "    </tr>\n",
       "    <tr>\n",
       "      <th>165</th>\n",
       "      <td>2019-12-01</td>\n",
       "      <td>14796.3</td>\n",
       "      <td>28.36</td>\n",
       "      <td>110.750</td>\n",
       "    </tr>\n",
       "  </tbody>\n",
       "</table>\n",
       "<p>166 rows × 4 columns</p>\n",
       "</div>"
      ],
      "text/plain": [
       "          date      PCE    AHE    PCEPI\n",
       "0   2006-03-01   9122.1  20.04   88.473\n",
       "1   2006-04-01   9174.8  20.17   88.850\n",
       "2   2006-05-01   9215.1  20.13   89.070\n",
       "3   2006-06-01   9240.8  20.22   89.285\n",
       "4   2006-07-01   9322.6  20.30   89.601\n",
       "..         ...      ...    ...      ...\n",
       "161 2019-08-01  14650.9  28.16  110.115\n",
       "162 2019-09-01  14673.2  28.15  110.167\n",
       "163 2019-10-01  14728.5  28.24  110.377\n",
       "164 2019-11-01  14752.8  28.33  110.461\n",
       "165 2019-12-01  14796.3  28.36  110.750\n",
       "\n",
       "[166 rows x 4 columns]"
      ]
     },
     "execution_count": 4,
     "metadata": {},
     "output_type": "execute_result"
    }
   ],
   "source": [
    "df_hw6"
   ]
  },
  {
   "cell_type": "code",
   "execution_count": 5,
   "id": "86c9dac2",
   "metadata": {},
   "outputs": [
    {
     "name": "stdout",
     "output_type": "stream",
     "text": [
      "<class 'pandas.core.frame.DataFrame'>\n",
      "RangeIndex: 166 entries, 0 to 165\n",
      "Data columns (total 4 columns):\n",
      " #   Column  Non-Null Count  Dtype         \n",
      "---  ------  --------------  -----         \n",
      " 0   date    166 non-null    datetime64[ns]\n",
      " 1   PCE     166 non-null    float64       \n",
      " 2   AHE     166 non-null    float64       \n",
      " 3   PCEPI   166 non-null    float64       \n",
      "dtypes: datetime64[ns](1), float64(3)\n",
      "memory usage: 5.3 KB\n"
     ]
    }
   ],
   "source": [
    "df_hw6.info()"
   ]
  },
  {
   "cell_type": "code",
   "execution_count": 6,
   "id": "011074c9",
   "metadata": {},
   "outputs": [
    {
     "data": {
      "text/html": [
       "<div>\n",
       "<style scoped>\n",
       "    .dataframe tbody tr th:only-of-type {\n",
       "        vertical-align: middle;\n",
       "    }\n",
       "\n",
       "    .dataframe tbody tr th {\n",
       "        vertical-align: top;\n",
       "    }\n",
       "\n",
       "    .dataframe thead th {\n",
       "        text-align: right;\n",
       "    }\n",
       "</style>\n",
       "<table border=\"1\" class=\"dataframe\">\n",
       "  <thead>\n",
       "    <tr style=\"text-align: right;\">\n",
       "      <th></th>\n",
       "      <th>PCE</th>\n",
       "      <th>AHE</th>\n",
       "      <th>PCEPI</th>\n",
       "    </tr>\n",
       "    <tr>\n",
       "      <th>date</th>\n",
       "      <th></th>\n",
       "      <th></th>\n",
       "      <th></th>\n",
       "    </tr>\n",
       "  </thead>\n",
       "  <tbody>\n",
       "    <tr>\n",
       "      <th>2006-03-01</th>\n",
       "      <td>9122.1</td>\n",
       "      <td>20.04</td>\n",
       "      <td>88.473</td>\n",
       "    </tr>\n",
       "    <tr>\n",
       "      <th>2006-04-01</th>\n",
       "      <td>9174.8</td>\n",
       "      <td>20.17</td>\n",
       "      <td>88.850</td>\n",
       "    </tr>\n",
       "    <tr>\n",
       "      <th>2006-05-01</th>\n",
       "      <td>9215.1</td>\n",
       "      <td>20.13</td>\n",
       "      <td>89.070</td>\n",
       "    </tr>\n",
       "    <tr>\n",
       "      <th>2006-06-01</th>\n",
       "      <td>9240.8</td>\n",
       "      <td>20.22</td>\n",
       "      <td>89.285</td>\n",
       "    </tr>\n",
       "    <tr>\n",
       "      <th>2006-07-01</th>\n",
       "      <td>9322.6</td>\n",
       "      <td>20.30</td>\n",
       "      <td>89.601</td>\n",
       "    </tr>\n",
       "    <tr>\n",
       "      <th>...</th>\n",
       "      <td>...</td>\n",
       "      <td>...</td>\n",
       "      <td>...</td>\n",
       "    </tr>\n",
       "    <tr>\n",
       "      <th>2019-08-01</th>\n",
       "      <td>14650.9</td>\n",
       "      <td>28.16</td>\n",
       "      <td>110.115</td>\n",
       "    </tr>\n",
       "    <tr>\n",
       "      <th>2019-09-01</th>\n",
       "      <td>14673.2</td>\n",
       "      <td>28.15</td>\n",
       "      <td>110.167</td>\n",
       "    </tr>\n",
       "    <tr>\n",
       "      <th>2019-10-01</th>\n",
       "      <td>14728.5</td>\n",
       "      <td>28.24</td>\n",
       "      <td>110.377</td>\n",
       "    </tr>\n",
       "    <tr>\n",
       "      <th>2019-11-01</th>\n",
       "      <td>14752.8</td>\n",
       "      <td>28.33</td>\n",
       "      <td>110.461</td>\n",
       "    </tr>\n",
       "    <tr>\n",
       "      <th>2019-12-01</th>\n",
       "      <td>14796.3</td>\n",
       "      <td>28.36</td>\n",
       "      <td>110.750</td>\n",
       "    </tr>\n",
       "  </tbody>\n",
       "</table>\n",
       "<p>166 rows × 3 columns</p>\n",
       "</div>"
      ],
      "text/plain": [
       "                PCE    AHE    PCEPI\n",
       "date                               \n",
       "2006-03-01   9122.1  20.04   88.473\n",
       "2006-04-01   9174.8  20.17   88.850\n",
       "2006-05-01   9215.1  20.13   89.070\n",
       "2006-06-01   9240.8  20.22   89.285\n",
       "2006-07-01   9322.6  20.30   89.601\n",
       "...             ...    ...      ...\n",
       "2019-08-01  14650.9  28.16  110.115\n",
       "2019-09-01  14673.2  28.15  110.167\n",
       "2019-10-01  14728.5  28.24  110.377\n",
       "2019-11-01  14752.8  28.33  110.461\n",
       "2019-12-01  14796.3  28.36  110.750\n",
       "\n",
       "[166 rows x 3 columns]"
      ]
     },
     "execution_count": 6,
     "metadata": {},
     "output_type": "execute_result"
    }
   ],
   "source": [
    "df_hw6.set_index('date', inplace = True)\n",
    "df_hw6"
   ]
  },
  {
   "cell_type": "code",
   "execution_count": 7,
   "id": "c4fcee88",
   "metadata": {},
   "outputs": [
    {
     "data": {
      "text/html": [
       "<div>\n",
       "<style scoped>\n",
       "    .dataframe tbody tr th:only-of-type {\n",
       "        vertical-align: middle;\n",
       "    }\n",
       "\n",
       "    .dataframe tbody tr th {\n",
       "        vertical-align: top;\n",
       "    }\n",
       "\n",
       "    .dataframe thead th {\n",
       "        text-align: right;\n",
       "    }\n",
       "</style>\n",
       "<table border=\"1\" class=\"dataframe\">\n",
       "  <thead>\n",
       "    <tr style=\"text-align: right;\">\n",
       "      <th></th>\n",
       "      <th>count</th>\n",
       "      <th>mean</th>\n",
       "      <th>std</th>\n",
       "      <th>min</th>\n",
       "      <th>25%</th>\n",
       "      <th>50%</th>\n",
       "      <th>75%</th>\n",
       "      <th>max</th>\n",
       "    </tr>\n",
       "  </thead>\n",
       "  <tbody>\n",
       "    <tr>\n",
       "      <th>PCE</th>\n",
       "      <td>166.0</td>\n",
       "      <td>11507.872289</td>\n",
       "      <td>1630.579647</td>\n",
       "      <td>9122.100</td>\n",
       "      <td>10009.0000</td>\n",
       "      <td>11204.100</td>\n",
       "      <td>12789.90000</td>\n",
       "      <td>14796.30</td>\n",
       "    </tr>\n",
       "    <tr>\n",
       "      <th>AHE</th>\n",
       "      <td>166.0</td>\n",
       "      <td>23.938193</td>\n",
       "      <td>2.235573</td>\n",
       "      <td>20.040</td>\n",
       "      <td>22.2375</td>\n",
       "      <td>23.765</td>\n",
       "      <td>25.67500</td>\n",
       "      <td>28.36</td>\n",
       "    </tr>\n",
       "    <tr>\n",
       "      <th>PCEPI</th>\n",
       "      <td>166.0</td>\n",
       "      <td>100.006169</td>\n",
       "      <td>6.028324</td>\n",
       "      <td>88.473</td>\n",
       "      <td>95.1450</td>\n",
       "      <td>100.861</td>\n",
       "      <td>104.18625</td>\n",
       "      <td>110.75</td>\n",
       "    </tr>\n",
       "  </tbody>\n",
       "</table>\n",
       "</div>"
      ],
      "text/plain": [
       "       count          mean          std       min         25%        50%  \\\n",
       "PCE    166.0  11507.872289  1630.579647  9122.100  10009.0000  11204.100   \n",
       "AHE    166.0     23.938193     2.235573    20.040     22.2375     23.765   \n",
       "PCEPI  166.0    100.006169     6.028324    88.473     95.1450    100.861   \n",
       "\n",
       "               75%       max  \n",
       "PCE    12789.90000  14796.30  \n",
       "AHE       25.67500     28.36  \n",
       "PCEPI    104.18625    110.75  "
      ]
     },
     "execution_count": 7,
     "metadata": {},
     "output_type": "execute_result"
    }
   ],
   "source": [
    "df_hw6.describe().T"
   ]
  },
  {
   "cell_type": "code",
   "execution_count": 8,
   "id": "401c07d6",
   "metadata": {},
   "outputs": [
    {
     "name": "stdout",
     "output_type": "stream",
     "text": [
      "AxesSubplot(0.125,0.125;0.775x0.755)\n",
      "AxesSubplot(0.125,0.125;0.775x0.755)\n",
      "AxesSubplot(0.125,0.125;0.775x0.755)\n"
     ]
    },
    {
     "data": {
      "image/png": "[encoded data removed]",
      "text/plain": [
       "<Figure size 432x288 with 1 Axes>"
      ]
     },
     "metadata": {},
     "output_type": "display_data"
    },
    {
     "data": {
      "image/png": "[encoded data removed]",
      "text/plain": [
       "<Figure size 432x288 with 1 Axes>"
      ]
     },
     "metadata": {},
     "output_type": "display_data"
    },
    {
     "data": {
      "image/png": "[encoded data removed]",
      "text/plain": [
       "<Figure size 432x288 with 1 Axes>"
      ]
     },
     "metadata": {},
     "output_type": "display_data"
    }
   ],
   "source": [
    "print(df_hw6[['PCE']].plot())\n",
    "print(df_hw6[['AHE']].plot())\n",
    "print(df_hw6[['PCEPI']].plot())"
   ]
  },
  {
   "cell_type": "code",
   "execution_count": 9,
   "id": "98296e97",
   "metadata": {},
   "outputs": [
    {
     "data": {
      "text/html": [
       "<div>\n",
       "<style scoped>\n",
       "    .dataframe tbody tr th:only-of-type {\n",
       "        vertical-align: middle;\n",
       "    }\n",
       "\n",
       "    .dataframe tbody tr th {\n",
       "        vertical-align: top;\n",
       "    }\n",
       "\n",
       "    .dataframe thead th {\n",
       "        text-align: right;\n",
       "    }\n",
       "</style>\n",
       "<table border=\"1\" class=\"dataframe\">\n",
       "  <thead>\n",
       "    <tr style=\"text-align: right;\">\n",
       "      <th></th>\n",
       "      <th>PCE</th>\n",
       "      <th>AHE</th>\n",
       "      <th>PCEPI</th>\n",
       "    </tr>\n",
       "  </thead>\n",
       "  <tbody>\n",
       "    <tr>\n",
       "      <th>PCE</th>\n",
       "      <td>1.000000</td>\n",
       "      <td>0.988292</td>\n",
       "      <td>0.973768</td>\n",
       "    </tr>\n",
       "    <tr>\n",
       "      <th>AHE</th>\n",
       "      <td>0.988292</td>\n",
       "      <td>1.000000</td>\n",
       "      <td>0.988329</td>\n",
       "    </tr>\n",
       "    <tr>\n",
       "      <th>PCEPI</th>\n",
       "      <td>0.973768</td>\n",
       "      <td>0.988329</td>\n",
       "      <td>1.000000</td>\n",
       "    </tr>\n",
       "  </tbody>\n",
       "</table>\n",
       "</div>"
      ],
      "text/plain": [
       "            PCE       AHE     PCEPI\n",
       "PCE    1.000000  0.988292  0.973768\n",
       "AHE    0.988292  1.000000  0.988329\n",
       "PCEPI  0.973768  0.988329  1.000000"
      ]
     },
     "execution_count": 9,
     "metadata": {},
     "output_type": "execute_result"
    }
   ],
   "source": [
    "df_hw6.corr()"
   ]
  },
  {
   "cell_type": "code",
   "execution_count": 10,
   "id": "4ec5ac1f",
   "metadata": {},
   "outputs": [
    {
     "data": {
      "text/plain": [
       "<AxesSubplot:>"
      ]
     },
     "execution_count": 10,
     "metadata": {},
     "output_type": "execute_result"
    },
    {
     "data": {
      "image/png": "[encoded data removed]",
      "text/plain": [
       "<Figure size 432x288 with 2 Axes>"
      ]
     },
     "metadata": {},
     "output_type": "display_data"
    }
   ],
   "source": [
    "sns.heatmap(df_hw6.corr())"
   ]
  },
  {
   "cell_type": "code",
   "execution_count": 11,
   "id": "b032d8b8",
   "metadata": {},
   "outputs": [
    {
     "data": {
      "image/png": "[encoded data removed]",
      "text/plain": [
       "<Figure size 432x288 with 1 Axes>"
      ]
     },
     "metadata": {},
     "output_type": "display_data"
    }
   ],
   "source": [
    "p = plot_acf(df_hw6['PCE'], lags=60, title='PCE Autocorrelation Plot')"
   ]
  },
  {
   "cell_type": "code",
   "execution_count": 12,
   "id": "0db0235a",
   "metadata": {},
   "outputs": [
    {
     "data": {
      "image/png": "[encoded data removed]",
      "text/plain": [
       "<Figure size 432x288 with 1 Axes>"
      ]
     },
     "metadata": {},
     "output_type": "display_data"
    }
   ],
   "source": [
    "p2 = plot_acf(df_hw6['AHE'], lags=60, title='AHE Autocorrelation Plot')"
   ]
  },
  {
   "cell_type": "code",
   "execution_count": 13,
   "id": "6128aac3",
   "metadata": {},
   "outputs": [
    {
     "data": {
      "image/png": "[encoded data removed]",
      "text/plain": [
       "<Figure size 432x288 with 1 Axes>"
      ]
     },
     "metadata": {},
     "output_type": "display_data"
    }
   ],
   "source": [
    "p3 = plot_acf(df_hw6['PCEPI'], lags=60, title='PCEPI Autocorrelation Plot')"
   ]
  },
  {
   "cell_type": "code",
   "execution_count": 14,
   "id": "6ab00696",
   "metadata": {},
   "outputs": [],
   "source": [
    "from statsmodels.tsa.stattools import kpss, adfuller\n",
    "from statsmodels.graphics.tsaplots import plot_acf, plot_pacf\n",
    "from copy import deepcopy\n",
    "\n",
    "def adf_test(timeseries):\n",
    "    print ('Dickey-Fuller Test Result:')\n",
    "    dftest = adfuller(timeseries, autolag='AIC')\n",
    "    dfoutput = pd.Series(dftest[0:4], index=['Test Statistic','p-value','#Lags Used','Number of Observations Used'])\n",
    "    for key,value in dftest[4].items():\n",
    "       dfoutput['Critical Value (%s)'%key] = value\n",
    "    print (dfoutput)\n",
    "\n",
    "#define KPSS\n",
    "def kpss_test(timeseries, trend='c'):\n",
    "    print ('KPSS Test Result:')\n",
    "    kpsstest = kpss(timeseries, regression=trend)\n",
    "    kpss_output = pd.Series(kpsstest[0:3], index=['Test Statistic','p-value','Lags Used'])\n",
    "    for key,value in kpsstest[3].items():\n",
    "        kpss_output['Critical Value (%s)'%key] = value\n",
    "    print (kpss_output)"
   ]
  },
  {
   "cell_type": "code",
   "execution_count": 15,
   "id": "a249459c",
   "metadata": {},
   "outputs": [
    {
     "name": "stdout",
     "output_type": "stream",
     "text": [
      "Dickey-Fuller Test Result:\n",
      "Test Statistic                   2.189889\n",
      "p-value                          0.998874\n",
      "#Lags Used                       2.000000\n",
      "Number of Observations Used    163.000000\n",
      "Critical Value (1%)             -3.471119\n",
      "Critical Value (5%)             -2.879441\n",
      "Critical Value (10%)            -2.576314\n",
      "dtype: float64\n",
      "Dickey-Fuller Test Result:\n",
      "Test Statistic                   1.680032\n",
      "p-value                          0.998079\n",
      "#Lags Used                       9.000000\n",
      "Number of Observations Used    156.000000\n",
      "Critical Value (1%)             -3.472979\n",
      "Critical Value (5%)             -2.880252\n",
      "Critical Value (10%)            -2.576747\n",
      "dtype: float64\n",
      "Dickey-Fuller Test Result:\n",
      "Test Statistic                  -0.434152\n",
      "p-value                          0.904239\n",
      "#Lags Used                       1.000000\n",
      "Number of Observations Used    164.000000\n",
      "Critical Value (1%)             -3.470866\n",
      "Critical Value (5%)             -2.879330\n",
      "Critical Value (10%)            -2.576255\n",
      "dtype: float64\n"
     ]
    }
   ],
   "source": [
    "adf_test(df_hw6['PCE'])\n",
    "adf_test(df_hw6['AHE'])\n",
    "adf_test(df_hw6['PCEPI'])"
   ]
  },
  {
   "cell_type": "code",
   "execution_count": 16,
   "id": "e3e7a511",
   "metadata": {},
   "outputs": [
    {
     "name": "stdout",
     "output_type": "stream",
     "text": [
      "stationarity from ad_fuller test: FALSE\n"
     ]
    }
   ],
   "source": [
    "adf_pce = adfuller(df_hw6['PCE'])\n",
    "ad_fuller_pval = adf_pce[1]\n",
    "\n",
    "if ad_fuller_pval <= 0.05:\n",
    "    print('stationarity from ad_fuller test: TRUE')\n",
    "else:\n",
    "    print('stationarity from ad_fuller test: FALSE')"
   ]
  },
  {
   "cell_type": "code",
   "execution_count": 17,
   "id": "c45d1108",
   "metadata": {},
   "outputs": [
    {
     "name": "stdout",
     "output_type": "stream",
     "text": [
      "stationarity from ad_fuller test: FALSE\n"
     ]
    }
   ],
   "source": [
    "adf_ahe = adfuller(df_hw6['AHE'])\n",
    "ad_fuller_pval = adf_ahe[1]\n",
    "\n",
    "if ad_fuller_pval <= 0.05:\n",
    "    print('stationarity from ad_fuller test: TRUE')\n",
    "else:\n",
    "    print('stationarity from ad_fuller test: FALSE')"
   ]
  },
  {
   "cell_type": "code",
   "execution_count": 18,
   "id": "145157b2",
   "metadata": {},
   "outputs": [
    {
     "name": "stdout",
     "output_type": "stream",
     "text": [
      "stationarity from ad_fuller test: FALSE\n"
     ]
    }
   ],
   "source": [
    "adf_pcepi = adfuller(df_hw6['PCEPI'])\n",
    "ad_fuller_pval = adf_pcepi[1]\n",
    "\n",
    "if ad_fuller_pval <= 0.05:\n",
    "    print('stationarity from ad_fuller test: TRUE')\n",
    "else:\n",
    "    print('stationarity from ad_fuller test: FALSE')"
   ]
  },
  {
   "cell_type": "code",
   "execution_count": 19,
   "id": "c65a0e65",
   "metadata": {},
   "outputs": [
    {
     "name": "stdout",
     "output_type": "stream",
     "text": [
      "KPSS Test Result:\n",
      "Test Statistic            1.190019\n",
      "p-value                   0.010000\n",
      "Lags Used                14.000000\n",
      "Critical Value (10%)      0.347000\n",
      "Critical Value (5%)       0.463000\n",
      "Critical Value (2.5%)     0.574000\n",
      "Critical Value (1%)       0.739000\n",
      "dtype: float64\n",
      "KPSS Test Result:\n",
      "Test Statistic            1.207634\n",
      "p-value                   0.010000\n",
      "Lags Used                14.000000\n",
      "Critical Value (10%)      0.347000\n",
      "Critical Value (5%)       0.463000\n",
      "Critical Value (2.5%)     0.574000\n",
      "Critical Value (1%)       0.739000\n",
      "dtype: float64\n",
      "KPSS Test Result:\n",
      "Test Statistic            1.206769\n",
      "p-value                   0.010000\n",
      "Lags Used                14.000000\n",
      "Critical Value (10%)      0.347000\n",
      "Critical Value (5%)       0.463000\n",
      "Critical Value (2.5%)     0.574000\n",
      "Critical Value (1%)       0.739000\n",
      "dtype: float64\n"
     ]
    }
   ],
   "source": [
    "kpss_test(df_hw6['PCE'])\n",
    "kpss_test(df_hw6['AHE'])\n",
    "kpss_test(df_hw6['PCEPI'])"
   ]
  },
  {
   "cell_type": "code",
   "execution_count": 20,
   "id": "3cc6fb12",
   "metadata": {},
   "outputs": [
    {
     "name": "stdout",
     "output_type": "stream",
     "text": [
      "stationarity from kpss_fuller test: FALSE\n"
     ]
    }
   ],
   "source": [
    "kpss_pce = kpss(df_hw6['PCE'])\n",
    "kpss_pval = kpss_pce[1]\n",
    "\n",
    "if kpss_pval >= 0.05:\n",
    "    print('stationarity from kpss_fuller test: TRUE')\n",
    "else:\n",
    "    print('stationarity from kpss_fuller test: FALSE')"
   ]
  },
  {
   "cell_type": "code",
   "execution_count": 21,
   "id": "0c2a4270",
   "metadata": {},
   "outputs": [
    {
     "name": "stdout",
     "output_type": "stream",
     "text": [
      "stationarity from kpss_fuller test: FALSE\n"
     ]
    }
   ],
   "source": [
    "kpss_ahe = kpss(df_hw6['AHE'])\n",
    "kpss_pval = kpss_ahe[1]\n",
    "\n",
    "if kpss_pval >= 0.05:\n",
    "    print('stationarity from kpss_fuller test: TRUE')\n",
    "else:\n",
    "    print('stationarity from kpss_fuller test: FALSE')"
   ]
  },
  {
   "cell_type": "code",
   "execution_count": 22,
   "id": "43a3ede2",
   "metadata": {},
   "outputs": [
    {
     "name": "stdout",
     "output_type": "stream",
     "text": [
      "stationarity from kpss_fuller test: FALSE\n"
     ]
    }
   ],
   "source": [
    "kpss_pcepi = kpss(df_hw6['PCEPI'])\n",
    "kpss_pval = kpss_pcepi[1]\n",
    "\n",
    "if kpss_pval >= 0.05:\n",
    "    print('stationarity from kpss_fuller test: TRUE')\n",
    "else:\n",
    "    print('stationarity from kpss_fuller test: FALSE')"
   ]
  },
  {
   "cell_type": "markdown",
   "id": "f63450e4",
   "metadata": {},
   "source": [
    "### 1.B. 10 pts Give a summary of your findings\n",
    "- Reading in the data we can observe three variables aside from `date`: \n",
    "    - PCE, Personal consumptions expenditures is the primary measure of consumer spending on goods and services in the US economy.\n",
    "    - AHE, Average hourly earnings (dollars per hour) and reported monthly\n",
    "    - PCEPI, Personal consumptions expenditures price index is a measure of the average increase in prices for all domestic personal consumption. \n",
    "- Visually inspecting our data in a plot, we can observe a positive upward trend over time for all variables.\n",
    "- There are 166 data points in our series, with a mean PCE of 11507.87 and standard deviation of 1630.58; mean AHE of 23.94 and sd of 2.24; and PCEPI mean of 100.01 and sd 6.03. The data points are recorded between a time period of March 2006 to December 2019.\n",
    "- We conduct a check for null or missing values and find there are no missing values.\n",
    "- There is correlation found between the relationship of all variables (according to our heatmap created)\n",
    "- The ADF and KPSS test reveal that the time series is not stationary for all three variables"
   ]
  },
  {
   "cell_type": "markdown",
   "id": "b513189b",
   "metadata": {},
   "source": [
    "## Part 2. 40 pts – Granger Causality\n",
    "\n",
    "### 2.A. 8 pts Consider PCE and AHE, give an intuitive description of the relationship between the two economic measures. This is your opinion, looking for logic and understanding not right or wrong\n",
    "- Given the context provided by the descriptions offered for each of these variables (PCE and AHE), and given our existing knowledge of personal expenditure, and of hourly wages, we can propose the relationship between the two is positively correlated.\n",
    "- In other words, as hourly wages rise, so does personal expenditures (on average). This linkage is intuitive. It can also be said that as personal expenditures rise, generally you will discover hourly wages increase as well. This is not as intuitive and has lower likelihood to occur in comparison to when hourly wages rise, so does personal expenditures\n",
    "- Our EDA heatmap shows a strong correlation between PCE and AHE providing evidence that they are closely linked"
   ]
  },
  {
   "cell_type": "markdown",
   "id": "da793115",
   "metadata": {},
   "source": [
    "### 2.B. 8 pts Difference the two variables"
   ]
  },
  {
   "cell_type": "code",
   "execution_count": 23,
   "id": "c2471a9a",
   "metadata": {},
   "outputs": [
    {
     "data": {
      "text/html": [
       "<div>\n",
       "<style scoped>\n",
       "    .dataframe tbody tr th:only-of-type {\n",
       "        vertical-align: middle;\n",
       "    }\n",
       "\n",
       "    .dataframe tbody tr th {\n",
       "        vertical-align: top;\n",
       "    }\n",
       "\n",
       "    .dataframe thead th {\n",
       "        text-align: right;\n",
       "    }\n",
       "</style>\n",
       "<table border=\"1\" class=\"dataframe\">\n",
       "  <thead>\n",
       "    <tr style=\"text-align: right;\">\n",
       "      <th></th>\n",
       "      <th>PCE</th>\n",
       "      <th>AHE</th>\n",
       "      <th>PCEPI</th>\n",
       "      <th>PCE_diff</th>\n",
       "      <th>AHE_diff</th>\n",
       "      <th>PCEPI_diff</th>\n",
       "    </tr>\n",
       "    <tr>\n",
       "      <th>date</th>\n",
       "      <th></th>\n",
       "      <th></th>\n",
       "      <th></th>\n",
       "      <th></th>\n",
       "      <th></th>\n",
       "      <th></th>\n",
       "    </tr>\n",
       "  </thead>\n",
       "  <tbody>\n",
       "    <tr>\n",
       "      <th>2006-03-01</th>\n",
       "      <td>9122.1</td>\n",
       "      <td>20.04</td>\n",
       "      <td>88.473</td>\n",
       "      <td>NaN</td>\n",
       "      <td>NaN</td>\n",
       "      <td>NaN</td>\n",
       "    </tr>\n",
       "    <tr>\n",
       "      <th>2006-04-01</th>\n",
       "      <td>9174.8</td>\n",
       "      <td>20.17</td>\n",
       "      <td>88.850</td>\n",
       "      <td>52.7</td>\n",
       "      <td>0.13</td>\n",
       "      <td>0.377</td>\n",
       "    </tr>\n",
       "    <tr>\n",
       "      <th>2006-05-01</th>\n",
       "      <td>9215.1</td>\n",
       "      <td>20.13</td>\n",
       "      <td>89.070</td>\n",
       "      <td>40.3</td>\n",
       "      <td>-0.04</td>\n",
       "      <td>0.220</td>\n",
       "    </tr>\n",
       "    <tr>\n",
       "      <th>2006-06-01</th>\n",
       "      <td>9240.8</td>\n",
       "      <td>20.22</td>\n",
       "      <td>89.285</td>\n",
       "      <td>25.7</td>\n",
       "      <td>0.09</td>\n",
       "      <td>0.215</td>\n",
       "    </tr>\n",
       "    <tr>\n",
       "      <th>2006-07-01</th>\n",
       "      <td>9322.6</td>\n",
       "      <td>20.30</td>\n",
       "      <td>89.601</td>\n",
       "      <td>81.8</td>\n",
       "      <td>0.08</td>\n",
       "      <td>0.316</td>\n",
       "    </tr>\n",
       "    <tr>\n",
       "      <th>...</th>\n",
       "      <td>...</td>\n",
       "      <td>...</td>\n",
       "      <td>...</td>\n",
       "      <td>...</td>\n",
       "      <td>...</td>\n",
       "      <td>...</td>\n",
       "    </tr>\n",
       "    <tr>\n",
       "      <th>2019-08-01</th>\n",
       "      <td>14650.9</td>\n",
       "      <td>28.16</td>\n",
       "      <td>110.115</td>\n",
       "      <td>39.0</td>\n",
       "      <td>0.12</td>\n",
       "      <td>0.073</td>\n",
       "    </tr>\n",
       "    <tr>\n",
       "      <th>2019-09-01</th>\n",
       "      <td>14673.2</td>\n",
       "      <td>28.15</td>\n",
       "      <td>110.167</td>\n",
       "      <td>22.3</td>\n",
       "      <td>-0.01</td>\n",
       "      <td>0.052</td>\n",
       "    </tr>\n",
       "    <tr>\n",
       "      <th>2019-10-01</th>\n",
       "      <td>14728.5</td>\n",
       "      <td>28.24</td>\n",
       "      <td>110.377</td>\n",
       "      <td>55.3</td>\n",
       "      <td>0.09</td>\n",
       "      <td>0.210</td>\n",
       "    </tr>\n",
       "    <tr>\n",
       "      <th>2019-11-01</th>\n",
       "      <td>14752.8</td>\n",
       "      <td>28.33</td>\n",
       "      <td>110.461</td>\n",
       "      <td>24.3</td>\n",
       "      <td>0.09</td>\n",
       "      <td>0.084</td>\n",
       "    </tr>\n",
       "    <tr>\n",
       "      <th>2019-12-01</th>\n",
       "      <td>14796.3</td>\n",
       "      <td>28.36</td>\n",
       "      <td>110.750</td>\n",
       "      <td>43.5</td>\n",
       "      <td>0.03</td>\n",
       "      <td>0.289</td>\n",
       "    </tr>\n",
       "  </tbody>\n",
       "</table>\n",
       "<p>166 rows × 6 columns</p>\n",
       "</div>"
      ],
      "text/plain": [
       "                PCE    AHE    PCEPI  PCE_diff  AHE_diff  PCEPI_diff\n",
       "date                                                               \n",
       "2006-03-01   9122.1  20.04   88.473       NaN       NaN         NaN\n",
       "2006-04-01   9174.8  20.17   88.850      52.7      0.13       0.377\n",
       "2006-05-01   9215.1  20.13   89.070      40.3     -0.04       0.220\n",
       "2006-06-01   9240.8  20.22   89.285      25.7      0.09       0.215\n",
       "2006-07-01   9322.6  20.30   89.601      81.8      0.08       0.316\n",
       "...             ...    ...      ...       ...       ...         ...\n",
       "2019-08-01  14650.9  28.16  110.115      39.0      0.12       0.073\n",
       "2019-09-01  14673.2  28.15  110.167      22.3     -0.01       0.052\n",
       "2019-10-01  14728.5  28.24  110.377      55.3      0.09       0.210\n",
       "2019-11-01  14752.8  28.33  110.461      24.3      0.09       0.084\n",
       "2019-12-01  14796.3  28.36  110.750      43.5      0.03       0.289\n",
       "\n",
       "[166 rows x 6 columns]"
      ]
     },
     "execution_count": 23,
     "metadata": {},
     "output_type": "execute_result"
    }
   ],
   "source": [
    "df_hw6['PCE_diff'] = df_hw6['PCE'].diff()\n",
    "df_hw6['AHE_diff'] = df_hw6['AHE'].diff()\n",
    "df_hw6['PCEPI_diff'] = df_hw6['PCEPI'].diff()\n",
    "df_hw6"
   ]
  },
  {
   "cell_type": "markdown",
   "id": "0c1fa6e2",
   "metadata": {},
   "source": [
    "### 2.C. 8 pts Check Granger Causality for the direction you stated in 2A, return plot of results"
   ]
  },
  {
   "cell_type": "code",
   "execution_count": 24,
   "id": "8ef2881b",
   "metadata": {},
   "outputs": [],
   "source": [
    "from statsmodels.tsa.stattools import grangercausalitytests, q_stat"
   ]
  },
  {
   "cell_type": "code",
   "execution_count": 25,
   "id": "e1834c1c",
   "metadata": {},
   "outputs": [],
   "source": [
    "df = df_hw6[['PCE_diff', 'AHE_diff']].dropna()"
   ]
  },
  {
   "cell_type": "code",
   "execution_count": 26,
   "id": "000d3680",
   "metadata": {},
   "outputs": [
    {
     "data": {
      "text/html": [
       "<div>\n",
       "<style scoped>\n",
       "    .dataframe tbody tr th:only-of-type {\n",
       "        vertical-align: middle;\n",
       "    }\n",
       "\n",
       "    .dataframe tbody tr th {\n",
       "        vertical-align: top;\n",
       "    }\n",
       "\n",
       "    .dataframe thead th {\n",
       "        text-align: right;\n",
       "    }\n",
       "</style>\n",
       "<table border=\"1\" class=\"dataframe\">\n",
       "  <thead>\n",
       "    <tr style=\"text-align: right;\">\n",
       "      <th></th>\n",
       "      <th>PCE_diff</th>\n",
       "      <th>AHE_diff</th>\n",
       "    </tr>\n",
       "    <tr>\n",
       "      <th>date</th>\n",
       "      <th></th>\n",
       "      <th></th>\n",
       "    </tr>\n",
       "  </thead>\n",
       "  <tbody>\n",
       "    <tr>\n",
       "      <th>2006-04-01</th>\n",
       "      <td>52.7</td>\n",
       "      <td>0.13</td>\n",
       "    </tr>\n",
       "    <tr>\n",
       "      <th>2006-05-01</th>\n",
       "      <td>40.3</td>\n",
       "      <td>-0.04</td>\n",
       "    </tr>\n",
       "    <tr>\n",
       "      <th>2006-06-01</th>\n",
       "      <td>25.7</td>\n",
       "      <td>0.09</td>\n",
       "    </tr>\n",
       "    <tr>\n",
       "      <th>2006-07-01</th>\n",
       "      <td>81.8</td>\n",
       "      <td>0.08</td>\n",
       "    </tr>\n",
       "    <tr>\n",
       "      <th>2006-08-01</th>\n",
       "      <td>-0.8</td>\n",
       "      <td>0.02</td>\n",
       "    </tr>\n",
       "  </tbody>\n",
       "</table>\n",
       "</div>"
      ],
      "text/plain": [
       "            PCE_diff  AHE_diff\n",
       "date                          \n",
       "2006-04-01      52.7      0.13\n",
       "2006-05-01      40.3     -0.04\n",
       "2006-06-01      25.7      0.09\n",
       "2006-07-01      81.8      0.08\n",
       "2006-08-01      -0.8      0.02"
      ]
     },
     "execution_count": 26,
     "metadata": {},
     "output_type": "execute_result"
    }
   ],
   "source": [
    "df.head()"
   ]
  },
  {
   "cell_type": "code",
   "execution_count": 27,
   "id": "646ef500",
   "metadata": {},
   "outputs": [
    {
     "name": "stdout",
     "output_type": "stream",
     "text": [
      "AxesSubplot(0.125,0.125;0.775x0.755)\n",
      "AxesSubplot(0.125,0.125;0.775x0.755)\n"
     ]
    },
    {
     "data": {
      "image/png": "[encoded data removed]",
      "text/plain": [
       "<Figure size 432x288 with 1 Axes>"
      ]
     },
     "metadata": {},
     "output_type": "display_data"
    },
    {
     "data": {
      "image/png": "[encoded data removed]",
      "text/plain": [
       "<Figure size 432x288 with 1 Axes>"
      ]
     },
     "metadata": {},
     "output_type": "display_data"
    }
   ],
   "source": [
    "print(df[['PCE_diff']].plot())\n",
    "print(df[['AHE_diff']].plot())"
   ]
  },
  {
   "cell_type": "code",
   "execution_count": 28,
   "id": "6df3c4cf",
   "metadata": {},
   "outputs": [],
   "source": [
    "alpha=0.05"
   ]
  },
  {
   "cell_type": "code",
   "execution_count": 29,
   "id": "244a4645",
   "metadata": {},
   "outputs": [
    {
     "name": "stdout",
     "output_type": "stream",
     "text": [
      "\n",
      "Granger Causality\n",
      "number of lags (no zero) 1\n",
      "ssr based F test:         F=0.0285  , p=0.8662  , df_denom=161, df_num=1\n",
      "ssr based chi2 test:   chi2=0.0290  , p=0.8648  , df=1\n",
      "likelihood ratio test: chi2=0.0290  , p=0.8648  , df=1\n",
      "parameter F test:         F=0.0285  , p=0.8662  , df_denom=161, df_num=1\n",
      "\n",
      "Granger Causality\n",
      "number of lags (no zero) 2\n",
      "ssr based F test:         F=0.1227  , p=0.8846  , df_denom=158, df_num=2\n",
      "ssr based chi2 test:   chi2=0.2531  , p=0.8811  , df=2\n",
      "likelihood ratio test: chi2=0.2529  , p=0.8812  , df=2\n",
      "parameter F test:         F=0.1227  , p=0.8846  , df_denom=158, df_num=2\n",
      "\n",
      "Granger Causality\n",
      "number of lags (no zero) 3\n",
      "ssr based F test:         F=0.1740  , p=0.9138  , df_denom=155, df_num=3\n",
      "ssr based chi2 test:   chi2=0.5457  , p=0.9087  , df=3\n",
      "likelihood ratio test: chi2=0.5448  , p=0.9089  , df=3\n",
      "parameter F test:         F=0.1740  , p=0.9138  , df_denom=155, df_num=3\n",
      "\n",
      "Granger Causality\n",
      "number of lags (no zero) 4\n",
      "ssr based F test:         F=0.5205  , p=0.7208  , df_denom=152, df_num=4\n",
      "ssr based chi2 test:   chi2=2.2052  , p=0.6981  , df=4\n",
      "likelihood ratio test: chi2=2.1903  , p=0.7008  , df=4\n",
      "parameter F test:         F=0.5205  , p=0.7208  , df_denom=152, df_num=4\n",
      "\n",
      "Granger Causality\n",
      "number of lags (no zero) 5\n",
      "ssr based F test:         F=0.5312  , p=0.7524  , df_denom=149, df_num=5\n",
      "ssr based chi2 test:   chi2=2.8518  , p=0.7228  , df=5\n",
      "likelihood ratio test: chi2=2.8267  , p=0.7267  , df=5\n",
      "parameter F test:         F=0.5312  , p=0.7524  , df_denom=149, df_num=5\n",
      "\n",
      "Granger Causality\n",
      "number of lags (no zero) 6\n",
      "ssr based F test:         F=0.5335  , p=0.7821  , df_denom=146, df_num=6\n",
      "ssr based chi2 test:   chi2=3.4861  , p=0.7458  , df=6\n",
      "likelihood ratio test: chi2=3.4484  , p=0.7508  , df=6\n",
      "parameter F test:         F=0.5335  , p=0.7821  , df_denom=146, df_num=6\n",
      "\n",
      "Granger Causality\n",
      "number of lags (no zero) 7\n",
      "ssr based F test:         F=0.5116  , p=0.8247  , df_denom=143, df_num=7\n",
      "ssr based chi2 test:   chi2=3.9568  , p=0.7847  , df=7\n",
      "likelihood ratio test: chi2=3.9081  , p=0.7903  , df=7\n",
      "parameter F test:         F=0.5116  , p=0.8247  , df_denom=143, df_num=7\n",
      "\n",
      "Granger Causality\n",
      "number of lags (no zero) 8\n",
      "ssr based F test:         F=0.4807  , p=0.8683  , df_denom=140, df_num=8\n",
      "ssr based chi2 test:   chi2=4.3122  , p=0.8279  , df=8\n",
      "likelihood ratio test: chi2=4.2540  , p=0.8335  , df=8\n",
      "parameter F test:         F=0.4807  , p=0.8683  , df_denom=140, df_num=8\n",
      "\n",
      "Granger Causality\n",
      "number of lags (no zero) 9\n",
      "ssr based F test:         F=0.4320  , p=0.9159  , df_denom=137, df_num=9\n",
      "ssr based chi2 test:   chi2=4.4271  , p=0.8811  , df=9\n",
      "likelihood ratio test: chi2=4.3654  , p=0.8858  , df=9\n",
      "parameter F test:         F=0.4320  , p=0.9159  , df_denom=137, df_num=9\n",
      "\n",
      "Granger Causality\n",
      "number of lags (no zero) 10\n",
      "ssr based F test:         F=0.4233  , p=0.9333  , df_denom=134, df_num=10\n",
      "ssr based chi2 test:   chi2=4.8967  , p=0.8980  , df=10\n",
      "likelihood ratio test: chi2=4.8209  , p=0.9028  , df=10\n",
      "parameter F test:         F=0.4233  , p=0.9333  , df_denom=134, df_num=10\n",
      "\n",
      "Granger Causality\n",
      "number of lags (no zero) 11\n",
      "ssr based F test:         F=0.6223  , p=0.8072  , df_denom=131, df_num=11\n",
      "ssr based chi2 test:   chi2=8.0468  , p=0.7091  , df=11\n",
      "likelihood ratio test: chi2=7.8436  , p=0.7272  , df=11\n",
      "parameter F test:         F=0.6223  , p=0.8072  , df_denom=131, df_num=11\n"
     ]
    }
   ],
   "source": [
    "granger_results = grangercausalitytests(df, maxlag=11, verbose=True)"
   ]
  },
  {
   "cell_type": "code",
   "execution_count": 30,
   "id": "c4d380c1",
   "metadata": {},
   "outputs": [
    {
     "data": {
      "image/png": "[encoded data removed]",
      "text/plain": [
       "<Figure size 432x288 with 1 Axes>"
      ]
     },
     "metadata": {},
     "output_type": "display_data"
    }
   ],
   "source": [
    "res_list = []\n",
    "for lag, v in granger_results.items():\n",
    "    res = {}\n",
    "    res['Lag'] = lag\n",
    "    for test, stats in v[0].items():\n",
    "        res[test] = stats[1]\n",
    "\n",
    "    res_list.append(res)\n",
    "\n",
    "pvals = pd.DataFrame(res_list)\n",
    "pvals.set_index('Lag', inplace=True)\n",
    "pvals_graph = pvals['params_ftest']\n",
    "\n",
    "pvals_graph.plot(title='Granger Causality Test')\n",
    "alpha_ser = pd.Series([alpha]*len(pvals_graph), index=pvals_graph.index)\n",
    "alpha_ser.plot(color='red')\n",
    "plt.ylabel('p-value')\n",
    "plt.show()"
   ]
  },
  {
   "cell_type": "markdown",
   "id": "112ca65c",
   "metadata": {},
   "source": [
    "### 2.D. 8 pts Check Granger Causality for the opposite direction you stated in 2A, return plot of results"
   ]
  },
  {
   "cell_type": "code",
   "execution_count": 31,
   "id": "60a15878",
   "metadata": {},
   "outputs": [],
   "source": [
    "df = df_hw6[['AHE_diff', 'PCE_diff']].dropna()"
   ]
  },
  {
   "cell_type": "code",
   "execution_count": 32,
   "id": "95858fec",
   "metadata": {},
   "outputs": [
    {
     "data": {
      "text/html": [
       "<div>\n",
       "<style scoped>\n",
       "    .dataframe tbody tr th:only-of-type {\n",
       "        vertical-align: middle;\n",
       "    }\n",
       "\n",
       "    .dataframe tbody tr th {\n",
       "        vertical-align: top;\n",
       "    }\n",
       "\n",
       "    .dataframe thead th {\n",
       "        text-align: right;\n",
       "    }\n",
       "</style>\n",
       "<table border=\"1\" class=\"dataframe\">\n",
       "  <thead>\n",
       "    <tr style=\"text-align: right;\">\n",
       "      <th></th>\n",
       "      <th>AHE_diff</th>\n",
       "      <th>PCE_diff</th>\n",
       "    </tr>\n",
       "    <tr>\n",
       "      <th>date</th>\n",
       "      <th></th>\n",
       "      <th></th>\n",
       "    </tr>\n",
       "  </thead>\n",
       "  <tbody>\n",
       "    <tr>\n",
       "      <th>2006-04-01</th>\n",
       "      <td>0.13</td>\n",
       "      <td>52.7</td>\n",
       "    </tr>\n",
       "    <tr>\n",
       "      <th>2006-05-01</th>\n",
       "      <td>-0.04</td>\n",
       "      <td>40.3</td>\n",
       "    </tr>\n",
       "    <tr>\n",
       "      <th>2006-06-01</th>\n",
       "      <td>0.09</td>\n",
       "      <td>25.7</td>\n",
       "    </tr>\n",
       "    <tr>\n",
       "      <th>2006-07-01</th>\n",
       "      <td>0.08</td>\n",
       "      <td>81.8</td>\n",
       "    </tr>\n",
       "    <tr>\n",
       "      <th>2006-08-01</th>\n",
       "      <td>0.02</td>\n",
       "      <td>-0.8</td>\n",
       "    </tr>\n",
       "  </tbody>\n",
       "</table>\n",
       "</div>"
      ],
      "text/plain": [
       "            AHE_diff  PCE_diff\n",
       "date                          \n",
       "2006-04-01      0.13      52.7\n",
       "2006-05-01     -0.04      40.3\n",
       "2006-06-01      0.09      25.7\n",
       "2006-07-01      0.08      81.8\n",
       "2006-08-01      0.02      -0.8"
      ]
     },
     "execution_count": 32,
     "metadata": {},
     "output_type": "execute_result"
    }
   ],
   "source": [
    "df.head()"
   ]
  },
  {
   "cell_type": "code",
   "execution_count": 33,
   "id": "c921b81f",
   "metadata": {},
   "outputs": [
    {
     "name": "stdout",
     "output_type": "stream",
     "text": [
      "\n",
      "Granger Causality\n",
      "number of lags (no zero) 1\n",
      "ssr based F test:         F=0.0186  , p=0.8917  , df_denom=161, df_num=1\n",
      "ssr based chi2 test:   chi2=0.0189  , p=0.8906  , df=1\n",
      "likelihood ratio test: chi2=0.0189  , p=0.8906  , df=1\n",
      "parameter F test:         F=0.0186  , p=0.8917  , df_denom=161, df_num=1\n",
      "\n",
      "Granger Causality\n",
      "number of lags (no zero) 2\n",
      "ssr based F test:         F=1.1373  , p=0.3233  , df_denom=158, df_num=2\n",
      "ssr based chi2 test:   chi2=2.3466  , p=0.3094  , df=2\n",
      "likelihood ratio test: chi2=2.3298  , p=0.3119  , df=2\n",
      "parameter F test:         F=1.1373  , p=0.3233  , df_denom=158, df_num=2\n",
      "\n",
      "Granger Causality\n",
      "number of lags (no zero) 3\n",
      "ssr based F test:         F=1.7396  , p=0.1612  , df_denom=155, df_num=3\n",
      "ssr based chi2 test:   chi2=5.4546  , p=0.1414  , df=3\n",
      "likelihood ratio test: chi2=5.3648  , p=0.1470  , df=3\n",
      "parameter F test:         F=1.7396  , p=0.1612  , df_denom=155, df_num=3\n",
      "\n",
      "Granger Causality\n",
      "number of lags (no zero) 4\n",
      "ssr based F test:         F=1.7223  , p=0.1479  , df_denom=152, df_num=4\n",
      "ssr based chi2 test:   chi2=7.2970  , p=0.1210  , df=4\n",
      "likelihood ratio test: chi2=7.1365  , p=0.1288  , df=4\n",
      "parameter F test:         F=1.7223  , p=0.1479  , df_denom=152, df_num=4\n",
      "\n",
      "Granger Causality\n",
      "number of lags (no zero) 5\n",
      "ssr based F test:         F=1.7941  , p=0.1174  , df_denom=149, df_num=5\n",
      "ssr based chi2 test:   chi2=9.6329  , p=0.0863  , df=5\n",
      "likelihood ratio test: chi2=9.3540  , p=0.0957  , df=5\n",
      "parameter F test:         F=1.7941  , p=0.1174  , df_denom=149, df_num=5\n",
      "\n",
      "Granger Causality\n",
      "number of lags (no zero) 6\n",
      "ssr based F test:         F=1.8099  , p=0.1010  , df_denom=146, df_num=6\n",
      "ssr based chi2 test:   chi2=11.8261 , p=0.0660  , df=6\n",
      "likelihood ratio test: chi2=11.4069 , p=0.0766  , df=6\n",
      "parameter F test:         F=1.8099  , p=0.1010  , df_denom=146, df_num=6\n",
      "\n",
      "Granger Causality\n",
      "number of lags (no zero) 7\n",
      "ssr based F test:         F=1.4748  , p=0.1808  , df_denom=143, df_num=7\n",
      "ssr based chi2 test:   chi2=11.4064 , p=0.1218  , df=7\n",
      "likelihood ratio test: chi2=11.0134 , p=0.1380  , df=7\n",
      "parameter F test:         F=1.4748  , p=0.1808  , df_denom=143, df_num=7\n",
      "\n",
      "Granger Causality\n",
      "number of lags (no zero) 8\n",
      "ssr based F test:         F=1.4762  , p=0.1711  , df_denom=140, df_num=8\n",
      "ssr based chi2 test:   chi2=13.2438 , p=0.1037  , df=8\n",
      "likelihood ratio test: chi2=12.7147 , p=0.1220  , df=8\n",
      "parameter F test:         F=1.4762  , p=0.1711  , df_denom=140, df_num=8\n",
      "\n",
      "Granger Causality\n",
      "number of lags (no zero) 9\n",
      "ssr based F test:         F=2.2035  , p=0.0253  , df_denom=137, df_num=9\n",
      "ssr based chi2 test:   chi2=22.5822 , p=0.0072  , df=9\n",
      "likelihood ratio test: chi2=21.0901 , p=0.0123  , df=9\n",
      "parameter F test:         F=2.2035  , p=0.0253  , df_denom=137, df_num=9\n",
      "\n",
      "Granger Causality\n",
      "number of lags (no zero) 10\n",
      "ssr based F test:         F=1.9624  , p=0.0422  , df_denom=134, df_num=10\n",
      "ssr based chi2 test:   chi2=22.6999 , p=0.0119  , df=10\n",
      "likelihood ratio test: chi2=21.1840 , p=0.0198  , df=10\n",
      "parameter F test:         F=1.9624  , p=0.0422  , df_denom=134, df_num=10\n",
      "\n",
      "Granger Causality\n",
      "number of lags (no zero) 11\n",
      "ssr based F test:         F=1.8815  , p=0.0473  , df_denom=131, df_num=11\n",
      "ssr based chi2 test:   chi2=24.3304 , p=0.0114  , df=11\n",
      "likelihood ratio test: chi2=22.5895 , p=0.0202  , df=11\n",
      "parameter F test:         F=1.8815  , p=0.0473  , df_denom=131, df_num=11\n"
     ]
    }
   ],
   "source": [
    "granger_results = grangercausalitytests(df, maxlag=11, verbose=True)"
   ]
  },
  {
   "cell_type": "code",
   "execution_count": 34,
   "id": "421440d5",
   "metadata": {},
   "outputs": [
    {
     "data": {
      "image/png": "[encoded data removed]",
      "text/plain": [
       "<Figure size 432x288 with 1 Axes>"
      ]
     },
     "metadata": {},
     "output_type": "display_data"
    }
   ],
   "source": [
    "res_list = []\n",
    "for lag, v in granger_results.items():\n",
    "    res = {}\n",
    "    res['Lag'] = lag\n",
    "    for test, stats in v[0].items():\n",
    "        res[test] = stats[1]\n",
    "\n",
    "    res_list.append(res)\n",
    "\n",
    "pvals = pd.DataFrame(res_list)\n",
    "pvals.set_index('Lag', inplace=True)\n",
    "pvals_graph = pvals['params_ftest']\n",
    "\n",
    "pvals_graph.plot(title='Granger Causality Test')\n",
    "alpha_ser = pd.Series([alpha]*len(pvals_graph), index=pvals_graph.index)\n",
    "alpha_ser.plot(color='red')\n",
    "plt.ylabel('p-value')\n",
    "plt.show()"
   ]
  },
  {
   "cell_type": "markdown",
   "id": "914337c0",
   "metadata": {},
   "source": [
    "### 2.E. 8 pts Summarize your findings. You must understand the underlying null hypothesis of test.\n",
    "- We interpret the underlying null hypothesis of the Granger test as such:\n",
    "    - Lagged x values are not a good explanatory variable for variation in y\n",
    "- When first creating our dataframe where var1 = PCE and var2 = AHE, the p-values found were higher than 0.01 through all periods which means we cannot reject the null hypothesis here\n",
    "- Then when switching our dataframe to have var1 = AHE and var2 = PCE, the p-values found when running ADF and KPSS tests are higher than 0.01 until the 9th lag, which means we can reject the null hypothesis\n",
    "\n"
   ]
  },
  {
   "cell_type": "markdown",
   "id": "f9f43e63",
   "metadata": {},
   "source": [
    "## Part 3. 40 pts – VARMA modeling\n",
    "\n",
    "### 3.A. 8 pts Using differenced data, run a search to find the best fit order for AH, PCE, and PCEIP, return a plot"
   ]
  },
  {
   "cell_type": "markdown",
   "id": "bece9f2e",
   "metadata": {},
   "source": [
    "### First check for stationarity"
   ]
  },
  {
   "cell_type": "code",
   "execution_count": 35,
   "id": "62deba42",
   "metadata": {},
   "outputs": [
    {
     "name": "stdout",
     "output_type": "stream",
     "text": [
      "Dickey-Fuller Test Result:\n",
      "Test Statistic                -6.605709e+00\n",
      "p-value                        6.564988e-09\n",
      "#Lags Used                     1.000000e+00\n",
      "Number of Observations Used    1.630000e+02\n",
      "Critical Value (1%)           -3.471119e+00\n",
      "Critical Value (5%)           -2.879441e+00\n",
      "Critical Value (10%)          -2.576314e+00\n",
      "dtype: float64\n",
      "Dickey-Fuller Test Result:\n",
      "Test Statistic                  -1.012276\n",
      "p-value                          0.748761\n",
      "#Lags Used                      14.000000\n",
      "Number of Observations Used    150.000000\n",
      "Critical Value (1%)             -3.474715\n",
      "Critical Value (5%)             -2.881009\n",
      "Critical Value (10%)            -2.577151\n",
      "dtype: float64\n",
      "Dickey-Fuller Test Result:\n",
      "Test Statistic                -7.507425e+00\n",
      "p-value                        4.099451e-11\n",
      "#Lags Used                     0.000000e+00\n",
      "Number of Observations Used    1.640000e+02\n",
      "Critical Value (1%)           -3.470866e+00\n",
      "Critical Value (5%)           -2.879330e+00\n",
      "Critical Value (10%)          -2.576255e+00\n",
      "dtype: float64\n"
     ]
    }
   ],
   "source": [
    "adf_test(df_hw6['PCE_diff'].dropna())\n",
    "adf_test(df_hw6['AHE_diff'].dropna())\n",
    "adf_test(df_hw6['PCEPI_diff'].dropna())"
   ]
  },
  {
   "cell_type": "code",
   "execution_count": 36,
   "id": "86d366d3",
   "metadata": {},
   "outputs": [
    {
     "name": "stdout",
     "output_type": "stream",
     "text": [
      "stationarity from ad_fuller test: TRUE\n"
     ]
    }
   ],
   "source": [
    "adf_pcediff = adfuller(df_hw6['PCE_diff'].dropna())\n",
    "ad_fuller_pval = adf_pcediff[1]\n",
    "\n",
    "if ad_fuller_pval <= 0.05:\n",
    "    print('stationarity from ad_fuller test: TRUE')\n",
    "else:\n",
    "    print('stationarity from ad_fuller test: FALSE')"
   ]
  },
  {
   "cell_type": "code",
   "execution_count": 37,
   "id": "652d5732",
   "metadata": {},
   "outputs": [
    {
     "name": "stdout",
     "output_type": "stream",
     "text": [
      "stationarity from ad_fuller test: FALSE\n"
     ]
    }
   ],
   "source": [
    "adf_ahediff = adfuller(df_hw6['AHE_diff'].dropna())\n",
    "ad_fuller_pval = adf_ahediff[1]\n",
    "\n",
    "if ad_fuller_pval <= 0.05:\n",
    "    print('stationarity from ad_fuller test: TRUE')\n",
    "else:\n",
    "    print('stationarity from ad_fuller test: FALSE')"
   ]
  },
  {
   "cell_type": "code",
   "execution_count": 38,
   "id": "a8b586e0",
   "metadata": {},
   "outputs": [
    {
     "name": "stdout",
     "output_type": "stream",
     "text": [
      "stationarity from ad_fuller test: TRUE\n"
     ]
    }
   ],
   "source": [
    "adf_pcepidiff = adfuller(df_hw6['PCEPI_diff'].dropna())\n",
    "ad_fuller_pval = adf_pcepidiff[1]\n",
    "\n",
    "if ad_fuller_pval <= 0.05:\n",
    "    print('stationarity from ad_fuller test: TRUE')\n",
    "else:\n",
    "    print('stationarity from ad_fuller test: FALSE')"
   ]
  },
  {
   "cell_type": "code",
   "execution_count": 39,
   "id": "c17cf577",
   "metadata": {},
   "outputs": [
    {
     "name": "stdout",
     "output_type": "stream",
     "text": [
      "KPSS Test Result:\n",
      "Test Statistic            0.487339\n",
      "p-value                   0.044518\n",
      "Lags Used                14.000000\n",
      "Critical Value (10%)      0.347000\n",
      "Critical Value (5%)       0.463000\n",
      "Critical Value (2.5%)     0.574000\n",
      "Critical Value (1%)       0.739000\n",
      "dtype: float64\n",
      "KPSS Test Result:\n",
      "Test Statistic            0.456203\n",
      "p-value                   0.052930\n",
      "Lags Used                14.000000\n",
      "Critical Value (10%)      0.347000\n",
      "Critical Value (5%)       0.463000\n",
      "Critical Value (2.5%)     0.574000\n",
      "Critical Value (1%)       0.739000\n",
      "dtype: float64\n",
      "KPSS Test Result:\n",
      "Test Statistic            0.094052\n",
      "p-value                   0.100000\n",
      "Lags Used                14.000000\n",
      "Critical Value (10%)      0.347000\n",
      "Critical Value (5%)       0.463000\n",
      "Critical Value (2.5%)     0.574000\n",
      "Critical Value (1%)       0.739000\n",
      "dtype: float64\n"
     ]
    }
   ],
   "source": [
    "kpss_test(df_hw6['PCE_diff'].dropna())\n",
    "kpss_test(df_hw6['AHE_diff'].dropna())\n",
    "kpss_test(df_hw6['PCEPI_diff'].dropna())"
   ]
  },
  {
   "cell_type": "code",
   "execution_count": 40,
   "id": "90861f82",
   "metadata": {},
   "outputs": [
    {
     "name": "stdout",
     "output_type": "stream",
     "text": [
      "stationarity from kpss_fuller test: FALSE\n"
     ]
    }
   ],
   "source": [
    "kpss_pcediff = kpss(df_hw6['PCE_diff'].dropna())\n",
    "kpss_pval = kpss_pcediff[1]\n",
    "\n",
    "if kpss_pval >= 0.05:\n",
    "    print('stationarity from kpss_fuller test: TRUE')\n",
    "else:\n",
    "    print('stationarity from kpss_fuller test: FALSE')"
   ]
  },
  {
   "cell_type": "code",
   "execution_count": 41,
   "id": "abf14baa",
   "metadata": {},
   "outputs": [
    {
     "name": "stdout",
     "output_type": "stream",
     "text": [
      "stationarity from kpss_fuller test: TRUE\n"
     ]
    }
   ],
   "source": [
    "kpss_ahediff = kpss(df_hw6['AHE_diff'].dropna())\n",
    "kpss_pval = kpss_ahediff[1]\n",
    "\n",
    "if kpss_pval >= 0.05:\n",
    "    print('stationarity from kpss_fuller test: TRUE')\n",
    "else:\n",
    "    print('stationarity from kpss_fuller test: FALSE')"
   ]
  },
  {
   "cell_type": "code",
   "execution_count": 42,
   "id": "e0befa33",
   "metadata": {},
   "outputs": [
    {
     "name": "stdout",
     "output_type": "stream",
     "text": [
      "stationarity from kpss_fuller test: TRUE\n"
     ]
    }
   ],
   "source": [
    "kpss_pcepidiff = kpss(df_hw6['PCEPI_diff'].dropna())\n",
    "kpss_pval = kpss_pcepidiff[1]\n",
    "\n",
    "if kpss_pval >= 0.05:\n",
    "    print('stationarity from kpss_fuller test: TRUE')\n",
    "else:\n",
    "    print('stationarity from kpss_fuller test: FALSE')"
   ]
  },
  {
   "cell_type": "markdown",
   "id": "c8f84a1c",
   "metadata": {},
   "source": [
    "### We find PCE and AHE is not yet stationary, so we continue and take a second difference."
   ]
  },
  {
   "cell_type": "code",
   "execution_count": 43,
   "id": "f7395966",
   "metadata": {},
   "outputs": [],
   "source": [
    "df_hw6['PCE_diff2'] = df_hw6['PCE_diff'].diff()\n",
    "df_hw6['AHE_diff2'] = df_hw6['AHE_diff'].diff()"
   ]
  },
  {
   "cell_type": "code",
   "execution_count": 44,
   "id": "580e7b44",
   "metadata": {},
   "outputs": [
    {
     "name": "stdout",
     "output_type": "stream",
     "text": [
      "Dickey-Fuller Test Result:\n",
      "Test Statistic                -7.010086e+00\n",
      "p-value                        6.958047e-10\n",
      "#Lags Used                     8.000000e+00\n",
      "Number of Observations Used    1.550000e+02\n",
      "Critical Value (1%)           -3.473259e+00\n",
      "Critical Value (5%)           -2.880374e+00\n",
      "Critical Value (10%)          -2.576812e+00\n",
      "dtype: float64\n",
      "Dickey-Fuller Test Result:\n",
      "Test Statistic                  -5.351745\n",
      "p-value                          0.000004\n",
      "#Lags Used                      13.000000\n",
      "Number of Observations Used    150.000000\n",
      "Critical Value (1%)             -3.474715\n",
      "Critical Value (5%)             -2.881009\n",
      "Critical Value (10%)            -2.577151\n",
      "dtype: float64\n"
     ]
    }
   ],
   "source": [
    "adf_test(df_hw6['PCE_diff2'].dropna())\n",
    "adf_test(df_hw6['AHE_diff2'].dropna())"
   ]
  },
  {
   "cell_type": "code",
   "execution_count": 45,
   "id": "02cf76f2",
   "metadata": {},
   "outputs": [
    {
     "name": "stdout",
     "output_type": "stream",
     "text": [
      "stationarity from ad_fuller test: TRUE\n"
     ]
    }
   ],
   "source": [
    "adf_pcediff2 = adfuller(df_hw6['PCE_diff2'].dropna())\n",
    "ad_fuller_pval = adf_pcediff2[1]\n",
    "\n",
    "if ad_fuller_pval <= 0.05:\n",
    "    print('stationarity from ad_fuller test: TRUE')\n",
    "else:\n",
    "    print('stationarity from ad_fuller test: FALSE')"
   ]
  },
  {
   "cell_type": "code",
   "execution_count": 46,
   "id": "1b3b4bdd",
   "metadata": {},
   "outputs": [
    {
     "name": "stdout",
     "output_type": "stream",
     "text": [
      "stationarity from ad_fuller test: TRUE\n"
     ]
    }
   ],
   "source": [
    "adf_ahediff2 = adfuller(df_hw6['AHE_diff2'].dropna())\n",
    "ad_fuller_pval = adf_ahediff2[1]\n",
    "\n",
    "if ad_fuller_pval <= 0.05:\n",
    "    print('stationarity from ad_fuller test: TRUE')\n",
    "else:\n",
    "    print('stationarity from ad_fuller test: FALSE')"
   ]
  },
  {
   "cell_type": "code",
   "execution_count": 47,
   "id": "31976a65",
   "metadata": {},
   "outputs": [
    {
     "name": "stdout",
     "output_type": "stream",
     "text": [
      "KPSS Test Result:\n",
      "Test Statistic            0.487339\n",
      "p-value                   0.044518\n",
      "Lags Used                14.000000\n",
      "Critical Value (10%)      0.347000\n",
      "Critical Value (5%)       0.463000\n",
      "Critical Value (2.5%)     0.574000\n",
      "Critical Value (1%)       0.739000\n",
      "dtype: float64\n",
      "KPSS Test Result:\n",
      "Test Statistic            0.456203\n",
      "p-value                   0.052930\n",
      "Lags Used                14.000000\n",
      "Critical Value (10%)      0.347000\n",
      "Critical Value (5%)       0.463000\n",
      "Critical Value (2.5%)     0.574000\n",
      "Critical Value (1%)       0.739000\n",
      "dtype: float64\n"
     ]
    }
   ],
   "source": [
    "kpss_test(df_hw6['PCE_diff'].dropna())\n",
    "kpss_test(df_hw6['AHE_diff'].dropna())"
   ]
  },
  {
   "cell_type": "code",
   "execution_count": 48,
   "id": "6e8e4e41",
   "metadata": {},
   "outputs": [
    {
     "name": "stdout",
     "output_type": "stream",
     "text": [
      "stationarity from kpss_fuller test: TRUE\n"
     ]
    }
   ],
   "source": [
    "kpss_pcediff2 = kpss(df_hw6['PCE_diff2'].dropna())\n",
    "kpss_pval = kpss_pcediff2[1]\n",
    "\n",
    "if kpss_pval >= 0.05:\n",
    "    print('stationarity from kpss_fuller test: TRUE')\n",
    "else:\n",
    "    print('stationarity from kpss_fuller test: FALSE')"
   ]
  },
  {
   "cell_type": "code",
   "execution_count": 49,
   "id": "13ca1615",
   "metadata": {},
   "outputs": [
    {
     "name": "stdout",
     "output_type": "stream",
     "text": [
      "stationarity from kpss_fuller test: TRUE\n"
     ]
    }
   ],
   "source": [
    "kpss_ahediff2 = kpss(df_hw6['AHE_diff2'].dropna())\n",
    "kpss_pval = kpss_ahediff2[1]\n",
    "\n",
    "if kpss_pval >= 0.05:\n",
    "    print('stationarity from kpss_fuller test: TRUE')\n",
    "else:\n",
    "    print('stationarity from kpss_fuller test: FALSE')"
   ]
  },
  {
   "cell_type": "code",
   "execution_count": 50,
   "id": "9ecd0f4e",
   "metadata": {},
   "outputs": [
    {
     "data": {
      "text/html": [
       "<div>\n",
       "<style scoped>\n",
       "    .dataframe tbody tr th:only-of-type {\n",
       "        vertical-align: middle;\n",
       "    }\n",
       "\n",
       "    .dataframe tbody tr th {\n",
       "        vertical-align: top;\n",
       "    }\n",
       "\n",
       "    .dataframe thead th {\n",
       "        text-align: right;\n",
       "    }\n",
       "</style>\n",
       "<table border=\"1\" class=\"dataframe\">\n",
       "  <thead>\n",
       "    <tr style=\"text-align: right;\">\n",
       "      <th></th>\n",
       "      <th>PCE</th>\n",
       "      <th>AHE</th>\n",
       "      <th>PCEPI</th>\n",
       "      <th>PCE_diff</th>\n",
       "      <th>AHE_diff</th>\n",
       "      <th>PCEPI_diff</th>\n",
       "      <th>PCE_diff2</th>\n",
       "      <th>AHE_diff2</th>\n",
       "    </tr>\n",
       "    <tr>\n",
       "      <th>date</th>\n",
       "      <th></th>\n",
       "      <th></th>\n",
       "      <th></th>\n",
       "      <th></th>\n",
       "      <th></th>\n",
       "      <th></th>\n",
       "      <th></th>\n",
       "      <th></th>\n",
       "    </tr>\n",
       "  </thead>\n",
       "  <tbody>\n",
       "    <tr>\n",
       "      <th>2006-03-01</th>\n",
       "      <td>9122.1</td>\n",
       "      <td>20.04</td>\n",
       "      <td>88.473</td>\n",
       "      <td>NaN</td>\n",
       "      <td>NaN</td>\n",
       "      <td>NaN</td>\n",
       "      <td>NaN</td>\n",
       "      <td>NaN</td>\n",
       "    </tr>\n",
       "    <tr>\n",
       "      <th>2006-04-01</th>\n",
       "      <td>9174.8</td>\n",
       "      <td>20.17</td>\n",
       "      <td>88.850</td>\n",
       "      <td>52.7</td>\n",
       "      <td>0.13</td>\n",
       "      <td>0.377</td>\n",
       "      <td>NaN</td>\n",
       "      <td>NaN</td>\n",
       "    </tr>\n",
       "    <tr>\n",
       "      <th>2006-05-01</th>\n",
       "      <td>9215.1</td>\n",
       "      <td>20.13</td>\n",
       "      <td>89.070</td>\n",
       "      <td>40.3</td>\n",
       "      <td>-0.04</td>\n",
       "      <td>0.220</td>\n",
       "      <td>-12.4</td>\n",
       "      <td>-0.17</td>\n",
       "    </tr>\n",
       "    <tr>\n",
       "      <th>2006-06-01</th>\n",
       "      <td>9240.8</td>\n",
       "      <td>20.22</td>\n",
       "      <td>89.285</td>\n",
       "      <td>25.7</td>\n",
       "      <td>0.09</td>\n",
       "      <td>0.215</td>\n",
       "      <td>-14.6</td>\n",
       "      <td>0.13</td>\n",
       "    </tr>\n",
       "    <tr>\n",
       "      <th>2006-07-01</th>\n",
       "      <td>9322.6</td>\n",
       "      <td>20.30</td>\n",
       "      <td>89.601</td>\n",
       "      <td>81.8</td>\n",
       "      <td>0.08</td>\n",
       "      <td>0.316</td>\n",
       "      <td>56.1</td>\n",
       "      <td>-0.01</td>\n",
       "    </tr>\n",
       "    <tr>\n",
       "      <th>...</th>\n",
       "      <td>...</td>\n",
       "      <td>...</td>\n",
       "      <td>...</td>\n",
       "      <td>...</td>\n",
       "      <td>...</td>\n",
       "      <td>...</td>\n",
       "      <td>...</td>\n",
       "      <td>...</td>\n",
       "    </tr>\n",
       "    <tr>\n",
       "      <th>2019-08-01</th>\n",
       "      <td>14650.9</td>\n",
       "      <td>28.16</td>\n",
       "      <td>110.115</td>\n",
       "      <td>39.0</td>\n",
       "      <td>0.12</td>\n",
       "      <td>0.073</td>\n",
       "      <td>-17.1</td>\n",
       "      <td>0.04</td>\n",
       "    </tr>\n",
       "    <tr>\n",
       "      <th>2019-09-01</th>\n",
       "      <td>14673.2</td>\n",
       "      <td>28.15</td>\n",
       "      <td>110.167</td>\n",
       "      <td>22.3</td>\n",
       "      <td>-0.01</td>\n",
       "      <td>0.052</td>\n",
       "      <td>-16.7</td>\n",
       "      <td>-0.13</td>\n",
       "    </tr>\n",
       "    <tr>\n",
       "      <th>2019-10-01</th>\n",
       "      <td>14728.5</td>\n",
       "      <td>28.24</td>\n",
       "      <td>110.377</td>\n",
       "      <td>55.3</td>\n",
       "      <td>0.09</td>\n",
       "      <td>0.210</td>\n",
       "      <td>33.0</td>\n",
       "      <td>0.10</td>\n",
       "    </tr>\n",
       "    <tr>\n",
       "      <th>2019-11-01</th>\n",
       "      <td>14752.8</td>\n",
       "      <td>28.33</td>\n",
       "      <td>110.461</td>\n",
       "      <td>24.3</td>\n",
       "      <td>0.09</td>\n",
       "      <td>0.084</td>\n",
       "      <td>-31.0</td>\n",
       "      <td>0.00</td>\n",
       "    </tr>\n",
       "    <tr>\n",
       "      <th>2019-12-01</th>\n",
       "      <td>14796.3</td>\n",
       "      <td>28.36</td>\n",
       "      <td>110.750</td>\n",
       "      <td>43.5</td>\n",
       "      <td>0.03</td>\n",
       "      <td>0.289</td>\n",
       "      <td>19.2</td>\n",
       "      <td>-0.06</td>\n",
       "    </tr>\n",
       "  </tbody>\n",
       "</table>\n",
       "<p>166 rows × 8 columns</p>\n",
       "</div>"
      ],
      "text/plain": [
       "                PCE    AHE    PCEPI  PCE_diff  AHE_diff  PCEPI_diff  \\\n",
       "date                                                                  \n",
       "2006-03-01   9122.1  20.04   88.473       NaN       NaN         NaN   \n",
       "2006-04-01   9174.8  20.17   88.850      52.7      0.13       0.377   \n",
       "2006-05-01   9215.1  20.13   89.070      40.3     -0.04       0.220   \n",
       "2006-06-01   9240.8  20.22   89.285      25.7      0.09       0.215   \n",
       "2006-07-01   9322.6  20.30   89.601      81.8      0.08       0.316   \n",
       "...             ...    ...      ...       ...       ...         ...   \n",
       "2019-08-01  14650.9  28.16  110.115      39.0      0.12       0.073   \n",
       "2019-09-01  14673.2  28.15  110.167      22.3     -0.01       0.052   \n",
       "2019-10-01  14728.5  28.24  110.377      55.3      0.09       0.210   \n",
       "2019-11-01  14752.8  28.33  110.461      24.3      0.09       0.084   \n",
       "2019-12-01  14796.3  28.36  110.750      43.5      0.03       0.289   \n",
       "\n",
       "            PCE_diff2  AHE_diff2  \n",
       "date                              \n",
       "2006-03-01        NaN        NaN  \n",
       "2006-04-01        NaN        NaN  \n",
       "2006-05-01      -12.4      -0.17  \n",
       "2006-06-01      -14.6       0.13  \n",
       "2006-07-01       56.1      -0.01  \n",
       "...               ...        ...  \n",
       "2019-08-01      -17.1       0.04  \n",
       "2019-09-01      -16.7      -0.13  \n",
       "2019-10-01       33.0       0.10  \n",
       "2019-11-01      -31.0       0.00  \n",
       "2019-12-01       19.2      -0.06  \n",
       "\n",
       "[166 rows x 8 columns]"
      ]
     },
     "execution_count": 50,
     "metadata": {},
     "output_type": "execute_result"
    }
   ],
   "source": [
    "df_hw6"
   ]
  },
  {
   "cell_type": "code",
   "execution_count": 51,
   "id": "e3c2dc91",
   "metadata": {},
   "outputs": [],
   "source": [
    "from statsmodels.tsa.statespace.varmax import VARMAX\n",
    "from statsmodels.tsa.vector_ar.var_model import VAR\n",
    "from math import sqrt\n",
    "import warnings\n",
    "warnings.filterwarnings('ignore')"
   ]
  },
  {
   "cell_type": "code",
   "execution_count": 52,
   "id": "7f47df17",
   "metadata": {},
   "outputs": [],
   "source": [
    "varma_df = df_hw6[['PCE','AHE', 'PCEPI']].dropna()\n",
    "train = varma_df[:-13]\n",
    "test = varma_df[-13:]"
   ]
  },
  {
   "cell_type": "code",
   "execution_count": null,
   "id": "1d0012b8",
   "metadata": {},
   "outputs": [],
   "source": [
    "var_df = df_hw6[['PCE_diff2','AHE_diff2', 'PCEPI_diff']].dropna()\n",
    "train_var = var_df[:-12]\n",
    "test_var = var_df[-12:]"
   ]
  },
  {
   "cell_type": "code",
   "execution_count": 53,
   "id": "9e62f7f8",
   "metadata": {},
   "outputs": [
    {
     "name": "stdout",
     "output_type": "stream",
     "text": [
      "Running search of VARMA\n",
      "\t Order is (0, 1) with AIC of 2976.4689854739536\n",
      "\t Order is (0, 2) with AIC of 2809.5952392086024\n",
      "\t Order is (0, 3) with AIC of 2743.4727583601257\n",
      "\t Order is (1, 1) with AIC of 4190.587471245757\n",
      "\t Order is (1, 2) with AIC of 3299.6953082552327\n",
      "\t Order is (1, 3) with AIC of 2934.0823954687203\n",
      "\t Order is (2, 1) with AIC of 7604.519934431419\n",
      "\t Order is (2, 2) with AIC of 5287.021070963516\n",
      "\t Order is (2, 3) with AIC of 5432.9257874641\n",
      "\t Order is (3, 1) with AIC of 7622.711215076324\n",
      "\t Order is (3, 2) with AIC of 3910.257863053614\n",
      "\t Order is (3, 3) with AIC of 4041.8823431041283\n",
      "Best VARMA order is (0, 3) with AIC of 2743.4727583601257\n",
      "Running search of VAR\n",
      "\t Order is (0, 0) with AIC of 12.243589209130011\n",
      "\t Order is (1, 0) with AIC of -3.318112474025674\n",
      "\t Order is (2, 0) with AIC of -3.836365379790318\n",
      "\t Order is (3, 0) with AIC of -3.958260862334113\n",
      "Best VAR order is (3, 0) with AIC of -3.958260862334113\n"
     ]
    }
   ],
   "source": [
    "prange = range(0,4)\n",
    "qrange = range(1,4)\n",
    "max_aic = np.inf\n",
    "best_order = None\n",
    "\n",
    "print('Running search of VARMA')\n",
    "\n",
    "for p in prange:\n",
    "    for q in qrange:\n",
    "        order = (p, q)\n",
    "        varma_model = VARMAX(train, order=order).fit(disp=False)\n",
    "        current_aic = varma_model.aic\n",
    "        print('\\t Order is', order, 'with AIC of', current_aic)\n",
    "        if current_aic < max_aic:\n",
    "            max_aic = current_aic \n",
    "            best_order = order\n",
    "\n",
    "print('Best VARMA order is', best_order, 'with AIC of', max_aic)\n",
    "\n",
    "max_aic_var = np.inf\n",
    "best_order_var = None\n",
    "print('Running search of VAR')\n",
    "for p in prange:\n",
    "    order = (p, 0)\n",
    "    var_model = VAR(train).fit(p)\n",
    "    current_aic = var_model.aic\n",
    "    print('\\t Order is', order, 'with AIC of', current_aic)\n",
    "    if current_aic < max_aic_var:\n",
    "        max_aic_var = current_aic \n",
    "        best_order_var = order\n",
    "\n",
    "print('Best VAR order is', best_order_var, 'with AIC of', max_aic_var)"
   ]
  },
  {
   "cell_type": "markdown",
   "id": "3479921a",
   "metadata": {},
   "source": [
    "### 3.B. 8 pts Fit the VAR model with chosen order, return the model summary."
   ]
  },
  {
   "cell_type": "code",
   "execution_count": 54,
   "id": "2304ff0a",
   "metadata": {},
   "outputs": [
    {
     "data": {
      "text/plain": [
       "  Summary of Regression Results   \n",
       "==================================\n",
       "Model:                         VAR\n",
       "Method:                        OLS\n",
       "Date:           Fri, 20, May, 2022\n",
       "Time:                     22:13:55\n",
       "--------------------------------------------------------------------\n",
       "No. of Equations:         3.00000    BIC:                   -2.66891\n",
       "Nobs:                     149.000    HQIC:                  -3.02800\n",
       "Log likelihood:          -360.373    FPE:                  0.0378880\n",
       "AIC:                     -3.27373    Det(Omega_mle):       0.0311795\n",
       "--------------------------------------------------------------------\n",
       "Results for equation PCE_diff2\n",
       "================================================================================\n",
       "                   coefficient       std. error           t-stat            prob\n",
       "--------------------------------------------------------------------------------\n",
       "const                 8.268690         4.077713            2.028           0.043\n",
       "L1.PCE_diff2         -0.837177         0.097068           -8.625           0.000\n",
       "L1.AHE_diff2         34.210357        99.337099            0.344           0.731\n",
       "L1.PCEPI_diff        30.756419        20.255104            1.518           0.129\n",
       "L2.PCE_diff2         -0.597563         0.118001           -5.064           0.000\n",
       "L2.AHE_diff2        101.391570       121.236880            0.836           0.403\n",
       "L2.PCEPI_diff       -28.617033        21.147922           -1.353           0.176\n",
       "L3.PCE_diff2         -0.230729         0.091550           -2.520           0.012\n",
       "L3.AHE_diff2        102.045628        95.324170            1.071           0.284\n",
       "L3.PCEPI_diff       -72.361483        20.027087           -3.613           0.000\n",
       "================================================================================\n",
       "\n",
       "Results for equation AHE_diff2\n",
       "================================================================================\n",
       "                   coefficient       std. error           t-stat            prob\n",
       "--------------------------------------------------------------------------------\n",
       "const                -0.000930         0.003315           -0.281           0.779\n",
       "L1.PCE_diff2         -0.000069         0.000079           -0.875           0.382\n",
       "L1.AHE_diff2         -1.169903         0.080755          -14.487           0.000\n",
       "L1.PCEPI_diff        -0.016121         0.016466           -0.979           0.328\n",
       "L2.PCE_diff2          0.000031         0.000096            0.322           0.747\n",
       "L2.AHE_diff2         -0.933495         0.098558           -9.472           0.000\n",
       "L2.PCEPI_diff         0.005380         0.017192            0.313           0.754\n",
       "L3.PCE_diff2          0.000066         0.000074            0.890           0.373\n",
       "L3.AHE_diff2         -0.290043         0.077493           -3.743           0.000\n",
       "L3.PCEPI_diff         0.022275         0.016281            1.368           0.171\n",
       "================================================================================\n",
       "\n",
       "Results for equation PCEPI_diff\n",
       "================================================================================\n",
       "                   coefficient       std. error           t-stat            prob\n",
       "--------------------------------------------------------------------------------\n",
       "const                 0.072434         0.019150            3.783           0.000\n",
       "L1.PCE_diff2          0.001107         0.000456            2.428           0.015\n",
       "L1.AHE_diff2          0.826254         0.466508            1.771           0.077\n",
       "L1.PCEPI_diff         0.416150         0.095122            4.375           0.000\n",
       "L2.PCE_diff2          0.000925         0.000554            1.669           0.095\n",
       "L2.AHE_diff2          1.009851         0.569354            1.774           0.076\n",
       "L2.PCEPI_diff         0.024366         0.099315            0.245           0.806\n",
       "L3.PCE_diff2          0.000249         0.000430            0.579           0.562\n",
       "L3.AHE_diff2          0.738562         0.447663            1.650           0.099\n",
       "L3.PCEPI_diff        -0.009346         0.094051           -0.099           0.921\n",
       "================================================================================\n",
       "\n",
       "Correlation matrix of residuals\n",
       "              PCE_diff2  AHE_diff2  PCEPI_diff\n",
       "PCE_diff2      1.000000  -0.031678    0.471691\n",
       "AHE_diff2     -0.031678   1.000000    0.000819\n",
       "PCEPI_diff     0.471691   0.000819    1.000000\n",
       "\n"
      ]
     },
     "execution_count": 54,
     "metadata": {},
     "output_type": "execute_result"
    }
   ],
   "source": [
    "var_model = VAR(train_var).fit(3)\n",
    "var_model.summary()"
   ]
  },
  {
   "cell_type": "markdown",
   "id": "9b591f6c",
   "metadata": {},
   "source": [
    "### 3.C. 8 pts Explain the values in the correlation matrix of residuals. What are the implications for the model fit?\n",
    "- Our correlation matrix of residuals show values of 1 diagonally when starting from `i_1,j_1` to `i_3,j_3`. This denotes perfect correlation between corresponding variables identical to itself, which we expect. We also expect residuals to have no linear correlation between two different variables, which would be represented by 0 in cells between them. This is not the case. We know that the further away the correlation coefficient is from zero, the stronger the relationship between the two variables.\n",
    "- Between `PCE_diff2` and `AHE_diff2`, the values created due to PCE and AHE not reaching stationarity until second differencing, there is actually slightly negative linear correlation between the two variables\n",
    "- There is a moderate amount of positive correlation between PCE and PCEPI residuals probably due to PCEPI being the measure of the average increase in prices for all domestic personal consumption, or PCE. Higher PCE is strongly related to higher PCEPI.\n",
    "- The fact that we can determine if there are patterns in the residuals means we need to adjust our model fit. However, this just means that we're able to improve the fit of the model by moving this predictability over to the deterministic side of things (i.e., independent variables).\n"
   ]
  },
  {
   "cell_type": "code",
   "execution_count": 55,
   "id": "db2e5cac",
   "metadata": {},
   "outputs": [
    {
     "data": {
      "text/html": [
       "<table class=\"simpletable\">\n",
       "<caption>Portmanteau-test for residual autocorrelation. H_0: residual autocorrelation up to lag 10 is zero. Conclusion: reject H_0 at 5% significance level.</caption>\n",
       "<tr>\n",
       "  <th>Test statistic</th> <th>Critical value</th> <th>p-value</th> <th>df</th>\n",
       "</tr>\n",
       "<tr>\n",
       "       <td>88.08</td>          <td>82.53</td>      <td>0.020</td>  <td>63</td>\n",
       "</tr>\n",
       "</table>"
      ],
      "text/plain": [
       "<class 'statsmodels.iolib.table.SimpleTable'>"
      ]
     },
     "execution_count": 55,
     "metadata": {},
     "output_type": "execute_result"
    }
   ],
   "source": [
    "var_model.test_whiteness(signif =0.05).summary()"
   ]
  },
  {
   "cell_type": "markdown",
   "id": "5a3cc7d3",
   "metadata": {},
   "source": [
    "### 3.D. 8 pts Create 12 periods of forecast for all three variables, return plots of predicted values against actual values, Return variable level RMSE (3 total)"
   ]
  },
  {
   "cell_type": "code",
   "execution_count": 64,
   "id": "d5c81f7e",
   "metadata": {},
   "outputs": [
    {
     "name": "stdout",
     "output_type": "stream",
     "text": [
      "[[ 1.42211364e+02 -4.72655345e-02 -6.91834763e-02]\n",
      " [-3.57013427e+00 -1.21060088e-02  5.90154870e-02]\n",
      " [-3.44040085e+01  3.60343202e-02  1.57984774e-01]\n",
      " [ 9.75050829e+00 -1.01603159e-02  1.16937007e-01]\n",
      " [ 1.83637543e+01 -2.08635871e-02  1.21521785e-01]\n",
      " [-1.41011657e+01  2.14545543e-02  1.44269794e-01]\n",
      " [-3.06970124e+00 -4.87780347e-04  1.27305439e-01]\n",
      " [ 6.05082825e+00 -1.19124139e-02  1.21775467e-01]\n",
      " [-3.13982527e-01  7.72711943e-03  1.30720185e-01]\n",
      " [-4.04555564e+00  2.68002072e-03  1.27091420e-01]\n",
      " [ 1.46279842e+00 -5.78650559e-03  1.25328905e-01]\n",
      " [ 1.15486075e+00  2.42460819e-03  1.27895050e-01]]\n"
     ]
    }
   ],
   "source": [
    "yhat = var_model.forecast(var_model.endog, steps=12)\n",
    "print(yhat)"
   ]
  },
  {
   "cell_type": "code",
   "execution_count": 65,
   "id": "0ee0e095",
   "metadata": {},
   "outputs": [],
   "source": [
    "# clean up yhat\n",
    "idx=test_var.index\n",
    "df_preds = pd.DataFrame(yhat).set_index(idx)\n",
    "df_preds.rename(columns={0: 'PCE_forecast', 1: 'AHE_forecast', 2: 'PCEPI_forecast'}, inplace=True)"
   ]
  },
  {
   "cell_type": "markdown",
   "id": "34dd24be",
   "metadata": {},
   "source": [
    "### Plots of predicted values (PCE_diff2, AHE_diff2, PCEPI_diff) against actual values (PCE, AHE, PCEPI)"
   ]
  },
  {
   "cell_type": "code",
   "execution_count": 69,
   "id": "fb613904",
   "metadata": {},
   "outputs": [
    {
     "data": {
      "text/plain": [
       "<AxesSubplot:xlabel='date'>"
      ]
     },
     "execution_count": 69,
     "metadata": {},
     "output_type": "execute_result"
    },
    {
     "data": {
      "image/png": "[encoded data removed]",
      "text/plain": [
       "<Figure size 432x288 with 1 Axes>"
      ]
     },
     "metadata": {},
     "output_type": "display_data"
    },
    {
     "data": {
      "image/png": "[encoded data removed]",
      "text/plain": [
       "<Figure size 432x288 with 1 Axes>"
      ]
     },
     "metadata": {},
     "output_type": "display_data"
    },
    {
     "data": {
      "image/png": "[encoded data removed]",
      "text/plain": [
       "<Figure size 432x288 with 1 Axes>"
      ]
     },
     "metadata": {},
     "output_type": "display_data"
    }
   ],
   "source": [
    "df_results = pd.concat([test_var,df_preds], axis=1)\n",
    "df_results[['PCE_diff2', 'PCE_forecast', ]].plot()\n",
    "df_results[['AHE_diff2', 'AHE_forecast', ]].plot()\n",
    "df_results[['PCEPI_diff', 'PCEPI_forecast']].plot()"
   ]
  },
  {
   "cell_type": "markdown",
   "id": "e9ec3946",
   "metadata": {},
   "source": [
    "### Summing forecasts for all 12 periods"
   ]
  },
  {
   "cell_type": "code",
   "execution_count": 71,
   "id": "1c9d99f9",
   "metadata": {},
   "outputs": [],
   "source": [
    "df_preds.rename(columns={'PCE_forecast':'PCE', \n",
    "                         'AHE_forecast': 'AHE',\n",
    "                         'PCEPI_forecast': 'PCEPI'}, inplace=True)\n",
    "\n",
    "forecast_result = pd.concat([df_hw6[-13:-12][['PCE', 'PCEPI']], df_preds[['PCE', 'PCEPI']]], axis=0).reset_index(drop=True)\\\n",
    "                    .cumsum()\\\n",
    "                    .drop([0])\\\n",
    "                    .set_index(idx)\n",
    "\n",
    "forecast_result.columns = ['PCE_forecast', 'PCEPI_forecast']"
   ]
  },
  {
   "cell_type": "markdown",
   "id": "c8f44557",
   "metadata": {},
   "source": [
    "### Cumulative plots of predicted values (PCE_diff2, AHE_diff2, PCEPI_diff) against actual values (PCE, AHE, PCEPI)"
   ]
  },
  {
   "cell_type": "code",
   "execution_count": 79,
   "id": "3f04aeb5",
   "metadata": {},
   "outputs": [
    {
     "data": {
      "text/plain": [
       "<AxesSubplot:xlabel='date'>"
      ]
     },
     "execution_count": 79,
     "metadata": {},
     "output_type": "execute_result"
    },
    {
     "data": {
      "image/png": "[encoded data removed]",
      "text/plain": [
       "<Figure size 432x288 with 1 Axes>"
      ]
     },
     "metadata": {},
     "output_type": "display_data"
    },
    {
     "data": {
      "image/png": "[encoded data removed]",
      "text/plain": [
       "<Figure size 432x288 with 1 Axes>"
      ]
     },
     "metadata": {},
     "output_type": "display_data"
    },
    {
     "data": {
      "image/png": "[encoded data removed]",
      "text/plain": [
       "<Figure size 432x288 with 1 Axes>"
      ]
     },
     "metadata": {},
     "output_type": "display_data"
    }
   ],
   "source": [
    "forecast_pce = pd.concat([df_hw6[-12:]['PCE'],forecast_result[['PCE_forecast']]], axis=1)\n",
    "forecast_pce.plot()\n",
    "\n",
    "# AHE second difference - double cumsum\n",
    "forecast_result2 = pd.concat([df_hw6[-13:-12][['AHE']],df_preds[['AHE']]], axis=0).reset_index(drop=True)\\\n",
    "                    .cumsum()\\\n",
    "                    .drop([0])\\\n",
    "                    .set_index(idx)\n",
    "\n",
    "forecast_result2.columns=['AHE_forecast']\n",
    "\n",
    "forecast_ahe = pd.concat([df_hw6[-12:]['AHE'],forecast_result2[['AHE_forecast']]], axis=1)\n",
    "forecast_ahe.plot()\n",
    "\n",
    "forecast_pcepi = pd.concat([df_hw6[-12:]['PCEPI'],forecast_result[['PCEPI_forecast']]], axis=1)\n",
    "forecast_pcepi.plot()\n"
   ]
  },
  {
   "cell_type": "code",
   "execution_count": 81,
   "id": "acffe78c",
   "metadata": {},
   "outputs": [
    {
     "name": "stdout",
     "output_type": "stream",
     "text": [
      "RMSE for PCE: 349.00976130007064\n",
      "RMSE for AHE: 0.5439533445477153\n",
      "RMSE for PCEPI: 0.33799341575740377\n"
     ]
    }
   ],
   "source": [
    "print('RMSE for PCE:', \n",
    "      str(sqrt(mean_squared_error(df_hw6[-12:]['PCE'],forecast_result['PCE_forecast']))))\n",
    "print('RMSE for AHE:',\n",
    "      str(sqrt(mean_squared_error(df_hw6[-12:]['AHE'],forecast_result2['AHE_forecast']))))\n",
    "print('RMSE for PCEPI:', \n",
    "      str(sqrt(mean_squared_error(df_hw6[-12:]['PCEPI'],forecast_result['PCEPI_forecast']))))"
   ]
  },
  {
   "cell_type": "markdown",
   "id": "b3c46265",
   "metadata": {},
   "source": [
    "### 3.E. 8 pts What is the advantage of this VAR model? What would ARIMA or prophet models on this dataset look like, if we were asked to forecast AHE?\n",
    "- One advantage of VAR models is that their estimate is flexible and less demanding in information (i.e., the amount of data points) and time. For example, we only had 166 total data points in this subset and was able to create a sufficient VAR model with relatively low error for at least two of our variables\n",
    "- In addition, these models allow easily integrating new data.\n",
    "- VAR models also differ from univariate autoregressive models (such as ARIMA or prophet) because they allow feedback to occur between the variables in the model. For example, we used a VAR model to show how PCE is a function of AHE, and in turn, also show how AHE is a function of PCE.\n",
    "- I think at least in terms of the predicted value (non-cumulative plots), ARIMA or prophet would probably be able to more accurately predict the data, or at least have a better fit along the curve. The way it would do this would be to either forecast AHE as the uni-variable, and then add PCE as the exogeneous variable. \n",
    "- To summarize, a VAR will produce multivariate forecasts with uncertainty jointly determined by errors of multiple series (covariance matrix), while Prophet will produce univariate forecasts with uncertainty based on errors from a single series (variance scalar)."
   ]
  }
 ],
 "metadata": {
  "kernelspec": {
   "display_name": "Python 3 (ipykernel)",
   "language": "python",
   "name": "python3"
  },
  "language_info": {
   "codemirror_mode": {
    "name": "ipython",
    "version": 3
   },
   "file_extension": ".py",
   "mimetype": "text/x-python",
   "name": "python",
   "nbconvert_exporter": "python",
   "pygments_lexer": "ipython3",
   "version": "3.9.7"
  }
 },
 "nbformat": 4,
 "nbformat_minor": 5
}
