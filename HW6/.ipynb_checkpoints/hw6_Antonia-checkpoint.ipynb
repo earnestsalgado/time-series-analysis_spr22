{
 "cells": [
  {
   "cell_type": "markdown",
   "metadata": {
    "id": "1rmUdskw5rZj"
   },
   "source": [
    "Antonia Sanhueza\n",
    "\n",
    "# HW 6\n",
    "\n",
    "Dataset description:\n",
    "\n",
    "PCE: Personal consumptions expenditures is the primary measure of consumer spending on goods and services in the US economy. This accounts for 2/3 of domestic spending and this is the primary engine that drives future economic growth https://www.bea.gov/resources/methodologies/nipa-handbook/pdf/chapter-05.pdf (Links to an external site.)\n",
    "\n",
    "AHE: Average hourly earnings is reported in dollars per hour and is reported monthly\n",
    "\n",
    "PCEPI Personal consumptions expenditures price index is a measure of the average increase in prices for all domestic personal consumption. A major inflationary measure in the United States\n",
    "\n",
    "## Part 1 – 20 pts Exploratory Data Analysis\n",
    "\n",
    "### A. 10 pts Perform quantitative and qualitative EDA"
   ]
  },
  {
   "cell_type": "code",
   "execution_count": 1,
   "metadata": {
    "colab": {
     "base_uri": "https://localhost:8080/"
    },
    "id": "-GRT68up675o",
    "outputId": "fa39512c-c481-4e5a-cac1-75e7f51199b0"
   },
   "outputs": [
    {
     "name": "stdout",
     "output_type": "stream",
     "text": [
      "Collecting sktime\n",
      "  Downloading sktime-0.11.4-py3-none-any.whl (6.7 MB)\n",
      "\u001b[K     |████████████████████████████████| 6.7 MB 15.7 MB/s \n",
      "\u001b[?25hRequirement already satisfied: scikit-learn<1.2.0,>=0.24.0 in /usr/local/lib/python3.7/dist-packages (from sktime) (1.0.2)\n",
      "Collecting statsmodels>=0.12.1\n",
      "  Downloading statsmodels-0.13.2-cp37-cp37m-manylinux_2_17_x86_64.manylinux2014_x86_64.whl (9.8 MB)\n",
      "\u001b[K     |████████████████████████████████| 9.8 MB 35.4 MB/s \n",
      "\u001b[?25hCollecting numba>=0.53\n",
      "  Downloading numba-0.55.1-1-cp37-cp37m-manylinux2014_x86_64.manylinux_2_17_x86_64.whl (3.3 MB)\n",
      "\u001b[K     |████████████████████████████████| 3.3 MB 58.1 MB/s \n",
      "\u001b[?25hRequirement already satisfied: scipy<1.9.0 in /usr/local/lib/python3.7/dist-packages (from sktime) (1.4.1)\n",
      "Collecting deprecated>=1.2.13\n",
      "  Downloading Deprecated-1.2.13-py2.py3-none-any.whl (9.6 kB)\n",
      "Requirement already satisfied: numpy<1.22,>=1.21.0 in /usr/local/lib/python3.7/dist-packages (from sktime) (1.21.6)\n",
      "Requirement already satisfied: pandas<1.5.0,>=1.1.0 in /usr/local/lib/python3.7/dist-packages (from sktime) (1.3.5)\n",
      "Requirement already satisfied: wrapt<2,>=1.10 in /usr/local/lib/python3.7/dist-packages (from deprecated>=1.2.13->sktime) (1.14.1)\n",
      "Requirement already satisfied: setuptools in /usr/local/lib/python3.7/dist-packages (from numba>=0.53->sktime) (57.4.0)\n",
      "Collecting llvmlite<0.39,>=0.38.0rc1\n",
      "  Downloading llvmlite-0.38.0-cp37-cp37m-manylinux_2_17_x86_64.manylinux2014_x86_64.whl (34.5 MB)\n",
      "\u001b[K     |████████████████████████████████| 34.5 MB 13 kB/s \n",
      "\u001b[?25hRequirement already satisfied: pytz>=2017.3 in /usr/local/lib/python3.7/dist-packages (from pandas<1.5.0,>=1.1.0->sktime) (2022.1)\n",
      "Requirement already satisfied: python-dateutil>=2.7.3 in /usr/local/lib/python3.7/dist-packages (from pandas<1.5.0,>=1.1.0->sktime) (2.8.2)\n",
      "Requirement already satisfied: six>=1.5 in /usr/local/lib/python3.7/dist-packages (from python-dateutil>=2.7.3->pandas<1.5.0,>=1.1.0->sktime) (1.15.0)\n",
      "Requirement already satisfied: threadpoolctl>=2.0.0 in /usr/local/lib/python3.7/dist-packages (from scikit-learn<1.2.0,>=0.24.0->sktime) (3.1.0)\n",
      "Requirement already satisfied: joblib>=0.11 in /usr/local/lib/python3.7/dist-packages (from scikit-learn<1.2.0,>=0.24.0->sktime) (1.1.0)\n",
      "Requirement already satisfied: packaging>=21.3 in /usr/local/lib/python3.7/dist-packages (from statsmodels>=0.12.1->sktime) (21.3)\n",
      "Requirement already satisfied: patsy>=0.5.2 in /usr/local/lib/python3.7/dist-packages (from statsmodels>=0.12.1->sktime) (0.5.2)\n",
      "Requirement already satisfied: pyparsing!=3.0.5,>=2.0.2 in /usr/local/lib/python3.7/dist-packages (from packaging>=21.3->statsmodels>=0.12.1->sktime) (3.0.9)\n",
      "Installing collected packages: llvmlite, statsmodels, numba, deprecated, sktime\n",
      "  Attempting uninstall: llvmlite\n",
      "    Found existing installation: llvmlite 0.34.0\n",
      "    Uninstalling llvmlite-0.34.0:\n",
      "      Successfully uninstalled llvmlite-0.34.0\n",
      "  Attempting uninstall: statsmodels\n",
      "    Found existing installation: statsmodels 0.10.2\n",
      "    Uninstalling statsmodels-0.10.2:\n",
      "      Successfully uninstalled statsmodels-0.10.2\n",
      "  Attempting uninstall: numba\n",
      "    Found existing installation: numba 0.51.2\n",
      "    Uninstalling numba-0.51.2:\n",
      "      Successfully uninstalled numba-0.51.2\n",
      "Successfully installed deprecated-1.2.13 llvmlite-0.38.0 numba-0.55.1 sktime-0.11.4 statsmodels-0.13.2\n"
     ]
    }
   ],
   "source": [
    "! pip install sktime"
   ]
  },
  {
   "cell_type": "code",
   "execution_count": 2,
   "metadata": {
    "colab": {
     "base_uri": "https://localhost:8080/"
    },
    "id": "OtDZjrJv5pai",
    "outputId": "25f44870-e239-41c9-c464-90fca5f1acd0"
   },
   "outputs": [
    {
     "name": "stdout",
     "output_type": "stream",
     "text": [
      "Collecting pmdarima\n",
      "  Downloading pmdarima-1.8.5-cp37-cp37m-manylinux_2_17_x86_64.manylinux2014_x86_64.manylinux_2_24_x86_64.whl (1.4 MB)\n",
      "\u001b[?25l\r",
      "\u001b[K     |▎                               | 10 kB 15.7 MB/s eta 0:00:01\r",
      "\u001b[K     |▌                               | 20 kB 22.1 MB/s eta 0:00:01\r",
      "\u001b[K     |▊                               | 30 kB 19.1 MB/s eta 0:00:01\r",
      "\u001b[K     |█                               | 40 kB 16.5 MB/s eta 0:00:01\r",
      "\u001b[K     |█▏                              | 51 kB 10.3 MB/s eta 0:00:01\r",
      "\u001b[K     |█▍                              | 61 kB 11.9 MB/s eta 0:00:01\r",
      "\u001b[K     |█▋                              | 71 kB 11.4 MB/s eta 0:00:01\r",
      "\u001b[K     |██                              | 81 kB 11.3 MB/s eta 0:00:01\r",
      "\u001b[K     |██▏                             | 92 kB 12.4 MB/s eta 0:00:01\r",
      "\u001b[K     |██▍                             | 102 kB 12.8 MB/s eta 0:00:01\r",
      "\u001b[K     |██▋                             | 112 kB 12.8 MB/s eta 0:00:01\r",
      "\u001b[K     |██▉                             | 122 kB 12.8 MB/s eta 0:00:01\r",
      "\u001b[K     |███                             | 133 kB 12.8 MB/s eta 0:00:01\r",
      "\u001b[K     |███▎                            | 143 kB 12.8 MB/s eta 0:00:01\r",
      "\u001b[K     |███▌                            | 153 kB 12.8 MB/s eta 0:00:01\r",
      "\u001b[K     |███▉                            | 163 kB 12.8 MB/s eta 0:00:01\r",
      "\u001b[K     |████                            | 174 kB 12.8 MB/s eta 0:00:01\r",
      "\u001b[K     |████▎                           | 184 kB 12.8 MB/s eta 0:00:01\r",
      "\u001b[K     |████▌                           | 194 kB 12.8 MB/s eta 0:00:01\r",
      "\u001b[K     |████▊                           | 204 kB 12.8 MB/s eta 0:00:01\r",
      "\u001b[K     |█████                           | 215 kB 12.8 MB/s eta 0:00:01\r",
      "\u001b[K     |█████▏                          | 225 kB 12.8 MB/s eta 0:00:01\r",
      "\u001b[K     |█████▍                          | 235 kB 12.8 MB/s eta 0:00:01\r",
      "\u001b[K     |█████▊                          | 245 kB 12.8 MB/s eta 0:00:01\r",
      "\u001b[K     |██████                          | 256 kB 12.8 MB/s eta 0:00:01\r",
      "\u001b[K     |██████▏                         | 266 kB 12.8 MB/s eta 0:00:01\r",
      "\u001b[K     |██████▍                         | 276 kB 12.8 MB/s eta 0:00:01\r",
      "\u001b[K     |██████▋                         | 286 kB 12.8 MB/s eta 0:00:01\r",
      "\u001b[K     |██████▉                         | 296 kB 12.8 MB/s eta 0:00:01\r",
      "\u001b[K     |███████                         | 307 kB 12.8 MB/s eta 0:00:01\r",
      "\u001b[K     |███████▎                        | 317 kB 12.8 MB/s eta 0:00:01\r",
      "\u001b[K     |███████▋                        | 327 kB 12.8 MB/s eta 0:00:01\r",
      "\u001b[K     |███████▉                        | 337 kB 12.8 MB/s eta 0:00:01\r",
      "\u001b[K     |████████                        | 348 kB 12.8 MB/s eta 0:00:01\r",
      "\u001b[K     |████████▎                       | 358 kB 12.8 MB/s eta 0:00:01\r",
      "\u001b[K     |████████▌                       | 368 kB 12.8 MB/s eta 0:00:01\r",
      "\u001b[K     |████████▊                       | 378 kB 12.8 MB/s eta 0:00:01\r",
      "\u001b[K     |█████████                       | 389 kB 12.8 MB/s eta 0:00:01\r",
      "\u001b[K     |█████████▎                      | 399 kB 12.8 MB/s eta 0:00:01\r",
      "\u001b[K     |█████████▌                      | 409 kB 12.8 MB/s eta 0:00:01\r",
      "\u001b[K     |█████████▊                      | 419 kB 12.8 MB/s eta 0:00:01\r",
      "\u001b[K     |██████████                      | 430 kB 12.8 MB/s eta 0:00:01\r",
      "\u001b[K     |██████████▏                     | 440 kB 12.8 MB/s eta 0:00:01\r",
      "\u001b[K     |██████████▍                     | 450 kB 12.8 MB/s eta 0:00:01\r",
      "\u001b[K     |██████████▋                     | 460 kB 12.8 MB/s eta 0:00:01\r",
      "\u001b[K     |██████████▉                     | 471 kB 12.8 MB/s eta 0:00:01\r",
      "\u001b[K     |███████████▏                    | 481 kB 12.8 MB/s eta 0:00:01\r",
      "\u001b[K     |███████████▍                    | 491 kB 12.8 MB/s eta 0:00:01\r",
      "\u001b[K     |███████████▋                    | 501 kB 12.8 MB/s eta 0:00:01\r",
      "\u001b[K     |███████████▉                    | 512 kB 12.8 MB/s eta 0:00:01\r",
      "\u001b[K     |████████████                    | 522 kB 12.8 MB/s eta 0:00:01\r",
      "\u001b[K     |████████████▎                   | 532 kB 12.8 MB/s eta 0:00:01\r",
      "\u001b[K     |████████████▌                   | 542 kB 12.8 MB/s eta 0:00:01\r",
      "\u001b[K     |████████████▊                   | 552 kB 12.8 MB/s eta 0:00:01\r",
      "\u001b[K     |█████████████                   | 563 kB 12.8 MB/s eta 0:00:01\r",
      "\u001b[K     |█████████████▎                  | 573 kB 12.8 MB/s eta 0:00:01\r",
      "\u001b[K     |█████████████▌                  | 583 kB 12.8 MB/s eta 0:00:01\r",
      "\u001b[K     |█████████████▊                  | 593 kB 12.8 MB/s eta 0:00:01\r",
      "\u001b[K     |██████████████                  | 604 kB 12.8 MB/s eta 0:00:01\r",
      "\u001b[K     |██████████████▏                 | 614 kB 12.8 MB/s eta 0:00:01\r",
      "\u001b[K     |██████████████▍                 | 624 kB 12.8 MB/s eta 0:00:01\r",
      "\u001b[K     |██████████████▋                 | 634 kB 12.8 MB/s eta 0:00:01\r",
      "\u001b[K     |███████████████                 | 645 kB 12.8 MB/s eta 0:00:01\r",
      "\u001b[K     |███████████████▏                | 655 kB 12.8 MB/s eta 0:00:01\r",
      "\u001b[K     |███████████████▍                | 665 kB 12.8 MB/s eta 0:00:01\r",
      "\u001b[K     |███████████████▋                | 675 kB 12.8 MB/s eta 0:00:01\r",
      "\u001b[K     |███████████████▉                | 686 kB 12.8 MB/s eta 0:00:01\r",
      "\u001b[K     |████████████████                | 696 kB 12.8 MB/s eta 0:00:01\r",
      "\u001b[K     |████████████████▎               | 706 kB 12.8 MB/s eta 0:00:01\r",
      "\u001b[K     |████████████████▋               | 716 kB 12.8 MB/s eta 0:00:01\r",
      "\u001b[K     |████████████████▉               | 727 kB 12.8 MB/s eta 0:00:01\r",
      "\u001b[K     |█████████████████               | 737 kB 12.8 MB/s eta 0:00:01\r",
      "\u001b[K     |█████████████████▎              | 747 kB 12.8 MB/s eta 0:00:01\r",
      "\u001b[K     |█████████████████▌              | 757 kB 12.8 MB/s eta 0:00:01\r",
      "\u001b[K     |█████████████████▊              | 768 kB 12.8 MB/s eta 0:00:01\r",
      "\u001b[K     |██████████████████              | 778 kB 12.8 MB/s eta 0:00:01\r",
      "\u001b[K     |██████████████████▏             | 788 kB 12.8 MB/s eta 0:00:01\r",
      "\u001b[K     |██████████████████▌             | 798 kB 12.8 MB/s eta 0:00:01\r",
      "\u001b[K     |██████████████████▊             | 808 kB 12.8 MB/s eta 0:00:01\r",
      "\u001b[K     |███████████████████             | 819 kB 12.8 MB/s eta 0:00:01\r",
      "\u001b[K     |███████████████████▏            | 829 kB 12.8 MB/s eta 0:00:01\r",
      "\u001b[K     |███████████████████▍            | 839 kB 12.8 MB/s eta 0:00:01\r",
      "\u001b[K     |███████████████████▋            | 849 kB 12.8 MB/s eta 0:00:01\r",
      "\u001b[K     |███████████████████▉            | 860 kB 12.8 MB/s eta 0:00:01\r",
      "\u001b[K     |████████████████████            | 870 kB 12.8 MB/s eta 0:00:01\r",
      "\u001b[K     |████████████████████▍           | 880 kB 12.8 MB/s eta 0:00:01\r",
      "\u001b[K     |████████████████████▋           | 890 kB 12.8 MB/s eta 0:00:01\r",
      "\u001b[K     |████████████████████▉           | 901 kB 12.8 MB/s eta 0:00:01\r",
      "\u001b[K     |█████████████████████           | 911 kB 12.8 MB/s eta 0:00:01\r",
      "\u001b[K     |█████████████████████▎          | 921 kB 12.8 MB/s eta 0:00:01\r",
      "\u001b[K     |█████████████████████▌          | 931 kB 12.8 MB/s eta 0:00:01\r",
      "\u001b[K     |█████████████████████▊          | 942 kB 12.8 MB/s eta 0:00:01\r",
      "\u001b[K     |██████████████████████          | 952 kB 12.8 MB/s eta 0:00:01\r",
      "\u001b[K     |██████████████████████▎         | 962 kB 12.8 MB/s eta 0:00:01\r",
      "\u001b[K     |██████████████████████▌         | 972 kB 12.8 MB/s eta 0:00:01\r",
      "\u001b[K     |██████████████████████▊         | 983 kB 12.8 MB/s eta 0:00:01\r",
      "\u001b[K     |███████████████████████         | 993 kB 12.8 MB/s eta 0:00:01\r",
      "\u001b[K     |███████████████████████▏        | 1.0 MB 12.8 MB/s eta 0:00:01\r",
      "\u001b[K     |███████████████████████▍        | 1.0 MB 12.8 MB/s eta 0:00:01\r",
      "\u001b[K     |███████████████████████▋        | 1.0 MB 12.8 MB/s eta 0:00:01\r",
      "\u001b[K     |████████████████████████        | 1.0 MB 12.8 MB/s eta 0:00:01\r",
      "\u001b[K     |████████████████████████▏       | 1.0 MB 12.8 MB/s eta 0:00:01\r",
      "\u001b[K     |████████████████████████▍       | 1.1 MB 12.8 MB/s eta 0:00:01\r",
      "\u001b[K     |████████████████████████▋       | 1.1 MB 12.8 MB/s eta 0:00:01\r",
      "\u001b[K     |████████████████████████▉       | 1.1 MB 12.8 MB/s eta 0:00:01\r",
      "\u001b[K     |█████████████████████████       | 1.1 MB 12.8 MB/s eta 0:00:01\r",
      "\u001b[K     |█████████████████████████▎      | 1.1 MB 12.8 MB/s eta 0:00:01\r",
      "\u001b[K     |█████████████████████████▌      | 1.1 MB 12.8 MB/s eta 0:00:01\r",
      "\u001b[K     |█████████████████████████▉      | 1.1 MB 12.8 MB/s eta 0:00:01\r",
      "\u001b[K     |██████████████████████████      | 1.1 MB 12.8 MB/s eta 0:00:01\r",
      "\u001b[K     |██████████████████████████▎     | 1.1 MB 12.8 MB/s eta 0:00:01\r",
      "\u001b[K     |██████████████████████████▌     | 1.1 MB 12.8 MB/s eta 0:00:01\r",
      "\u001b[K     |██████████████████████████▊     | 1.2 MB 12.8 MB/s eta 0:00:01\r",
      "\u001b[K     |███████████████████████████     | 1.2 MB 12.8 MB/s eta 0:00:01\r",
      "\u001b[K     |███████████████████████████▏    | 1.2 MB 12.8 MB/s eta 0:00:01\r",
      "\u001b[K     |███████████████████████████▍    | 1.2 MB 12.8 MB/s eta 0:00:01\r",
      "\u001b[K     |███████████████████████████▊    | 1.2 MB 12.8 MB/s eta 0:00:01\r",
      "\u001b[K     |████████████████████████████    | 1.2 MB 12.8 MB/s eta 0:00:01\r",
      "\u001b[K     |████████████████████████████▏   | 1.2 MB 12.8 MB/s eta 0:00:01\r",
      "\u001b[K     |████████████████████████████▍   | 1.2 MB 12.8 MB/s eta 0:00:01\r",
      "\u001b[K     |████████████████████████████▋   | 1.2 MB 12.8 MB/s eta 0:00:01\r",
      "\u001b[K     |████████████████████████████▉   | 1.2 MB 12.8 MB/s eta 0:00:01\r",
      "\u001b[K     |█████████████████████████████   | 1.3 MB 12.8 MB/s eta 0:00:01\r",
      "\u001b[K     |█████████████████████████████▎  | 1.3 MB 12.8 MB/s eta 0:00:01\r",
      "\u001b[K     |█████████████████████████████▋  | 1.3 MB 12.8 MB/s eta 0:00:01\r",
      "\u001b[K     |█████████████████████████████▉  | 1.3 MB 12.8 MB/s eta 0:00:01\r",
      "\u001b[K     |██████████████████████████████  | 1.3 MB 12.8 MB/s eta 0:00:01\r",
      "\u001b[K     |██████████████████████████████▎ | 1.3 MB 12.8 MB/s eta 0:00:01\r",
      "\u001b[K     |██████████████████████████████▌ | 1.3 MB 12.8 MB/s eta 0:00:01\r",
      "\u001b[K     |██████████████████████████████▊ | 1.3 MB 12.8 MB/s eta 0:00:01\r",
      "\u001b[K     |███████████████████████████████ | 1.3 MB 12.8 MB/s eta 0:00:01\r",
      "\u001b[K     |███████████████████████████████▎| 1.4 MB 12.8 MB/s eta 0:00:01\r",
      "\u001b[K     |███████████████████████████████▌| 1.4 MB 12.8 MB/s eta 0:00:01\r",
      "\u001b[K     |███████████████████████████████▊| 1.4 MB 12.8 MB/s eta 0:00:01\r",
      "\u001b[K     |████████████████████████████████| 1.4 MB 12.8 MB/s eta 0:00:01\r",
      "\u001b[K     |████████████████████████████████| 1.4 MB 12.8 MB/s \n",
      "\u001b[?25hRequirement already satisfied: pandas>=0.19 in /usr/local/lib/python3.7/dist-packages (from pmdarima) (1.3.5)\n",
      "Requirement already satisfied: joblib>=0.11 in /usr/local/lib/python3.7/dist-packages (from pmdarima) (1.1.0)\n",
      "Requirement already satisfied: Cython!=0.29.18,>=0.29 in /usr/local/lib/python3.7/dist-packages (from pmdarima) (0.29.29)\n",
      "Requirement already satisfied: numpy>=1.19.3 in /usr/local/lib/python3.7/dist-packages (from pmdarima) (1.21.6)\n",
      "Requirement already satisfied: setuptools!=50.0.0,>=38.6.0 in /usr/local/lib/python3.7/dist-packages (from pmdarima) (57.4.0)\n",
      "Requirement already satisfied: statsmodels!=0.12.0,>=0.11 in /usr/local/lib/python3.7/dist-packages (from pmdarima) (0.13.2)\n",
      "Requirement already satisfied: scipy>=1.3.2 in /usr/local/lib/python3.7/dist-packages (from pmdarima) (1.4.1)\n",
      "Requirement already satisfied: scikit-learn>=0.22 in /usr/local/lib/python3.7/dist-packages (from pmdarima) (1.0.2)\n",
      "Requirement already satisfied: urllib3 in /usr/local/lib/python3.7/dist-packages (from pmdarima) (1.24.3)\n",
      "Requirement already satisfied: python-dateutil>=2.7.3 in /usr/local/lib/python3.7/dist-packages (from pandas>=0.19->pmdarima) (2.8.2)\n",
      "Requirement already satisfied: pytz>=2017.3 in /usr/local/lib/python3.7/dist-packages (from pandas>=0.19->pmdarima) (2022.1)\n",
      "Requirement already satisfied: six>=1.5 in /usr/local/lib/python3.7/dist-packages (from python-dateutil>=2.7.3->pandas>=0.19->pmdarima) (1.15.0)\n",
      "Requirement already satisfied: threadpoolctl>=2.0.0 in /usr/local/lib/python3.7/dist-packages (from scikit-learn>=0.22->pmdarima) (3.1.0)\n",
      "Requirement already satisfied: patsy>=0.5.2 in /usr/local/lib/python3.7/dist-packages (from statsmodels!=0.12.0,>=0.11->pmdarima) (0.5.2)\n",
      "Requirement already satisfied: packaging>=21.3 in /usr/local/lib/python3.7/dist-packages (from statsmodels!=0.12.0,>=0.11->pmdarima) (21.3)\n",
      "Requirement already satisfied: pyparsing!=3.0.5,>=2.0.2 in /usr/local/lib/python3.7/dist-packages (from packaging>=21.3->statsmodels!=0.12.0,>=0.11->pmdarima) (3.0.9)\n",
      "Installing collected packages: pmdarima\n",
      "Successfully installed pmdarima-1.8.5\n"
     ]
    }
   ],
   "source": [
    "! pip install pmdarima"
   ]
  },
  {
   "cell_type": "code",
   "execution_count": 123,
   "metadata": {
    "id": "jMbwiWFz7DMD"
   },
   "outputs": [],
   "source": [
    "import warnings\n",
    "warnings.filterwarnings('ignore')\n",
    "import pandas as pd\n",
    "from statsmodels.tsa.stattools import kpss, adfuller\n",
    "from statsmodels.graphics.tsaplots import plot_acf, plot_pacf\n",
    "from copy import deepcopy\n",
    "import matplotlib.pyplot as plt\n",
    "import numpy as np\n",
    "from sktime.forecasting.all import temporal_train_test_split\n",
    "from sktime.performance_metrics.forecasting import MeanAbsolutePercentageError, MeanAbsoluteError, MeanSquaredError\n",
    "from sklearn.metrics import mean_squared_error\n",
    "import seaborn as sns\n",
    "import numpy as np\n",
    "import statsmodels.api as sm"
   ]
  },
  {
   "cell_type": "code",
   "execution_count": 4,
   "metadata": {
    "colab": {
     "base_uri": "https://localhost:8080/",
     "height": 455
    },
    "id": "jNsXzsBf6Al-",
    "outputId": "8ca1ac16-4496-4db5-83ca-308dfd298de0"
   },
   "outputs": [
    {
     "data": {
      "text/html": [
       "\n",
       "  <div id=\"df-ac48f131-2116-46b7-a576-f638f33f9fd3\">\n",
       "    <div class=\"colab-df-container\">\n",
       "      <div>\n",
       "<style scoped>\n",
       "    .dataframe tbody tr th:only-of-type {\n",
       "        vertical-align: middle;\n",
       "    }\n",
       "\n",
       "    .dataframe tbody tr th {\n",
       "        vertical-align: top;\n",
       "    }\n",
       "\n",
       "    .dataframe thead th {\n",
       "        text-align: right;\n",
       "    }\n",
       "</style>\n",
       "<table border=\"1\" class=\"dataframe\">\n",
       "  <thead>\n",
       "    <tr style=\"text-align: right;\">\n",
       "      <th></th>\n",
       "      <th>PCE</th>\n",
       "      <th>AHE</th>\n",
       "      <th>PCEPI</th>\n",
       "    </tr>\n",
       "    <tr>\n",
       "      <th>ds</th>\n",
       "      <th></th>\n",
       "      <th></th>\n",
       "      <th></th>\n",
       "    </tr>\n",
       "  </thead>\n",
       "  <tbody>\n",
       "    <tr>\n",
       "      <th>2006-03-01</th>\n",
       "      <td>9122.1</td>\n",
       "      <td>20.04</td>\n",
       "      <td>88.473</td>\n",
       "    </tr>\n",
       "    <tr>\n",
       "      <th>2006-04-01</th>\n",
       "      <td>9174.8</td>\n",
       "      <td>20.17</td>\n",
       "      <td>88.850</td>\n",
       "    </tr>\n",
       "    <tr>\n",
       "      <th>2006-05-01</th>\n",
       "      <td>9215.1</td>\n",
       "      <td>20.13</td>\n",
       "      <td>89.070</td>\n",
       "    </tr>\n",
       "    <tr>\n",
       "      <th>2006-06-01</th>\n",
       "      <td>9240.8</td>\n",
       "      <td>20.22</td>\n",
       "      <td>89.285</td>\n",
       "    </tr>\n",
       "    <tr>\n",
       "      <th>2006-07-01</th>\n",
       "      <td>9322.6</td>\n",
       "      <td>20.30</td>\n",
       "      <td>89.601</td>\n",
       "    </tr>\n",
       "    <tr>\n",
       "      <th>...</th>\n",
       "      <td>...</td>\n",
       "      <td>...</td>\n",
       "      <td>...</td>\n",
       "    </tr>\n",
       "    <tr>\n",
       "      <th>2019-08-01</th>\n",
       "      <td>14650.9</td>\n",
       "      <td>28.16</td>\n",
       "      <td>110.115</td>\n",
       "    </tr>\n",
       "    <tr>\n",
       "      <th>2019-09-01</th>\n",
       "      <td>14673.2</td>\n",
       "      <td>28.15</td>\n",
       "      <td>110.167</td>\n",
       "    </tr>\n",
       "    <tr>\n",
       "      <th>2019-10-01</th>\n",
       "      <td>14728.5</td>\n",
       "      <td>28.24</td>\n",
       "      <td>110.377</td>\n",
       "    </tr>\n",
       "    <tr>\n",
       "      <th>2019-11-01</th>\n",
       "      <td>14752.8</td>\n",
       "      <td>28.33</td>\n",
       "      <td>110.461</td>\n",
       "    </tr>\n",
       "    <tr>\n",
       "      <th>2019-12-01</th>\n",
       "      <td>14796.3</td>\n",
       "      <td>28.36</td>\n",
       "      <td>110.750</td>\n",
       "    </tr>\n",
       "  </tbody>\n",
       "</table>\n",
       "<p>166 rows × 3 columns</p>\n",
       "</div>\n",
       "      <button class=\"colab-df-convert\" onclick=\"convertToInteractive('df-ac48f131-2116-46b7-a576-f638f33f9fd3')\"\n",
       "              title=\"Convert this dataframe to an interactive table.\"\n",
       "              style=\"display:none;\">\n",
       "        \n",
       "  <svg xmlns=\"http://www.w3.org/2000/svg\" height=\"24px\"viewBox=\"0 0 24 24\"\n",
       "       width=\"24px\">\n",
       "    <path d=\"M0 0h24v24H0V0z\" fill=\"none\"/>\n",
       "    <path d=\"M18.56 5.44l.94 2.06.94-2.06 2.06-.94-2.06-.94-.94-2.06-.94 2.06-2.06.94zm-11 1L8.5 8.5l.94-2.06 2.06-.94-2.06-.94L8.5 2.5l-.94 2.06-2.06.94zm10 10l.94 2.06.94-2.06 2.06-.94-2.06-.94-.94-2.06-.94 2.06-2.06.94z\"/><path d=\"M17.41 7.96l-1.37-1.37c-.4-.4-.92-.59-1.43-.59-.52 0-1.04.2-1.43.59L10.3 9.45l-7.72 7.72c-.78.78-.78 2.05 0 2.83L4 21.41c.39.39.9.59 1.41.59.51 0 1.02-.2 1.41-.59l7.78-7.78 2.81-2.81c.8-.78.8-2.07 0-2.86zM5.41 20L4 18.59l7.72-7.72 1.47 1.35L5.41 20z\"/>\n",
       "  </svg>\n",
       "      </button>\n",
       "      \n",
       "  <style>\n",
       "    .colab-df-container {\n",
       "      display:flex;\n",
       "      flex-wrap:wrap;\n",
       "      gap: 12px;\n",
       "    }\n",
       "\n",
       "    .colab-df-convert {\n",
       "      background-color: #E8F0FE;\n",
       "      border: none;\n",
       "      border-radius: 50%;\n",
       "      cursor: pointer;\n",
       "      display: none;\n",
       "      fill: #1967D2;\n",
       "      height: 32px;\n",
       "      padding: 0 0 0 0;\n",
       "      width: 32px;\n",
       "    }\n",
       "\n",
       "    .colab-df-convert:hover {\n",
       "      background-color: #E2EBFA;\n",
       "      box-shadow: 0px 1px 2px rgba(60, 64, 67, 0.3), 0px 1px 3px 1px rgba(60, 64, 67, 0.15);\n",
       "      fill: #174EA6;\n",
       "    }\n",
       "\n",
       "    [theme=dark] .colab-df-convert {\n",
       "      background-color: #3B4455;\n",
       "      fill: #D2E3FC;\n",
       "    }\n",
       "\n",
       "    [theme=dark] .colab-df-convert:hover {\n",
       "      background-color: #434B5C;\n",
       "      box-shadow: 0px 1px 3px 1px rgba(0, 0, 0, 0.15);\n",
       "      filter: drop-shadow(0px 1px 2px rgba(0, 0, 0, 0.3));\n",
       "      fill: #FFFFFF;\n",
       "    }\n",
       "  </style>\n",
       "\n",
       "      <script>\n",
       "        const buttonEl =\n",
       "          document.querySelector('#df-ac48f131-2116-46b7-a576-f638f33f9fd3 button.colab-df-convert');\n",
       "        buttonEl.style.display =\n",
       "          google.colab.kernel.accessAllowed ? 'block' : 'none';\n",
       "\n",
       "        async function convertToInteractive(key) {\n",
       "          const element = document.querySelector('#df-ac48f131-2116-46b7-a576-f638f33f9fd3');\n",
       "          const dataTable =\n",
       "            await google.colab.kernel.invokeFunction('convertToInteractive',\n",
       "                                                     [key], {});\n",
       "          if (!dataTable) return;\n",
       "\n",
       "          const docLinkHtml = 'Like what you see? Visit the ' +\n",
       "            '<a target=\"_blank\" href=https://colab.research.google.com/notebooks/data_table.ipynb>data table notebook</a>'\n",
       "            + ' to learn more about interactive tables.';\n",
       "          element.innerHTML = '';\n",
       "          dataTable['output_type'] = 'display_data';\n",
       "          await google.colab.output.renderOutput(dataTable, element);\n",
       "          const docLink = document.createElement('div');\n",
       "          docLink.innerHTML = docLinkHtml;\n",
       "          element.appendChild(docLink);\n",
       "        }\n",
       "      </script>\n",
       "    </div>\n",
       "  </div>\n",
       "  "
      ],
      "text/plain": [
       "                PCE    AHE    PCEPI\n",
       "ds                                 \n",
       "2006-03-01   9122.1  20.04   88.473\n",
       "2006-04-01   9174.8  20.17   88.850\n",
       "2006-05-01   9215.1  20.13   89.070\n",
       "2006-06-01   9240.8  20.22   89.285\n",
       "2006-07-01   9322.6  20.30   89.601\n",
       "...             ...    ...      ...\n",
       "2019-08-01  14650.9  28.16  110.115\n",
       "2019-09-01  14673.2  28.15  110.167\n",
       "2019-10-01  14728.5  28.24  110.377\n",
       "2019-11-01  14752.8  28.33  110.461\n",
       "2019-12-01  14796.3  28.36  110.750\n",
       "\n",
       "[166 rows x 3 columns]"
      ]
     },
     "execution_count": 4,
     "metadata": {},
     "output_type": "execute_result"
    }
   ],
   "source": [
    "df = pd.read_csv(\"hw6_data_var.csv\", parse_dates=[\"Unnamed: 0\"]).rename(columns={\"Unnamed: 0\":\"ds\"})\n",
    "df.set_index('ds', inplace=True)\n",
    "df"
   ]
  },
  {
   "cell_type": "code",
   "execution_count": 5,
   "metadata": {
    "colab": {
     "base_uri": "https://localhost:8080/"
    },
    "id": "sGYPRi2C7nTP",
    "outputId": "05217b04-dd6b-46a7-840e-ca12b68b5694"
   },
   "outputs": [
    {
     "data": {
      "text/plain": [
       "PCE      0\n",
       "AHE      0\n",
       "PCEPI    0\n",
       "dtype: int64"
      ]
     },
     "execution_count": 5,
     "metadata": {},
     "output_type": "execute_result"
    }
   ],
   "source": [
    "df.isnull().sum()"
   ]
  },
  {
   "cell_type": "code",
   "execution_count": 6,
   "metadata": {
    "colab": {
     "base_uri": "https://localhost:8080/",
     "height": 242
    },
    "id": "q6iksQss7r8q",
    "outputId": "1d31d937-b29a-4958-b5cc-50eb0eac8f85"
   },
   "outputs": [
    {
     "name": "stdout",
     "output_type": "stream",
     "text": [
      "Start date: 2006-03-01 00:00:00\n",
      "End date: 2019-12-01 00:00:00\n"
     ]
    },
    {
     "data": {
      "text/html": [
       "\n",
       "  <div id=\"df-80727596-4129-4ae1-a994-e62d98d62fd1\">\n",
       "    <div class=\"colab-df-container\">\n",
       "      <div>\n",
       "<style scoped>\n",
       "    .dataframe tbody tr th:only-of-type {\n",
       "        vertical-align: middle;\n",
       "    }\n",
       "\n",
       "    .dataframe tbody tr th {\n",
       "        vertical-align: top;\n",
       "    }\n",
       "\n",
       "    .dataframe thead th {\n",
       "        text-align: right;\n",
       "    }\n",
       "</style>\n",
       "<table border=\"1\" class=\"dataframe\">\n",
       "  <thead>\n",
       "    <tr style=\"text-align: right;\">\n",
       "      <th></th>\n",
       "      <th>PCE</th>\n",
       "      <th>AHE</th>\n",
       "      <th>PCEPI</th>\n",
       "    </tr>\n",
       "  </thead>\n",
       "  <tbody>\n",
       "    <tr>\n",
       "      <th>min</th>\n",
       "      <td>9122.100000</td>\n",
       "      <td>20.040000</td>\n",
       "      <td>88.473000</td>\n",
       "    </tr>\n",
       "    <tr>\n",
       "      <th>max</th>\n",
       "      <td>14796.300000</td>\n",
       "      <td>28.360000</td>\n",
       "      <td>110.750000</td>\n",
       "    </tr>\n",
       "    <tr>\n",
       "      <th>median</th>\n",
       "      <td>11204.100000</td>\n",
       "      <td>23.765000</td>\n",
       "      <td>100.861000</td>\n",
       "    </tr>\n",
       "    <tr>\n",
       "      <th>mean</th>\n",
       "      <td>11507.872289</td>\n",
       "      <td>23.938193</td>\n",
       "      <td>100.006169</td>\n",
       "    </tr>\n",
       "    <tr>\n",
       "      <th>std</th>\n",
       "      <td>1630.579647</td>\n",
       "      <td>2.235573</td>\n",
       "      <td>6.028324</td>\n",
       "    </tr>\n",
       "  </tbody>\n",
       "</table>\n",
       "</div>\n",
       "      <button class=\"colab-df-convert\" onclick=\"convertToInteractive('df-80727596-4129-4ae1-a994-e62d98d62fd1')\"\n",
       "              title=\"Convert this dataframe to an interactive table.\"\n",
       "              style=\"display:none;\">\n",
       "        \n",
       "  <svg xmlns=\"http://www.w3.org/2000/svg\" height=\"24px\"viewBox=\"0 0 24 24\"\n",
       "       width=\"24px\">\n",
       "    <path d=\"M0 0h24v24H0V0z\" fill=\"none\"/>\n",
       "    <path d=\"M18.56 5.44l.94 2.06.94-2.06 2.06-.94-2.06-.94-.94-2.06-.94 2.06-2.06.94zm-11 1L8.5 8.5l.94-2.06 2.06-.94-2.06-.94L8.5 2.5l-.94 2.06-2.06.94zm10 10l.94 2.06.94-2.06 2.06-.94-2.06-.94-.94-2.06-.94 2.06-2.06.94z\"/><path d=\"M17.41 7.96l-1.37-1.37c-.4-.4-.92-.59-1.43-.59-.52 0-1.04.2-1.43.59L10.3 9.45l-7.72 7.72c-.78.78-.78 2.05 0 2.83L4 21.41c.39.39.9.59 1.41.59.51 0 1.02-.2 1.41-.59l7.78-7.78 2.81-2.81c.8-.78.8-2.07 0-2.86zM5.41 20L4 18.59l7.72-7.72 1.47 1.35L5.41 20z\"/>\n",
       "  </svg>\n",
       "      </button>\n",
       "      \n",
       "  <style>\n",
       "    .colab-df-container {\n",
       "      display:flex;\n",
       "      flex-wrap:wrap;\n",
       "      gap: 12px;\n",
       "    }\n",
       "\n",
       "    .colab-df-convert {\n",
       "      background-color: #E8F0FE;\n",
       "      border: none;\n",
       "      border-radius: 50%;\n",
       "      cursor: pointer;\n",
       "      display: none;\n",
       "      fill: #1967D2;\n",
       "      height: 32px;\n",
       "      padding: 0 0 0 0;\n",
       "      width: 32px;\n",
       "    }\n",
       "\n",
       "    .colab-df-convert:hover {\n",
       "      background-color: #E2EBFA;\n",
       "      box-shadow: 0px 1px 2px rgba(60, 64, 67, 0.3), 0px 1px 3px 1px rgba(60, 64, 67, 0.15);\n",
       "      fill: #174EA6;\n",
       "    }\n",
       "\n",
       "    [theme=dark] .colab-df-convert {\n",
       "      background-color: #3B4455;\n",
       "      fill: #D2E3FC;\n",
       "    }\n",
       "\n",
       "    [theme=dark] .colab-df-convert:hover {\n",
       "      background-color: #434B5C;\n",
       "      box-shadow: 0px 1px 3px 1px rgba(0, 0, 0, 0.15);\n",
       "      filter: drop-shadow(0px 1px 2px rgba(0, 0, 0, 0.3));\n",
       "      fill: #FFFFFF;\n",
       "    }\n",
       "  </style>\n",
       "\n",
       "      <script>\n",
       "        const buttonEl =\n",
       "          document.querySelector('#df-80727596-4129-4ae1-a994-e62d98d62fd1 button.colab-df-convert');\n",
       "        buttonEl.style.display =\n",
       "          google.colab.kernel.accessAllowed ? 'block' : 'none';\n",
       "\n",
       "        async function convertToInteractive(key) {\n",
       "          const element = document.querySelector('#df-80727596-4129-4ae1-a994-e62d98d62fd1');\n",
       "          const dataTable =\n",
       "            await google.colab.kernel.invokeFunction('convertToInteractive',\n",
       "                                                     [key], {});\n",
       "          if (!dataTable) return;\n",
       "\n",
       "          const docLinkHtml = 'Like what you see? Visit the ' +\n",
       "            '<a target=\"_blank\" href=https://colab.research.google.com/notebooks/data_table.ipynb>data table notebook</a>'\n",
       "            + ' to learn more about interactive tables.';\n",
       "          element.innerHTML = '';\n",
       "          dataTable['output_type'] = 'display_data';\n",
       "          await google.colab.output.renderOutput(dataTable, element);\n",
       "          const docLink = document.createElement('div');\n",
       "          docLink.innerHTML = docLinkHtml;\n",
       "          element.appendChild(docLink);\n",
       "        }\n",
       "      </script>\n",
       "    </div>\n",
       "  </div>\n",
       "  "
      ],
      "text/plain": [
       "                 PCE        AHE       PCEPI\n",
       "min      9122.100000  20.040000   88.473000\n",
       "max     14796.300000  28.360000  110.750000\n",
       "median  11204.100000  23.765000  100.861000\n",
       "mean    11507.872289  23.938193  100.006169\n",
       "std      1630.579647   2.235573    6.028324"
      ]
     },
     "execution_count": 6,
     "metadata": {},
     "output_type": "execute_result"
    }
   ],
   "source": [
    "print('Start date:', df.index.min())\n",
    "print('End date:', df.index.max())\n",
    "df.agg(\n",
    "    {\n",
    "        \"PCE\": [\"min\", \"max\", \"median\", \"mean\", \"std\"],\n",
    "        \"AHE\": [\"min\", \"max\", \"median\", \"mean\", \"std\"],\n",
    "        \"PCEPI\": [\"min\", \"max\", \"median\", \"mean\", \"std\"],\n",
    "    }\n",
    ")"
   ]
  },
  {
   "cell_type": "code",
   "execution_count": 7,
   "metadata": {
    "colab": {
     "base_uri": "https://localhost:8080/",
     "height": 1000
    },
    "id": "SWyxHuJa76V1",
    "outputId": "c4f3de64-50bc-4bf9-fe77-19353b85d8fc"
   },
   "outputs": [
    {
     "data": {
      "image/png": "[encoded data removed]",
      "text/plain": [
       "<Figure size 432x288 with 1 Axes>"
      ]
     },
     "metadata": {
      "needs_background": "light"
     },
     "output_type": "display_data"
    },
    {
     "data": {
      "image/png": "[encoded data removed]",
      "text/plain": [
       "<Figure size 432x288 with 1 Axes>"
      ]
     },
     "metadata": {
      "needs_background": "light"
     },
     "output_type": "display_data"
    },
    {
     "data": {
      "image/png": "[encoded data removed]",
      "text/plain": [
       "<Figure size 432x288 with 1 Axes>"
      ]
     },
     "metadata": {
      "needs_background": "light"
     },
     "output_type": "display_data"
    },
    {
     "data": {
      "image/png": "[encoded data removed]",
      "text/plain": [
       "<Figure size 432x288 with 1 Axes>"
      ]
     },
     "metadata": {
      "needs_background": "light"
     },
     "output_type": "display_data"
    }
   ],
   "source": [
    "df.plot()\n",
    "plt.title('All series')\n",
    "plt.show()\n",
    "\n",
    "df['PCE'].dropna().plot()\n",
    "plt.title('PCE')\n",
    "plt.show()\n",
    "\n",
    "df['AHE'].plot()\n",
    "plt.title('AHE')\n",
    "plt.show()\n",
    "\n",
    "df['PCEPI'].plot()\n",
    "plt.title('PCEPI')\n",
    "plt.show()"
   ]
  },
  {
   "cell_type": "code",
   "execution_count": 8,
   "metadata": {
    "colab": {
     "base_uri": "https://localhost:8080/",
     "height": 143
    },
    "id": "FtZwpkcV8XQy",
    "outputId": "e139e249-7d72-4ff2-cb2e-0bf311611a3d"
   },
   "outputs": [
    {
     "data": {
      "text/html": [
       "\n",
       "  <div id=\"df-19efde66-0017-433f-9b76-b4d2bcfa7c44\">\n",
       "    <div class=\"colab-df-container\">\n",
       "      <div>\n",
       "<style scoped>\n",
       "    .dataframe tbody tr th:only-of-type {\n",
       "        vertical-align: middle;\n",
       "    }\n",
       "\n",
       "    .dataframe tbody tr th {\n",
       "        vertical-align: top;\n",
       "    }\n",
       "\n",
       "    .dataframe thead th {\n",
       "        text-align: right;\n",
       "    }\n",
       "</style>\n",
       "<table border=\"1\" class=\"dataframe\">\n",
       "  <thead>\n",
       "    <tr style=\"text-align: right;\">\n",
       "      <th></th>\n",
       "      <th>PCE</th>\n",
       "      <th>AHE</th>\n",
       "      <th>PCEPI</th>\n",
       "    </tr>\n",
       "  </thead>\n",
       "  <tbody>\n",
       "    <tr>\n",
       "      <th>PCE</th>\n",
       "      <td>1.000000</td>\n",
       "      <td>0.988292</td>\n",
       "      <td>0.973768</td>\n",
       "    </tr>\n",
       "    <tr>\n",
       "      <th>AHE</th>\n",
       "      <td>0.988292</td>\n",
       "      <td>1.000000</td>\n",
       "      <td>0.988329</td>\n",
       "    </tr>\n",
       "    <tr>\n",
       "      <th>PCEPI</th>\n",
       "      <td>0.973768</td>\n",
       "      <td>0.988329</td>\n",
       "      <td>1.000000</td>\n",
       "    </tr>\n",
       "  </tbody>\n",
       "</table>\n",
       "</div>\n",
       "      <button class=\"colab-df-convert\" onclick=\"convertToInteractive('df-19efde66-0017-433f-9b76-b4d2bcfa7c44')\"\n",
       "              title=\"Convert this dataframe to an interactive table.\"\n",
       "              style=\"display:none;\">\n",
       "        \n",
       "  <svg xmlns=\"http://www.w3.org/2000/svg\" height=\"24px\"viewBox=\"0 0 24 24\"\n",
       "       width=\"24px\">\n",
       "    <path d=\"M0 0h24v24H0V0z\" fill=\"none\"/>\n",
       "    <path d=\"M18.56 5.44l.94 2.06.94-2.06 2.06-.94-2.06-.94-.94-2.06-.94 2.06-2.06.94zm-11 1L8.5 8.5l.94-2.06 2.06-.94-2.06-.94L8.5 2.5l-.94 2.06-2.06.94zm10 10l.94 2.06.94-2.06 2.06-.94-2.06-.94-.94-2.06-.94 2.06-2.06.94z\"/><path d=\"M17.41 7.96l-1.37-1.37c-.4-.4-.92-.59-1.43-.59-.52 0-1.04.2-1.43.59L10.3 9.45l-7.72 7.72c-.78.78-.78 2.05 0 2.83L4 21.41c.39.39.9.59 1.41.59.51 0 1.02-.2 1.41-.59l7.78-7.78 2.81-2.81c.8-.78.8-2.07 0-2.86zM5.41 20L4 18.59l7.72-7.72 1.47 1.35L5.41 20z\"/>\n",
       "  </svg>\n",
       "      </button>\n",
       "      \n",
       "  <style>\n",
       "    .colab-df-container {\n",
       "      display:flex;\n",
       "      flex-wrap:wrap;\n",
       "      gap: 12px;\n",
       "    }\n",
       "\n",
       "    .colab-df-convert {\n",
       "      background-color: #E8F0FE;\n",
       "      border: none;\n",
       "      border-radius: 50%;\n",
       "      cursor: pointer;\n",
       "      display: none;\n",
       "      fill: #1967D2;\n",
       "      height: 32px;\n",
       "      padding: 0 0 0 0;\n",
       "      width: 32px;\n",
       "    }\n",
       "\n",
       "    .colab-df-convert:hover {\n",
       "      background-color: #E2EBFA;\n",
       "      box-shadow: 0px 1px 2px rgba(60, 64, 67, 0.3), 0px 1px 3px 1px rgba(60, 64, 67, 0.15);\n",
       "      fill: #174EA6;\n",
       "    }\n",
       "\n",
       "    [theme=dark] .colab-df-convert {\n",
       "      background-color: #3B4455;\n",
       "      fill: #D2E3FC;\n",
       "    }\n",
       "\n",
       "    [theme=dark] .colab-df-convert:hover {\n",
       "      background-color: #434B5C;\n",
       "      box-shadow: 0px 1px 3px 1px rgba(0, 0, 0, 0.15);\n",
       "      filter: drop-shadow(0px 1px 2px rgba(0, 0, 0, 0.3));\n",
       "      fill: #FFFFFF;\n",
       "    }\n",
       "  </style>\n",
       "\n",
       "      <script>\n",
       "        const buttonEl =\n",
       "          document.querySelector('#df-19efde66-0017-433f-9b76-b4d2bcfa7c44 button.colab-df-convert');\n",
       "        buttonEl.style.display =\n",
       "          google.colab.kernel.accessAllowed ? 'block' : 'none';\n",
       "\n",
       "        async function convertToInteractive(key) {\n",
       "          const element = document.querySelector('#df-19efde66-0017-433f-9b76-b4d2bcfa7c44');\n",
       "          const dataTable =\n",
       "            await google.colab.kernel.invokeFunction('convertToInteractive',\n",
       "                                                     [key], {});\n",
       "          if (!dataTable) return;\n",
       "\n",
       "          const docLinkHtml = 'Like what you see? Visit the ' +\n",
       "            '<a target=\"_blank\" href=https://colab.research.google.com/notebooks/data_table.ipynb>data table notebook</a>'\n",
       "            + ' to learn more about interactive tables.';\n",
       "          element.innerHTML = '';\n",
       "          dataTable['output_type'] = 'display_data';\n",
       "          await google.colab.output.renderOutput(dataTable, element);\n",
       "          const docLink = document.createElement('div');\n",
       "          docLink.innerHTML = docLinkHtml;\n",
       "          element.appendChild(docLink);\n",
       "        }\n",
       "      </script>\n",
       "    </div>\n",
       "  </div>\n",
       "  "
      ],
      "text/plain": [
       "            PCE       AHE     PCEPI\n",
       "PCE    1.000000  0.988292  0.973768\n",
       "AHE    0.988292  1.000000  0.988329\n",
       "PCEPI  0.973768  0.988329  1.000000"
      ]
     },
     "execution_count": 8,
     "metadata": {},
     "output_type": "execute_result"
    }
   ],
   "source": [
    "df.corr()"
   ]
  },
  {
   "cell_type": "code",
   "execution_count": 9,
   "metadata": {
    "id": "DdDN2iMLEuFz"
   },
   "outputs": [],
   "source": [
    "def adf_kpss_test(df_col, alpha=0.05, reg='ct'):\n",
    "    '''\n",
    "    Return tuple of booleans indicating if\n",
    "    ADF and KPSS were passed\n",
    "    Input:\n",
    "    - df_col: dataframe column\n",
    "    - alpha: level of confidence for test\n",
    "    Output:\n",
    "    adf, kpss: tuple of booleans\n",
    "    '''\n",
    "    adf_results = adfuller(df_col)\n",
    "    adf_pval = adf_results[1]\n",
    "    adf_bool = adf_pval <= alpha\n",
    "\n",
    "    kpss_results = kpss(df_col, regression=reg)\n",
    "    kpss_pval = kpss_results[1]\n",
    "    kpss_bool = kpss_pval >= alpha\n",
    "    \n",
    "    return adf_bool, adf_pval, kpss_bool, kpss_pval"
   ]
  },
  {
   "cell_type": "code",
   "execution_count": 10,
   "metadata": {
    "colab": {
     "base_uri": "https://localhost:8080/"
    },
    "id": "5ojAek5RExq9",
    "outputId": "9bde686b-336b-4d05-d4d4-c50adeb653a4"
   },
   "outputs": [
    {
     "name": "stdout",
     "output_type": "stream",
     "text": [
      "PCE\n",
      "\t - ADF pval 0.9988740824722805\n",
      "\t - ADF Stationarity test: False\n",
      "\t - KPSS pval 0.01\n",
      "\t - KPSS Stationarity test: False\n",
      "AHE\n",
      "\t - ADF pval 0.9980788747908695\n",
      "\t - ADF Stationarity test: False\n",
      "\t - KPSS pval 0.01\n",
      "\t - KPSS Stationarity test: False\n",
      "PCEPI\n",
      "\t - ADF pval 0.9042386307188914\n",
      "\t - ADF Stationarity test: False\n",
      "\t - KPSS pval 0.04798476759908848\n",
      "\t - KPSS Stationarity test: False\n"
     ]
    },
    {
     "name": "stderr",
     "output_type": "stream",
     "text": [
      "/usr/local/lib/python3.7/dist-packages/statsmodels/tsa/stattools.py:2019: InterpolationWarning: The test statistic is outside of the range of p-values available in the\n",
      "look-up table. The actual p-value is smaller than the p-value returned.\n",
      "\n",
      "  warn_msg.format(direction=\"smaller\"), InterpolationWarning\n",
      "/usr/local/lib/python3.7/dist-packages/statsmodels/tsa/stattools.py:2019: InterpolationWarning: The test statistic is outside of the range of p-values available in the\n",
      "look-up table. The actual p-value is smaller than the p-value returned.\n",
      "\n",
      "  warn_msg.format(direction=\"smaller\"), InterpolationWarning\n"
     ]
    }
   ],
   "source": [
    "for col in ['PCE', 'AHE', 'PCEPI']:\n",
    "    adf_bool, adf_pval, kpss_bool, kpss_pval = adf_kpss_test(df[col].dropna())\n",
    "    print(col)\n",
    "    print('\\t - ADF pval', adf_pval)\n",
    "    print('\\t - ADF Stationarity test:', adf_bool)\n",
    "    print('\\t - KPSS pval', kpss_pval)\n",
    "    print('\\t - KPSS Stationarity test:', kpss_bool)"
   ]
  },
  {
   "cell_type": "markdown",
   "metadata": {
    "id": "oAs-T4Vg5_3N"
   },
   "source": [
    "### B. 10 pts Give a summary of your findings"
   ]
  },
  {
   "cell_type": "markdown",
   "metadata": {
    "id": "PKseqejz8auq"
   },
   "source": [
    "We can see we have the same data observations for the three series. The three series have an upward trend during the period, however they have different scales. We can see in the summary statistics table that the range of PCE is between 9,122 and 14,796, with median and mean around 11,000; the AHE ranges between 20 and 28, with median and mean around 24; the PCEPI ranges between 88 and 110, with median and mean around 100. The latter makes sense since PCEPI is a price index.\n",
    "\n",
    "The three series are highly correlated. The correlation between PCE and AHE is 0.99, the correlation between PCE and PCEPI is 0.97, and the correlation between AHE and PCEPI is 0.99. Hence, the series move in an extremely similar way. \n",
    "\n",
    "None of the series are stationary according to ADF and KPSS tests. Thus, we will have to difference them in order to make forecasts."
   ]
  },
  {
   "cell_type": "markdown",
   "metadata": {
    "id": "izFewulC6BXS"
   },
   "source": [
    "## Part 2 – 40 pts Granger Causality\n",
    "\n",
    "### A. 8 pts Consider PCE and AHE, give an intuitive description of the relationship between the two economic measures. This is your opinion, looking for logic and understanding not right or wrong\n",
    "\n",
    "We saw in the EDA that there is a high positive correlation, almost 1 to 1, of AHE and PCE. In my opinion the Average Hourly Earnings impacts the Personal Consumption Expenditures. We would expect that with more earnings (increase in AHE), workers/households would be able to spend more money (increase in PCE), and viceversa. Thus the direction of the causality would be from AHE to PCE."
   ]
  },
  {
   "cell_type": "markdown",
   "metadata": {
    "id": "-HurOfCP6NzX"
   },
   "source": [
    "### B. 8 pts Difference the two variables"
   ]
  },
  {
   "cell_type": "code",
   "execution_count": 11,
   "metadata": {
    "id": "XEW_BqFu6QWq"
   },
   "outputs": [],
   "source": [
    "df['PCE_diff'] = df['PCE'].diff()\n",
    "df['AHE_diff'] = df['AHE'].diff()\n",
    "df['PCEPI_diff'] = df['PCEPI'].diff()"
   ]
  },
  {
   "cell_type": "markdown",
   "metadata": {
    "id": "1VbMMGwQ6Rwf"
   },
   "source": [
    "### C. 8 pts Check Granger Causality for the direction you stated in 2A, return plot of results"
   ]
  },
  {
   "cell_type": "code",
   "execution_count": 12,
   "metadata": {
    "id": "3taXh3DG_Y2W"
   },
   "outputs": [],
   "source": [
    "def plot_Granger(granger_results, alpha=0.05):\n",
    "    res_list = []\n",
    "    for lag, v in granger_results.items():\n",
    "        res = {}\n",
    "        res['Lag'] = lag\n",
    "        for test, stats in v[0].items():\n",
    "            res[test] = stats[1]\n",
    "\n",
    "        res_list.append(res)\n",
    "\n",
    "    pvals = pd.DataFrame(res_list)\n",
    "    pvals.set_index('Lag', inplace=True)\n",
    "    pvals_graph = pvals['params_ftest']\n",
    "\n",
    "    pvals_graph.plot(title='Granger Causality Test')\n",
    "    alpha_ser = pd.Series([alpha]*len(pvals_graph), index=pvals_graph.index)\n",
    "    alpha_ser.plot(color='red')\n",
    "    plt.ylabel('p-value')\n",
    "    plt.show()"
   ]
  },
  {
   "cell_type": "code",
   "execution_count": 13,
   "metadata": {
    "colab": {
     "base_uri": "https://localhost:8080/"
    },
    "id": "bW-cWyld6NRl",
    "outputId": "4f28fb27-37e2-4930-e03c-60ce60a06e71"
   },
   "outputs": [
    {
     "name": "stdout",
     "output_type": "stream",
     "text": [
      "\n",
      "Granger Causality\n",
      "number of lags (no zero) 1\n",
      "ssr based F test:         F=0.0285  , p=0.8662  , df_denom=161, df_num=1\n",
      "ssr based chi2 test:   chi2=0.0290  , p=0.8648  , df=1\n",
      "likelihood ratio test: chi2=0.0290  , p=0.8648  , df=1\n",
      "parameter F test:         F=0.0285  , p=0.8662  , df_denom=161, df_num=1\n",
      "\n",
      "Granger Causality\n",
      "number of lags (no zero) 2\n",
      "ssr based F test:         F=0.1227  , p=0.8846  , df_denom=158, df_num=2\n",
      "ssr based chi2 test:   chi2=0.2531  , p=0.8811  , df=2\n",
      "likelihood ratio test: chi2=0.2529  , p=0.8812  , df=2\n",
      "parameter F test:         F=0.1227  , p=0.8846  , df_denom=158, df_num=2\n",
      "\n",
      "Granger Causality\n",
      "number of lags (no zero) 3\n",
      "ssr based F test:         F=0.1740  , p=0.9138  , df_denom=155, df_num=3\n",
      "ssr based chi2 test:   chi2=0.5457  , p=0.9087  , df=3\n",
      "likelihood ratio test: chi2=0.5448  , p=0.9089  , df=3\n",
      "parameter F test:         F=0.1740  , p=0.9138  , df_denom=155, df_num=3\n",
      "\n",
      "Granger Causality\n",
      "number of lags (no zero) 4\n",
      "ssr based F test:         F=0.5205  , p=0.7208  , df_denom=152, df_num=4\n",
      "ssr based chi2 test:   chi2=2.2052  , p=0.6981  , df=4\n",
      "likelihood ratio test: chi2=2.1903  , p=0.7008  , df=4\n",
      "parameter F test:         F=0.5205  , p=0.7208  , df_denom=152, df_num=4\n",
      "\n",
      "Granger Causality\n",
      "number of lags (no zero) 5\n",
      "ssr based F test:         F=0.5312  , p=0.7524  , df_denom=149, df_num=5\n",
      "ssr based chi2 test:   chi2=2.8518  , p=0.7228  , df=5\n",
      "likelihood ratio test: chi2=2.8267  , p=0.7267  , df=5\n",
      "parameter F test:         F=0.5312  , p=0.7524  , df_denom=149, df_num=5\n",
      "\n",
      "Granger Causality\n",
      "number of lags (no zero) 6\n",
      "ssr based F test:         F=0.5335  , p=0.7821  , df_denom=146, df_num=6\n",
      "ssr based chi2 test:   chi2=3.4861  , p=0.7458  , df=6\n",
      "likelihood ratio test: chi2=3.4484  , p=0.7508  , df=6\n",
      "parameter F test:         F=0.5335  , p=0.7821  , df_denom=146, df_num=6\n",
      "\n",
      "Granger Causality\n",
      "number of lags (no zero) 7\n",
      "ssr based F test:         F=0.5116  , p=0.8247  , df_denom=143, df_num=7\n",
      "ssr based chi2 test:   chi2=3.9568  , p=0.7847  , df=7\n",
      "likelihood ratio test: chi2=3.9081  , p=0.7903  , df=7\n",
      "parameter F test:         F=0.5116  , p=0.8247  , df_denom=143, df_num=7\n",
      "\n",
      "Granger Causality\n",
      "number of lags (no zero) 8\n",
      "ssr based F test:         F=0.4807  , p=0.8683  , df_denom=140, df_num=8\n",
      "ssr based chi2 test:   chi2=4.3122  , p=0.8279  , df=8\n",
      "likelihood ratio test: chi2=4.2540  , p=0.8335  , df=8\n",
      "parameter F test:         F=0.4807  , p=0.8683  , df_denom=140, df_num=8\n",
      "\n",
      "Granger Causality\n",
      "number of lags (no zero) 9\n",
      "ssr based F test:         F=0.4320  , p=0.9159  , df_denom=137, df_num=9\n",
      "ssr based chi2 test:   chi2=4.4271  , p=0.8811  , df=9\n",
      "likelihood ratio test: chi2=4.3654  , p=0.8858  , df=9\n",
      "parameter F test:         F=0.4320  , p=0.9159  , df_denom=137, df_num=9\n",
      "\n",
      "Granger Causality\n",
      "number of lags (no zero) 10\n",
      "ssr based F test:         F=0.4233  , p=0.9333  , df_denom=134, df_num=10\n",
      "ssr based chi2 test:   chi2=4.8967  , p=0.8980  , df=10\n",
      "likelihood ratio test: chi2=4.8209  , p=0.9028  , df=10\n",
      "parameter F test:         F=0.4233  , p=0.9333  , df_denom=134, df_num=10\n"
     ]
    }
   ],
   "source": [
    "from statsmodels.tsa.stattools import grangercausalitytests, q_stat\n",
    "\n",
    "data = df[['PCE_diff', 'AHE_diff' ]].dropna()\n",
    "granger_results = grangercausalitytests(data, maxlag=10, verbose=True)"
   ]
  },
  {
   "cell_type": "code",
   "execution_count": 14,
   "metadata": {
    "colab": {
     "base_uri": "https://localhost:8080/",
     "height": 295
    },
    "id": "mqwZogGGMvFx",
    "outputId": "88f448b6-2a5d-48d9-e092-8725fed795f8"
   },
   "outputs": [
    {
     "data": {
      "image/png": "[encoded data removed]",
      "text/plain": [
       "<Figure size 432x288 with 1 Axes>"
      ]
     },
     "metadata": {
      "needs_background": "light"
     },
     "output_type": "display_data"
    }
   ],
   "source": [
    "plot_Granger(granger_results)"
   ]
  },
  {
   "cell_type": "markdown",
   "metadata": {
    "id": "tvZq-mglDbU5"
   },
   "source": [
    "The p-values are always above 0.05. Hence, we don't reject the null hypothesis."
   ]
  },
  {
   "cell_type": "markdown",
   "metadata": {
    "id": "K-8LLemX6Umj"
   },
   "source": [
    "### D. 8 pts Check Granger Causality for the opposite direction you stated in 2A, return plot of results"
   ]
  },
  {
   "cell_type": "code",
   "execution_count": 15,
   "metadata": {
    "colab": {
     "base_uri": "https://localhost:8080/"
    },
    "id": "037yhwlF6XKX",
    "outputId": "1fda9e4f-edbf-4ca4-8fce-25b4ee653a6f"
   },
   "outputs": [
    {
     "name": "stdout",
     "output_type": "stream",
     "text": [
      "\n",
      "Granger Causality\n",
      "number of lags (no zero) 1\n",
      "ssr based F test:         F=0.0186  , p=0.8917  , df_denom=161, df_num=1\n",
      "ssr based chi2 test:   chi2=0.0189  , p=0.8906  , df=1\n",
      "likelihood ratio test: chi2=0.0189  , p=0.8906  , df=1\n",
      "parameter F test:         F=0.0186  , p=0.8917  , df_denom=161, df_num=1\n",
      "\n",
      "Granger Causality\n",
      "number of lags (no zero) 2\n",
      "ssr based F test:         F=1.1373  , p=0.3233  , df_denom=158, df_num=2\n",
      "ssr based chi2 test:   chi2=2.3466  , p=0.3094  , df=2\n",
      "likelihood ratio test: chi2=2.3298  , p=0.3119  , df=2\n",
      "parameter F test:         F=1.1373  , p=0.3233  , df_denom=158, df_num=2\n",
      "\n",
      "Granger Causality\n",
      "number of lags (no zero) 3\n",
      "ssr based F test:         F=1.7396  , p=0.1612  , df_denom=155, df_num=3\n",
      "ssr based chi2 test:   chi2=5.4546  , p=0.1414  , df=3\n",
      "likelihood ratio test: chi2=5.3648  , p=0.1470  , df=3\n",
      "parameter F test:         F=1.7396  , p=0.1612  , df_denom=155, df_num=3\n",
      "\n",
      "Granger Causality\n",
      "number of lags (no zero) 4\n",
      "ssr based F test:         F=1.7223  , p=0.1479  , df_denom=152, df_num=4\n",
      "ssr based chi2 test:   chi2=7.2970  , p=0.1210  , df=4\n",
      "likelihood ratio test: chi2=7.1365  , p=0.1288  , df=4\n",
      "parameter F test:         F=1.7223  , p=0.1479  , df_denom=152, df_num=4\n",
      "\n",
      "Granger Causality\n",
      "number of lags (no zero) 5\n",
      "ssr based F test:         F=1.7941  , p=0.1174  , df_denom=149, df_num=5\n",
      "ssr based chi2 test:   chi2=9.6329  , p=0.0863  , df=5\n",
      "likelihood ratio test: chi2=9.3540  , p=0.0957  , df=5\n",
      "parameter F test:         F=1.7941  , p=0.1174  , df_denom=149, df_num=5\n",
      "\n",
      "Granger Causality\n",
      "number of lags (no zero) 6\n",
      "ssr based F test:         F=1.8099  , p=0.1010  , df_denom=146, df_num=6\n",
      "ssr based chi2 test:   chi2=11.8261 , p=0.0660  , df=6\n",
      "likelihood ratio test: chi2=11.4069 , p=0.0766  , df=6\n",
      "parameter F test:         F=1.8099  , p=0.1010  , df_denom=146, df_num=6\n",
      "\n",
      "Granger Causality\n",
      "number of lags (no zero) 7\n",
      "ssr based F test:         F=1.4748  , p=0.1808  , df_denom=143, df_num=7\n",
      "ssr based chi2 test:   chi2=11.4064 , p=0.1218  , df=7\n",
      "likelihood ratio test: chi2=11.0134 , p=0.1380  , df=7\n",
      "parameter F test:         F=1.4748  , p=0.1808  , df_denom=143, df_num=7\n",
      "\n",
      "Granger Causality\n",
      "number of lags (no zero) 8\n",
      "ssr based F test:         F=1.4762  , p=0.1711  , df_denom=140, df_num=8\n",
      "ssr based chi2 test:   chi2=13.2438 , p=0.1037  , df=8\n",
      "likelihood ratio test: chi2=12.7147 , p=0.1220  , df=8\n",
      "parameter F test:         F=1.4762  , p=0.1711  , df_denom=140, df_num=8\n",
      "\n",
      "Granger Causality\n",
      "number of lags (no zero) 9\n",
      "ssr based F test:         F=2.2035  , p=0.0253  , df_denom=137, df_num=9\n",
      "ssr based chi2 test:   chi2=22.5822 , p=0.0072  , df=9\n",
      "likelihood ratio test: chi2=21.0901 , p=0.0123  , df=9\n",
      "parameter F test:         F=2.2035  , p=0.0253  , df_denom=137, df_num=9\n",
      "\n",
      "Granger Causality\n",
      "number of lags (no zero) 10\n",
      "ssr based F test:         F=1.9624  , p=0.0422  , df_denom=134, df_num=10\n",
      "ssr based chi2 test:   chi2=22.6999 , p=0.0119  , df=10\n",
      "likelihood ratio test: chi2=21.1840 , p=0.0198  , df=10\n",
      "parameter F test:         F=1.9624  , p=0.0422  , df_denom=134, df_num=10\n",
      "\n",
      "Granger Causality\n",
      "number of lags (no zero) 11\n",
      "ssr based F test:         F=1.8815  , p=0.0473  , df_denom=131, df_num=11\n",
      "ssr based chi2 test:   chi2=24.3304 , p=0.0114  , df=11\n",
      "likelihood ratio test: chi2=22.5895 , p=0.0202  , df=11\n",
      "parameter F test:         F=1.8815  , p=0.0473  , df_denom=131, df_num=11\n",
      "\n",
      "Granger Causality\n",
      "number of lags (no zero) 12\n",
      "ssr based F test:         F=2.0756  , p=0.0229  , df_denom=128, df_num=12\n",
      "ssr based chi2 test:   chi2=29.7713 , p=0.0030  , df=12\n",
      "likelihood ratio test: chi2=27.2031 , p=0.0072  , df=12\n",
      "parameter F test:         F=2.0756  , p=0.0229  , df_denom=128, df_num=12\n",
      "\n",
      "Granger Causality\n",
      "number of lags (no zero) 13\n",
      "ssr based F test:         F=1.7715  , p=0.0547  , df_denom=125, df_num=13\n",
      "ssr based chi2 test:   chi2=28.0040 , p=0.0090  , df=13\n",
      "likelihood ratio test: chi2=25.7030 , p=0.0186  , df=13\n",
      "parameter F test:         F=1.7715  , p=0.0547  , df_denom=125, df_num=13\n",
      "\n",
      "Granger Causality\n",
      "number of lags (no zero) 14\n",
      "ssr based F test:         F=1.6251  , p=0.0815  , df_denom=122, df_num=14\n",
      "ssr based chi2 test:   chi2=28.1595 , p=0.0136  , df=14\n",
      "likelihood ratio test: chi2=25.8205 , p=0.0273  , df=14\n",
      "parameter F test:         F=1.6251  , p=0.0815  , df_denom=122, df_num=14\n",
      "\n",
      "Granger Causality\n",
      "number of lags (no zero) 15\n",
      "ssr based F test:         F=2.2203  , p=0.0090  , df_denom=119, df_num=15\n",
      "ssr based chi2 test:   chi2=41.9799 , p=0.0002  , df=15\n",
      "likelihood ratio test: chi2=37.0133 , p=0.0013  , df=15\n",
      "parameter F test:         F=2.2203  , p=0.0090  , df_denom=119, df_num=15\n",
      "\n",
      "Granger Causality\n",
      "number of lags (no zero) 16\n",
      "ssr based F test:         F=1.9660  , p=0.0210  , df_denom=116, df_num=16\n",
      "ssr based chi2 test:   chi2=40.4052 , p=0.0007  , df=16\n",
      "likelihood ratio test: chi2=35.7514 , p=0.0031  , df=16\n",
      "parameter F test:         F=1.9660  , p=0.0210  , df_denom=116, df_num=16\n",
      "\n",
      "Granger Causality\n",
      "number of lags (no zero) 17\n",
      "ssr based F test:         F=1.8324  , p=0.0320  , df_denom=113, df_num=17\n",
      "ssr based chi2 test:   chi2=40.8004 , p=0.0010  , df=17\n",
      "likelihood ratio test: chi2=36.0347 , p=0.0045  , df=17\n",
      "parameter F test:         F=1.8324  , p=0.0320  , df_denom=113, df_num=17\n",
      "\n",
      "Granger Causality\n",
      "number of lags (no zero) 18\n",
      "ssr based F test:         F=1.8718  , p=0.0255  , df_denom=110, df_num=18\n",
      "ssr based chi2 test:   chi2=45.0254 , p=0.0004  , df=18\n",
      "likelihood ratio test: chi2=39.2777 , p=0.0026  , df=18\n",
      "parameter F test:         F=1.8718  , p=0.0255  , df_denom=110, df_num=18\n",
      "\n",
      "Granger Causality\n",
      "number of lags (no zero) 19\n",
      "ssr based F test:         F=1.9595  , p=0.0165  , df_denom=107, df_num=19\n",
      "ssr based chi2 test:   chi2=50.8000 , p=0.0001  , df=19\n",
      "likelihood ratio test: chi2=43.5929 , p=0.0011  , df=19\n",
      "parameter F test:         F=1.9595  , p=0.0165  , df_denom=107, df_num=19\n",
      "\n",
      "Granger Causality\n",
      "number of lags (no zero) 20\n",
      "ssr based F test:         F=1.9282  , p=0.0175  , df_denom=104, df_num=20\n",
      "ssr based chi2 test:   chi2=53.7677 , p=0.0001  , df=20\n",
      "likelihood ratio test: chi2=45.7334 , p=0.0009  , df=20\n",
      "parameter F test:         F=1.9282  , p=0.0175  , df_denom=104, df_num=20\n"
     ]
    }
   ],
   "source": [
    "data2 = df[['AHE_diff', 'PCE_diff']].dropna()\n",
    "granger_results2 = grangercausalitytests(data2, maxlag=20, verbose=True)"
   ]
  },
  {
   "cell_type": "code",
   "execution_count": 16,
   "metadata": {
    "colab": {
     "base_uri": "https://localhost:8080/",
     "height": 295
    },
    "id": "juIJLxwrBUB-",
    "outputId": "e98408bd-bb7f-4a2a-db4b-a44eff8ec19a"
   },
   "outputs": [
    {
     "data": {
      "image/png": "[encoded data removed]",
      "text/plain": [
       "<Figure size 432x288 with 1 Axes>"
      ]
     },
     "metadata": {
      "needs_background": "light"
     },
     "output_type": "display_data"
    }
   ],
   "source": [
    "plot_Granger(granger_results2, 0.05)"
   ]
  },
  {
   "cell_type": "markdown",
   "metadata": {
    "id": "Acezq-8x6Xw3"
   },
   "source": [
    "### E. 8 pts Summarize your findings. You must understand the underlying null hypothesis of test\n",
    "\n",
    "The null hypothesis of the Granger Test is that the lagged values of the explanatory variable (x(t)) do not explain the variation in the explained variable (y(t)). \n",
    "\n",
    "In the first case, where AHE caused PCE we see all the pvalues are far away from the 0.05 cutoff until the 10th lag. Hence, we don't reject the null hypothesis of no causal relationship. Hence, we don't find evidence that AHE causes PCE. \n",
    "\n",
    "In the second case, we explore if PCE causes AHE. In this case the pvalues decrease with the number of lags, and from the 9th lag they appear to be slightly significant. There seems to be a delay of the impact of AHE over PCE. If we take the definition of product, consumption increases product. The phenomenom we observe could be analogous to that in the sense that increasing consumption, increases sales, increasing firms profits, ultimately increasing workers earnings (AHE) in the medium/long run."
   ]
  },
  {
   "cell_type": "markdown",
   "metadata": {
    "id": "vLhe3o1f6aSD"
   },
   "source": [
    "## Part 3 – 40 pts VARMA modeling\n",
    "\n",
    "### A. 8 pts Using differenced data, run a search to find the best fit order for AH, PCE, and PCEIP, return a plot"
   ]
  },
  {
   "cell_type": "code",
   "execution_count": 17,
   "metadata": {
    "colab": {
     "base_uri": "https://localhost:8080/"
    },
    "id": "hKGG5_eaUPGR",
    "outputId": "27c21427-5d26-4809-d143-5520e2219c35"
   },
   "outputs": [
    {
     "name": "stdout",
     "output_type": "stream",
     "text": [
      "PCE_diff\n",
      "\t - ADF pval 6.564987669533085e-09\n",
      "\t - ADF Stationarity test: True\n",
      "\t - KPSS pval 0.01880396446670071\n",
      "\t - KPSS Stationarity test: True\n",
      "AHE_diff\n",
      "\t - ADF pval 0.7487607125683655\n",
      "\t - ADF Stationarity test: False\n",
      "\t - KPSS pval 0.012153133507439316\n",
      "\t - KPSS Stationarity test: True\n",
      "PCEPI_diff\n",
      "\t - ADF pval 4.0994509674372776e-11\n",
      "\t - ADF Stationarity test: True\n",
      "\t - KPSS pval 0.1\n",
      "\t - KPSS Stationarity test: True\n"
     ]
    },
    {
     "name": "stderr",
     "output_type": "stream",
     "text": [
      "/usr/local/lib/python3.7/dist-packages/statsmodels/tsa/stattools.py:2023: InterpolationWarning: The test statistic is outside of the range of p-values available in the\n",
      "look-up table. The actual p-value is greater than the p-value returned.\n",
      "\n",
      "  warn_msg.format(direction=\"greater\"), InterpolationWarning\n"
     ]
    }
   ],
   "source": [
    "# First check stationarity\n",
    "for col in ['PCE_diff', 'AHE_diff', 'PCEPI_diff']:\n",
    "    adf_bool, adf_pval, kpss_bool, kpss_pval = adf_kpss_test(df[col].dropna(), alpha=0.01, reg='c')\n",
    "    print(col)\n",
    "    print('\\t - ADF pval', adf_pval)\n",
    "    print('\\t - ADF Stationarity test:', adf_bool)\n",
    "    print('\\t - KPSS pval', kpss_pval)\n",
    "    print('\\t - KPSS Stationarity test:', kpss_bool)"
   ]
  },
  {
   "cell_type": "markdown",
   "metadata": {
    "id": "zIDiYOTeU8In"
   },
   "source": [
    "AHE is difference stationary, so we should take a second difference."
   ]
  },
  {
   "cell_type": "code",
   "execution_count": 23,
   "metadata": {
    "colab": {
     "base_uri": "https://localhost:8080/"
    },
    "id": "fR_PQqY3Umzv",
    "outputId": "725a12aa-9f53-4a57-edb0-d510e43b9f82"
   },
   "outputs": [
    {
     "name": "stdout",
     "output_type": "stream",
     "text": [
      "PCEPI_diff\n",
      "\t - ADF pval 4.274243730469662e-06\n",
      "\t - ADF Stationarity test: True\n",
      "\t - KPSS pval 0.1\n",
      "\t - KPSS Stationarity test: True\n"
     ]
    }
   ],
   "source": [
    "df['AHE_diff2'] = df['AHE'].diff().diff()\n",
    "adf_bool, adf_pval, kpss_bool, kpss_pval = adf_kpss_test(df['AHE_diff2'].dropna(), alpha=0.01, reg='c')\n",
    "print(col)\n",
    "print('\\t - ADF pval', adf_pval)\n",
    "print('\\t - ADF Stationarity test:', adf_bool)\n",
    "print('\\t - KPSS pval', kpss_pval)\n",
    "print('\\t - KPSS Stationarity test:', kpss_bool)"
   ]
  },
  {
   "cell_type": "markdown",
   "metadata": {
    "id": "euAAhuEKVDOx"
   },
   "source": [
    "Now we have 3 stationary series."
   ]
  },
  {
   "cell_type": "code",
   "execution_count": 25,
   "metadata": {
    "id": "kmPm0bwr6dcn"
   },
   "outputs": [],
   "source": [
    "from statsmodels.tsa.statespace.varmax import VARMAX\n",
    "from statsmodels.tsa.vector_ar.var_model import VAR\n",
    "from math import sqrt\n",
    "import warnings\n",
    "warnings.filterwarnings('ignore')"
   ]
  },
  {
   "cell_type": "code",
   "execution_count": 28,
   "metadata": {
    "colab": {
     "base_uri": "https://localhost:8080/"
    },
    "id": "M3o-vz9HXUOg",
    "outputId": "5f9dad7c-b12e-428d-fca6-801df18a2546"
   },
   "outputs": [
    {
     "name": "stdout",
     "output_type": "stream",
     "text": [
      "Running search of VARMA\n",
      "\t Order is (0, 1) with AIC of 2979.030961756688\n",
      "\t Order is (0, 2) with AIC of 2802.3219619597385\n",
      "\t Order is (0, 3) with AIC of 2774.601676899757\n",
      "\t Order is (1, 1) with AIC of 3916.944383566127\n",
      "\t Order is (1, 2) with AIC of 3299.628055876242\n",
      "\t Order is (1, 3) with AIC of 3043.6199592487533\n",
      "\t Order is (2, 1) with AIC of 6515.957872729365\n",
      "\t Order is (2, 2) with AIC of 4854.930498614986\n",
      "\t Order is (2, 3) with AIC of 5433.714074745644\n",
      "\t Order is (3, 1) with AIC of 7686.682476678243\n",
      "\t Order is (3, 2) with AIC of 4017.6930140911213\n",
      "\t Order is (3, 3) with AIC of 4015.4681319204856\n",
      "Best VARMA order is (0, 3) with AIC of 2774.601676899757\n",
      "Running search of VAR\n",
      "\t Order is (0, 0) with AIC of 12.243589209129974\n",
      "\t Order is (1, 0) with AIC of -3.3181124740256966\n",
      "\t Order is (2, 0) with AIC of -3.8363653797902995\n",
      "\t Order is (3, 0) with AIC of -3.958260862334083\n",
      "Best VAR order is (3, 0) with AIC of -3.958260862334083\n"
     ]
    }
   ],
   "source": [
    "# VARMAX automatically enforces stationarity\n",
    "varma_df = df[['PCE','AHE', 'PCEPI']].dropna()\n",
    "# I run into a decomposition error so I used 13 periods instead of 12 in VARMA\n",
    "train = varma_df[:-13]\n",
    "test = varma_df[-13:]\n",
    "\n",
    "var_df = df[['PCE_diff','AHE_diff2', 'PCEPI_diff']].dropna()\n",
    "train_var = var_df[:-12]\n",
    "test_var = var_df[-12:]\n",
    "\n",
    "prange = range(0,4)\n",
    "qrange = range(1,4)\n",
    "\n",
    "max_aic = np.inf\n",
    "best_order = None\n",
    "\n",
    "print('Running search of VARMA')\n",
    "for p in prange:\n",
    "    for q in qrange:\n",
    "        order = (p, q)\n",
    "        varma_model = VARMAX(train, order=order).fit(disp=False)\n",
    "        current_aic = varma_model.aic\n",
    "        print('\\t Order is', order, 'with AIC of', current_aic)\n",
    "        if current_aic < max_aic:\n",
    "            max_aic = current_aic \n",
    "            best_order = order\n",
    "\n",
    "print('Best VARMA order is', best_order, 'with AIC of', max_aic)\n",
    "\n",
    "max_aic_var = np.inf\n",
    "best_order_var = None\n",
    "print('Running search of VAR')\n",
    "for p in prange:\n",
    "    order = (p, 0)\n",
    "    var_model = VAR(train).fit(p)\n",
    "    current_aic = var_model.aic\n",
    "    print('\\t Order is', order, 'with AIC of', current_aic)\n",
    "    if current_aic < max_aic_var:\n",
    "        max_aic_var = current_aic \n",
    "        best_order_var = order\n",
    "\n",
    "print('Best VAR order is', best_order_var, 'with AIC of', max_aic_var)\n"
   ]
  },
  {
   "cell_type": "markdown",
   "metadata": {
    "id": "8qzhn8ohwRDN"
   },
   "source": [
    "We can see that in fact the VAR model performs much better than VARMA. So optimal order (p, q) is (3, 0)."
   ]
  },
  {
   "cell_type": "markdown",
   "metadata": {
    "id": "uR84h7WS6d2-"
   },
   "source": [
    "### B. 8 pts Fit the VAR model with chosen order, return the model summary"
   ]
  },
  {
   "cell_type": "code",
   "execution_count": 31,
   "metadata": {
    "colab": {
     "base_uri": "https://localhost:8080/"
    },
    "id": "qg74du9Vakg0",
    "outputId": "33ee94a9-d42b-4cfe-87e2-a2763110c22d"
   },
   "outputs": [
    {
     "data": {
      "text/plain": [
       "  Summary of Regression Results   \n",
       "==================================\n",
       "Model:                         VAR\n",
       "Method:                        OLS\n",
       "Date:           Thu, 19, May, 2022\n",
       "Time:                     14:39:50\n",
       "--------------------------------------------------------------------\n",
       "No. of Equations:         3.00000    BIC:                   -2.73904\n",
       "Nobs:                     149.000    HQIC:                  -3.09813\n",
       "Log likelihood:          -355.148    FPE:                  0.0353219\n",
       "AIC:                     -3.34386    Det(Omega_mle):       0.0290677\n",
       "--------------------------------------------------------------------\n",
       "Results for equation PCE_diff\n",
       "================================================================================\n",
       "                   coefficient       std. error           t-stat            prob\n",
       "--------------------------------------------------------------------------------\n",
       "const                18.914994         4.921232            3.844           0.000\n",
       "L1.PCE_diff           0.091985         0.101851            0.903           0.366\n",
       "L1.AHE_diff2         66.729666        97.989204            0.681           0.496\n",
       "L1.PCEPI_diff        40.123640        20.518848            1.955           0.051\n",
       "L2.PCE_diff           0.143842         0.102058            1.409           0.159\n",
       "L2.AHE_diff2        152.569635       118.730834            1.285           0.199\n",
       "L2.PCEPI_diff       -14.793423        21.739230           -0.680           0.496\n",
       "L3.PCE_diff           0.236007         0.105884            2.229           0.026\n",
       "L3.AHE_diff2        133.945661        93.687228            1.430           0.153\n",
       "L3.PCEPI_diff       -43.058754        19.609791           -2.196           0.028\n",
       "================================================================================\n",
       "\n",
       "Results for equation AHE_diff2\n",
       "================================================================================\n",
       "                   coefficient       std. error           t-stat            prob\n",
       "--------------------------------------------------------------------------------\n",
       "const                -0.004040         0.004049           -0.998           0.318\n",
       "L1.PCE_diff          -0.000048         0.000084           -0.570           0.569\n",
       "L1.AHE_diff2         -1.179349         0.080631          -14.626           0.000\n",
       "L1.PCEPI_diff        -0.018945         0.016884           -1.122           0.262\n",
       "L2.PCE_diff           0.000129         0.000084            1.530           0.126\n",
       "L2.AHE_diff2         -0.948271         0.097699           -9.706           0.000\n",
       "L2.PCEPI_diff         0.001280         0.017888            0.072           0.943\n",
       "L3.PCE_diff           0.000074         0.000087            0.848           0.396\n",
       "L3.AHE_diff2         -0.299264         0.077091           -3.882           0.000\n",
       "L3.PCEPI_diff         0.013772         0.016136            0.854           0.393\n",
       "================================================================================\n",
       "\n",
       "Results for equation PCEPI_diff\n",
       "================================================================================\n",
       "                   coefficient       std. error           t-stat            prob\n",
       "--------------------------------------------------------------------------------\n",
       "const                 0.055018         0.023352            2.356           0.018\n",
       "L1.PCE_diff           0.001283         0.000483            2.654           0.008\n",
       "L1.AHE_diff2          0.779033         0.464964            1.675           0.094\n",
       "L1.PCEPI_diff         0.390884         0.097363            4.015           0.000\n",
       "L2.PCE_diff           0.000046         0.000484            0.095           0.925\n",
       "L2.AHE_diff2          0.945801         0.563384            1.679           0.093\n",
       "L2.PCEPI_diff        -0.005235         0.103154           -0.051           0.960\n",
       "L3.PCE_diff          -0.000423         0.000502           -0.843           0.399\n",
       "L3.AHE_diff2          0.697338         0.444551            1.569           0.117\n",
       "L3.PCEPI_diff        -0.050880         0.093050           -0.547           0.585\n",
       "================================================================================\n",
       "\n",
       "Correlation matrix of residuals\n",
       "              PCE_diff  AHE_diff2  PCEPI_diff\n",
       "PCE_diff      1.000000  -0.021734    0.496703\n",
       "AHE_diff2    -0.021734   1.000000   -0.005146\n",
       "PCEPI_diff    0.496703  -0.005146    1.000000\n",
       "\n"
      ]
     },
     "execution_count": 31,
     "metadata": {},
     "output_type": "execute_result"
    }
   ],
   "source": [
    "var_model = VAR(train_var).fit(3)\n",
    "var_model.summary()"
   ]
  },
  {
   "cell_type": "markdown",
   "metadata": {
    "id": "PFTksQiI6jOu"
   },
   "source": [
    "### C. 8 pts Explain the values in the correlation matrix of residuals. What are the implications for the model fit?\n",
    "\n",
    "We expect a correlation matrix with 1's in the diagonal and 0's everywhere else. That means that the errors correlate within a series, but not across series. In this case, the ones are in the diagonal, and the other correlations are close to zero, except for PCE and PCEPI. This would be expected since the index is built on the variable. The following test checks if the correlation is significant."
   ]
  },
  {
   "cell_type": "code",
   "execution_count": 33,
   "metadata": {
    "colab": {
     "base_uri": "https://localhost:8080/",
     "height": 148
    },
    "id": "HLusoqycxUgo",
    "outputId": "263287a5-fb6b-405e-e3cb-dc92bfaba65d"
   },
   "outputs": [
    {
     "data": {
      "text/html": [
       "<table class=\"simpletable\">\n",
       "<caption>Portmanteau-test for residual autocorrelation. H_0: residual autocorrelation up to lag 10 is zero. Conclusion: fail to reject H_0 at 1% significance level.</caption>\n",
       "<tr>\n",
       "  <th>Test statistic</th> <th>Critical value</th> <th>p-value</th> <th>df</th>\n",
       "</tr>\n",
       "<tr>\n",
       "       <td>86.18</td>          <td>92.01</td>      <td>0.028</td>  <td>63</td>\n",
       "</tr>\n",
       "</table>"
      ],
      "text/plain": [
       "<class 'statsmodels.iolib.table.SimpleTable'>"
      ]
     },
     "execution_count": 33,
     "metadata": {},
     "output_type": "execute_result"
    }
   ],
   "source": [
    "var_model.test_whiteness(signif =0.01).summary()"
   ]
  },
  {
   "cell_type": "markdown",
   "metadata": {
    "id": "lYXrczTKxgbI"
   },
   "source": [
    "The null hypothesis is that there is no autocorrelation of the errors up to the 10th lag. In this case the p-value is 0.028, we reject the hypothesis at the 5% level (there is likely autocorrelation), and don't reject it at the 1% significance level (there is no autocorrelation)."
   ]
  },
  {
   "cell_type": "markdown",
   "metadata": {
    "id": "lnidKG9M6mJ-"
   },
   "source": [
    "### 8 pts Create 12 periods of forecast for all three variables, return plots of predicted values against actual values, Return variable level RMSE (3 total)"
   ]
  },
  {
   "cell_type": "code",
   "execution_count": 114,
   "metadata": {
    "id": "z2kfl9Hk6oJN"
   },
   "outputs": [],
   "source": [
    "yhat = var_model.forecast(var_model.endog, steps=12)\n",
    "idx=test_var.index\n",
    "df_preds = pd.DataFrame(yhat).set_index(idx)\n",
    "df_preds.rename(columns={0: 'PCE_forecast', 1: 'AHE_forecast', 2: 'PCEPI_forecast'}, inplace=True)"
   ]
  },
  {
   "cell_type": "code",
   "execution_count": 115,
   "metadata": {
    "colab": {
     "base_uri": "https://localhost:8080/",
     "height": 887
    },
    "id": "C8O2bdDCiiun",
    "outputId": "fc9ec97b-e57a-42fc-af0a-e4ccd6c7a7c0"
   },
   "outputs": [
    {
     "data": {
      "image/png": "[encoded data removed]",
      "text/plain": [
       "<Figure size 432x288 with 1 Axes>"
      ]
     },
     "metadata": {
      "needs_background": "light"
     },
     "output_type": "display_data"
    },
    {
     "data": {
      "image/png": "[encoded data removed]",
      "text/plain": [
       "<Figure size 432x288 with 1 Axes>"
      ]
     },
     "metadata": {
      "needs_background": "light"
     },
     "output_type": "display_data"
    },
    {
     "data": {
      "image/png": "[encoded data removed]",
      "text/plain": [
       "<Figure size 432x288 with 1 Axes>"
      ]
     },
     "metadata": {
      "needs_background": "light"
     },
     "output_type": "display_data"
    }
   ],
   "source": [
    "df_results = pd.concat([test_var, df_preds], axis=1)\n",
    "df_results[['PCE_diff', 'PCE_forecast']].plot()\n",
    "plt.title('Differenced True values vs Forecast')\n",
    "\n",
    "df_results[['AHE_diff2', 'AHE_forecast']].plot()\n",
    "plt.title('Differenced True values vs Forecast')\n",
    "plt.show()\n",
    "\n",
    "df_results[['PCEPI_diff', 'PCEPI_forecast']].plot()\n",
    "plt.title('Differenced True values vs Forecast')\n",
    "plt.show()\n"
   ]
  },
  {
   "cell_type": "markdown",
   "metadata": {
    "id": "OVbtsCXm070H"
   },
   "source": [
    "Now we do cumulative sum to get predictions of values, instead of predicted difference."
   ]
  },
  {
   "cell_type": "code",
   "execution_count": 116,
   "metadata": {
    "colab": {
     "base_uri": "https://localhost:8080/",
     "height": 597
    },
    "id": "7wyyMY7D07XN",
    "outputId": "94b2ce38-db4b-4018-86ab-de6bbeddaf6e"
   },
   "outputs": [
    {
     "data": {
      "image/png": "[encoded data removed]",
      "text/plain": [
       "<Figure size 432x288 with 1 Axes>"
      ]
     },
     "metadata": {
      "needs_background": "light"
     },
     "output_type": "display_data"
    },
    {
     "data": {
      "image/png": "[encoded data removed]",
      "text/plain": [
       "<Figure size 432x288 with 1 Axes>"
      ]
     },
     "metadata": {
      "needs_background": "light"
     },
     "output_type": "display_data"
    }
   ],
   "source": [
    "df_preds.rename(columns={'PCE_forecast':'PCE', \n",
    "                         'AHE_forecast': 'AHE',\n",
    "                         'PCEPI_forecast': 'PCEPI'}, inplace=True)\n",
    "\n",
    "forecast_results1 = pd.concat([df[-13:-12][['PCE', 'PCEPI']], df_preds[['PCE', 'PCEPI']]], axis=0).reset_index(drop=True)\\\n",
    "                    .cumsum()\\\n",
    "                    .drop([0])\\\n",
    "                    .set_index(idx)\n",
    "\n",
    "forecast_results1.columns = ['PCE_forecast', 'PCEPI_forecast']\n",
    "\n",
    "forecast_pce = pd.concat([df[-12:]['PCE'],forecast_results1[['PCE_forecast']]], axis=1)\n",
    "forecast_pce.plot()\n",
    "plt.title('PCE True value vs forecast')\n",
    "plt.show()\n",
    "\n",
    "forecast_pcepi = pd.concat([df[-12:]['PCEPI'],forecast_results1[['PCEPI_forecast']]], axis=1)\n",
    "forecast_pcepi.plot()\n",
    "plt.title('PCEPI True value vs forecast')\n",
    "plt.show()"
   ]
  },
  {
   "cell_type": "code",
   "execution_count": 120,
   "metadata": {
    "colab": {
     "base_uri": "https://localhost:8080/",
     "height": 307
    },
    "id": "vSNmmIlZ42f8",
    "outputId": "2b3e502b-d24d-49f2-c9c8-2d899f95edf8"
   },
   "outputs": [
    {
     "data": {
      "image/png": "[encoded data removed]",
      "text/plain": [
       "<Figure size 432x288 with 1 Axes>"
      ]
     },
     "metadata": {
      "needs_background": "light"
     },
     "output_type": "display_data"
    }
   ],
   "source": [
    "# AHE second difference - double cumsum\n",
    "forecast_results2 = pd.concat([df[-13:-12][['AHE']],df_preds[['AHE']]], axis=0).reset_index(drop=True)\\\n",
    "                    .cumsum()\\\n",
    "                    .drop([0])\\\n",
    "                    .set_index(idx)\n",
    "\n",
    "forecast_results2.columns=['AHE_forecast']\n",
    "\n",
    "forecast_ahe = pd.concat([df[-12:]['AHE'],forecast_results2[['AHE_forecast']]], axis=1)\n",
    "forecast_ahe.plot()\n",
    "plt.title('AHE True value vs forecast')\n",
    "plt.show()"
   ]
  },
  {
   "cell_type": "code",
   "execution_count": 124,
   "metadata": {
    "colab": {
     "base_uri": "https://localhost:8080/"
    },
    "id": "dqfn14Za9YAe",
    "outputId": "641a5145-957a-402d-e034-8cfa0108e38f"
   },
   "outputs": [
    {
     "name": "stdout",
     "output_type": "stream",
     "text": [
      "VAR PCE RMSE: 281.32135364028153\n",
      "VAR AHE RMSE: 0.5491666288851689\n",
      "VAR PCEPI RMSE: 0.4414951144982203\n"
     ]
    }
   ],
   "source": [
    "print('VAR PCE RMSE: ' + str(sqrt(mean_squared_error(df[-12:]['PCE'],forecast_results1['PCE_forecast']))))\n",
    "print('VAR AHE RMSE: ' + str(sqrt(mean_squared_error(df[-12:]['AHE'],forecast_results2['AHE_forecast']))))\n",
    "print('VAR PCEPI RMSE: ' + str(sqrt(mean_squared_error(df[-12:]['PCEPI'],forecast_results1['PCEPI_forecast']))))"
   ]
  },
  {
   "cell_type": "markdown",
   "metadata": {
    "id": "ngl0N8sF6oeZ"
   },
   "source": [
    "### E. 8 pts What is the advantage of this VAR model? What would ARIMA or prophet models on this dataset look like, if we were asked to forecast AHE?\n",
    "\n",
    "Assuming the dependent variable comes from a multivarate Gaussian generation process, the VAR model has the advantage of capturing bidirectional relationships between variables, and we can estimate the series simultanously compared to ARIMA or Prophet.\n",
    "\n",
    "ARIMA and Prophet allowed us to incorporate exogenous variables. However, VARMA allows us to incorporate the lags of the regressors as well, which ultimately is what captures the relationship between the different series."
   ]
  }
 ],
 "metadata": {
  "colab": {
   "collapsed_sections": [],
   "name": "hw6.ipynb",
   "provenance": []
  },
  "kernelspec": {
   "display_name": "Python 3",
   "language": "python",
   "name": "python3"
  },
  "language_info": {
   "codemirror_mode": {
    "name": "ipython",
    "version": 3
   },
   "file_extension": ".py",
   "mimetype": "text/x-python",
   "name": "python",
   "nbconvert_exporter": "python",
   "pygments_lexer": "ipython3",
   "version": "3.8.8"
  }
 },
 "nbformat": 4,
 "nbformat_minor": 1
}
