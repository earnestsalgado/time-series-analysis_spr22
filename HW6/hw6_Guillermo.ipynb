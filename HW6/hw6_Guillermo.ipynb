{
 "cells": [
  {
   "cell_type": "markdown",
   "metadata": {
    "id": "1rmUdskw5rZj"
   },
   "source": [
    "# Problem Set - Week 6\n",
    "## Guillermo Trefogli\n",
    "\n",
    "## Part 1. EDA\n",
    "\n",
    "## A"
   ]
  },
  {
   "cell_type": "code",
   "execution_count": 1,
   "metadata": {
    "colab": {
     "base_uri": "https://localhost:8080/"
    },
    "id": "-GRT68up675o",
    "outputId": "fa39512c-c481-4e5a-cac1-75e7f51199b0"
   },
   "outputs": [
    {
     "name": "stdout",
     "output_type": "stream",
     "text": [
      "Requirement already satisfied: sktime in c:\\users\\guill\\anaconda3\\lib\\site-packages (0.11.2)\n",
      "Requirement already satisfied: pandas<1.5.0,>=1.1.0 in c:\\users\\guill\\anaconda3\\lib\\site-packages (from sktime) (1.4.2)\n",
      "Requirement already satisfied: numba>=0.53 in c:\\users\\guill\\anaconda3\\lib\\site-packages (from sktime) (0.53.1)\n",
      "Requirement already satisfied: deprecated>=1.2.13 in c:\\users\\guill\\anaconda3\\lib\\site-packages (from sktime) (1.2.13)\n",
      "Requirement already satisfied: scipy<1.8.0 in c:\\users\\guill\\anaconda3\\lib\\site-packages (from sktime) (1.6.2)\n",
      "Requirement already satisfied: scikit-learn>=0.24.0 in c:\\users\\guill\\anaconda3\\lib\\site-packages (from sktime) (0.24.1)\n",
      "Requirement already satisfied: numpy<1.22,>=1.21.0 in c:\\users\\guill\\anaconda3\\lib\\site-packages (from sktime) (1.21.6)\n",
      "Requirement already satisfied: statsmodels>=0.12.1 in c:\\users\\guill\\anaconda3\\lib\\site-packages (from sktime) (0.12.2)\n",
      "Requirement already satisfied: wrapt<2,>=1.10 in c:\\users\\guill\\anaconda3\\lib\\site-packages (from deprecated>=1.2.13->sktime) (1.12.1)\n",
      "Requirement already satisfied: setuptools in c:\\users\\guill\\anaconda3\\lib\\site-packages (from numba>=0.53->sktime) (52.0.0.post20210125)\n",
      "Requirement already satisfied: llvmlite<0.37,>=0.36.0rc1 in c:\\users\\guill\\anaconda3\\lib\\site-packages (from numba>=0.53->sktime) (0.36.0)\n",
      "Requirement already satisfied: pytz>=2020.1 in c:\\users\\guill\\anaconda3\\lib\\site-packages (from pandas<1.5.0,>=1.1.0->sktime) (2021.1)\n",
      "Requirement already satisfied: python-dateutil>=2.8.1 in c:\\users\\guill\\anaconda3\\lib\\site-packages (from pandas<1.5.0,>=1.1.0->sktime) (2.8.1)\n",
      "Requirement already satisfied: six>=1.5 in c:\\users\\guill\\anaconda3\\lib\\site-packages (from python-dateutil>=2.8.1->pandas<1.5.0,>=1.1.0->sktime) (1.15.0)\n",
      "Requirement already satisfied: threadpoolctl>=2.0.0 in c:\\users\\guill\\anaconda3\\lib\\site-packages (from scikit-learn>=0.24.0->sktime) (2.1.0)\n",
      "Requirement already satisfied: joblib>=0.11 in c:\\users\\guill\\anaconda3\\lib\\site-packages (from scikit-learn>=0.24.0->sktime) (1.0.1)\n",
      "Requirement already satisfied: patsy>=0.5 in c:\\users\\guill\\anaconda3\\lib\\site-packages (from statsmodels>=0.12.1->sktime) (0.5.1)\n"
     ]
    },
    {
     "name": "stderr",
     "output_type": "stream",
     "text": [
      "WARNING: Ignoring invalid distribution -atplotlib (c:\\users\\guill\\anaconda3\\lib\\site-packages)\n",
      "WARNING: Ignoring invalid distribution -atplotlib (c:\\users\\guill\\anaconda3\\lib\\site-packages)\n",
      "WARNING: Ignoring invalid distribution -atplotlib (c:\\users\\guill\\anaconda3\\lib\\site-packages)\n",
      "WARNING: Ignoring invalid distribution -atplotlib (c:\\users\\guill\\anaconda3\\lib\\site-packages)\n",
      "WARNING: Ignoring invalid distribution -atplotlib (c:\\users\\guill\\anaconda3\\lib\\site-packages)\n",
      "WARNING: Ignoring invalid distribution -atplotlib (c:\\users\\guill\\anaconda3\\lib\\site-packages)\n",
      "WARNING: You are using pip version 22.0.4; however, version 22.1 is available.\n",
      "You should consider upgrading via the 'C:\\Users\\guill\\anaconda3\\python.exe -m pip install --upgrade pip' command.\n"
     ]
    }
   ],
   "source": [
    "! pip install sktime"
   ]
  },
  {
   "cell_type": "code",
   "execution_count": 2,
   "metadata": {
    "colab": {
     "base_uri": "https://localhost:8080/"
    },
    "id": "OtDZjrJv5pai",
    "outputId": "25f44870-e239-41c9-c464-90fca5f1acd0"
   },
   "outputs": [
    {
     "name": "stdout",
     "output_type": "stream",
     "text": [
      "Requirement already satisfied: pmdarima in c:\\users\\guill\\anaconda3\\lib\\site-packages (1.8.5)\n",
      "Requirement already satisfied: Cython!=0.29.18,>=0.29 in c:\\users\\guill\\anaconda3\\lib\\site-packages (from pmdarima) (0.29.23)\n",
      "Requirement already satisfied: scipy>=1.3.2 in c:\\users\\guill\\anaconda3\\lib\\site-packages (from pmdarima) (1.6.2)\n",
      "Requirement already satisfied: numpy>=1.19.3 in c:\\users\\guill\\anaconda3\\lib\\site-packages (from pmdarima) (1.21.6)\n",
      "Requirement already satisfied: setuptools!=50.0.0,>=38.6.0 in c:\\users\\guill\\anaconda3\\lib\\site-packages (from pmdarima) (52.0.0.post20210125)\n",
      "Requirement already satisfied: pandas>=0.19 in c:\\users\\guill\\anaconda3\\lib\\site-packages (from pmdarima) (1.4.2)\n",
      "Requirement already satisfied: joblib>=0.11 in c:\\users\\guill\\anaconda3\\lib\\site-packages (from pmdarima) (1.0.1)\n",
      "Requirement already satisfied: urllib3 in c:\\users\\guill\\anaconda3\\lib\\site-packages (from pmdarima) (1.26.4)\n",
      "Requirement already satisfied: statsmodels!=0.12.0,>=0.11 in c:\\users\\guill\\anaconda3\\lib\\site-packages (from pmdarima) (0.12.2)\n",
      "Requirement already satisfied: scikit-learn>=0.22 in c:\\users\\guill\\anaconda3\\lib\\site-packages (from pmdarima) (0.24.1)\n",
      "Requirement already satisfied: python-dateutil>=2.8.1 in c:\\users\\guill\\anaconda3\\lib\\site-packages (from pandas>=0.19->pmdarima) (2.8.1)\n",
      "Requirement already satisfied: pytz>=2020.1 in c:\\users\\guill\\anaconda3\\lib\\site-packages (from pandas>=0.19->pmdarima) (2021.1)\n",
      "Requirement already satisfied: six>=1.5 in c:\\users\\guill\\anaconda3\\lib\\site-packages (from python-dateutil>=2.8.1->pandas>=0.19->pmdarima) (1.15.0)\n",
      "Requirement already satisfied: threadpoolctl>=2.0.0 in c:\\users\\guill\\anaconda3\\lib\\site-packages (from scikit-learn>=0.22->pmdarima) (2.1.0)\n",
      "Requirement already satisfied: patsy>=0.5 in c:\\users\\guill\\anaconda3\\lib\\site-packages (from statsmodels!=0.12.0,>=0.11->pmdarima) (0.5.1)\n"
     ]
    },
    {
     "name": "stderr",
     "output_type": "stream",
     "text": [
      "WARNING: Ignoring invalid distribution -atplotlib (c:\\users\\guill\\anaconda3\\lib\\site-packages)\n",
      "WARNING: Ignoring invalid distribution -atplotlib (c:\\users\\guill\\anaconda3\\lib\\site-packages)\n",
      "WARNING: Ignoring invalid distribution -atplotlib (c:\\users\\guill\\anaconda3\\lib\\site-packages)\n",
      "WARNING: Ignoring invalid distribution -atplotlib (c:\\users\\guill\\anaconda3\\lib\\site-packages)\n",
      "WARNING: Ignoring invalid distribution -atplotlib (c:\\users\\guill\\anaconda3\\lib\\site-packages)\n",
      "WARNING: Ignoring invalid distribution -atplotlib (c:\\users\\guill\\anaconda3\\lib\\site-packages)\n",
      "WARNING: You are using pip version 22.0.4; however, version 22.1 is available.\n",
      "You should consider upgrading via the 'C:\\Users\\guill\\anaconda3\\python.exe -m pip install --upgrade pip' command.\n"
     ]
    }
   ],
   "source": [
    "! pip install pmdarima"
   ]
  },
  {
   "cell_type": "code",
   "execution_count": 3,
   "metadata": {
    "id": "jMbwiWFz7DMD"
   },
   "outputs": [],
   "source": [
    "import warnings\n",
    "warnings.filterwarnings('ignore')\n",
    "import pandas as pd\n",
    "from statsmodels.tsa.stattools import kpss, adfuller\n",
    "from statsmodels.graphics.tsaplots import plot_acf, plot_pacf\n",
    "from copy import deepcopy\n",
    "import matplotlib.pyplot as plt\n",
    "import numpy as np\n",
    "from sktime.forecasting.all import temporal_train_test_split\n",
    "from sktime.performance_metrics.forecasting import MeanAbsolutePercentageError, MeanAbsoluteError, MeanSquaredError\n",
    "from sklearn.metrics import mean_squared_error\n",
    "import seaborn as sns\n",
    "import numpy as np\n",
    "import statsmodels.api as sm"
   ]
  },
  {
   "cell_type": "code",
   "execution_count": 4,
   "metadata": {
    "colab": {
     "base_uri": "https://localhost:8080/",
     "height": 455
    },
    "id": "jNsXzsBf6Al-",
    "outputId": "8ca1ac16-4496-4db5-83ca-308dfd298de0"
   },
   "outputs": [
    {
     "data": {
      "text/html": [
       "<div>\n",
       "<style scoped>\n",
       "    .dataframe tbody tr th:only-of-type {\n",
       "        vertical-align: middle;\n",
       "    }\n",
       "\n",
       "    .dataframe tbody tr th {\n",
       "        vertical-align: top;\n",
       "    }\n",
       "\n",
       "    .dataframe thead th {\n",
       "        text-align: right;\n",
       "    }\n",
       "</style>\n",
       "<table border=\"1\" class=\"dataframe\">\n",
       "  <thead>\n",
       "    <tr style=\"text-align: right;\">\n",
       "      <th></th>\n",
       "      <th>PCE</th>\n",
       "      <th>AHE</th>\n",
       "      <th>PCEPI</th>\n",
       "    </tr>\n",
       "    <tr>\n",
       "      <th>ds</th>\n",
       "      <th></th>\n",
       "      <th></th>\n",
       "      <th></th>\n",
       "    </tr>\n",
       "  </thead>\n",
       "  <tbody>\n",
       "    <tr>\n",
       "      <th>2006-03-01</th>\n",
       "      <td>9122.1</td>\n",
       "      <td>20.04</td>\n",
       "      <td>88.473</td>\n",
       "    </tr>\n",
       "    <tr>\n",
       "      <th>2006-04-01</th>\n",
       "      <td>9174.8</td>\n",
       "      <td>20.17</td>\n",
       "      <td>88.850</td>\n",
       "    </tr>\n",
       "    <tr>\n",
       "      <th>2006-05-01</th>\n",
       "      <td>9215.1</td>\n",
       "      <td>20.13</td>\n",
       "      <td>89.070</td>\n",
       "    </tr>\n",
       "    <tr>\n",
       "      <th>2006-06-01</th>\n",
       "      <td>9240.8</td>\n",
       "      <td>20.22</td>\n",
       "      <td>89.285</td>\n",
       "    </tr>\n",
       "    <tr>\n",
       "      <th>2006-07-01</th>\n",
       "      <td>9322.6</td>\n",
       "      <td>20.30</td>\n",
       "      <td>89.601</td>\n",
       "    </tr>\n",
       "    <tr>\n",
       "      <th>...</th>\n",
       "      <td>...</td>\n",
       "      <td>...</td>\n",
       "      <td>...</td>\n",
       "    </tr>\n",
       "    <tr>\n",
       "      <th>2019-08-01</th>\n",
       "      <td>14650.9</td>\n",
       "      <td>28.16</td>\n",
       "      <td>110.115</td>\n",
       "    </tr>\n",
       "    <tr>\n",
       "      <th>2019-09-01</th>\n",
       "      <td>14673.2</td>\n",
       "      <td>28.15</td>\n",
       "      <td>110.167</td>\n",
       "    </tr>\n",
       "    <tr>\n",
       "      <th>2019-10-01</th>\n",
       "      <td>14728.5</td>\n",
       "      <td>28.24</td>\n",
       "      <td>110.377</td>\n",
       "    </tr>\n",
       "    <tr>\n",
       "      <th>2019-11-01</th>\n",
       "      <td>14752.8</td>\n",
       "      <td>28.33</td>\n",
       "      <td>110.461</td>\n",
       "    </tr>\n",
       "    <tr>\n",
       "      <th>2019-12-01</th>\n",
       "      <td>14796.3</td>\n",
       "      <td>28.36</td>\n",
       "      <td>110.750</td>\n",
       "    </tr>\n",
       "  </tbody>\n",
       "</table>\n",
       "<p>166 rows × 3 columns</p>\n",
       "</div>"
      ],
      "text/plain": [
       "                PCE    AHE    PCEPI\n",
       "ds                                 \n",
       "2006-03-01   9122.1  20.04   88.473\n",
       "2006-04-01   9174.8  20.17   88.850\n",
       "2006-05-01   9215.1  20.13   89.070\n",
       "2006-06-01   9240.8  20.22   89.285\n",
       "2006-07-01   9322.6  20.30   89.601\n",
       "...             ...    ...      ...\n",
       "2019-08-01  14650.9  28.16  110.115\n",
       "2019-09-01  14673.2  28.15  110.167\n",
       "2019-10-01  14728.5  28.24  110.377\n",
       "2019-11-01  14752.8  28.33  110.461\n",
       "2019-12-01  14796.3  28.36  110.750\n",
       "\n",
       "[166 rows x 3 columns]"
      ]
     },
     "execution_count": 4,
     "metadata": {},
     "output_type": "execute_result"
    }
   ],
   "source": [
    "df = pd.read_csv(\"hw6_data_var.csv\", parse_dates=[\"Unnamed: 0\"]).rename(columns={\"Unnamed: 0\":\"ds\"})\n",
    "df.set_index('ds', inplace=True)\n",
    "df"
   ]
  },
  {
   "cell_type": "code",
   "execution_count": 5,
   "metadata": {},
   "outputs": [
    {
     "data": {
      "text/html": [
       "<div>\n",
       "<style scoped>\n",
       "    .dataframe tbody tr th:only-of-type {\n",
       "        vertical-align: middle;\n",
       "    }\n",
       "\n",
       "    .dataframe tbody tr th {\n",
       "        vertical-align: top;\n",
       "    }\n",
       "\n",
       "    .dataframe thead th {\n",
       "        text-align: right;\n",
       "    }\n",
       "</style>\n",
       "<table border=\"1\" class=\"dataframe\">\n",
       "  <thead>\n",
       "    <tr style=\"text-align: right;\">\n",
       "      <th></th>\n",
       "      <th>count</th>\n",
       "      <th>mean</th>\n",
       "      <th>std</th>\n",
       "      <th>min</th>\n",
       "      <th>25%</th>\n",
       "      <th>50%</th>\n",
       "      <th>75%</th>\n",
       "      <th>max</th>\n",
       "    </tr>\n",
       "  </thead>\n",
       "  <tbody>\n",
       "    <tr>\n",
       "      <th>PCE</th>\n",
       "      <td>166.0</td>\n",
       "      <td>11507.872289</td>\n",
       "      <td>1630.579647</td>\n",
       "      <td>9122.100</td>\n",
       "      <td>10009.0000</td>\n",
       "      <td>11204.100</td>\n",
       "      <td>12789.90000</td>\n",
       "      <td>14796.30</td>\n",
       "    </tr>\n",
       "    <tr>\n",
       "      <th>AHE</th>\n",
       "      <td>166.0</td>\n",
       "      <td>23.938193</td>\n",
       "      <td>2.235573</td>\n",
       "      <td>20.040</td>\n",
       "      <td>22.2375</td>\n",
       "      <td>23.765</td>\n",
       "      <td>25.67500</td>\n",
       "      <td>28.36</td>\n",
       "    </tr>\n",
       "    <tr>\n",
       "      <th>PCEPI</th>\n",
       "      <td>166.0</td>\n",
       "      <td>100.006169</td>\n",
       "      <td>6.028324</td>\n",
       "      <td>88.473</td>\n",
       "      <td>95.1450</td>\n",
       "      <td>100.861</td>\n",
       "      <td>104.18625</td>\n",
       "      <td>110.75</td>\n",
       "    </tr>\n",
       "  </tbody>\n",
       "</table>\n",
       "</div>"
      ],
      "text/plain": [
       "       count          mean          std       min         25%        50%  \\\n",
       "PCE    166.0  11507.872289  1630.579647  9122.100  10009.0000  11204.100   \n",
       "AHE    166.0     23.938193     2.235573    20.040     22.2375     23.765   \n",
       "PCEPI  166.0    100.006169     6.028324    88.473     95.1450    100.861   \n",
       "\n",
       "               75%       max  \n",
       "PCE    12789.90000  14796.30  \n",
       "AHE       25.67500     28.36  \n",
       "PCEPI    104.18625    110.75  "
      ]
     },
     "execution_count": 5,
     "metadata": {},
     "output_type": "execute_result"
    }
   ],
   "source": [
    "df.describe().T"
   ]
  },
  {
   "cell_type": "code",
   "execution_count": 6,
   "metadata": {
    "colab": {
     "base_uri": "https://localhost:8080/"
    },
    "id": "sGYPRi2C7nTP",
    "outputId": "05217b04-dd6b-46a7-840e-ca12b68b5694"
   },
   "outputs": [
    {
     "data": {
      "text/plain": [
       "PCE      0\n",
       "AHE      0\n",
       "PCEPI    0\n",
       "dtype: int64"
      ]
     },
     "execution_count": 6,
     "metadata": {},
     "output_type": "execute_result"
    }
   ],
   "source": [
    "df.isnull().sum()"
   ]
  },
  {
   "cell_type": "code",
   "execution_count": 7,
   "metadata": {
    "colab": {
     "base_uri": "https://localhost:8080/",
     "height": 242
    },
    "id": "q6iksQss7r8q",
    "outputId": "1d31d937-b29a-4958-b5cc-50eb0eac8f85"
   },
   "outputs": [
    {
     "name": "stdout",
     "output_type": "stream",
     "text": [
      "Start date: 2006-03-01 00:00:00\n",
      "End date: 2019-12-01 00:00:00\n"
     ]
    },
    {
     "data": {
      "text/html": [
       "<div>\n",
       "<style scoped>\n",
       "    .dataframe tbody tr th:only-of-type {\n",
       "        vertical-align: middle;\n",
       "    }\n",
       "\n",
       "    .dataframe tbody tr th {\n",
       "        vertical-align: top;\n",
       "    }\n",
       "\n",
       "    .dataframe thead th {\n",
       "        text-align: right;\n",
       "    }\n",
       "</style>\n",
       "<table border=\"1\" class=\"dataframe\">\n",
       "  <thead>\n",
       "    <tr style=\"text-align: right;\">\n",
       "      <th></th>\n",
       "      <th>PCE</th>\n",
       "      <th>AHE</th>\n",
       "      <th>PCEPI</th>\n",
       "    </tr>\n",
       "  </thead>\n",
       "  <tbody>\n",
       "    <tr>\n",
       "      <th>min</th>\n",
       "      <td>9122.100000</td>\n",
       "      <td>20.040000</td>\n",
       "      <td>88.473000</td>\n",
       "    </tr>\n",
       "    <tr>\n",
       "      <th>max</th>\n",
       "      <td>14796.300000</td>\n",
       "      <td>28.360000</td>\n",
       "      <td>110.750000</td>\n",
       "    </tr>\n",
       "    <tr>\n",
       "      <th>median</th>\n",
       "      <td>11204.100000</td>\n",
       "      <td>23.765000</td>\n",
       "      <td>100.861000</td>\n",
       "    </tr>\n",
       "    <tr>\n",
       "      <th>mean</th>\n",
       "      <td>11507.872289</td>\n",
       "      <td>23.938193</td>\n",
       "      <td>100.006169</td>\n",
       "    </tr>\n",
       "    <tr>\n",
       "      <th>std</th>\n",
       "      <td>1630.579647</td>\n",
       "      <td>2.235573</td>\n",
       "      <td>6.028324</td>\n",
       "    </tr>\n",
       "  </tbody>\n",
       "</table>\n",
       "</div>"
      ],
      "text/plain": [
       "                 PCE        AHE       PCEPI\n",
       "min      9122.100000  20.040000   88.473000\n",
       "max     14796.300000  28.360000  110.750000\n",
       "median  11204.100000  23.765000  100.861000\n",
       "mean    11507.872289  23.938193  100.006169\n",
       "std      1630.579647   2.235573    6.028324"
      ]
     },
     "execution_count": 7,
     "metadata": {},
     "output_type": "execute_result"
    }
   ],
   "source": [
    "print('Start date:', df.index.min())\n",
    "print('End date:', df.index.max())\n",
    "df.agg(\n",
    "    {\n",
    "        \"PCE\": [\"min\", \"max\", \"median\", \"mean\", \"std\"],\n",
    "        \"AHE\": [\"min\", \"max\", \"median\", \"mean\", \"std\"],\n",
    "        \"PCEPI\": [\"min\", \"max\", \"median\", \"mean\", \"std\"],\n",
    "    }\n",
    ")"
   ]
  },
  {
   "cell_type": "code",
   "execution_count": 8,
   "metadata": {
    "colab": {
     "base_uri": "https://localhost:8080/",
     "height": 1000
    },
    "id": "SWyxHuJa76V1",
    "outputId": "c4f3de64-50bc-4bf9-fe77-19353b85d8fc"
   },
   "outputs": [
    {
     "data": {
      "image/png": "[encoded data removed]",
      "text/plain": [
       "<Figure size 432x288 with 1 Axes>"
      ]
     },
     "metadata": {
      "needs_background": "light"
     },
     "output_type": "display_data"
    }
   ],
   "source": [
    "df['PCE'].dropna().plot()\n",
    "plt.title('PCE')\n",
    "plt.show()"
   ]
  },
  {
   "cell_type": "code",
   "execution_count": 9,
   "metadata": {},
   "outputs": [
    {
     "data": {
      "image/png": "[encoded data removed]",
      "text/plain": [
       "<Figure size 432x288 with 1 Axes>"
      ]
     },
     "metadata": {
      "needs_background": "light"
     },
     "output_type": "display_data"
    }
   ],
   "source": [
    "df['AHE'].plot()\n",
    "plt.title('AHE')\n",
    "plt.show()"
   ]
  },
  {
   "cell_type": "code",
   "execution_count": 10,
   "metadata": {},
   "outputs": [
    {
     "data": {
      "image/png": "[encoded data removed]",
      "text/plain": [
       "<Figure size 432x288 with 1 Axes>"
      ]
     },
     "metadata": {
      "needs_background": "light"
     },
     "output_type": "display_data"
    }
   ],
   "source": [
    "df['PCEPI'].plot()\n",
    "plt.title('PCEPI')\n",
    "plt.show()"
   ]
  },
  {
   "cell_type": "code",
   "execution_count": 11,
   "metadata": {
    "colab": {
     "base_uri": "https://localhost:8080/",
     "height": 143
    },
    "id": "FtZwpkcV8XQy",
    "outputId": "e139e249-7d72-4ff2-cb2e-0bf311611a3d"
   },
   "outputs": [
    {
     "data": {
      "text/html": [
       "<div>\n",
       "<style scoped>\n",
       "    .dataframe tbody tr th:only-of-type {\n",
       "        vertical-align: middle;\n",
       "    }\n",
       "\n",
       "    .dataframe tbody tr th {\n",
       "        vertical-align: top;\n",
       "    }\n",
       "\n",
       "    .dataframe thead th {\n",
       "        text-align: right;\n",
       "    }\n",
       "</style>\n",
       "<table border=\"1\" class=\"dataframe\">\n",
       "  <thead>\n",
       "    <tr style=\"text-align: right;\">\n",
       "      <th></th>\n",
       "      <th>PCE</th>\n",
       "      <th>AHE</th>\n",
       "      <th>PCEPI</th>\n",
       "    </tr>\n",
       "  </thead>\n",
       "  <tbody>\n",
       "    <tr>\n",
       "      <th>PCE</th>\n",
       "      <td>1.000000</td>\n",
       "      <td>0.988292</td>\n",
       "      <td>0.973768</td>\n",
       "    </tr>\n",
       "    <tr>\n",
       "      <th>AHE</th>\n",
       "      <td>0.988292</td>\n",
       "      <td>1.000000</td>\n",
       "      <td>0.988329</td>\n",
       "    </tr>\n",
       "    <tr>\n",
       "      <th>PCEPI</th>\n",
       "      <td>0.973768</td>\n",
       "      <td>0.988329</td>\n",
       "      <td>1.000000</td>\n",
       "    </tr>\n",
       "  </tbody>\n",
       "</table>\n",
       "</div>"
      ],
      "text/plain": [
       "            PCE       AHE     PCEPI\n",
       "PCE    1.000000  0.988292  0.973768\n",
       "AHE    0.988292  1.000000  0.988329\n",
       "PCEPI  0.973768  0.988329  1.000000"
      ]
     },
     "execution_count": 11,
     "metadata": {},
     "output_type": "execute_result"
    }
   ],
   "source": [
    "df.corr()"
   ]
  },
  {
   "cell_type": "code",
   "execution_count": 12,
   "metadata": {
    "id": "DdDN2iMLEuFz"
   },
   "outputs": [],
   "source": [
    "from statsmodels.tsa.stattools import kpss, adfuller\n",
    "from statsmodels.graphics.tsaplots import plot_acf, plot_pacf\n",
    "from copy import deepcopy\n",
    "\n",
    "def adf_test(timeseries):\n",
    "    print ('Dickey-Fuller Test Result:')\n",
    "    dftest = adfuller(timeseries, autolag='AIC')\n",
    "    dfoutput = pd.Series(dftest[0:4], index=['Test Statistic','p-value','#Lags Used','Number of Observations Used'])\n",
    "    for key,value in dftest[4].items():\n",
    "       dfoutput['Critical Value (%s)'%key] = value\n",
    "    print (dfoutput)\n",
    "\n",
    "#define KPSS\n",
    "def kpss_test(timeseries, trend='c'):\n",
    "    print ('KPSS Test Result:')\n",
    "    kpsstest = kpss(timeseries, regression=trend)\n",
    "    kpss_output = pd.Series(kpsstest[0:3], index=['Test Statistic','p-value','Lags Used'])\n",
    "    for key,value in kpsstest[3].items():\n",
    "        kpss_output['Critical Value (%s)'%key] = value\n",
    "    print (kpss_output)"
   ]
  },
  {
   "cell_type": "code",
   "execution_count": 13,
   "metadata": {
    "colab": {
     "base_uri": "https://localhost:8080/"
    },
    "id": "5ojAek5RExq9",
    "outputId": "9bde686b-336b-4d05-d4d4-c50adeb653a4"
   },
   "outputs": [
    {
     "name": "stdout",
     "output_type": "stream",
     "text": [
      "Dickey-Fuller Test Result:\n",
      "Test Statistic                   2.189889\n",
      "p-value                          0.998874\n",
      "#Lags Used                       2.000000\n",
      "Number of Observations Used    163.000000\n",
      "Critical Value (1%)             -3.471119\n",
      "Critical Value (5%)             -2.879441\n",
      "Critical Value (10%)            -2.576314\n",
      "dtype: float64\n"
     ]
    }
   ],
   "source": [
    "adf_test(df['PCE'])"
   ]
  },
  {
   "cell_type": "code",
   "execution_count": 14,
   "metadata": {},
   "outputs": [
    {
     "name": "stdout",
     "output_type": "stream",
     "text": [
      "Dickey-Fuller Test Result:\n",
      "Test Statistic                  -0.434152\n",
      "p-value                          0.904239\n",
      "#Lags Used                       1.000000\n",
      "Number of Observations Used    164.000000\n",
      "Critical Value (1%)             -3.470866\n",
      "Critical Value (5%)             -2.879330\n",
      "Critical Value (10%)            -2.576255\n",
      "dtype: float64\n"
     ]
    }
   ],
   "source": [
    "adf_test(df['PCEPI'])"
   ]
  },
  {
   "cell_type": "code",
   "execution_count": 15,
   "metadata": {},
   "outputs": [
    {
     "name": "stdout",
     "output_type": "stream",
     "text": [
      "Dickey-Fuller Test Result:\n",
      "Test Statistic                   1.680032\n",
      "p-value                          0.998079\n",
      "#Lags Used                       9.000000\n",
      "Number of Observations Used    156.000000\n",
      "Critical Value (1%)             -3.472979\n",
      "Critical Value (5%)             -2.880252\n",
      "Critical Value (10%)            -2.576747\n",
      "dtype: float64\n"
     ]
    }
   ],
   "source": [
    "adf_test(df['AHE'])"
   ]
  },
  {
   "cell_type": "code",
   "execution_count": 16,
   "metadata": {},
   "outputs": [
    {
     "name": "stdout",
     "output_type": "stream",
     "text": [
      "KPSS Test Result:\n",
      "Test Statistic            1.190019\n",
      "p-value                   0.010000\n",
      "Lags Used                14.000000\n",
      "Critical Value (10%)      0.347000\n",
      "Critical Value (5%)       0.463000\n",
      "Critical Value (2.5%)     0.574000\n",
      "Critical Value (1%)       0.739000\n",
      "dtype: float64\n"
     ]
    },
    {
     "name": "stderr",
     "output_type": "stream",
     "text": [
      "C:\\Users\\guill\\anaconda3\\lib\\site-packages\\statsmodels\\tsa\\stattools.py:1906: InterpolationWarning: The test statistic is outside of the range of p-values available in the\n",
      "look-up table. The actual p-value is smaller than the p-value returned.\n",
      "\n",
      "  warnings.warn(\n"
     ]
    }
   ],
   "source": [
    "kpss_test(df['PCE'])"
   ]
  },
  {
   "cell_type": "code",
   "execution_count": 17,
   "metadata": {},
   "outputs": [
    {
     "name": "stdout",
     "output_type": "stream",
     "text": [
      "KPSS Test Result:\n",
      "Test Statistic            1.207634\n",
      "p-value                   0.010000\n",
      "Lags Used                14.000000\n",
      "Critical Value (10%)      0.347000\n",
      "Critical Value (5%)       0.463000\n",
      "Critical Value (2.5%)     0.574000\n",
      "Critical Value (1%)       0.739000\n",
      "dtype: float64\n"
     ]
    },
    {
     "name": "stderr",
     "output_type": "stream",
     "text": [
      "C:\\Users\\guill\\anaconda3\\lib\\site-packages\\statsmodels\\tsa\\stattools.py:1906: InterpolationWarning: The test statistic is outside of the range of p-values available in the\n",
      "look-up table. The actual p-value is smaller than the p-value returned.\n",
      "\n",
      "  warnings.warn(\n"
     ]
    }
   ],
   "source": [
    "kpss_test(df['AHE'])"
   ]
  },
  {
   "cell_type": "code",
   "execution_count": 18,
   "metadata": {},
   "outputs": [
    {
     "name": "stdout",
     "output_type": "stream",
     "text": [
      "KPSS Test Result:\n",
      "Test Statistic            1.206769\n",
      "p-value                   0.010000\n",
      "Lags Used                14.000000\n",
      "Critical Value (10%)      0.347000\n",
      "Critical Value (5%)       0.463000\n",
      "Critical Value (2.5%)     0.574000\n",
      "Critical Value (1%)       0.739000\n",
      "dtype: float64\n"
     ]
    },
    {
     "name": "stderr",
     "output_type": "stream",
     "text": [
      "C:\\Users\\guill\\anaconda3\\lib\\site-packages\\statsmodels\\tsa\\stattools.py:1906: InterpolationWarning: The test statistic is outside of the range of p-values available in the\n",
      "look-up table. The actual p-value is smaller than the p-value returned.\n",
      "\n",
      "  warnings.warn(\n"
     ]
    }
   ],
   "source": [
    "kpss_test(df['PCEPI'])"
   ]
  },
  {
   "cell_type": "markdown",
   "metadata": {
    "id": "oAs-T4Vg5_3N"
   },
   "source": [
    "### B. "
   ]
  },
  {
   "cell_type": "markdown",
   "metadata": {
    "id": "PKseqejz8auq"
   },
   "source": [
    "- The dataset contains three variables:\n",
    "    - PCE: Personal consumptions expenditures is the primary measure of consumer spending on goods and services in the US economy. This accounts for 2/3 of domestic spending and this is the primary engine that drives future economic growth https://www.bea.gov/resources/methodologies/nipa-handbook/pdf/chapter-05.pdf (Links to an external site.)\n",
    "    - AHE: Average hourly earnings is reported in dollars per hour and is reported monthly\n",
    "    - PCEPI: Personal consumptions expenditures price index is a measure of the average increase in prices for all domestic personal consumption. A major inflationary measure in the United States\n",
    "\n",
    "- There are no missing values in the dataset.\n",
    "\n",
    "- Correlation is present in the relationship between the three variables (higher than 0.97 in all cases).\n",
    "\n",
    "- The three variables are similar in terms of time series pattern: increasing trend over time.\n",
    "\n",
    "- ADF and KPSS test show that the time series is stationary for the three variables:\n",
    "        \n",
    "    - **ADF test** is showing, for the three of them, that **non-stationarity cannot be rejected**. The p-value in the test is greater than 0.05 for the three of them, which means that the null hypothesis of non-stationarity cannot be rejected.\n",
    "    - **KPSS test** is showing that **stationarity in the time series can be rejected**. The p-value is smaller than 0.05, which means that the null hypothesis of stationarity in the time series can be rejected."
   ]
  },
  {
   "cell_type": "markdown",
   "metadata": {
    "id": "izFewulC6BXS"
   },
   "source": [
    "## Part 2 – Granger Causality\n",
    "\n",
    "### A. \n",
    "\n",
    "The EDA shows that these two variables are strongly correlated, which intuitively make sense. We don't know the direction of the causal relationship between them, but it is expected that higher the average hourly earnings that greater the personal consumption expenditures and the other way around."
   ]
  },
  {
   "cell_type": "markdown",
   "metadata": {
    "id": "-HurOfCP6NzX"
   },
   "source": [
    "### B. "
   ]
  },
  {
   "cell_type": "code",
   "execution_count": 19,
   "metadata": {
    "id": "XEW_BqFu6QWq"
   },
   "outputs": [],
   "source": [
    "df['PCE_diff'] = df['PCE'].diff()\n",
    "df['AHE_diff'] = df['AHE'].diff()\n",
    "df['PCEPI_diff'] = df['PCEPI'].diff()"
   ]
  },
  {
   "cell_type": "markdown",
   "metadata": {
    "id": "1VbMMGwQ6Rwf"
   },
   "source": [
    "### C. "
   ]
  },
  {
   "cell_type": "code",
   "execution_count": 20,
   "metadata": {
    "id": "3taXh3DG_Y2W"
   },
   "outputs": [
    {
     "data": {
      "text/html": [
       "<div>\n",
       "<style scoped>\n",
       "    .dataframe tbody tr th:only-of-type {\n",
       "        vertical-align: middle;\n",
       "    }\n",
       "\n",
       "    .dataframe tbody tr th {\n",
       "        vertical-align: top;\n",
       "    }\n",
       "\n",
       "    .dataframe thead th {\n",
       "        text-align: right;\n",
       "    }\n",
       "</style>\n",
       "<table border=\"1\" class=\"dataframe\">\n",
       "  <thead>\n",
       "    <tr style=\"text-align: right;\">\n",
       "      <th></th>\n",
       "      <th>PCE_diff</th>\n",
       "      <th>AHE_diff</th>\n",
       "    </tr>\n",
       "    <tr>\n",
       "      <th>ds</th>\n",
       "      <th></th>\n",
       "      <th></th>\n",
       "    </tr>\n",
       "  </thead>\n",
       "  <tbody>\n",
       "    <tr>\n",
       "      <th>2006-04-01</th>\n",
       "      <td>52.7</td>\n",
       "      <td>0.13</td>\n",
       "    </tr>\n",
       "    <tr>\n",
       "      <th>2006-05-01</th>\n",
       "      <td>40.3</td>\n",
       "      <td>-0.04</td>\n",
       "    </tr>\n",
       "    <tr>\n",
       "      <th>2006-06-01</th>\n",
       "      <td>25.7</td>\n",
       "      <td>0.09</td>\n",
       "    </tr>\n",
       "    <tr>\n",
       "      <th>2006-07-01</th>\n",
       "      <td>81.8</td>\n",
       "      <td>0.08</td>\n",
       "    </tr>\n",
       "    <tr>\n",
       "      <th>2006-08-01</th>\n",
       "      <td>-0.8</td>\n",
       "      <td>0.02</td>\n",
       "    </tr>\n",
       "    <tr>\n",
       "      <th>...</th>\n",
       "      <td>...</td>\n",
       "      <td>...</td>\n",
       "    </tr>\n",
       "    <tr>\n",
       "      <th>2019-08-01</th>\n",
       "      <td>39.0</td>\n",
       "      <td>0.12</td>\n",
       "    </tr>\n",
       "    <tr>\n",
       "      <th>2019-09-01</th>\n",
       "      <td>22.3</td>\n",
       "      <td>-0.01</td>\n",
       "    </tr>\n",
       "    <tr>\n",
       "      <th>2019-10-01</th>\n",
       "      <td>55.3</td>\n",
       "      <td>0.09</td>\n",
       "    </tr>\n",
       "    <tr>\n",
       "      <th>2019-11-01</th>\n",
       "      <td>24.3</td>\n",
       "      <td>0.09</td>\n",
       "    </tr>\n",
       "    <tr>\n",
       "      <th>2019-12-01</th>\n",
       "      <td>43.5</td>\n",
       "      <td>0.03</td>\n",
       "    </tr>\n",
       "  </tbody>\n",
       "</table>\n",
       "<p>165 rows × 2 columns</p>\n",
       "</div>"
      ],
      "text/plain": [
       "            PCE_diff  AHE_diff\n",
       "ds                            \n",
       "2006-04-01      52.7      0.13\n",
       "2006-05-01      40.3     -0.04\n",
       "2006-06-01      25.7      0.09\n",
       "2006-07-01      81.8      0.08\n",
       "2006-08-01      -0.8      0.02\n",
       "...              ...       ...\n",
       "2019-08-01      39.0      0.12\n",
       "2019-09-01      22.3     -0.01\n",
       "2019-10-01      55.3      0.09\n",
       "2019-11-01      24.3      0.09\n",
       "2019-12-01      43.5      0.03\n",
       "\n",
       "[165 rows x 2 columns]"
      ]
     },
     "execution_count": 20,
     "metadata": {},
     "output_type": "execute_result"
    }
   ],
   "source": [
    "data = df[['PCE_diff', 'AHE_diff']].dropna()\n",
    "data"
   ]
  },
  {
   "cell_type": "code",
   "execution_count": 21,
   "metadata": {},
   "outputs": [],
   "source": [
    "alpha=0.05"
   ]
  },
  {
   "cell_type": "code",
   "execution_count": 22,
   "metadata": {},
   "outputs": [
    {
     "name": "stdout",
     "output_type": "stream",
     "text": [
      "\n",
      "Granger Causality\n",
      "number of lags (no zero) 1\n",
      "ssr based F test:         F=0.0285  , p=0.8662  , df_denom=161, df_num=1\n",
      "ssr based chi2 test:   chi2=0.0290  , p=0.8648  , df=1\n",
      "likelihood ratio test: chi2=0.0290  , p=0.8648  , df=1\n",
      "parameter F test:         F=0.0285  , p=0.8662  , df_denom=161, df_num=1\n",
      "\n",
      "Granger Causality\n",
      "number of lags (no zero) 2\n",
      "ssr based F test:         F=0.1227  , p=0.8846  , df_denom=158, df_num=2\n",
      "ssr based chi2 test:   chi2=0.2531  , p=0.8811  , df=2\n",
      "likelihood ratio test: chi2=0.2529  , p=0.8812  , df=2\n",
      "parameter F test:         F=0.1227  , p=0.8846  , df_denom=158, df_num=2\n",
      "\n",
      "Granger Causality\n",
      "number of lags (no zero) 3\n",
      "ssr based F test:         F=0.1740  , p=0.9138  , df_denom=155, df_num=3\n",
      "ssr based chi2 test:   chi2=0.5457  , p=0.9087  , df=3\n",
      "likelihood ratio test: chi2=0.5448  , p=0.9089  , df=3\n",
      "parameter F test:         F=0.1740  , p=0.9138  , df_denom=155, df_num=3\n",
      "\n",
      "Granger Causality\n",
      "number of lags (no zero) 4\n",
      "ssr based F test:         F=0.5205  , p=0.7208  , df_denom=152, df_num=4\n",
      "ssr based chi2 test:   chi2=2.2052  , p=0.6981  , df=4\n",
      "likelihood ratio test: chi2=2.1903  , p=0.7008  , df=4\n",
      "parameter F test:         F=0.5205  , p=0.7208  , df_denom=152, df_num=4\n",
      "\n",
      "Granger Causality\n",
      "number of lags (no zero) 5\n",
      "ssr based F test:         F=0.5312  , p=0.7524  , df_denom=149, df_num=5\n",
      "ssr based chi2 test:   chi2=2.8518  , p=0.7228  , df=5\n",
      "likelihood ratio test: chi2=2.8267  , p=0.7267  , df=5\n",
      "parameter F test:         F=0.5312  , p=0.7524  , df_denom=149, df_num=5\n",
      "\n",
      "Granger Causality\n",
      "number of lags (no zero) 6\n",
      "ssr based F test:         F=0.5335  , p=0.7821  , df_denom=146, df_num=6\n",
      "ssr based chi2 test:   chi2=3.4861  , p=0.7458  , df=6\n",
      "likelihood ratio test: chi2=3.4484  , p=0.7508  , df=6\n",
      "parameter F test:         F=0.5335  , p=0.7821  , df_denom=146, df_num=6\n",
      "\n",
      "Granger Causality\n",
      "number of lags (no zero) 7\n",
      "ssr based F test:         F=0.5116  , p=0.8247  , df_denom=143, df_num=7\n",
      "ssr based chi2 test:   chi2=3.9568  , p=0.7847  , df=7\n",
      "likelihood ratio test: chi2=3.9081  , p=0.7903  , df=7\n",
      "parameter F test:         F=0.5116  , p=0.8247  , df_denom=143, df_num=7\n",
      "\n",
      "Granger Causality\n",
      "number of lags (no zero) 8\n",
      "ssr based F test:         F=0.4807  , p=0.8683  , df_denom=140, df_num=8\n",
      "ssr based chi2 test:   chi2=4.3122  , p=0.8279  , df=8\n",
      "likelihood ratio test: chi2=4.2540  , p=0.8335  , df=8\n",
      "parameter F test:         F=0.4807  , p=0.8683  , df_denom=140, df_num=8\n",
      "\n",
      "Granger Causality\n",
      "number of lags (no zero) 9\n",
      "ssr based F test:         F=0.4320  , p=0.9159  , df_denom=137, df_num=9\n",
      "ssr based chi2 test:   chi2=4.4271  , p=0.8811  , df=9\n",
      "likelihood ratio test: chi2=4.3654  , p=0.8858  , df=9\n",
      "parameter F test:         F=0.4320  , p=0.9159  , df_denom=137, df_num=9\n",
      "\n",
      "Granger Causality\n",
      "number of lags (no zero) 10\n",
      "ssr based F test:         F=0.4233  , p=0.9333  , df_denom=134, df_num=10\n",
      "ssr based chi2 test:   chi2=4.8967  , p=0.8980  , df=10\n",
      "likelihood ratio test: chi2=4.8209  , p=0.9028  , df=10\n",
      "parameter F test:         F=0.4233  , p=0.9333  , df_denom=134, df_num=10\n"
     ]
    }
   ],
   "source": [
    "from statsmodels.tsa.stattools import grangercausalitytests, q_stat\n",
    "granger_results = grangercausalitytests(data, maxlag=10, verbose=True)"
   ]
  },
  {
   "cell_type": "code",
   "execution_count": 23,
   "metadata": {},
   "outputs": [
    {
     "data": {
      "image/png": "[encoded data removed]",
      "text/plain": [
       "<Figure size 432x288 with 1 Axes>"
      ]
     },
     "metadata": {
      "needs_background": "light"
     },
     "output_type": "display_data"
    }
   ],
   "source": [
    "res_list = []\n",
    "for lag, v in granger_results.items():\n",
    "    res = {}\n",
    "    res['Lag'] = lag\n",
    "    for test, stats in v[0].items():\n",
    "        res[test] = stats[1]\n",
    "\n",
    "    res_list.append(res)\n",
    "\n",
    "pvals = pd.DataFrame(res_list)\n",
    "pvals.set_index('Lag', inplace=True)\n",
    "pvals_graph = pvals['params_ftest']\n",
    "\n",
    "pvals_graph.plot(title='Granger Causality Test')\n",
    "alpha_ser = pd.Series([alpha]*len(pvals_graph), index=pvals_graph.index)\n",
    "alpha_ser.plot(color='red')\n",
    "plt.ylabel('p-value')\n",
    "plt.show()"
   ]
  },
  {
   "cell_type": "markdown",
   "metadata": {
    "id": "K-8LLemX6Umj"
   },
   "source": [
    "### D. "
   ]
  },
  {
   "cell_type": "code",
   "execution_count": 24,
   "metadata": {
    "colab": {
     "base_uri": "https://localhost:8080/"
    },
    "id": "037yhwlF6XKX",
    "outputId": "1fda9e4f-edbf-4ca4-8fce-25b4ee653a6f"
   },
   "outputs": [
    {
     "data": {
      "text/html": [
       "<div>\n",
       "<style scoped>\n",
       "    .dataframe tbody tr th:only-of-type {\n",
       "        vertical-align: middle;\n",
       "    }\n",
       "\n",
       "    .dataframe tbody tr th {\n",
       "        vertical-align: top;\n",
       "    }\n",
       "\n",
       "    .dataframe thead th {\n",
       "        text-align: right;\n",
       "    }\n",
       "</style>\n",
       "<table border=\"1\" class=\"dataframe\">\n",
       "  <thead>\n",
       "    <tr style=\"text-align: right;\">\n",
       "      <th></th>\n",
       "      <th>AHE_diff</th>\n",
       "      <th>PCE_diff</th>\n",
       "    </tr>\n",
       "    <tr>\n",
       "      <th>ds</th>\n",
       "      <th></th>\n",
       "      <th></th>\n",
       "    </tr>\n",
       "  </thead>\n",
       "  <tbody>\n",
       "    <tr>\n",
       "      <th>2006-04-01</th>\n",
       "      <td>0.13</td>\n",
       "      <td>52.7</td>\n",
       "    </tr>\n",
       "    <tr>\n",
       "      <th>2006-05-01</th>\n",
       "      <td>-0.04</td>\n",
       "      <td>40.3</td>\n",
       "    </tr>\n",
       "    <tr>\n",
       "      <th>2006-06-01</th>\n",
       "      <td>0.09</td>\n",
       "      <td>25.7</td>\n",
       "    </tr>\n",
       "    <tr>\n",
       "      <th>2006-07-01</th>\n",
       "      <td>0.08</td>\n",
       "      <td>81.8</td>\n",
       "    </tr>\n",
       "    <tr>\n",
       "      <th>2006-08-01</th>\n",
       "      <td>0.02</td>\n",
       "      <td>-0.8</td>\n",
       "    </tr>\n",
       "    <tr>\n",
       "      <th>...</th>\n",
       "      <td>...</td>\n",
       "      <td>...</td>\n",
       "    </tr>\n",
       "    <tr>\n",
       "      <th>2019-08-01</th>\n",
       "      <td>0.12</td>\n",
       "      <td>39.0</td>\n",
       "    </tr>\n",
       "    <tr>\n",
       "      <th>2019-09-01</th>\n",
       "      <td>-0.01</td>\n",
       "      <td>22.3</td>\n",
       "    </tr>\n",
       "    <tr>\n",
       "      <th>2019-10-01</th>\n",
       "      <td>0.09</td>\n",
       "      <td>55.3</td>\n",
       "    </tr>\n",
       "    <tr>\n",
       "      <th>2019-11-01</th>\n",
       "      <td>0.09</td>\n",
       "      <td>24.3</td>\n",
       "    </tr>\n",
       "    <tr>\n",
       "      <th>2019-12-01</th>\n",
       "      <td>0.03</td>\n",
       "      <td>43.5</td>\n",
       "    </tr>\n",
       "  </tbody>\n",
       "</table>\n",
       "<p>165 rows × 2 columns</p>\n",
       "</div>"
      ],
      "text/plain": [
       "            AHE_diff  PCE_diff\n",
       "ds                            \n",
       "2006-04-01      0.13      52.7\n",
       "2006-05-01     -0.04      40.3\n",
       "2006-06-01      0.09      25.7\n",
       "2006-07-01      0.08      81.8\n",
       "2006-08-01      0.02      -0.8\n",
       "...              ...       ...\n",
       "2019-08-01      0.12      39.0\n",
       "2019-09-01     -0.01      22.3\n",
       "2019-10-01      0.09      55.3\n",
       "2019-11-01      0.09      24.3\n",
       "2019-12-01      0.03      43.5\n",
       "\n",
       "[165 rows x 2 columns]"
      ]
     },
     "execution_count": 24,
     "metadata": {},
     "output_type": "execute_result"
    }
   ],
   "source": [
    "data = df[['AHE_diff', 'PCE_diff']].dropna()\n",
    "data"
   ]
  },
  {
   "cell_type": "code",
   "execution_count": 25,
   "metadata": {},
   "outputs": [
    {
     "name": "stdout",
     "output_type": "stream",
     "text": [
      "\n",
      "Granger Causality\n",
      "number of lags (no zero) 1\n",
      "ssr based F test:         F=0.0186  , p=0.8917  , df_denom=161, df_num=1\n",
      "ssr based chi2 test:   chi2=0.0189  , p=0.8906  , df=1\n",
      "likelihood ratio test: chi2=0.0189  , p=0.8906  , df=1\n",
      "parameter F test:         F=0.0186  , p=0.8917  , df_denom=161, df_num=1\n",
      "\n",
      "Granger Causality\n",
      "number of lags (no zero) 2\n",
      "ssr based F test:         F=1.1373  , p=0.3233  , df_denom=158, df_num=2\n",
      "ssr based chi2 test:   chi2=2.3466  , p=0.3094  , df=2\n",
      "likelihood ratio test: chi2=2.3298  , p=0.3119  , df=2\n",
      "parameter F test:         F=1.1373  , p=0.3233  , df_denom=158, df_num=2\n",
      "\n",
      "Granger Causality\n",
      "number of lags (no zero) 3\n",
      "ssr based F test:         F=1.7396  , p=0.1612  , df_denom=155, df_num=3\n",
      "ssr based chi2 test:   chi2=5.4546  , p=0.1414  , df=3\n",
      "likelihood ratio test: chi2=5.3648  , p=0.1470  , df=3\n",
      "parameter F test:         F=1.7396  , p=0.1612  , df_denom=155, df_num=3\n",
      "\n",
      "Granger Causality\n",
      "number of lags (no zero) 4\n",
      "ssr based F test:         F=1.7223  , p=0.1479  , df_denom=152, df_num=4\n",
      "ssr based chi2 test:   chi2=7.2970  , p=0.1210  , df=4\n",
      "likelihood ratio test: chi2=7.1365  , p=0.1288  , df=4\n",
      "parameter F test:         F=1.7223  , p=0.1479  , df_denom=152, df_num=4\n",
      "\n",
      "Granger Causality\n",
      "number of lags (no zero) 5\n",
      "ssr based F test:         F=1.7941  , p=0.1174  , df_denom=149, df_num=5\n",
      "ssr based chi2 test:   chi2=9.6329  , p=0.0863  , df=5\n",
      "likelihood ratio test: chi2=9.3540  , p=0.0957  , df=5\n",
      "parameter F test:         F=1.7941  , p=0.1174  , df_denom=149, df_num=5\n",
      "\n",
      "Granger Causality\n",
      "number of lags (no zero) 6\n",
      "ssr based F test:         F=1.8099  , p=0.1010  , df_denom=146, df_num=6\n",
      "ssr based chi2 test:   chi2=11.8261 , p=0.0660  , df=6\n",
      "likelihood ratio test: chi2=11.4069 , p=0.0766  , df=6\n",
      "parameter F test:         F=1.8099  , p=0.1010  , df_denom=146, df_num=6\n",
      "\n",
      "Granger Causality\n",
      "number of lags (no zero) 7\n",
      "ssr based F test:         F=1.4748  , p=0.1808  , df_denom=143, df_num=7\n",
      "ssr based chi2 test:   chi2=11.4064 , p=0.1218  , df=7\n",
      "likelihood ratio test: chi2=11.0134 , p=0.1380  , df=7\n",
      "parameter F test:         F=1.4748  , p=0.1808  , df_denom=143, df_num=7\n",
      "\n",
      "Granger Causality\n",
      "number of lags (no zero) 8\n",
      "ssr based F test:         F=1.4762  , p=0.1711  , df_denom=140, df_num=8\n",
      "ssr based chi2 test:   chi2=13.2438 , p=0.1037  , df=8\n",
      "likelihood ratio test: chi2=12.7147 , p=0.1220  , df=8\n",
      "parameter F test:         F=1.4762  , p=0.1711  , df_denom=140, df_num=8\n",
      "\n",
      "Granger Causality\n",
      "number of lags (no zero) 9\n",
      "ssr based F test:         F=2.2035  , p=0.0253  , df_denom=137, df_num=9\n",
      "ssr based chi2 test:   chi2=22.5822 , p=0.0072  , df=9\n",
      "likelihood ratio test: chi2=21.0901 , p=0.0123  , df=9\n",
      "parameter F test:         F=2.2035  , p=0.0253  , df_denom=137, df_num=9\n",
      "\n",
      "Granger Causality\n",
      "number of lags (no zero) 10\n",
      "ssr based F test:         F=1.9624  , p=0.0422  , df_denom=134, df_num=10\n",
      "ssr based chi2 test:   chi2=22.6999 , p=0.0119  , df=10\n",
      "likelihood ratio test: chi2=21.1840 , p=0.0198  , df=10\n",
      "parameter F test:         F=1.9624  , p=0.0422  , df_denom=134, df_num=10\n"
     ]
    }
   ],
   "source": [
    "granger_results = grangercausalitytests(data, maxlag=10, verbose=True)"
   ]
  },
  {
   "cell_type": "code",
   "execution_count": 26,
   "metadata": {
    "colab": {
     "base_uri": "https://localhost:8080/",
     "height": 295
    },
    "id": "juIJLxwrBUB-",
    "outputId": "e98408bd-bb7f-4a2a-db4b-a44eff8ec19a"
   },
   "outputs": [
    {
     "data": {
      "image/png": "[encoded data removed]",
      "text/plain": [
       "<Figure size 432x288 with 1 Axes>"
      ]
     },
     "metadata": {
      "needs_background": "light"
     },
     "output_type": "display_data"
    }
   ],
   "source": [
    "res_list = []\n",
    "for lag, v in granger_results.items():\n",
    "    res = {}\n",
    "    res['Lag'] = lag\n",
    "    for test, stats in v[0].items():\n",
    "        res[test] = stats[1]\n",
    "\n",
    "    res_list.append(res)\n",
    "\n",
    "pvals = pd.DataFrame(res_list)\n",
    "pvals.set_index('Lag', inplace=True)\n",
    "pvals_graph = pvals['params_ftest']\n",
    "\n",
    "pvals_graph.plot(title='Granger Causality Test')\n",
    "alpha_ser = pd.Series([alpha]*len(pvals_graph), index=pvals_graph.index)\n",
    "alpha_ser.plot(color='red')\n",
    "plt.ylabel('p-value')\n",
    "plt.show()"
   ]
  },
  {
   "cell_type": "markdown",
   "metadata": {
    "id": "Acezq-8x6Xw3"
   },
   "source": [
    "### E\n",
    "\n",
    "- Interpretation for the null hypothesis of Granger Test:\n",
    "\n",
    "    - The null hypothesis in the test is that the lagged values of \"x\" (the explanatory variable) do not explain the variation in \"y\" (the explained variable). \n",
    "\n",
    "    - First, where x = AHE and y = PCE, we are seeing that the pvalues are greater than 0.05 (until the 10th lag), which means that we cannot reject the null hypothesis of no causal relationship. \n",
    "    \n",
    "    - Second, where x = PCE and y = AHE, we are seeing that the pvalues are decreasing with number of laggs until reaching a point in which it gets statistical significant (less than 0.05) by 9th lag, which means that we can reject the null hypothesis of no causal relationship. "
   ]
  },
  {
   "cell_type": "markdown",
   "metadata": {
    "id": "vLhe3o1f6aSD"
   },
   "source": [
    "## Part 3 - VARMA modeling\n",
    "\n",
    "### A. "
   ]
  },
  {
   "cell_type": "code",
   "execution_count": 27,
   "metadata": {},
   "outputs": [
    {
     "name": "stdout",
     "output_type": "stream",
     "text": [
      "Dickey-Fuller Test Result:\n",
      "Test Statistic                -6.605709e+00\n",
      "p-value                        6.564988e-09\n",
      "#Lags Used                     1.000000e+00\n",
      "Number of Observations Used    1.630000e+02\n",
      "Critical Value (1%)           -3.471119e+00\n",
      "Critical Value (5%)           -2.879441e+00\n",
      "Critical Value (10%)          -2.576314e+00\n",
      "dtype: float64\n"
     ]
    }
   ],
   "source": [
    "adf_test(df['PCE_diff'].dropna())"
   ]
  },
  {
   "cell_type": "code",
   "execution_count": 28,
   "metadata": {},
   "outputs": [
    {
     "name": "stdout",
     "output_type": "stream",
     "text": [
      "Dickey-Fuller Test Result:\n",
      "Test Statistic                -7.507425e+00\n",
      "p-value                        4.099451e-11\n",
      "#Lags Used                     0.000000e+00\n",
      "Number of Observations Used    1.640000e+02\n",
      "Critical Value (1%)           -3.470866e+00\n",
      "Critical Value (5%)           -2.879330e+00\n",
      "Critical Value (10%)          -2.576255e+00\n",
      "dtype: float64\n"
     ]
    }
   ],
   "source": [
    "adf_test(df['PCEPI_diff'].dropna())"
   ]
  },
  {
   "cell_type": "code",
   "execution_count": 29,
   "metadata": {},
   "outputs": [
    {
     "name": "stdout",
     "output_type": "stream",
     "text": [
      "Dickey-Fuller Test Result:\n",
      "Test Statistic                  -1.012276\n",
      "p-value                          0.748761\n",
      "#Lags Used                      14.000000\n",
      "Number of Observations Used    150.000000\n",
      "Critical Value (1%)             -3.474715\n",
      "Critical Value (5%)             -2.881009\n",
      "Critical Value (10%)            -2.577151\n",
      "dtype: float64\n"
     ]
    }
   ],
   "source": [
    "adf_test(df['AHE_diff'].dropna())"
   ]
  },
  {
   "cell_type": "code",
   "execution_count": 30,
   "metadata": {},
   "outputs": [
    {
     "name": "stdout",
     "output_type": "stream",
     "text": [
      "KPSS Test Result:\n",
      "Test Statistic            0.487339\n",
      "p-value                   0.044518\n",
      "Lags Used                14.000000\n",
      "Critical Value (10%)      0.347000\n",
      "Critical Value (5%)       0.463000\n",
      "Critical Value (2.5%)     0.574000\n",
      "Critical Value (1%)       0.739000\n",
      "dtype: float64\n"
     ]
    }
   ],
   "source": [
    "kpss_test(df['PCE_diff'].dropna())"
   ]
  },
  {
   "cell_type": "code",
   "execution_count": 31,
   "metadata": {},
   "outputs": [
    {
     "name": "stdout",
     "output_type": "stream",
     "text": [
      "KPSS Test Result:\n",
      "Test Statistic            0.456203\n",
      "p-value                   0.052930\n",
      "Lags Used                14.000000\n",
      "Critical Value (10%)      0.347000\n",
      "Critical Value (5%)       0.463000\n",
      "Critical Value (2.5%)     0.574000\n",
      "Critical Value (1%)       0.739000\n",
      "dtype: float64\n"
     ]
    }
   ],
   "source": [
    "kpss_test(df['AHE_diff'].dropna())"
   ]
  },
  {
   "cell_type": "code",
   "execution_count": 32,
   "metadata": {},
   "outputs": [
    {
     "name": "stdout",
     "output_type": "stream",
     "text": [
      "KPSS Test Result:\n",
      "Test Statistic            0.094052\n",
      "p-value                   0.100000\n",
      "Lags Used                14.000000\n",
      "Critical Value (10%)      0.347000\n",
      "Critical Value (5%)       0.463000\n",
      "Critical Value (2.5%)     0.574000\n",
      "Critical Value (1%)       0.739000\n",
      "dtype: float64\n"
     ]
    },
    {
     "name": "stderr",
     "output_type": "stream",
     "text": [
      "C:\\Users\\guill\\anaconda3\\lib\\site-packages\\statsmodels\\tsa\\stattools.py:1910: InterpolationWarning: The test statistic is outside of the range of p-values available in the\n",
      "look-up table. The actual p-value is greater than the p-value returned.\n",
      "\n",
      "  warnings.warn(\n"
     ]
    }
   ],
   "source": [
    "kpss_test(df['PCEPI_diff'].dropna())"
   ]
  },
  {
   "cell_type": "markdown",
   "metadata": {},
   "source": [
    "### Adding differences to get AHE and  stationary\n",
    "\n",
    "- Based on ADF, we need to differentiate for AHC\n",
    "- Based on KPSS, we need to differentiate for AHC and PCE"
   ]
  },
  {
   "cell_type": "code",
   "execution_count": 33,
   "metadata": {},
   "outputs": [],
   "source": [
    "df['AHE_diff2'] = df['AHE_diff'].diff().diff()"
   ]
  },
  {
   "cell_type": "code",
   "execution_count": 34,
   "metadata": {},
   "outputs": [
    {
     "name": "stdout",
     "output_type": "stream",
     "text": [
      "Dickey-Fuller Test Result:\n",
      "Test Statistic                -7.001846e+00\n",
      "p-value                        7.287822e-10\n",
      "#Lags Used                     1.400000e+01\n",
      "Number of Observations Used    1.480000e+02\n",
      "Critical Value (1%)           -3.475325e+00\n",
      "Critical Value (5%)           -2.881275e+00\n",
      "Critical Value (10%)          -2.577293e+00\n",
      "dtype: float64\n"
     ]
    }
   ],
   "source": [
    "adf_test(df['AHE_diff2'].dropna())"
   ]
  },
  {
   "cell_type": "code",
   "execution_count": 35,
   "metadata": {},
   "outputs": [
    {
     "name": "stdout",
     "output_type": "stream",
     "text": [
      "KPSS Test Result:\n",
      "Test Statistic            0.189893\n",
      "p-value                   0.100000\n",
      "Lags Used                14.000000\n",
      "Critical Value (10%)      0.347000\n",
      "Critical Value (5%)       0.463000\n",
      "Critical Value (2.5%)     0.574000\n",
      "Critical Value (1%)       0.739000\n",
      "dtype: float64\n"
     ]
    },
    {
     "name": "stderr",
     "output_type": "stream",
     "text": [
      "C:\\Users\\guill\\anaconda3\\lib\\site-packages\\statsmodels\\tsa\\stattools.py:1910: InterpolationWarning: The test statistic is outside of the range of p-values available in the\n",
      "look-up table. The actual p-value is greater than the p-value returned.\n",
      "\n",
      "  warnings.warn(\n"
     ]
    }
   ],
   "source": [
    "kpss_test(df['AHE_diff2'].dropna())"
   ]
  },
  {
   "cell_type": "code",
   "execution_count": 36,
   "metadata": {},
   "outputs": [],
   "source": [
    "df['PCE_diff2'] = df['PCE_diff'].diff().diff()"
   ]
  },
  {
   "cell_type": "code",
   "execution_count": 37,
   "metadata": {},
   "outputs": [
    {
     "name": "stdout",
     "output_type": "stream",
     "text": [
      "Dickey-Fuller Test Result:\n",
      "Test Statistic                -7.301904e+00\n",
      "p-value                        1.331855e-10\n",
      "#Lags Used                     1.200000e+01\n",
      "Number of Observations Used    1.500000e+02\n",
      "Critical Value (1%)           -3.474715e+00\n",
      "Critical Value (5%)           -2.881009e+00\n",
      "Critical Value (10%)          -2.577151e+00\n",
      "dtype: float64\n"
     ]
    }
   ],
   "source": [
    "adf_test(df['PCE_diff2'].dropna())"
   ]
  },
  {
   "cell_type": "code",
   "execution_count": 38,
   "metadata": {},
   "outputs": [
    {
     "name": "stdout",
     "output_type": "stream",
     "text": [
      "KPSS Test Result:\n",
      "Test Statistic            0.043249\n",
      "p-value                   0.100000\n",
      "Lags Used                14.000000\n",
      "Critical Value (10%)      0.347000\n",
      "Critical Value (5%)       0.463000\n",
      "Critical Value (2.5%)     0.574000\n",
      "Critical Value (1%)       0.739000\n",
      "dtype: float64\n"
     ]
    },
    {
     "name": "stderr",
     "output_type": "stream",
     "text": [
      "C:\\Users\\guill\\anaconda3\\lib\\site-packages\\statsmodels\\tsa\\stattools.py:1910: InterpolationWarning: The test statistic is outside of the range of p-values available in the\n",
      "look-up table. The actual p-value is greater than the p-value returned.\n",
      "\n",
      "  warnings.warn(\n"
     ]
    }
   ],
   "source": [
    "kpss_test(df['PCE_diff2'].dropna())"
   ]
  },
  {
   "cell_type": "markdown",
   "metadata": {
    "id": "euAAhuEKVDOx"
   },
   "source": [
    "We can identify then that the best order is order (p, q) is (3, 0) and it is for VAR model:"
   ]
  },
  {
   "cell_type": "code",
   "execution_count": 39,
   "metadata": {
    "id": "kmPm0bwr6dcn"
   },
   "outputs": [],
   "source": [
    "from statsmodels.tsa.statespace.varmax import VARMAX\n",
    "from statsmodels.tsa.vector_ar.var_model import VAR\n",
    "from math import sqrt\n",
    "import warnings\n",
    "warnings.filterwarnings('ignore')"
   ]
  },
  {
   "cell_type": "code",
   "execution_count": 40,
   "metadata": {
    "colab": {
     "base_uri": "https://localhost:8080/"
    },
    "id": "M3o-vz9HXUOg",
    "outputId": "5f9dad7c-b12e-428d-fca6-801df18a2546"
   },
   "outputs": [
    {
     "name": "stdout",
     "output_type": "stream",
     "text": [
      "Running search of VARMA\n",
      "\t Order is (0, 1) with AIC of 2979.350418228753\n",
      "\t Order is (0, 2) with AIC of 2819.0934531058083\n",
      "\t Order is (0, 3) with AIC of 2742.530256952685\n",
      "\t Order is (1, 1) with AIC of 4134.1471965117835\n",
      "\t Order is (1, 2) with AIC of 3299.7086685803542\n",
      "\t Order is (1, 3) with AIC of 2957.048379272\n",
      "\t Order is (2, 1) with AIC of 6651.8173717998125\n",
      "\t Order is (2, 2) with AIC of 5300.240365204367\n",
      "\t Order is (2, 3) with AIC of 5432.601010813803\n",
      "\t Order is (3, 1) with AIC of 7410.405155283706\n",
      "\t Order is (3, 2) with AIC of 3900.275660444901\n",
      "\t Order is (3, 3) with AIC of 4071.669154725519\n",
      "Best VARMA order is (0, 3) with AIC of 2742.530256952685\n",
      "Running search of VAR\n",
      "\t Order is (0, 0) with AIC of 12.243589209130015\n",
      "\t Order is (1, 0) with AIC of -3.318112474025692\n",
      "\t Order is (2, 0) with AIC of -3.8363653797902275\n",
      "\t Order is (3, 0) with AIC of -3.958260862334076\n",
      "Best VAR order is (3, 0) with AIC of -3.958260862334076\n"
     ]
    }
   ],
   "source": [
    "varma_df = df[['PCE','AHE', 'PCEPI']].dropna()\n",
    "train = varma_df[:-13]\n",
    "test = varma_df[-13:]\n",
    "var_df = df[['PCE_diff2','AHE_diff2', 'PCEPI_diff']].dropna()\n",
    "train_var = var_df[:-12]\n",
    "test_var = var_df[-12:]\n",
    "prange = range(0,4)\n",
    "qrange = range(1,4)\n",
    "max_aic = np.inf\n",
    "best_order = None\n",
    "\n",
    "print('Running search of VARMA')\n",
    "\n",
    "for p in prange:\n",
    "    for q in qrange:\n",
    "        order = (p, q)\n",
    "        varma_model = VARMAX(train, order=order).fit(disp=False)\n",
    "        current_aic = varma_model.aic\n",
    "        print('\\t Order is', order, 'with AIC of', current_aic)\n",
    "        if current_aic < max_aic:\n",
    "            max_aic = current_aic \n",
    "            best_order = order\n",
    "\n",
    "print('Best VARMA order is', best_order, 'with AIC of', max_aic)\n",
    "\n",
    "max_aic_var = np.inf\n",
    "best_order_var = None\n",
    "print('Running search of VAR')\n",
    "for p in prange:\n",
    "    order = (p, 0)\n",
    "    var_model = VAR(train).fit(p)\n",
    "    current_aic = var_model.aic\n",
    "    print('\\t Order is', order, 'with AIC of', current_aic)\n",
    "    if current_aic < max_aic_var:\n",
    "        max_aic_var = current_aic \n",
    "        best_order_var = order\n",
    "\n",
    "print('Best VAR order is', best_order_var, 'with AIC of', max_aic_var)"
   ]
  },
  {
   "cell_type": "markdown",
   "metadata": {
    "id": "uR84h7WS6d2-"
   },
   "source": [
    "### B. "
   ]
  },
  {
   "cell_type": "code",
   "execution_count": 41,
   "metadata": {
    "colab": {
     "base_uri": "https://localhost:8080/"
    },
    "id": "qg74du9Vakg0",
    "outputId": "33ee94a9-d42b-4cfe-87e2-a2763110c22d"
   },
   "outputs": [
    {
     "data": {
      "text/plain": [
       "  Summary of Regression Results   \n",
       "==================================\n",
       "Model:                         VAR\n",
       "Method:                        OLS\n",
       "Date:           Fri, 20, May, 2022\n",
       "Time:                     20:47:21\n",
       "--------------------------------------------------------------------\n",
       "No. of Equations:         3.00000    BIC:                   -1.41681\n",
       "Nobs:                     148.000    HQIC:                  -1.77751\n",
       "Log likelihood:          -450.207    FPE:                   0.132161\n",
       "AIC:                     -2.02435    Det(Omega_mle):        0.108622\n",
       "--------------------------------------------------------------------\n",
       "Results for equation PCE_diff2\n",
       "================================================================================\n",
       "                   coefficient       std. error           t-stat            prob\n",
       "--------------------------------------------------------------------------------\n",
       "const                14.465303         4.946489            2.924           0.003\n",
       "L1.PCE_diff2         -1.270115         0.083301          -15.247           0.000\n",
       "L1.AHE_diff2        -66.941721        80.310653           -0.834           0.405\n",
       "L1.PCEPI_diff       -39.330608        22.087009           -1.781           0.075\n",
       "L2.PCE_diff2         -1.012974         0.114003           -8.885           0.000\n",
       "L2.AHE_diff2        -32.465107       105.804078           -0.307           0.759\n",
       "L2.PCEPI_diff       -58.019701        25.585973           -2.268           0.023\n",
       "L3.PCE_diff2         -0.474896         0.082490           -5.757           0.000\n",
       "L3.AHE_diff2         25.237543        76.963877            0.328           0.743\n",
       "L3.PCEPI_diff       -19.350999        22.765489           -0.850           0.395\n",
       "================================================================================\n",
       "\n",
       "Results for equation AHE_diff2\n",
       "================================================================================\n",
       "                   coefficient       std. error           t-stat            prob\n",
       "--------------------------------------------------------------------------------\n",
       "const                -0.001290         0.004694           -0.275           0.784\n",
       "L1.PCE_diff2         -0.000095         0.000079           -1.205           0.228\n",
       "L1.AHE_diff2         -1.470929         0.076214          -19.300           0.000\n",
       "L1.PCEPI_diff        -0.021927         0.020960           -1.046           0.295\n",
       "L2.PCE_diff2         -0.000025         0.000108           -0.231           0.817\n",
       "L2.AHE_diff2         -1.237347         0.100408          -12.323           0.000\n",
       "L2.PCEPI_diff         0.020959         0.024281            0.863           0.388\n",
       "L3.PCE_diff2          0.000054         0.000078            0.694           0.488\n",
       "L3.AHE_diff2         -0.451943         0.073038           -6.188           0.000\n",
       "L3.PCEPI_diff         0.011063         0.021604            0.512           0.609\n",
       "================================================================================\n",
       "\n",
       "Results for equation PCEPI_diff\n",
       "================================================================================\n",
       "                   coefficient       std. error           t-stat            prob\n",
       "--------------------------------------------------------------------------------\n",
       "const                 0.069651         0.019752            3.526           0.000\n",
       "L1.PCE_diff2          0.000475         0.000333            1.428           0.153\n",
       "L1.AHE_diff2          0.173416         0.320686            0.541           0.589\n",
       "L1.PCEPI_diff         0.495448         0.088195            5.618           0.000\n",
       "L2.PCE_diff2          0.000467         0.000455            1.026           0.305\n",
       "L2.AHE_diff2          0.188986         0.422484            0.447           0.655\n",
       "L2.PCEPI_diff         0.025005         0.102167            0.245           0.807\n",
       "L3.PCE_diff2          0.000080         0.000329            0.243           0.808\n",
       "L3.AHE_diff2          0.142347         0.307322            0.463           0.643\n",
       "L3.PCEPI_diff        -0.065241         0.090904           -0.718           0.473\n",
       "================================================================================\n",
       "\n",
       "Correlation matrix of residuals\n",
       "              PCE_diff2  AHE_diff2  PCEPI_diff\n",
       "PCE_diff2      1.000000  -0.100657    0.301401\n",
       "AHE_diff2     -0.100657   1.000000   -0.100679\n",
       "PCEPI_diff     0.301401  -0.100679    1.000000\n",
       "\n"
      ]
     },
     "execution_count": 41,
     "metadata": {},
     "output_type": "execute_result"
    }
   ],
   "source": [
    "var_model = VAR(train_var).fit(3)\n",
    "var_model.summary()"
   ]
  },
  {
   "cell_type": "markdown",
   "metadata": {
    "id": "PFTksQiI6jOu"
   },
   "source": [
    "### C. \n",
    "\n",
    "We are expecting the errors in the matrix to be 1 in the diagonal and 0 in the rest of the matrix, which means perfect correlation within the same variables - same series - but not with other variables. However, what we are observing in the matrix is that perfect correlation holds but not the second part: even when lower, there exist correlation across series, which is slighty greater between PCE and PCEPI. \n",
    "\n",
    "After testing for the statistical significance of residuals correlation, we found that we reject the null hypothesis of no correlation (the p-value of the test is smaller than 0.05 for a null hypothesis of no correlation)."
   ]
  },
  {
   "cell_type": "code",
   "execution_count": 42,
   "metadata": {
    "colab": {
     "base_uri": "https://localhost:8080/",
     "height": 148
    },
    "id": "HLusoqycxUgo",
    "outputId": "263287a5-fb6b-405e-e3cb-dc92bfaba65d"
   },
   "outputs": [
    {
     "data": {
      "text/html": [
       "<table class=\"simpletable\">\n",
       "<caption>Portmanteau-test for residual autocorrelation. H_0: residual autocorrelation up to lag 10 is zero. Conclusion: reject H_0 at 5% significance level.</caption>\n",
       "<tr>\n",
       "  <th>Test statistic</th> <th>Critical value</th> <th>p-value</th> <th>df</th>\n",
       "</tr>\n",
       "<tr>\n",
       "       <td>130.0</td>          <td>82.53</td>      <td>0.000</td>  <td>63</td>\n",
       "</tr>\n",
       "</table>"
      ],
      "text/plain": [
       "<class 'statsmodels.iolib.table.SimpleTable'>"
      ]
     },
     "execution_count": 42,
     "metadata": {},
     "output_type": "execute_result"
    }
   ],
   "source": [
    "var_model.test_whiteness(signif =0.05).summary()"
   ]
  },
  {
   "cell_type": "markdown",
   "metadata": {
    "id": "lnidKG9M6mJ-"
   },
   "source": [
    "### D "
   ]
  },
  {
   "cell_type": "code",
   "execution_count": 43,
   "metadata": {
    "id": "z2kfl9Hk6oJN"
   },
   "outputs": [],
   "source": [
    "yhat = var_model.forecast(var_model.endog, steps=12)\n",
    "idx=test_var.index\n",
    "df_preds = pd.DataFrame(yhat).set_index(idx)\n",
    "df_preds.rename(columns={0: 'PCE_forecast', 1: 'AHE_forecast', 2: 'PCEPI_forecast'}, inplace=True)"
   ]
  },
  {
   "cell_type": "markdown",
   "metadata": {},
   "source": [
    "#### True values vs Forecast for PCE"
   ]
  },
  {
   "cell_type": "code",
   "execution_count": 44,
   "metadata": {
    "colab": {
     "base_uri": "https://localhost:8080/",
     "height": 887
    },
    "id": "C8O2bdDCiiun",
    "outputId": "fc9ec97b-e57a-42fc-af0a-e4ccd6c7a7c0"
   },
   "outputs": [
    {
     "data": {
      "text/plain": [
       "<AxesSubplot:xlabel='ds'>"
      ]
     },
     "execution_count": 44,
     "metadata": {},
     "output_type": "execute_result"
    },
    {
     "data": {
      "image/png": "[encoded data removed]",
      "text/plain": [
       "<Figure size 432x288 with 1 Axes>"
      ]
     },
     "metadata": {
      "needs_background": "light"
     },
     "output_type": "display_data"
    }
   ],
   "source": [
    "df_results = pd.concat([test_var, df_preds], axis=1)\n",
    "df_results[['PCE_diff2', 'PCE_forecast']].plot()"
   ]
  },
  {
   "cell_type": "markdown",
   "metadata": {},
   "source": [
    "#### True values vs Forecast for AHE"
   ]
  },
  {
   "cell_type": "code",
   "execution_count": 45,
   "metadata": {},
   "outputs": [
    {
     "data": {
      "image/png": "[encoded data removed]",
      "text/plain": [
       "<Figure size 432x288 with 1 Axes>"
      ]
     },
     "metadata": {
      "needs_background": "light"
     },
     "output_type": "display_data"
    }
   ],
   "source": [
    "df_results[['AHE_diff2', 'AHE_forecast']].plot()\n",
    "plt.show()"
   ]
  },
  {
   "cell_type": "markdown",
   "metadata": {},
   "source": [
    "#### True values vs Forecast for PCEPI"
   ]
  },
  {
   "cell_type": "code",
   "execution_count": 46,
   "metadata": {},
   "outputs": [
    {
     "data": {
      "image/png": "[encoded data removed]",
      "text/plain": [
       "<Figure size 432x288 with 1 Axes>"
      ]
     },
     "metadata": {
      "needs_background": "light"
     },
     "output_type": "display_data"
    }
   ],
   "source": [
    "df_results[['PCEPI_diff', 'PCEPI_forecast']].plot()\n",
    "plt.show()"
   ]
  },
  {
   "cell_type": "markdown",
   "metadata": {
    "id": "OVbtsCXm070H"
   },
   "source": [
    "#### Getting cumulative sums: "
   ]
  },
  {
   "cell_type": "code",
   "execution_count": 47,
   "metadata": {
    "colab": {
     "base_uri": "https://localhost:8080/",
     "height": 597
    },
    "id": "7wyyMY7D07XN",
    "outputId": "94b2ce38-db4b-4018-86ab-de6bbeddaf6e"
   },
   "outputs": [],
   "source": [
    "df_preds.rename(columns={'PCE_forecast':'PCE', \n",
    "                         'AHE_forecast': 'AHE',\n",
    "                         'PCEPI_forecast': 'PCEPI'}, inplace=True)\n",
    "\n",
    "forecast_results1 = pd.concat([df[-13:-12][['PCE', 'PCEPI']], df_preds[['PCE', 'PCEPI']]], axis=0).reset_index(drop=True)\\\n",
    "                    .cumsum()\\\n",
    "                    .drop([0])\\\n",
    "                    .set_index(idx)\n",
    "\n",
    "forecast_results1.columns = ['PCE_forecast', 'PCEPI_forecast']"
   ]
  },
  {
   "cell_type": "markdown",
   "metadata": {},
   "source": [
    "#### True values vs Forecast for PCE:"
   ]
  },
  {
   "cell_type": "code",
   "execution_count": 48,
   "metadata": {},
   "outputs": [
    {
     "data": {
      "image/png": "[encoded data removed]",
      "text/plain": [
       "<Figure size 432x288 with 1 Axes>"
      ]
     },
     "metadata": {
      "needs_background": "light"
     },
     "output_type": "display_data"
    }
   ],
   "source": [
    "forecast_pce = pd.concat([df[-12:]['PCE'],forecast_results1[['PCE_forecast']]], axis=1)\n",
    "forecast_pce.plot()\n",
    "plt.show()"
   ]
  },
  {
   "cell_type": "markdown",
   "metadata": {},
   "source": [
    "#### RMSE for PCE:"
   ]
  },
  {
   "cell_type": "code",
   "execution_count": 49,
   "metadata": {},
   "outputs": [
    {
     "data": {
      "text/plain": [
       "'334.26314689466614'"
      ]
     },
     "execution_count": 49,
     "metadata": {},
     "output_type": "execute_result"
    }
   ],
   "source": [
    "str(sqrt(mean_squared_error(df[-12:]['PCE'],forecast_results1['PCE_forecast'])))"
   ]
  },
  {
   "cell_type": "markdown",
   "metadata": {},
   "source": [
    "#### True values vs Forecast for PCEPI:"
   ]
  },
  {
   "cell_type": "code",
   "execution_count": 50,
   "metadata": {},
   "outputs": [
    {
     "data": {
      "image/png": "[encoded data removed]",
      "text/plain": [
       "<Figure size 432x288 with 1 Axes>"
      ]
     },
     "metadata": {
      "needs_background": "light"
     },
     "output_type": "display_data"
    }
   ],
   "source": [
    "forecast_pcepi = pd.concat([df[-12:]['PCEPI'],forecast_results1[['PCEPI_forecast']]], axis=1)\n",
    "forecast_pcepi.plot()\n",
    "plt.show()"
   ]
  },
  {
   "cell_type": "markdown",
   "metadata": {},
   "source": [
    "#### RMSE for PCEPI:"
   ]
  },
  {
   "cell_type": "code",
   "execution_count": 52,
   "metadata": {},
   "outputs": [
    {
     "data": {
      "text/plain": [
       "'0.24742881664174932'"
      ]
     },
     "execution_count": 52,
     "metadata": {},
     "output_type": "execute_result"
    }
   ],
   "source": [
    "str(sqrt(mean_squared_error(df[-12:]['PCEPI'],forecast_results1['PCEPI_forecast'])))"
   ]
  },
  {
   "cell_type": "markdown",
   "metadata": {},
   "source": [
    "#### True values vs Forecast for AHE:"
   ]
  },
  {
   "cell_type": "code",
   "execution_count": 54,
   "metadata": {
    "colab": {
     "base_uri": "https://localhost:8080/",
     "height": 307
    },
    "id": "vSNmmIlZ42f8",
    "outputId": "2b3e502b-d24d-49f2-c9c8-2d899f95edf8"
   },
   "outputs": [
    {
     "data": {
      "image/png": "[encoded data removed]",
      "text/plain": [
       "<Figure size 432x288 with 1 Axes>"
      ]
     },
     "metadata": {
      "needs_background": "light"
     },
     "output_type": "display_data"
    }
   ],
   "source": [
    "# AHE second difference - double cumsum\n",
    "forecast_results2 = pd.concat([df[-13:-12][['AHE']],df_preds[['AHE']]], axis=0).reset_index(drop=True)\\\n",
    "                    .cumsum()\\\n",
    "                    .drop([0])\\\n",
    "                    .set_index(idx)\n",
    "\n",
    "forecast_results2.columns=['AHE_forecast']\n",
    "\n",
    "forecast_ahe = pd.concat([df[-12:]['AHE'],forecast_results2[['AHE_forecast']]], axis=1)\n",
    "forecast_ahe.plot()\n",
    "plt.show()"
   ]
  },
  {
   "cell_type": "markdown",
   "metadata": {},
   "source": [
    "#### RMSE for AHE:"
   ]
  },
  {
   "cell_type": "code",
   "execution_count": 55,
   "metadata": {},
   "outputs": [
    {
     "data": {
      "text/plain": [
       "'0.5487657637033092'"
      ]
     },
     "execution_count": 55,
     "metadata": {},
     "output_type": "execute_result"
    }
   ],
   "source": [
    "str(sqrt(mean_squared_error(df[-12:]['AHE'],forecast_results2['AHE_forecast'])))"
   ]
  },
  {
   "cell_type": "markdown",
   "metadata": {
    "id": "ngl0N8sF6oeZ"
   },
   "source": [
    "### E. \n",
    "The advantage of the VAR model is that we can estimate the series simultanously in comparison to the procedure we follow by applying ARIMA or Prophet models. Another difference is that we can add with VARMA lags for regressor while in the case of ARIMA of Phophet models we can add exogenous regressors."
   ]
  }
 ],
 "metadata": {
  "colab": {
   "collapsed_sections": [],
   "name": "hw6.ipynb",
   "provenance": []
  },
  "kernelspec": {
   "display_name": "Python 3",
   "language": "python",
   "name": "python3"
  },
  "language_info": {
   "codemirror_mode": {
    "name": "ipython",
    "version": 3
   },
   "file_extension": ".py",
   "mimetype": "text/x-python",
   "name": "python",
   "nbconvert_exporter": "python",
   "pygments_lexer": "ipython3",
   "version": "3.8.8"
  }
 },
 "nbformat": 4,
 "nbformat_minor": 1
}
